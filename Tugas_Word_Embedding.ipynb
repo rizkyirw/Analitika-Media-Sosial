{
  "nbformat": 4,
  "nbformat_minor": 0,
  "metadata": {
    "colab": {
      "provenance": [],
      "collapsed_sections": [],
      "authorship_tag": "ABX9TyOwi8/s+a76kt5hETJvvkyE",
      "include_colab_link": true
    },
    "kernelspec": {
      "name": "python3",
      "display_name": "Python 3"
    },
    "language_info": {
      "name": "python"
    }
  },
  "cells": [
    {
      "cell_type": "markdown",
      "metadata": {
        "id": "view-in-github",
        "colab_type": "text"
      },
      "source": [
        "<a href=\"https://colab.research.google.com/github/rizkyirw/Analitika-Media-Sosial/blob/main/Tugas_Word_Embedding.ipynb\" target=\"_parent\"><img src=\"https://colab.research.google.com/assets/colab-badge.svg\" alt=\"Open In Colab\"/></a>"
      ]
    },
    {
      "cell_type": "markdown",
      "source": [
        "\n",
        "---\n",
        "\n",
        "\n",
        "Nama        : Isro' Rizky Wibowo\n",
        "\n",
        "NIM         : A12.2020.06443\n",
        "\n",
        "Mata kuliah : Analitika Media Sosial\n",
        "\n",
        "Kelompok    : A12.6503\n",
        "\n",
        "---\n",
        "\n"
      ],
      "metadata": {
        "id": "Tyw7DTGyTEG4"
      }
    },
    {
      "cell_type": "markdown",
      "source": [
        "# Word Embedding\n",
        "\n",
        "Word embedding merupakan proses transformasi teks menjadi sebuah angka yang mana akan digunakan untuk pemrosesan Machine Learning hingga Deep Learning dikarenakan Algoritma tersebut tidak dapat memproses karakter teks/string, sehingga membutuhkan angka sebagai input.\n",
        "\n",
        "Referensi : \n",
        "- https://rpubs.com/ahmadhusain/wordembedding\n",
        "- Materi pada Drive\n",
        "- http://derwinsuhartono.com/archives/500\n",
        "- http://matlab.izmiran.ru/help/toolbox/images/enhanc15.html"
      ],
      "metadata": {
        "id": "JCYKIgmBfIKp"
      }
    },
    {
      "cell_type": "markdown",
      "source": [
        "Contoh Transformasi :\n",
        "\n",
        "sentence = Saya sudah makan di kantor saat waktu makan malam\n",
        "\n",
        "maka\n",
        "\n",
        "dictionary = [`\"Saya\",\"sudah\",\"Makan\",\"Di\",\"Kantor\",\"Saat\",\"Waktu\",\"Malam\"`]\n",
        "- Representasi vektor dari sebuah kata mungkin merupakan vektor one-hot encoding di mana 1 mewakili posisi di mana kata itu ada dan 0 di tempat lain.\n",
        "\n",
        "Representasi vektor '**Malam**' dalam format ini menurut kamus di atas adalah :\n",
        "[`\"Saya\",\"sudah\",\"Makan\",\"Di\",\"Kantor\",\"Saat\",\"Waktu\",\"Malam\"`]\n",
        "\n",
        "[0,0,0,0,0,0,0,1]\n"
      ],
      "metadata": {
        "id": "0uOdM2rBrdFA"
      }
    },
    {
      "cell_type": "markdown",
      "source": [
        "## TF - IDF (Term Frequency-Inverse Document Frequency)\n",
        "\n",
        "Merupakan suatu metode untuk menghitung bobot setiap kata, yang mana hasil dari indexing dapat digunakan untuk mengetahui konteks dari dokumen tersebut. TF-IDF membuat kata yang sering muncul memiliki nilai yang cenderung kecil, sedangkan untuk kata yang semakin jarang muncul akan memiliki nilai yang cenderung besar. Kata yang sering muncul disebut juga Stopwords biasanya dianggap kurang penting, contohnya kata hubung (akan, dan, dengan, dll.)"
      ],
      "metadata": {
        "id": "VHlZz0eAf_P_"
      }
    },
    {
      "cell_type": "code",
      "source": [
        "import numpy as np\n",
        "import pandas as pd\n",
        "from sklearn.feature_extraction.text import TfidfVectorizer"
      ],
      "metadata": {
        "id": "KK338nTCu5GT"
      },
      "execution_count": 1,
      "outputs": []
    },
    {
      "cell_type": "code",
      "source": [
        "corpus = ['saya berangkat ke kampus untuk belajar',\n",
        "          'ibu sedang memasak di dapur',\n",
        "          'kakak sedang bekerja di kantor']"
      ],
      "metadata": {
        "id": "FZ8IJtWzQl0l"
      },
      "execution_count": 2,
      "outputs": []
    },
    {
      "cell_type": "code",
      "source": [
        "vectorizer = TfidfVectorizer(max_df=1.0, min_df=1, norm = None, smooth_idf=True)"
      ],
      "metadata": {
        "id": "wv1JaM-HQ-lF"
      },
      "execution_count": 3,
      "outputs": []
    },
    {
      "cell_type": "code",
      "source": [
        "X = vectorizer.fit_transform(corpus)"
      ],
      "metadata": {
        "id": "HVGnGxrnRKz1"
      },
      "execution_count": 4,
      "outputs": []
    },
    {
      "cell_type": "code",
      "source": [
        "print(vectorizer.get_feature_names())"
      ],
      "metadata": {
        "id": "wYn0K-TIRPw8"
      },
      "execution_count": null,
      "outputs": []
    },
    {
      "cell_type": "code",
      "source": [
        "feature_names = vectorizer.get_feature_names()"
      ],
      "metadata": {
        "id": "DcIAPwQHRUNy"
      },
      "execution_count": 6,
      "outputs": []
    },
    {
      "cell_type": "code",
      "source": [
        "def tf_idf(text):\n",
        "  tfidf_matrix = vectorizer.transform([text]).todense()\n",
        "  feature_index = X[0,:].nonzero()[1]\n",
        "  skor = zip([feature_names[i] for i in feature_index], [X[0, x] for x in feature_index])\n",
        "  return dict(skor)"
      ],
      "metadata": {
        "id": "7AAjmGLuRaE-"
      },
      "execution_count": 7,
      "outputs": []
    },
    {
      "cell_type": "code",
      "source": [
        "text = \"saya berangkat ke kampus untuk belajar\"\n",
        "tf_idf(text)"
      ],
      "metadata": {
        "id": "GwskCsq3R2aW",
        "colab": {
          "base_uri": "https://localhost:8080/"
        },
        "outputId": "ae16aa2d-c6cf-4f73-dfee-8479c1398dea"
      },
      "execution_count": 8,
      "outputs": [
        {
          "output_type": "execute_result",
          "data": {
            "text/plain": [
              "{'belajar': 1.6931471805599454,\n",
              " 'untuk': 1.6931471805599454,\n",
              " 'kampus': 1.6931471805599454,\n",
              " 'ke': 1.6931471805599454,\n",
              " 'berangkat': 1.6931471805599454,\n",
              " 'saya': 1.6931471805599454}"
            ]
          },
          "metadata": {},
          "execution_count": 8
        }
      ]
    },
    {
      "cell_type": "markdown",
      "source": [
        "## Co-Occurrence Matrix"
      ],
      "metadata": {
        "id": "CxM-aY61vVCr"
      }
    },
    {
      "cell_type": "markdown",
      "source": [
        "Atau disebut juga dengan Gray level co-occurrence matrix atau GLCM, merupakan suatu metode untuk mendapatkan fitur dari suatu citra secara tekstural.GLCM hanya menggunakan 4 arah derajat 0, 45, 90 dan 135 dalam menghitung fitur yang dihasilkan.\n",
        "\n",
        "Sebagai ilustrasi, gambar berikut menunjukkan bagaimana graycomatrix menghitung tiga nilai pertama dalam GLCM. Dalam output GLCM, elemen (1,1) berisi nilai 1 karena hanya ada satu contoh pada citra masukan di mana dua piksel yang berdekatan secara horizontal masing-masing memiliki nilai 1 dan 1. glcm(1,2) berisi nilai 2 karena ada dua instance di mana dua piksel yang berdekatan secara horizontal memiliki nilai 1 dan 2. Elemen (1,3) dalam GLCM memiliki nilai 0 karena tidak ada instance dari dua piksel yang berdekatan secara horizontal dengan nilai 1 dan 3. graycomatrix terus memproses gambar input, memindai gambar untuk pasangan piksel lainnya (i,j) dan merekam jumlah dalam elemen GLCM yang sesuai.\n",
        "\n",
        "Referensi : http://matlab.izmiran.ru/help/toolbox/images/enhanc15.html"
      ],
      "metadata": {
        "id": "InDPEnQQgRqy"
      }
    },
    {
      "cell_type": "markdown",
      "source": [
        "![enhanc26.gif](data:image/gif;base64,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)"
      ],
      "metadata": {
        "id": "HTmMReKlIRlr"
      }
    },
    {
      "cell_type": "markdown",
      "source": [
        "## Continuous Bag of Words (CBOW)"
      ],
      "metadata": {
        "id": "5_UNYMU0u4n2"
      }
    },
    {
      "cell_type": "markdown",
      "source": [
        "### Apa yang dimaksud Bag of Word\n",
        "\n",
        "Model bag-of-words, atau disingkat BoW, adalah cara mengekstrak fitur dari teks untuk digunakan dalam pemodelan, seperti dengan algoritme machine learning.\n",
        "\n",
        "Pendekatannya sangat sederhana dan fleksibel, dan dapat digunakan dalam berbagai cara untuk mengekstrak fitur dari dokumen.\n",
        "\n",
        "bag of words (kantong kata) adalah representasi teks yang menggambarkan kemunculan kata-kata dalam dokumen."
      ],
      "metadata": {
        "id": "TFTi1WFNpcjL"
      }
    },
    {
      "cell_type": "markdown",
      "source": [
        "#### Membuat Dokumen Vektor"
      ],
      "metadata": {
        "id": "gtKNEsJBSUrY"
      }
    },
    {
      "cell_type": "code",
      "execution_count": 9,
      "metadata": {
        "id": "VPblBsSk9yjd"
      },
      "outputs": [],
      "source": [
        "from sklearn.feature_extraction.text import CountVectorizer\n",
        "import pandas as pd"
      ]
    },
    {
      "cell_type": "code",
      "source": [
        "doc1 = \"Benzema is winning trophy Ballon d'Or yesterday. Mane is 2nd place Ballon d'Or nominated.\"\n",
        "doc2 = \"Messi is not in top 10 Ballon d'Or nominated.\"\n",
        "\n",
        "bow_vectorizer = CountVectorizer()\n",
        "\n",
        "X = bow_vectorizer.fit_transform([doc1,doc2])\n",
        "\n",
        "bow_df = pd.DataFrame(X.toarray(),columns=bow_vectorizer.get_feature_names_out())\n",
        "bow_df.head()"
      ],
      "metadata": {
        "id": "tYGkW_Ubrb_5",
        "colab": {
          "base_uri": "https://localhost:8080/",
          "height": 112
        },
        "outputId": "f6663bd1-ba19-4d37-b432-f31d3923deaf"
      },
      "execution_count": 10,
      "outputs": [
        {
          "output_type": "execute_result",
          "data": {
            "text/plain": [
              "   10  2nd  ballon  benzema  in  is  mane  messi  nominated  not  or  place  \\\n",
              "0   0    1       2        1   0   2     1      0          1    0   2      1   \n",
              "1   1    0       1        0   1   1     0      1          1    1   1      0   \n",
              "\n",
              "   top  trophy  winning  yesterday  \n",
              "0    0       1        1          1  \n",
              "1    1       0        0          0  "
            ],
            "text/html": [
              "\n",
              "  <div id=\"df-037e607e-0a2b-480d-9416-4d2f01294e24\">\n",
              "    <div class=\"colab-df-container\">\n",
              "      <div>\n",
              "<style scoped>\n",
              "    .dataframe tbody tr th:only-of-type {\n",
              "        vertical-align: middle;\n",
              "    }\n",
              "\n",
              "    .dataframe tbody tr th {\n",
              "        vertical-align: top;\n",
              "    }\n",
              "\n",
              "    .dataframe thead th {\n",
              "        text-align: right;\n",
              "    }\n",
              "</style>\n",
              "<table border=\"1\" class=\"dataframe\">\n",
              "  <thead>\n",
              "    <tr style=\"text-align: right;\">\n",
              "      <th></th>\n",
              "      <th>10</th>\n",
              "      <th>2nd</th>\n",
              "      <th>ballon</th>\n",
              "      <th>benzema</th>\n",
              "      <th>in</th>\n",
              "      <th>is</th>\n",
              "      <th>mane</th>\n",
              "      <th>messi</th>\n",
              "      <th>nominated</th>\n",
              "      <th>not</th>\n",
              "      <th>or</th>\n",
              "      <th>place</th>\n",
              "      <th>top</th>\n",
              "      <th>trophy</th>\n",
              "      <th>winning</th>\n",
              "      <th>yesterday</th>\n",
              "    </tr>\n",
              "  </thead>\n",
              "  <tbody>\n",
              "    <tr>\n",
              "      <th>0</th>\n",
              "      <td>0</td>\n",
              "      <td>1</td>\n",
              "      <td>2</td>\n",
              "      <td>1</td>\n",
              "      <td>0</td>\n",
              "      <td>2</td>\n",
              "      <td>1</td>\n",
              "      <td>0</td>\n",
              "      <td>1</td>\n",
              "      <td>0</td>\n",
              "      <td>2</td>\n",
              "      <td>1</td>\n",
              "      <td>0</td>\n",
              "      <td>1</td>\n",
              "      <td>1</td>\n",
              "      <td>1</td>\n",
              "    </tr>\n",
              "    <tr>\n",
              "      <th>1</th>\n",
              "      <td>1</td>\n",
              "      <td>0</td>\n",
              "      <td>1</td>\n",
              "      <td>0</td>\n",
              "      <td>1</td>\n",
              "      <td>1</td>\n",
              "      <td>0</td>\n",
              "      <td>1</td>\n",
              "      <td>1</td>\n",
              "      <td>1</td>\n",
              "      <td>1</td>\n",
              "      <td>0</td>\n",
              "      <td>1</td>\n",
              "      <td>0</td>\n",
              "      <td>0</td>\n",
              "      <td>0</td>\n",
              "    </tr>\n",
              "  </tbody>\n",
              "</table>\n",
              "</div>\n",
              "      <button class=\"colab-df-convert\" onclick=\"convertToInteractive('df-037e607e-0a2b-480d-9416-4d2f01294e24')\"\n",
              "              title=\"Convert this dataframe to an interactive table.\"\n",
              "              style=\"display:none;\">\n",
              "        \n",
              "  <svg xmlns=\"http://www.w3.org/2000/svg\" height=\"24px\"viewBox=\"0 0 24 24\"\n",
              "       width=\"24px\">\n",
              "    <path d=\"M0 0h24v24H0V0z\" fill=\"none\"/>\n",
              "    <path d=\"M18.56 5.44l.94 2.06.94-2.06 2.06-.94-2.06-.94-.94-2.06-.94 2.06-2.06.94zm-11 1L8.5 8.5l.94-2.06 2.06-.94-2.06-.94L8.5 2.5l-.94 2.06-2.06.94zm10 10l.94 2.06.94-2.06 2.06-.94-2.06-.94-.94-2.06-.94 2.06-2.06.94z\"/><path d=\"M17.41 7.96l-1.37-1.37c-.4-.4-.92-.59-1.43-.59-.52 0-1.04.2-1.43.59L10.3 9.45l-7.72 7.72c-.78.78-.78 2.05 0 2.83L4 21.41c.39.39.9.59 1.41.59.51 0 1.02-.2 1.41-.59l7.78-7.78 2.81-2.81c.8-.78.8-2.07 0-2.86zM5.41 20L4 18.59l7.72-7.72 1.47 1.35L5.41 20z\"/>\n",
              "  </svg>\n",
              "      </button>\n",
              "      \n",
              "  <style>\n",
              "    .colab-df-container {\n",
              "      display:flex;\n",
              "      flex-wrap:wrap;\n",
              "      gap: 12px;\n",
              "    }\n",
              "\n",
              "    .colab-df-convert {\n",
              "      background-color: #E8F0FE;\n",
              "      border: none;\n",
              "      border-radius: 50%;\n",
              "      cursor: pointer;\n",
              "      display: none;\n",
              "      fill: #1967D2;\n",
              "      height: 32px;\n",
              "      padding: 0 0 0 0;\n",
              "      width: 32px;\n",
              "    }\n",
              "\n",
              "    .colab-df-convert:hover {\n",
              "      background-color: #E2EBFA;\n",
              "      box-shadow: 0px 1px 2px rgba(60, 64, 67, 0.3), 0px 1px 3px 1px rgba(60, 64, 67, 0.15);\n",
              "      fill: #174EA6;\n",
              "    }\n",
              "\n",
              "    [theme=dark] .colab-df-convert {\n",
              "      background-color: #3B4455;\n",
              "      fill: #D2E3FC;\n",
              "    }\n",
              "\n",
              "    [theme=dark] .colab-df-convert:hover {\n",
              "      background-color: #434B5C;\n",
              "      box-shadow: 0px 1px 3px 1px rgba(0, 0, 0, 0.15);\n",
              "      filter: drop-shadow(0px 1px 2px rgba(0, 0, 0, 0.3));\n",
              "      fill: #FFFFFF;\n",
              "    }\n",
              "  </style>\n",
              "\n",
              "      <script>\n",
              "        const buttonEl =\n",
              "          document.querySelector('#df-037e607e-0a2b-480d-9416-4d2f01294e24 button.colab-df-convert');\n",
              "        buttonEl.style.display =\n",
              "          google.colab.kernel.accessAllowed ? 'block' : 'none';\n",
              "\n",
              "        async function convertToInteractive(key) {\n",
              "          const element = document.querySelector('#df-037e607e-0a2b-480d-9416-4d2f01294e24');\n",
              "          const dataTable =\n",
              "            await google.colab.kernel.invokeFunction('convertToInteractive',\n",
              "                                                     [key], {});\n",
              "          if (!dataTable) return;\n",
              "\n",
              "          const docLinkHtml = 'Like what you see? Visit the ' +\n",
              "            '<a target=\"_blank\" href=https://colab.research.google.com/notebooks/data_table.ipynb>data table notebook</a>'\n",
              "            + ' to learn more about interactive tables.';\n",
              "          element.innerHTML = '';\n",
              "          dataTable['output_type'] = 'display_data';\n",
              "          await google.colab.output.renderOutput(dataTable, element);\n",
              "          const docLink = document.createElement('div');\n",
              "          docLink.innerHTML = docLinkHtml;\n",
              "          element.appendChild(docLink);\n",
              "        }\n",
              "      </script>\n",
              "    </div>\n",
              "  </div>\n",
              "  "
            ]
          },
          "metadata": {},
          "execution_count": 10
        }
      ]
    },
    {
      "cell_type": "markdown",
      "source": [
        "### Skip-Gram"
      ],
      "metadata": {
        "id": "K08QzAhEdIi7"
      }
    },
    {
      "cell_type": "markdown",
      "source": [
        "**Skip-gram** merupakan teknik yang digunakan di area speech processing, dimana n-gram yang dibentuk kemudian ditambahkan juga dengan tindakan “skip” pada token-tokennya. Skip-gram bisa digunakan untuk menangani data sparsity yang banyak ditemui sebagai problem besar pada penelitian natural language processing.\n",
        "\n",
        "Sebagai contohnya, apabila hendak dibentuk trigram dari kalimat “I hit the tennis ball”, maka hasilnya akan menjadi:\n",
        "\n",
        "1.   I hit the\n",
        "2.   hit the tennis\n",
        "3.   the tennis ball\n",
        "\n",
        "Akan tetapi, ada pendapat yang mengatakan bahwa ada kombinasi 3 kata dari kalimat tersebut yang penting dari kalimat tersebut, contohnya “hit the ball”. Skip-gram memungkinkan bentuk kombinasi tersebut untuk dimodelkan.\n",
        "\n",
        "Untuk membentuk k-skip-n-grams, ada dua nilai yang harus didefinisikan, yaitu k (jumlah kata yang di-skip) dan n (banyak kata dalam n-gram, e.g. bigram (2-gram), trigram (3-gram), dll.).\n",
        "\n",
        "Hasil dari 4-skip-n-gram akan mencakup 4 skip, 3 skip, 3 skip, 2 skip, 1 skip, dan 0 skip (n-gram jenis trakhir ini dibentuk dari adjacent words)."
      ],
      "metadata": {
        "id": "RuMyqPLMdKLB"
      }
    },
    {
      "cell_type": "markdown",
      "source": [
        "Apabila kita memiliki kalimat sebagai berikut:\n",
        "\n",
        "“Penelitian membutuhkan ketekunan yang tinggi”\n",
        "\n",
        "Maka, n-gram dan skip-gram yang terbentuk adalah sebagai berikut:\n",
        "\n",
        "- Bigram: {penelitian membutuhkan, membutuhkan ketekunan, ketekunan yang, yang tinggi}\n",
        "\n",
        "- 2-skip-bi-gram (mencakup 1-skip-bi-gram dan 0-skip-bi-gram):\n",
        "\n",
        "0-skip-bi-gram: {Penelitian membutuhkan, membutuhkan ketekunan, ketekunan yang, yang tinggi}, 1-skip-bi-gram: {penelitian ketekunan, membutuhkan yang, ketekunan tinggi}, 2-skip-bi-gram: {penelitian yang, membutuhkan tinggi}\n",
        "\n",
        "Skip yang dilakukan tidak diperbolehkan untuk melewati batas dari satu kalimat.\n",
        "\n",
        "Jumlah dari skip-gram yang terbentuk dengan diketahui jumlah n pada n-gram yang hendak dibentuk bisa dihitung. Untuk sejumlah n kata pada kalimat, rumus untuk menghitung jumlah trigram dengan jumlah skip k adalah:\n",
        "\n",
        "(n – (k+2) ) (k+1), untuk n > k+3\n",
        "\n",
        "Secara lebih rinci, data lengkap mengenai jumlah data hasil pemodelan n-gram dan k-skip-n-gram adalah sebagai berikut:"
      ],
      "metadata": {
        "id": "O8pUW5AleCEJ"
      }
    },
    {
      "cell_type": "markdown",
      "source": [
        "![skip-gram.jpg](data:image/jpeg;base64,/9j/4AAQSkZJRgABAQEAYABgAAD/2wBDAAIBAQIBAQICAgICAgICAwUDAwMDAwYEBAMFBwYHBwcGBwcICQsJCAgKCAcHCg0KCgsMDAwMBwkODw0MDgsMDAz/2wBDAQICAgMDAwYDAwYMCAcIDAwMDAwMDAwMDAwMDAwMDAwMDAwMDAwMDAwMDAwMDAwMDAwMDAwMDAwMDAwMDAwMDAz/wAARCAC2Al0DASIAAhEBAxEB/8QAHwAAAQUBAQEBAQEAAAAAAAAAAAECAwQFBgcICQoL/8QAtRAAAgEDAwIEAwUFBAQAAAF9AQIDAAQRBRIhMUEGE1FhByJxFDKBkaEII0KxwRVS0fAkM2JyggkKFhcYGRolJicoKSo0NTY3ODk6Q0RFRkdISUpTVFVWV1hZWmNkZWZnaGlqc3R1dnd4eXqDhIWGh4iJipKTlJWWl5iZmqKjpKWmp6ipqrKztLW2t7i5usLDxMXGx8jJytLT1NXW19jZ2uHi4+Tl5ufo6erx8vP09fb3+Pn6/8QAHwEAAwEBAQEBAQEBAQAAAAAAAAECAwQFBgcICQoL/8QAtREAAgECBAQDBAcFBAQAAQJ3AAECAxEEBSExBhJBUQdhcRMiMoEIFEKRobHBCSMzUvAVYnLRChYkNOEl8RcYGRomJygpKjU2Nzg5OkNERUZHSElKU1RVVldYWVpjZGVmZ2hpanN0dXZ3eHl6goOEhYaHiImKkpOUlZaXmJmaoqOkpaanqKmqsrO0tba3uLm6wsPExcbHyMnK0tPU1dbX2Nna4uPk5ebn6Onq8vP09fb3+Pn6/9oADAMBAAIRAxEAPwD99KK8V/4a51DxD8ZvH/g3wv8AD3XPEM/w3vrPTdVvTqljZQPPc2FvfIIhLKHYCK5jBJA+YMBkDNan/C7/AB9/0SHVf/Cl0v8A+O1w8poerUV5T/wu/wAff9Eh1X/wpdL/APjtH/C7/H3/AESHVf8AwpdL/wDjtHKB6tRXlP8Awu/x9/0SHVf/AApdL/8AjtOX40/EBunwe1c5BIx4k0zoP+2tHKB6pRXlP/C7/H3/AESHVf8AwpdL/wDjtH/C7/H3/RIdV/8ACl0v/wCO0coHq1FeU/8AC7/H3/RIdV/8KXS//jtH/C7/AB9/0SHVf/Cl0v8A+O0coHq1FeU/8Lv8ff8ARIdV/wDCl0v/AOO0qfGzx/I2F+D+rMfQeJNM/wDjtHKB6rRXlTfG3x+jYPwg1YEdQfEul/8Ax2k/4Xf4+/6JDqv/AIUul/8Ax2jlA9Woryn/AIXf4+/6JDqv/hS6X/8AHaVPjZ4/kbC/B/VifQeJNM/+O0coHqtFeUn43ePlOD8INV/8KXS//jtH/C7/AB9/0SHVf/Cl0v8A+O0coHq1FeU/8Lv8ff8ARIdV/wDCl0v/AOO0f8Lv8ff9Eh1X/wAKXS//AI7RygerUV5T/wALv8ff9Eh1X/wpdL/+O1zGiftneIfEPxd8ReBrb4Ua4fEfhXTtP1bUIG1/TVRLa+a5S3dX83DZa0nBHUbR2YUcoHvtFeU/8Lv8ff8ARIdV/wDCl0v/AOO0f8Lv8ff9Eh1X/wAKXS//AI7RygerUV5T/wALv8ff9Eh1X/wpdL/+O06P41fECU/L8HtXb6eJNMP/ALVo5QPVKK8sPxn+IQbH/CndYyBnH/CR6Z0/7+0z/hd/j7/okOq/+FLpf/x2jlA9Woryn/hd/j7/AKJDqv8A4Uul/wDx2j/hd/j7/okOq/8AhS6X/wDHaOUD1aivKf8Ahd/j7/okOq/+FLpf/wAdo/4Xf4+/6JDqv/hS6X/8do5QPVqK8p/4Xf4+/wCiQ6r/AOFLpf8A8do/4Xf4+/6JDqv/AIUul/8Ax2jlA8s/4Kr+PPEPw/8ACnwXl8O6v4r0x9b+LGg6FqMGgXv2a51SxuWlWa2yWUYYKvO5SMcMK8b+D/7aXiTwla/HfRvFv/CY6xYeEfil4b0DRfDutar/AGd4s0DTdUmsoo7i4uYQRNavdPNJABI7PAjxu/VR7p+0N4S1f9p2w8NW/if4ReLlHhHW7fxHpb6d43sbF7e/g3eTMTHON2zcxCtlcnkGvN/it8JPDvwy+EPxD8T+Jfgv43mtZri28ceLNaPjq2uNX1FtFAurVml+0b2S3EAMcCkR/KRt+Zs6Ufd0l3/D3Px92X3+bFUu1p2/H3v8193kew/Ez/go38PvDujar/wiuraX4w1bQ/E2n+FNWghujBbeH7q8ujapLfTFD5MCSK4ZwrcgDuK4vwf/AMFIfFnj/wAR/DvRNK+FFs+qfEDVfEmnRPP4pWOzhi0S4SGa7jlFsTNDOGZ4SqjcAucBiVxf2y7r4nftjfs+eHbXwp8Jbi5sL3VNP1+aOb4gxeHpdQslUyqIry0ZpoJCWicEoykKykDduFD9nv4B+MvA1/4V8QeKfhl461LxD4Om1A6DbXfxVi12HRba9ghhntvtNzIkl0jCFWHmpiMthAAKUErPm/rRfrf+rFS3Vv63/wCAWvGv/BX1/AWn+L3u/hvJdXfhzQLXxFb29nr8cq3MMusLpT27ziLyRPG7pIfJeWPkoXDKc72h/wDBS7xCvxNXQdd+FL6db23xAn+HN9dWfiSK9dNROmf2laNBF5KGWOWIojFjGY5HwA6gtXnem/8ABOfwxaaEmkr8GfiZPp0WjL4dgtZPifE8dvpqXsd9DaIPtPyxQzxKUA5AyCSDXda7+zpH4h1m+v7j4N+Nhdah4uXxzM8fxAtY/wDibLZfYRMuLj5QLcBNg+TgHGeaLKy79f8AwJbf9u3+Yn1t8v8AwH/5L8D1H9iP9smL9srwprGqQ6Zp+jnR5oba5sF1JpdR0y5aPfLZ39rJDFNaXMJwrKylXyGRmU5r26vmb4H+EtZ+A2s63qul/CTxbqeveJYbK21PV9X8Z6de319DZxtHaxvI0uWEaySYJ+Yl2LFic16KfjV8QFk2n4P6vu9P+Ek0zP8A6NonFN+6LU9Uorylvjb4/RsH4QaqCOoPiXS//jtH/C7/AB9/0SHVf/Cl0v8A+O1HKM9Woryn/hd/j7/okOq/+FLpf/x2uQ8XftveIPBHxd8G+B7/AOEfiMa948i1CbSRHrumPAy2Mcctx5j+d8nyypt4OeemKfIwPoWivKf+F3+Pv+iQ6r/4Uul//HaP+F3+Pv8AokOq/wDhS6X/APHaXKB6tRXlafGn4gyj5fg9q7Y648SaYf8A2rTf+F3+Pv8AokOq/wDhS6X/APHaOUD1aivKh8a/iAULf8Kf1baOp/4STTMD/wAi0f8AC7PH4Td/wp/VtucZ/wCEk0zH/o2jlA9Voryn/hd/j7/okOq/+FLpf/x2j/hd/j7/AKJDqv8A4Uul/wDx2jlA9Woryn/hd/j7/okOq/8AhS6X/wDHa5T4fftq+Ivid4w8b6HpXwj8Qm/+HusRaHrAm17TI0W5ksra+URt5x3r5N3Dzx824Y+XNHKB9A0V5T/wu/x9/wBEh1X/AMKXS/8A47R/wu/x9/0SHVf/AApdL/8AjtHKB6tRXlbfGn4gqm4/B7VwvqfEmmY/9G03/hd/j7/okOq/+FLpf/x2jlA9Woryp/jX8QIwM/B/VhnkZ8SaZz/5Fof41+P4zhvg/qyn0PiTTP8A47Rygeq0V5T/AMLv8ff9Eh1X/wAKXS//AI7R/wALv8ff9Eh1X/wpdL/+O0coHq1FeMeL/wBpfxn4H8Jarrd/8ItZWw0azmv7kx+ItMdxFEjSOQvm8nap4qv8O/2rPFXxV+H2g+KNE+E+sXOi+JdOt9W0+Z/EOmxtLb3ESyxMVaXKko6nB6Zp8rA9voryn/hd/j7/AKJDqv8A4Uul/wDx2j/hd/j7/okOq/8AhS6X/wDHaXKB6tRXlTfG3x+vX4QasM8jPiTS+f8AyLQvxt8fu2B8INWJPQDxLpf/AMdo5QPVaK8rHxq+IBfb/wAKf1fd6f8ACSaZn/0bTf8Ahd/j7/okOq/+FLpf/wAdo5QPVqK8p/4Xf4+/6JDqv/hS6X/8do/4Xf4+/wCiQ6r/AOFLpf8A8do5QPVqnT7g+leDeJP2xdT+HXjbwJpPiz4b69ocHxB8RR+F9PvY9VsL2OG8ktrm5TzUjl3hNlrKNwBwdvHOR7yn3B9K2oqzJkfLP7Lf/J6f7Wv/AGOOgf8AqLaXXv8AXxt4H8Q/GfSP29f2p4/hn4G+HPirS38UaC13P4j8X3eizwzjwxpY2JHDYXIdNu07i6nJI28Zr07/AITP9rD/AKI98Bv/AA6Op/8AylrGcG3c0hJJanvdFeCf8Jn+1h/0R74Df+HR1P8A+UtH/CZ/tYf9Ee+A3/h0dT/+UtRySL50e9jrX5Uftn+PPiF+yx+1B8SfiH408OH4w/s4eJ/FmnwT+LvC+syW3ij4RTwNb25smhDYNqs4UtGgCyCdi7Zk2n7c/wCEz/aw/wCiPfAb/wAOjqf/AMpa87u/2ffjLfeKL7WZf2av2bHv9V1JdZ1A/wDCzdU8rUb1GVkuZ4v7G8uaVSiFXkViNi4I2jF0k41FN/1qv6vvf5kzkpQcV/X9fcec+D/+CufxV+Ktn+0P4w0H4V6EPhl8IYvFtjZavdXu2aPVtDVXjgu4fOErpdp5jfuo18kKuWfJI8V+JH/Bbj40eLv2IP2hNZtNH8D+EfFvgv4Y+EfHOh6lpiXM62sWvRIZI2WZ+Z4d+Y5Pu56q2OfqRv2XPiq3iLxzqv8Awy5+y/8Ab/iZDJB4qkHxG1ILrySLsl89P7F2sZF4dsZcfeJrMsP2KfH+leHPEGkW/wCyV+ynDpnirRrfw7q9snxB1AR6hp1uFW3tZB/YvMUQVdi/wbRtxS9n7nL1svvtK/3tr5K3raqRTv5t/K8bL7lJeruV/hJ/wUW+Lnjz9uofBTRfh9oninSvh5aeG7fx94gW7+yTQf2rp8lwNRgSacEwxSLBGYgJZJTJIQy7VB8d+AH/AAXu8feJvsmr+NfAHg8+Hb7wV458URwaBLdrfCXw1cvEUJlZk2zqhGAMqec/w19Cab+zd8XdG+KWkeNrT9mP9mS18W6FpMWhWOqxfEjUkuIbKIbYoCw0b5ljH3N2SvYiszwF+x18RfhdrWm6j4e/ZN/ZT0m90eC8tbKW38f6gDbQ3m43caj+xcBZtzeYMYfcc5qpRu212l972+7e3y1VjOEkopP+79y+L7/66nEeKv8AgrB8YvBP7K/wf8WT+Bfh5q/iX9obXdG03wH/AGVezvY+Vf6X9sZbqOSRCJo7gNaqPOVZP9YdmCh9J/4KSeNvFnir/gh78VPFHifQZ/APj5fh3Nqd/pdpqQnk8P6nGgLpFcwthvLkB2urdMZ71y2tfsieLvBX7PkvgjUf2XP2TdK+HFrqEerfYLr4m6jBZWV0r5imjdtHHksrMQpRl27yBjcQfQvEnhX47fGb4L/8IjqXwD/Zq8ReAtTs0t/7Nb4najNp93bDBVdo0ba6HAPcH3pV6anGcYK13p5K1vzu/PyHSm4yg5Pbfzd/8renmYmp/tj2P7An/BFnwd8TLmxOvavonww07V7LSprlxNrNz9jty7PIdz7d8yvI/JwSepFcN4t/4KY/HzwN4K+C6a38NfAWheJfi14+uvClpJeXcs9ld6Z9hN5ZatElvPI0XmICGgkctleCoYEdhpH7J/xR0TT2tIP2Wv2X2s20ObwyLab4j6nPCmlzBBLZKj6MyrA4jQFFABCL6CorH9kL4mab4M8J+Hov2WP2YP7G8CXLXnh62f4k6m40eZkCGSFjoxZX2AKDnIUBRgDFXWXPOc19pp+mt3+Fl9/kzOj7lOEH0VvXRJfjr/VjwrTv+C43xs+Iv7N3w58X+E/hBoVxq/jX4b3ni62txa3+ow+ItZg1lNM/saySBhJGxQm43SFuCFHAZq5z9vn9q74y+M/+G5/B2u63puk6H8Lfg3oWpWGn6TDPaXGn6jeRNcvOkomJEqyAqSSfkSMLj5i3SfG3/gkN8bPiN410W+8MfCj4K/DnRvDXhp/Duj6T4V+MHiHQY9ND3ct3JIr2Omw+YrSS7jE4KhlyD8xr2jTf2OfjBdeHp4fFH7O/7OnjnW9Y8LWXhHxHruufEnUJ7/xVZWqoEF639i4lJZAxyOvHSlOCkm0rX5tPXmt911+HW97U7NfL8OVv77P7+1joP+CUP7ZHi79oS7+I3w68ZadokWofBi28M2dvqemvOf7Vgv8ARobtTMJmZjMmSGcEB852jv8AYNfJfwk+DPxv+Auua1qfgz9m79mrw1qHiNLaPVbmw+JOpRSagttH5UAlb+xct5cfyrn7q8Diu5/4TP8Aaw/6I98Bv/Do6n/8padf3580V/w/UjD3hBRkz3uivBP+Ez/aw/6I98Bv/Do6n/8AKWj/AITP9rD/AKI98Bv/AA6Op/8AylrHkkbc6Pe6+evhP/ylM+Ov/ZPPBH/pV4gq1/wmf7WH/RHvgN/4dHU//lLXhHww8X/tLj/gpB8ZZbf4V/BiTXZPA/hBL60k+I1+lrbwLc675DxzDSSzu584MpjUIEQhn3kLShKzFzo+8qK8E/4TP9rD/oj3wG/8Ojqf/wApaP8AhM/2sP8Aoj3wG/8ADo6n/wDKWp5JD50e918Bf8HDF9f6N8APgfdaXJex30/xn8Oaay219JZm8t53lWW1d0P+rkAAYEEcA4OK+gv+Ez/aw/6I98Bv/Do6n/8AKWuI+N/wg+OX7SulaXY+Pv2cv2bfFtnot6uo2EOpfErUpks7lchZ0H9jfLIuThhyMnBFCpy5ovs4v7mn+NrCc04yS6pr71b9T4L8C/tNX/wmv/F/g3xFaajquqaJ+1hoGlL4LvPEGotZeALa/klNmbLUIZlN3GfKaQ28gEK52mLHX7k/aJ/4Kk3Wi2OgD4eeCvFccd347s/CXiHXPGXhDVNLsPDlvOs5N6kTpE94u6HYDE2xS6liAVBzv+GRfiV/wjdrpH/DKP7Kv9n2evr4qii/4WBqGf7XUkrqDN/Yu57kZOJWJYZ4NYn7ef7Kf7T/AO3l4b8GaVrfw5+DOl2fhDX/AO3l+w/FvXLO4nk+zTW67Lm20qKaEr5zNlWw3QjBq2nypea/BQT/APSX56rXQFJXb9fxcmvzX3bHL6X/AMFP/wBpHV9G/Zd0Wb4WfD7wz8R/2j18SKdL8RrqVhB4fOnxGW0lkUM02yaMCRlKh9rqAFOa3PhR/wAFavHHin/go54a+BWueGfAfl63eeI9Fu77Qr+e/jsLzSbC2ug4uMiNzI0siyWpUSQDytzbmIqH4C/sffHP9njw/wCD38TfC34G+ONf8E6xeXHhPXvFfxf1e/1Dw8184U2dnc3OkPNtPCgM7M24jpgDqPD37HHxG8JfFNPG+mfso/ss6f4uj1S/1pNWt/iJqUd0l7fRiK8nDDReGmQYf169eatxV720s/x2+4lyvGy0en63+/Q+bvBf/BeP44eNPhVoniSPwR8Jbc+Jvh74z8aWkR/tJvsb+HLyWGSOT9584uFiIUArsLBixxtP0B8Af+CtHiX4q/tRfCPwd4l8G2Pgnw58YfCuk6/4b1OeC4urfX57jSje3llBdo3lxXVvKUUQSpl4gz7gWQM+w/YT8baVo9pp9t+yJ+yfBY2Gn3uk21unxA1BY4LO9LNd26r/AGLgRzF2Mi9HLHOa6LwH+zf8Xvhfruk6l4e/Zl/Zo0m70FY1002/xL1MR2BjtvskbRR/2NsR1th5KuAGEfyg7eKIxilZrX/9q/5x+7zByu3Z97f+S2+60vvPsSivBP8AhM/2sP8Aoj3wG/8ADo6n/wDKWj/hM/2sP+iPfAb/AMOjqf8A8pax5JF86Pe68l/b8/5ML+OP/ZPPEH/psuK57/hM/wBrD/oj3wG/8Ojqf/ylry79uHxj+0/J+xR8Yl1f4T/BKy0l/A2tpe3Fp8SdRuLi3gOnziR4420dFdwuSFLqGIALLnIqMHzITmrH03+zr/ybv8Pv+xY0v/0jirsa+V/gF4z/AGph8B/A4svhH8DZ7NfD2nrbyzfE3UY5JIxbRhWZRoxCkgAkAnHqetdb/wAJn+1h/wBEe+A3/h0dT/8AlLSlB3BTVjyD/g4h13VvCP8AwSX+Ies6HrevaBqenX2jiO60nUJbKQpLqdtDIjtGwLIySMpUnBzX0dfftReH/Dvx30L4Yz6R47k8QarYxXEV9B4VvptEjBiZsS6isZto2xG3ys4OSo6sK8h+N3w2+Pf7SfgSXwv4+/Z3/Zv8XeHJ5Unl03U/iVqU9rK6MGRmQ6LhirAEZ6EA9RXVaZ4n/as0bSoLG2+DnwHhtLWNYYoh8U9U2oijAHOjdgBVRi1Dla63/BIJSTaa7fqcT8S/2/PEHgv/AIKP2nwK8Q+GbXQfCPi6xCeGvEF1aXE0PimX7BPNd2sVzG/l293E6xgQSp88e596kxhvhn/gmP8A8FFW8Rf8Ei/GvgGfUY/Eev8Aw3+E3ibxTrtj4il1KHU9eSTUdQWIWl6squ1skKeXJNGd8byRKrDacfaPj3Rvin4U+JCeL/E/wT/ZZ0zxJqMrTx32p/FzUIGnmFt9lMyLJpAXzRbv5XmKN4RyuQDiua0T9hnxVN4a0uLTf2Rv2RTpVppF1pOn/ZfiDf8Akrp14zyXFuhXRcGCZpZGZPusZGJHNSqbdOUX1Vvwlb7m/mV7RKcZdmn+V/vR5NrH/BXP4l/Bz4daLpHgnwV8PhonhH9mbSPjTJFrN7qNzcGJTHDLpqTGQs58sfJPKS2Rl95NfpT8JviBF8WvhP4W8WW9rPYweKdHs9Yjtpv9ZbLcQJMI291D4P0r87tf/wCCW3xt8V/ti23xB1P4J/s1XvgGx+Gtv8NrTwE/jzVFsre2gvPtUbiQaUFMf/LPyDGUKgZz0r60h8W/tWW0KRx/Br4BxxxqERE+J+pKqKBgAAaLgADoBW1W0ryS1bb9Pel9+nL93dswp3i0r6JJevux/Xm+/wAke+184/tGf8pIv2X/APrw8a/+kFjWn/wmf7WH/RHvgN/4dHU//lLXz/8AH7xj+0qf+CgH7Or3vws+DUGtRWXiz+zLWH4i38ltdK1nZiYyynSQ0RVQpUKj7iSDsxkxTi0zSU1Y++6K8E/4TP8Aaw/6I98Bv/Do6n/8paP+Ez/aw/6I98Bv/Do6n/8AKWs+SRXOjw3/AILifAvS/jD8NfCtppXjHW/C3xl1PVLW28A3kfiuXR7Hw95Nwk2oarLGsiRvHFa7/MeQOSfJjTDOAfSv2l/+Cidz8N/AnjjTvhn4E8e/Er4h+DNJg1C2ifwtfQaTr8e6382S0vSi293L5MrSpBDLulZCi98cZ+0H+x78R/2sfE9lrPxM/ZO/ZT8d6rp1t9jtbnW/H9/dvbQ7i3lpv0U7V3MTx1zXe+NNE/aQ+IngiPw3rXwJ/Z9vtChaB4rJvijqiRwNA6vAybdGBQxsiMpUgqVBHSqUGocvm3/X9a99hc8XNS8v6/rp21Z8KftRf8FXtN0b9oH9k79oNtYvLjwtc+DPHs1/baRp9+lrPNbYt7dLyx3F0MErDztxYRESlXKhWPr3xv8A2/tW+Bn7U3xj8VWGieDvE3iLwb+zRZfEC21uz1PUjpGsqLtnFvHamcwiBiXZJ1AmKlQzEZFei337PPjjxV4i0/Rbn9mj9knUtX8K6ZfWdtZS/Eu+mu7Cz1DcLwFDoxcJc+c/msw/emQliSa5H43f8E5/i749/Z88deDfBn7PH7MPw71jxl4IuPAMOv2Hj3UZZtL0yXJECJ/Y67oUY7li3KoOOlay/h2itUpW+fP+sl91hRa5tdny3+Th+if33PUf+Cfn/BQfxt+0r8ftd+H3jzw74V069h+H3hz4jaXe+HnuDALXVYiWtJxMSfNikHyupAdc/KMV9fV8V/sjfs3ftA/sgfDfTtK0H4E/s5DXRo2m6TrOtwfEfU4rjW/sNstvE77tHdlQAMVi3FU3tjqSfWf+Ez/aw/6I98Bv/Do6n/8AKWprQXM+TbX83b8LLz3JpzfL72+n5K/43Z73Xz3+xp/ycv8AtZf9lMsP/UW0SrP/AAmf7WH/AER74Df+HR1P/wCUteE/sl+MP2mI/wBoT9phtN+FfwXur2f4gWUmqxXPxGv4Y7S4/wCEb0cLHC66SxlQxeUxdljId3XaQoZs1TkXzo+8aVM7xjk5rwP/AITP9rD/AKI98Bv/AA6Op/8AyloXxr+1grZHwe+A+R/1VHU//lLS5JD50fJ/jjxhp37Of/Bcj4ceKtNsPEGqeAfif4D8SCLV/C/ii58QL4kv7BRc3L3tgN4P2dUMUS2/PmSIP4fLHov7Tn/BYW5+E7/DbxDoXgrxDpXwv8W30+laz4q8XeFdSsP+EdvhPbx20d3asI57a2nEk227KOnmRqu0jcRsfA79lX4pfs0+NtW8SeAf2Wf2XfCeva4ZDeX2n/ETUY5mEj+ZIqH+xf3au4DMse1WIBIOK2Pi74D+NvxM17TtX8bfAL9mvU72ER6dbTaj8U9S2zKZ1mjt2U6OFlUzIjiNgwLopxkCtIRsoRa2/Vt/rZbfdoRKV3Jrr/kl+mu/6r50/YX/AG3f+Fcf8FTvj18HJ9e+z6t45+NN6mlDX4rufTobG20tJpbWzl3iNLp5HQpDnBXedv3Q1H9kn/gpB420f4P/AAM8OeAfB3grSLv4y/FPxj4VnOtajquqQadNaSzz/akaSdpmDur5iL7QMKuwdPavEX7MnjXV/H5/tP8AZh/ZJk8Uatro8ZATfEq+F/c6pGCBqSj+xt5mUEjzRyB34rzv41f8Eyfjn8Q/HHwWuPDPwW/Zs8C+FfhN4p1DxVc+H9P8e6oIdduLy38iX500pDA/O8yAMSwB9cnL7sVbpFfdyX/BP89xymm5NdW2v/Jrfi1+Wx9Yf8EzP2xb39vX9ivwn8TtU0S28O6xq0t9YajY2kjSWqXNndzWsrwM3zGJ2iLLuyQGwScZr3mvmj4aaN+0d8GfAOk+FfCfwE/Z18O+G9Ctxa6fpth8StRht7SMZO1VGi4HJJJ6kkk8mtz/AITP9rD/AKI98Bv/AA6Op/8AylqZxbldIcZJKzPR/wBpL/k2/wCIn/Yrar/6RzVzf7BX/JifwR/7J94f/wDTZb15Z+0L4z/amP7P/jsXvwj+B0Fk3hzUVuJYPiZqMsscZtZAzKh0ZQzAEkAsM9MjrWB+xJ4x/afT9i74QLpPwn+CV5pSeCNESyuLv4lajbzzwCwgEbyRro7qjlQCVDsASRubGS+R8guZc1z7Kriv2ivjVb/s7/BfXPGN1Y6jqMekRx7bex0+4v5WeSRYkJht0eZ0VnDPsRmCKxArzn/hM/2sP+iPfAb/AMOjqf8A8paWPxv+1jE+V+D/AMB1I7j4o6n/APKWo9nIrnifHP8AwSC/4KLaZ4e+Anx08S+Nb74reP7q5+OGt2qXem+CdW1O78h44/s2baOEvbxiOEjytq+SdqsFZgD0X7U3/BRjxL8QrP8Aao+DviHQD4DudG+HHiXXPCMkltdQ3XiPToLJDDqNneq/ls6SNL50O1JIGRACxEgX6B+GPhb9oj4K2+sxeEf2f/2c/DkfiLVrjXdUXT/iVqMAv7+4IM91JjRfmlkKjcx5OBXIXXwI+Kmva/4mt5/2cP2YL/UPENndwa1bTfFDUpmmt79w10rRNo52JctGDJtCiUoN27FVVp865V/Ly/PlST+9X9Ol9UqNRU5c7/m5vlzN2+52/Xv8fwf8FMLXx7/wQx8WTJFZ+Mk+D3hXwNo+uaNqt1quj67e3tx9haa6luopo5vs7tIphlT/AFpil3EqRn2/45f8FkviT8GPjv8AF+xHg3wNqHgT4M+O/CHhW/VXvBrOqWuuxKfMhO8xLNAzDgqRIOMKeT0lt+xhr3xF0fUILf8AZQ/Y81mwksLbw3fxwfEW9mie1sjGbezlC6MQVgMcexG+5sXAGBXLfCn/AIJv/H/wd+2F8WPiz4l+D/7OPjJ/iFrei69pGmXfj7VFTwxcaZam3gZWOlMs7Dh1ZkBjYZXnmuxuEqjnJbu//k0dPmr+l99jL4aSgnqlb8H+Tt6n6STx+TMy9dpIzTa8EPjX9rBjk/B74D5P/VUdT/8AlLR/wmf7WH/RHvgN/wCHR1P/AOUtcPJI250VP28/+R//AGZf+yzaf/6Ztar6tT7g+lfAP7R/iP446r8cv2Z4fiR4B+GXhfw//wALbs3jvPD3jS81m6a4Gj6uEjMM2nWyhCC5L+ZkYHynOR9/J9wfSuqimlqYzd3ofNH7IP8Ayer+1t/2OOg/+otpNfSFfDnw88O/GvWf29f2p3+GHi/4Y+HdKTxRoS3kHifwpe6vcSz/APCMaUd8ckF/bKqbdo2lWOQTuwcD1X/hBf2t/wDoqH7PP/httW/+XVZyVxI+jqK+cf8AhBf2t/8AoqH7PP8A4bbVv/l1R/wgv7W//RUP2ef/AA22rf8Ay6qeXzGfR1FfOP8Awgv7W/8A0VD9nn/w22rf/Lqj/hBf2t/+iofs8/8AhttW/wDl1Ry+YH0dRXzj/wAIL+1v/wBFQ/Z5/wDDbat/8uqP+EF/a3/6Kh+zz/4bbVv/AJdUcvmB9HUV84/8IL+1v/0VD9nn/wANtq3/AMuqP+EF/a3/AOiofs8/+G21b/5dUcvmA7/gpJ8K7b40fCfTtF/4WJ4N8FapZTTa1Zad4r0ux1bRvEbW8LZhvLO55lt0MisxiKvG2xwQQten/steILrxZ+zT4A1O+8MWngq91Dw9Y3E+gWkYjt9GdoELW0agDbGhJVRgYAHA6V866v4a+OfxS+KknhPUPih+yd4h8YeDoIdZbTrn4Y6hdXmixzl0iuNrayTFvMbgMME7D6VofDrxj+0Z8W572Pw38bv2adZk07aZxb/DrVmwrFgsi/8AE5+eNijhZFyjFGAJwapL3Wu+v3af16BJ3av0/Wz/AK9T63or5x/4QX9rf/oqH7PP/httW/8Al1R/wgv7W/8A0VD9nn/w22rf/Lqp5fMD6Oor5x/4QX9rf/oqH7PP/httW/8Al1R/wgv7W/8A0VD9nn/w22rf/Lqjl8wPo6ivnH/hBf2t/wDoqH7PP/httW/+XVH/AAgv7W//AEVD9nn/AMNtq3/y6o5fMD6Oor5x/wCEF/a3/wCiofs8/wDhttW/+XVH/CC/tb/9FQ/Z5/8ADbat/wDLqjl8wPo6vnH4Pf8AKVT47/8AZPvBP/pX4io/4QX9rf8A6Kh+zz/4bbVv/l1Xgvws8GftOt/wUi+M0dt8RvgWmvp4H8INf3EngDU2tZoDda95CxxDVgyOpExdjIwYPGAq7CWpR0Yj9CKK+cf+EF/a3/6Kh+zz/wCG21b/AOXVH/CC/tb/APRUP2ef/Dbat/8ALqp5fMZ9HUV84/8ACC/tb/8ARUP2ef8Aw22rf/Lqj/hBf2t/+iofs8/+G21b/wCXVHL5gfR1FfOP/CC/tb/9FQ/Z5/8ADbat/wDLqj/hBf2t/wDoqH7PP/httW/+XVHL5geGf8FYfib4ktfjL8Lbe9+HHj7UvDfhb4neD7nRL/TRZNYaneSXymYnfcpJ5qqRDGrIF3NIxblSP0ADbhnBGecHqK+PfiR4u+PvgbxLpmi+KPjV+zDZ6jeSwTWkF58N9VPlu8vlwSMTrJWLdL8kbOV3P8qktxXa/wDCC/tb/wDRUP2ef/Dbat/8uqpL93y+bf4JfoOTvJPyS/P/ADPo6ivnH/hBf2t/+iofs8/+G21b/wCXVH/CC/tb/wDRUP2ef/Dbat/8uqnl8xH0dRXzj/wgv7W//RUP2ef/AA22rf8Ay6o/4QX9rf8A6Kh+zz/4bbVv/l1Ry+YH0dXj3/BQ3/lH/wDHT/snuv8A/ptuK5L/AIQX9rf/AKKh+zz/AOG21b/5dV5X+3R4K/amg/Yk+Mb6x8SPgNdaQngbW2voLP4e6pBcTQCwn8xY5G1d1RyuQrFGAJBKtjBqMdVqB9V/sz/8m3/D7/sWdN/9JYq7evkL9n3wR+1bJ8BPA7WXxM+AEVk3h+wNuk/w61WSRI/s0e0Mw1hQzAYyQoBPYdK6/wD4QX9rf/oqH7PP/httW/8Al1ScddwPo6ivnH/hBf2t/wDoqH7PP/httW/+XVH/AAgv7W//AEVD9nn/AMNtq3/y6pcvmBS/4KffCXwP4t+BGoahq3gjwb4q8e68kPgnwlca5pUF+9lealOtvG0ImVgmxpDO+0AlYMnIUY9++F/w50v4PfDTw94S0OBbbRfC+mW2k2EKjAjggiWKNfwVRXytqHi7466te+K47r44fsqXM3wuZL3xB5vw91J/+EaYwNMskxOtfuW8nc2TghSexrG+AH7T3xe/ap1jUdP+HX7SH7KnjG+0iCO6vYNM8A6rNJbROxVJGH9tZCsVYA9yD6VUV7vKvX5dPzkEr6N/1t/wD7for5x/4QX9rf8A6Kh+zz/4bbVv/l1R/wAIL+1v/wBFQ/Z5/wDDbat/8uqnl8wPo6vmX9pj/lJh+y5/14eMv/SKyq5/wgv7W/8A0VD9nn/w22rf/Lqvnr9oPwb+03H/AMFBv2dI774ifA6XW5LLxX/ZdxB4B1OO1t1FpaeeJojqzNIWXbt2um0gk7s4FQjruI/ROivnH/hBf2t/+iofs8/+G21b/wCXVH/CC/tb/wDRUP2ef/Dbat/8uqnl8xn0dQDg184/8IL+1v8A9FQ/Z5/8Ntq3/wAuqwfibq37S3wY8C6h4m8VfGj9mvQdB0qMSXV7d/DrVkiiBIUDP9tcksQAoySSAASaLJa3GrvRHlPhr4U+PvAv7dXw88ECDw7rV5pnxB8S/EPUfF2n3jtqMHh29gu9llqERjAjZ57q3to1MrCRLJXVR5RCfoFXxh8NPG/xs8ZfBy7+JnhX44/so3Pgm6hn1O91+y+HepLassAYTyzSDWhho9jh9/zIUIOCMV2XhXTf2p/G/hfTda0n4t/s53+laxaxX1ldQ/DjVjHcwSoHjkU/21yGVgR7GrcbRUe3+Vl+C++76ibvLn7/AOd3+L/JH07RXzj/AMIL+1v/ANFQ/Z5/8Ntq3/y6o/4QX9rf/oqH7PP/AIbbVv8A5dVHL5gfR1fOP7FH/Jzn7WX/AGUqx/8AUV0Kj/hBf2t/+iofs8/+G21b/wCXVeDfsj+DP2nZf2hv2l10z4jfAuC+i8f2a6tJc+ANTmiubj/hG9GKvCq6spiQQmJSrNIS6O24Bgq0o+Yj9B6K+cf+EF/a3/6Kh+zz/wCG21b/AOXVH/CC/tb/APRUP2ef/Dbat/8ALqp5fMZ9HV8v/wDBUuLTB4K+DNxqAsRJa/GTwi1rLcbQYnOoxqShboxUkcc4JrS/4QX9rf8A6Kh+zz/4bbVv/l1XnH7Q/jn40fBaw0hviZ8a/wBlXR7W+vEWxbWPhrqhiWbcqrIS2skRgM6jzW2qpdQWBIpqNpRd9mn9zTGno13TX3qxxvxqOp/8JX8as7T8Uz8bPB6+Ew2Pta6ZjR/L8jv5Hk/2rvx8v/Hzu/ir9B2+9Xxxrl58dtO+MmnaVf8Axf8A2WV8btEsFp5vwz1M3kayh2SIS/2z8hkCyFYywLhWIBwa7n/hBf2t/wDoqH7PP/httW/+XVVb3FH+tkv0u/Niesub+t2/u10Po6ivnH/hBf2t/wDoqH7PP/httW/+XVH/AAgv7W//AEVD9nn/AMNtq3/y6qOXzA9U/ah/5Nm+Iv8A2K+p/wDpJLXNf8E+P+TB/gf/ANk/0D/0229ePftFeCP2rY/2fPHbX3xM+AM1ivh3UDcxwfDrVY5Xj+zSbwrHWGCsRnBKkA9j0rn/ANh3wV+1NP8AsU/B99I+JPwGtdJfwRorWMN58PdUnuIYDYQeWski6uiu4XALBFBIJCjoL5fd3F1PuCivnH/hBf2t/wDoqH7PP/httW/+XVH/AAgv7W//AEVD9nn/AMNtq3/y6qOXzGfR1fCX7QkOo2H7Un7YP/CBiGLx3dfAzSZrMWW0Xst4P7dWF8L8xkHyBT1+7jtXr/8Awgv7W/8A0VD9nn/w22rf/LqvOPCPjv40eKPj/rXhHR/jZ+yrcfEbT7TzdQs4fhrqi37W6MqMd39sgypG7KrbSwjZlDbSQKXs+Z2T6P8AGLX4XuVGXL73mvwaf42sb37If2AftgoPAvkHwAPg54e+2Gzx9mN99qufsm/HHn/Zd+c/NsKZ4219b18U/Arxp8ZfiN4g8U+H/h18a/2UNQv/AAxfMmv2mi/DbUx9iumZlbztmsgeYWjcE8k7T6V6R/wgv7W//RUP2ef/AA22rf8Ay6rWo+d39X97b/UziuXT0X3JL9Ln0dRXzj/wgv7W/wD0VD9nn/w22rf/AC6o/wCEF/a3/wCiofs8/wDhttW/+XVZ8vmUQ/8ABQ7/AJHz9mL/ALLNYf8Apm1ivptPuD6V8EftNeGfjto/xx/Zml+JfjP4VeIfDx+Ldmsdr4a8IX2k3i3B0jVtjmafUblDGBvyvlgkkYYYIP3un3B9K6KeiJZ80fsg/wDJ6v7W3/Y46D/6i2k19IV8N/D34H+PPin+3r+1Pd+EvjV4t+GNpbeKdChnsdJ0PR7+K8k/4RjSm85nvrWZ1bBC4VguFBxkk16p/wAMf/Gj/o7b4m/+Ef4V/wDlbWMlcaPpCivm/wD4Y/8AjR/0dt8Tf/CP8K//ACto/wCGP/jR/wBHbfE3/wAI/wAK/wDytqeXzGfSFFfN/wDwx/8AGj/o7b4m/wDhH+Ff/lbR/wAMf/Gj/o7b4m/+Ef4V/wDlbRy+YH0hRXzf/wAMf/Gj/o7b4m/+Ef4V/wDlbR/wx/8AGj/o7b4m/wDhH+Ff/lbRy+YH0hRXzf8A8Mf/ABo/6O2+Jv8A4R/hX/5W0f8ADH/xo/6O2+Jv/hH+Ff8A5W0cvmBxnxZ8Nax43/bz+O2j+HGntde1r4E2WmaXdiJ441vmu9XCATY2b0M0LEBsqHU45qt+xVplx4n/AGgfhfqmj2N3ZaL4J+CVv4W19JYGh+x6mbmzMVhIGA/fQLbXRZeqeYP+egzb0b4cfETX/jvrfw2tv2vviwfFfh3SLTXL23fwH4ajiS1uZJooXSVtLCSZeCUEITt284qj8K/B/wATPjJ421/RNH/ak+Pajw8xSTU774XaDZaVfkOYz9ku5dJWG6G5W5hZhxnOMVpT91K3n/7f+XO/uKm+a9/L8ofnyp/M+z6K+b/+GP8A40f9HbfE3/wj/Cv/AMraP+GP/jR/0dt8Tf8Awj/Cv/ytrPl8yT6Qor5v/wCGP/jR/wBHbfE3/wAI/wAK/wDyto/4Y/8AjR/0dt8Tf/CP8K//ACto5fMD6Qor5v8A+GP/AI0f9HbfE3/wj/Cv/wAraP8Ahj/40f8AR23xN/8ACP8ACv8A8raOXzA+kKK+b/8Ahj/40f8AR23xN/8ACP8ACv8A8raP+GP/AI0f9HbfE3/wj/Cv/wAraOXzA+kK+cfg9/ylU+O//ZPvBP8A6V+Iqb/wx/8AGj/o7b4m/wDhH+Ff/lbXg/wt/Za+LFz/AMFIPjNp8X7TvxDt9TtPA/hCa51RfCvhszX0cl1rwjhZDYGJViKOVKIrN577iwVMUloxH6EUV83/APDH/wAaP+jtvib/AOEf4V/+VtH/AAx/8aP+jtvib/4R/hX/AOVtTy+Yz6Qor5v/AOGP/jR/0dt8Tf8Awj/Cv/yto/4Y/wDjR/0dt8Tf/CP8K/8Ayto5fMD6Qor5v/4Y/wDjR/0dt8Tf/CP8K/8AytpR+x/8aCf+Ttvib/4R/hX/AOVtHL5geRf8FJP2cPGPizxh480z4d67Yajq/wC0HoekeE9R0G90yS5fRI7S5lzq8dwkirbwx29zOzCVTulii8vLvtP3VFH5MSpuZ9ihdzHlsdzXx78Gfh78QPj3pfiG+8N/tg/FWa38L65eeHNSe58CeGrQw3lowWdNsulqxVSeGxgjkEjmj4AeAfH37T3w1i8XeDP2xfihqnh+e+vbCG6PgnwxEJpLS5ltZiobTASvmwvhsYYAEcEVVvdt8/k9V+f49rDle9300+fX8vw9T7Eor5v/AOGP/jR/0dt8Tf8Awj/Cv/yto/4Y/wDjR/0dt8Tf/CP8K/8AytqeXzEfSFFfN/8Awx/8aP8Ao7b4m/8AhH+Ff/lbR/wx/wDGj/o7b4m/+Ef4V/8AlbRy+YH0hXj3/BQ3/lH/APHT/snuv/8AptuK5D/hj/40f9HbfE3/AMI/wr/8ra8s/bn/AGUfi9o37EnxjvL79qT4jaxZWngbW5riwn8KeGYor6NbCctCzx6esiq4BUlGVgDwQcGnGOqA+rP2Z/8Ak2/4ff8AYs6b/wCksVdvXyD+z9+yT8Yr74C+CJ7f9qz4k2VvN4fsJIrePwj4XZYENtGQgLacWIAwMsSeOSa67/hj/wCNH/R23xN/8I/wr/8AK2hx1A+kKK+b/wDhj/40f9HbfE3/AMI/wr/8raG/ZB+M6KSf2t/iYABkk+EPCuAP/BbU8vmBT/Zu0+21j/goL+1LbXdl59penwsAtxaN9nuwmmur7Sy7JNrYBwTg4Brpv2RrSf4g/FH4tfE+8gniXxJr3/CN6IJkKldJ0jfbKyggELJeNfyj1WRDXzp4E+KmseOvGHinRG/bG+NHh+58KaLL4llk1/4aaBpUGo6RE5SXUbSSbSlW4tkYAF0zjchxh1J7f4PeCfiN8bNU1fTtM/a0+MNjq+hx21xeabqngLwxZ3cVvcqzW9x5b6bzFKEk2sO8bqcMrKNbPfy/Xf8ABr7xyd9P60W35P7j7Kor5v8A+GP/AI0f9HbfE3/wj/Cv/wAraP8Ahj/40f8AR23xN/8ACP8ACv8A8raz5fMR9IV8y/tMf8pMP2XP+vDxl/6RWVWv+GP/AI0f9HbfE3/wj/Cv/wAra+e/2gv2XPixY/8ABQT9nSxuP2mviFe6hf2Xis2epSeFvDazaYEtLQyBEWwEb+YCAfMVsbRt2kkmoLUD9FKK+b/+GP8A40f9HbfE3/wj/Cv/AMraP+GP/jR/0dt8Tf8Awj/Cv/ytqeXzA+kK8/8A2nPjb4V/Zz+D9/408Y2891pWhSRzxRW+nS39xJc7tsIiijR337iMMF+XliQATXl//DH/AMaP+jtvib/4R/hX/wCVtZXjn9nH4v8Aw/8ACl5q93+1f8XbmGzQHyLHwL4Zurm4YkKsccSaYWd2YgAAdT2HNK1tblR3PBvEGn6l8RP2EvHEvwi8Oaf8Q9C8X6l4n8SePY5Jbzw/HNqVzbmVbe0hubTfcwIzpuwq+a1uuTmSRR9gf8E/31pv2GvhAviLRzoOsw+D9LhubAzmZoClrGi7mKIQxUKxUqCpJU5xmvmrwf4r8WePfhrpXiPS/wBrn413M2s6xd+HbfQz8OvDcetf2laGX7XaNatpgdJIRBKz5woVM7iCufSvh58Afif8V/A+l+JPD37YvxH1PRdZt1ubS6i8H+FtsqH2Omggg5BUgEEEEAgitX8LS2938E7fKz08u5N72v5/i9fxPqmivm//AIY/+NH/AEdt8Tf/AAj/AAr/APK2j/hj/wCNH/R23xN/8I/wr/8AK2s+XzA+kK+cf2KP+TnP2sv+ylWP/qK6FTf+GP8A40f9HbfE3/wj/Cv/AMra8H/ZJ/Za+LGqftC/tLwWf7TvxD02407x/ZwXtzF4V8Nu+qynw3oziaQPYMqMEdIsRhF2wqSNzMTUUI/Qiivm/wD4Y/8AjR/0dt8Tf/CP8K//ACto/wCGP/jR/wBHbfE3/wAI/wAK/wDytqeXzGfSFfK3/BWbxFDrP7MHijwNoviXRtL+IHiPR5p9I0S+0Q6r/wAJekRBOleUMMUuX2xMUbeokLDpmtn/AIY/+NH/AEdt8Tf/AAj/AAr/APK2uH+O3gL4nfs8+H7O+1f9qj466tJqE5gtrDw98MtA1q/mIUszi3ttKeTy1A+Z9u1crk/MMrlXVlwbTujgPH3g/wAU3w+KPg66066sviV4++K/g/xToiRxtIsOnwx6G80sUoGPJtBYX8bHOF2f9NF3foOxy1fEmoW3jXSvH8Phu5/bA+LkN41xZWFzM/gLwyttpt5eIHtbO4kOmYinlDLtQ85eMHBdA3pf/DH/AMaP+jtvib/4R/hX/wCVtay+G39aKK/JIzSs/wCu7f6n0hRXzf8A8Mf/ABo/6O2+Jv8A4R/hX/5W0f8ADH/xo/6O2+Jv/hH+Ff8A5W1ny+Yz1b9qH/k2b4i/9ivqf/pJLXNf8E+P+TB/gf8A9k/0D/0229eO/tE/slfGKw/Z98dz3P7VfxJvreHw7qEkttJ4S8LotwgtpCyErpwYBhkZUg88EGuf/Ye/ZR+L2s/sVfB+8sv2pfiNpFldeCNFmt7CDwp4Zkiso2sICsKtJp7OyoCFBdmYgcknJqre6LqfcNFfN/8Awx/8aP8Ao7b4m/8AhH+Ff/lbR/wx/wDGj/o7b4m/+Ef4V/8AlbU8vmM+kBya+MvF/wAQIPF//BQ/QfEvh/xBpHij4f8Ahfwn4l0jxRBa6K6Xnw+kXyZJbmK6jG8y3MsAjMJUsRGHjzhie9/4Y/8AjR/0dt8Tf/CP8K//ACtriY/BHj+58aeItFg/bF+J9w/g2Iy+Ib2PwZ4V+waEREJvLuJzpoRZfKIcxgllVlZgoYEiVnfyf5W/X/hil29Pz/r/AIJ0H/BOrS77wnr/AIr0bwv488QfEn4HQ6fplz4Q1PXXNxeaXcuJ1utPjumRXurdES2dTJueNpWjLNjC/U1fGnwb8HfEH463FzBov7Xfxbiu7a0ttSFtf+BPDFrNPY3O8214iPpgLQy+XJtbrlGBCkYru/8Ahj/40f8AR23xN/8ACP8ACv8A8rauom3r/X9bfnqQj6Qor5v/AOGP/jR/0dt8Tf8Awj/Cv/yto/4Y/wDjR/0dt8Tf/CP8K/8AytqOXzGR/wDBQ7/kfP2Yv+yzWH/pm1ivptPuD6V8EftM/AT4h/DD44fsz6j4q+OnjH4laY/xbs4F0nVdA0SwgjlbSNWKzCSytIZdygMApfad5yDgY+90+4PpXRT2Je580fsgDP7av7W3/Y46D/6i2k19IYr4Z8BfskaZ+0T+3r+1NqN742+LXheTT/FGhWqweE/Gt/oVtMP+EY0pt8kVu6q8nJG884CjoK9R/wCHYmgf9Fd/aY/8OzrP/wAerKSj1Y0fSuKMV81f8OxNA/6K7+0x/wCHZ1n/AOPUf8OxNA/6K7+0x/4dnWf/AI9U8se49T6VxRivmr/h2JoH/RXf2mP/AA7Os/8Ax6j/AIdiaB/0V39pj/w7Os//AB6jlj3DU+lcUYr5q/4diaB/0V39pj/w7Os//HqP+HYmgf8ARXf2mP8Aw7Os/wDx6jlj3DU+lcUYr5q/4diaB/0V39pj/wAOzrP/AMeoH/BMTQD/AM1d/aY/8O1rP/x6jlj3DUu6b4d1rSv+CmPj7xNL4d16Xw5J8LtJ0+DUI7Qm3vbqDUNSmltonyA0ojniOOM7+vBxz37BnwQg+GXxZ8Sav8PtH8ceCPg94g0W1kTwj4mhurYadrYmkaaWztbljJbRmFkWVVxE7qrIDh2Pi6/DzwhoX7Q0XgjxZ4l/bL8FaXrFrqV34f8AE+rfFXURputrpyeZefKl201vti3Sp58aeZGjMOgB6P4D/s/eB/jl4ks9KX4kftW6Fe634eh8XaJHffFnVt2q6RK4RbkBLg7GDNHvibDIJo8/eIGkErK3Z/i5PX8WvS/QJ3bbfl+CitPwv626n3dijFfNX/DsTQP+iu/tMf8Ah2dZ/wDj1H/DsTQP+iu/tMf+HZ1n/wCPVnyx7hqfSuKMV81f8OxNA/6K7+0x/wCHZ1n/AOPUf8OxNA/6K7+0x/4dnWf/AI9Ryx7hqfSuKMV81f8ADsTQP+iu/tMf+HZ1n/49R/w7E0D/AKK7+0x/4dnWf/j1HLHuGp9K4oxXzV/w7E0D/orv7TH/AIdnWf8A49R/w7E0D/orv7TH/h2dZ/8Aj1HLHuGp9K4r5x+Dw/42qfHf/sn3gn/0r8RVB/w7E0D/AKK7+0x/4dnWf/j1eEfC7/gnnoeof8FHfjJoZ+J/7QscemeCPCN2t3H8TtWS7nM11rwKSzCXfIi+UCisSELykffNUlGz1EfoZijFfNX/AA7E0D/orv7TH/h2dZ/+PUf8OxNA/wCiu/tMf+HZ1n/49U8se49T6VxRivmr/h2JoH/RXf2mP/Ds6z/8eo/4diaB/wBFd/aY/wDDs6z/APHqOWPcNT6VxSgc180/8OxNA/6K7+0x/wCHZ1n/AOPUo/4JiaAT/wAld/aY/wDDs6z/APHqLR7hqcX8G/gp8Tdd+D3xu0TRLS18Jan4j+L+ratH/wAJVYXItdY0aWaFmCeS6SbJ0QpuBztLDAzXZ/8ABKj4ZfET4S/sy6npHxI0zRNI1U+M/El7aWum280KrbT6xdzI5WRm+R/M3x4xiJ4gRuDV4ZpHw6+HOp/Crxh4pl+Iv7XGnjwn41l8AjT7r4r6mt3qWqC6htIki23RQLLNPGFZmGFOW24Ndv8AAr9j7wp8bY/Etr/wsz9qTQ/EHgzVm0TXdKuvi5q7yWVz5MU6FXScrJHJDPFIjjqHwQGBA0SXLo+i+5KP/A+/zHUbcnzfzN/O8v8Ag/d5H2jijFfNX/DsTQP+iu/tMf8Ah2dZ/wDj1H/DsTQP+iu/tMf+HZ1n/wCPVnyx7i1PpXFGK+av+HYmgf8ARXf2mP8Aw7Os/wDx6j/h2JoH/RXf2mP/AA7Os/8Ax6jlj3DU+lcV4/8A8FDRj/gn/wDHT/snuv8A/ptuK4r/AIdiaB/0V39pj/w7Os//AB6vLf25f+CcWh+Fv2JvjFqkfxU/aKvJNN8D61drb3vxR1e5tpzHYTsElieUrJGcYZWBDAkHg04qN1qLU+sf2Zx/xjf8Pv8AsWdN/wDSWKu2xXx5+z//AME1tB1j4DeCLtvix+0jAbvQLCYxQfFXWI4oy1tG21FEwCqM4AAwBXXf8OxNA/6K7+0x/wCHZ1n/AOPUNRvuGp9K4pHOxGJDEAEkBck/h3r5r/4diaB/0V39pj/w7Os//HqB/wAExNA/6K7+0x/4drWf/j1Llj3GcFpdxpv7d/xW+IFj8QfhH8aPCum614P1PwdbXeraENOtdP0eV1+0PHOJXdru6dIJFVEOxIIxjKvnr/2Ev2ePHHhb41ePPiJ441vXdXTUtH0nwd4a/tmzgs9Sn03TvtEjXl1DAqqkk9xdSlVID7I1ZghfYvj1n8ENIT4t+LfB+oaj+2tY6hoXh2TxRpBT4qajcf8ACTWqTG3McIS7JhuGl2hYp9hKyBsgB9r/ANm74CWXx3+K/ibwbrV1+2j8OdZ8L6ZZarcjXPjFPcRyR3bzJEitZ6hOA5+zykq2DgA9xWkVFJcvb/5K79fi+9hO+vN3/wDkbfL4fuR+gOKMV81f8OxNA/6K7+0x/wCHZ1n/AOPUf8OxNA/6K7+0x/4dnWf/AI9WfLHuGp9K4r5l/aYH/GzH9lz/AK8PGX/pFZVL/wAOxNA/6K7+0x/4dnWf/j1fPn7QP/BPXRNH/wCCgX7Oujr8Tv2gp49asvFTPcz/ABM1WW7tfJtLRgIJjLviDbsOFI3gKDnAqoqN9GLU/RjFGK+av+HYmgf9Fd/aY/8ADs6z/wDHqP8Ah2JoH/RXf2mP/Ds6z/8AHqnlj3HqfSuK574reNYfh54Cv9UubPxHfQRhYnj0LTpb+/USME3xwxKztt3bjtU4AJwcV4X/AMOxNA/6K7+0x/4dnWf/AI9XO/Fv9hfwN8Efhnrfi3xD8aP2k7HRtAtXu7maT4vatGAB0UM86qGZiFG4gZYcik1Fa3Gr3sed/s9fs8fET4NeLPhr418Qr4y8V+F/BnjLxgbEX+niXxKNI1eGN7W7vYYkDyzi5jmQkp5vlXMZcDD4+lP+CfXwh1z4H/sleGtB8SW/2PWmuNS1W5tNwb7Cb3ULm9WAkZG6NbhUOCRlTg4r5wT9n7w94b/Za1/4p+NPFH7Xvgmy0K0nvRpN18YrvUL/AFCKOPfGYDZXs0LmY/LGokyT1wDmvQPhH+wT4X+MHwn8L+LbP4q/tP2tn4p0i01iCCf4tax5sMdxCkyq2JyNwDgHBIyK2la1r7WX4fm7aiu2r9G2/wCvvPrbFGK+av8Ah2JoH/RXf2mP/Ds6z/8AHqP+HYmgf9Fd/aY/8OzrP/x6suWPcNT6VxXzl+xQP+Mnf2sv+ylWP/qK6FVf/h2JoH/RXf2mP/Ds6z/8erwj9kv/AIJ56H4j/aE/aWsm+J/7QtquheP7OzSW1+J2rQy3Ybw3o0u+d1lBlkBkKh3JIRI0zhBVJR7iP0MxRivmr/h2JoH/AEV39pj/AMOzrP8A8eo/4diaB/0V39pj/wAOzrP/AMeqeWPcep9K4r5d/wCCjfwg0b4422n6TD4a+I4+J1hpV5d+A/GHhiK5gHhzUWKBA95EwiiDOsTOlwPKkjRgd33au/8ADsTQP+iu/tMf+HZ1n/49Xjv7U/7N1t+zbB9osLn9tPx/p9pptxq2q3+i/F+4trTSIIRk+bJeX8AZiodtse4gIScZXJaCd2/6/QqPNfRf1+voXfGv7NPj+/tfiR8P7rS7+91j4mfEvwv41TxHawEadDa2qaM187S9InifSp1SIkMwmh2ggnH3W3J6V+c3hXwr8PfE8GmXz+O/2u9N0WSfRdO1i+vPixqiDw9qOrQW81pZXCC5J3gXdqsjJlY2uIxk/MV+g/8Ah2JoH/RXf2mP/Ds6z/8AHq1mtOV9H27JL8kvzMlvddv1bv8Afc+lcUYr5q/4diaB/wBFd/aY/wDDs6z/APHqP+HYmgf9Fd/aY/8ADs6z/wDHqy5Y9y9T1v8AahH/ABjN8Rf+xX1P/wBJJa5v/gnwP+MBvgf/ANk/0D/0229eL/tEf8E19B0X9n7x1eL8V/2kJ2tPD2oTiK4+KusSxSFbaRtroZsMpxgg8EVgfsP/APBOLQvFP7Ffwg1OT4qftFWb6l4J0W6a3svijq9vbQGSwgYpFEsoWNBnCqoAUAAcCqtHl3F1PuXFGK+av+HYmgf9Fd/aY/8ADs6z/wDHqP8Ah2JoH/RXf2mP/Ds6z/8AHqnlj3HqfSyjDCvzGsv2FfinffCLVPh5oN3470fxd4jufHsHxAutQu528OeI4NUiv3sruLexh85p5bAo0IEkaLOknC4P1IP+CYmgE/8AJXf2mP8Aw7Ws/wDx6vAfh/4R+GXxC+Or+DLf4nftVQwPq+uaBb6rJ8XdUMLX2jKjX6Sxi48yBFDjZJIAHwOgeMuckXdX6P7tL/p95cZyjZpdV9+tv1fyPev2a/AviDxf+1Z/wsW88P6t4W0fTfhnpfg5rLUbY280uoLdTXNwqKfvRwAxoJB8jGRthYAmvpjFfC/7Mn7MGg/tP2Opavp3jD9rHS/CaMDouv3Hxqubq08SwlnAmtxa30rouFBxMsbDeAVyCB6n/wAOxNA/6K7+0x/4dnWf/j1aVGpO7f8ATbf5syiraLyX3JL8kfSuKMV81f8ADsTQP+iu/tMf+HZ1n/49R/w7E0D/AKK7+0x/4dnWf/j1Z8se5Wov/BQ/jx5+zF/2Waw/9M2sV9Np9wfSvgT9pX9jTS/2fvjn+zPrtl47+MXiaaX4t2dmbTxV451DW7FQ+kasS4guJGQSDbw+MgFsHk199p9wfSt6duhLPmn9kBCf21P2tTg4/wCEy0IZx/1K2k19IbD6H8q8K+MX/BM34DftAfErUvGPjH4Y+Hdc8UayIhfalKJUnu/KiWKPeUdQxWNEQEjooHauZ/4c2/sxf9Ee8Nf9/bn/AOO1i+V7j1PpvYfQ/lRsPofyr5k/4c2/sxf9Ee8Nf9/bn/47R/w5t/Zi/wCiPeGv+/tz/wDHaVoj1PpvYfQ/lRsPofyr5k/4c2/sxf8ARHvDX/f25/8AjtH/AA5t/Zi/6I94a/7+3P8A8dotENT6b2H0P5UbD6H8q+ZP+HNv7MX/AER7w1/39uf/AI7R/wAObf2Yv+iPeGv+/tz/APHaLRDU+m9h9D+VAQ56H8q+ZP8Ahzb+zF/0R7w1/wB/bn/47R/w5t/Zi/6I94a/7+3P/wAdotENTnvF/gX4pftO/G7xbo/jb4O3Hh/wrqei6x4R0TxO3iuwuY9H0+7t2jkvFtI8zG6uGWMEcCONVXd9/d0X7L37OnjPSvjJ4J8U+LdMh0P/AIV38M4/AKQx3Mc41S7ee2kuLqLYTttwtlFs37XPmtlV28p/w5t/Zi/6I94a/wC/tz/8do/4c2/sxf8ARHvDX/f25/8AjtWpRW39aNf+3MG29P66f/Ir7j6b2H0P5UbD6H8q+ZP+HNv7MX/RHvDX/f25/wDjtH/Dm39mL/oj3hr/AL+3P/x2otENT6b2H0P5UbD6H8q+ZP8Ahzb+zF/0R7w1/wB/bn/47R/w5t/Zi/6I94a/7+3P/wAdotENT6b2H0P5UbD6H8q+ZP8Ahzb+zF/0R7w1/wB/bn/47R/w5t/Zi/6I94a/7+3P/wAdotENT6b2H0P5UbD6H8q+ZP8Ahzb+zF/0R7w1/wB/bn/47R/w5t/Zi/6I94a/7+3P/wAdotENT6b2H0P5V85fB+Fx/wAFUfjs21sH4feCeccf8ffiP/A/lVH/AIc2/sxf9Ee8Nf8Af25/+O1Gn/BGH9lyO5eZfgv4TWeRQrygziRwM4DN5mSBk4BPGTjqaa5UrC1Pp/YfQ/lRsPofyr5k/wCHNv7MX/RHvDX/AH9uf/jtH/Dm39mL/oj3hr/v7c//AB2laI9T6b2H0P5UbD6H8q+ZP+HNv7MX/RHvDX/f25/+O0f8Obf2Yv8Aoj3hr/v7c/8Ax2i0Q1PpvYfQ/lQFOeh/KvmT/hzb+zF/0R7w1/39uf8A47R/w5t/Zi/6I94a/wC/tz/8do90NTJ+G37Ht14g+Bfxy8L/ABK8H6jcWPjL4lan4r0e20zVYkvZY3uLeexuoZ45F+zzxzQpICWUoyA8iu+/YT/Zd1j9nTwn4w1PxRqd1q/jL4keI5fEmrvNeNemyHkw21rZidgpl8m1t4UZ9qhn8whQpAHL/wDDm39mL/oj3hr/AL+3P/x2j/hzb+zF/wBEe8Nf9/bn/wCO1ScUrLsl8lb/ACX3BJuTu+7fzd/82fTew+h/KjYfQ/lXzJ/w5t/Zi/6I94a/7+3P/wAdo/4c2/sxf9Ee8Nf9/bn/AOO1NohqfTew+h/KjYfQ/lXzJ/w5t/Zi/wCiPeGv+/tz/wDHaP8Ahzb+zF/0R7w1/wB/bn/47RaIan03sPofyrx7/goap/4YA+OnB/5J7r/b/qG3FfIH7Wf7Dnwc/Zr8T+GRB+zV8NtT0Hxj400fwVpV1P4ivoblpr/g3MkSo4WONwV27yzbSeOM7M37G/7GfhyPU/Cvj/wB8G/DvxD0zT7q81XQG1q5vLe0tUSeWO4mYlWFvJbwmUl0GF3jkqaa5Uuft+iT/Jodne3f/hj7R/ZoRh+zh8PuDx4a00dP+nWKu22H0P5V8h+Fv+CUP7KjfCfTfEd98Lvh7Bpp0iLUri/tbu4XTI4jCJGljkaQYg25ZWbHy4JxXCXH7Mf/AAT8stBv9TuNH+F9pZaVdWtlevcahcQm1nusG2jdWkDK0wIMYI+cEFcg05RjzNMlXauj732H0P5UBCex/KvhjR/2OP2Dtf1aCxs/DXw3nurm2e6iQX1yN6pbC7dcmTHmLbETNHnesZ3FQOawbX4F/wDBOi+iDxRfB50LWQDDWZdpF5/x6vnzceXJ0En3M8Eg8UuRXsPU9u+EfwN8Ta9+3jefGBvDvij4dWF54Yn8P+INK1LXor+HxLcrcxNY3MVvDNLFCtvGlz848tn+14KcE13v7LPwp13wjqPxE8VeKrSO08S+P/FNzqDRLIsptdOtwtnp8JZSR/x7QJKQDw9xIOua8Q03/gnP+xhrHxMl8G2vgHwPceJoRLv0+O4uTIDEEMqg+ZtLIJYyyg5XeuQM113/AA5t/Zi/6I94a/7+3P8A8dp3Sil0tb73f8wd23fv+St+R9N7D6H8qNh9D+VfMn/Dm39mL/oj3hr/AL+3P/x2j/hzb+zF/wBEe8Nf9/bn/wCO1NohqfTew+h/KvmX9phGP/BTD9l3g8WHjLPHT/QrKk/4c2/sxf8ARHvDX/f25/8AjtRS/wDBF/8AZbnuop3+C3hKSeDcIpX89pIt33trGTK5wM4POBmmuVC1PqDYfQ/lRsPofyr5k/4c2/sxf9Ee8Nf9/bn/AOO0f8Obf2Yv+iPeGv8Av7c//HaVoj1PpvYfQ/lXH/Hjzx8LdRSLwKPiQk5ihuPDzSWqC/haRRJxdFYW2KS+x2G7bgHJFeKf8Obf2Yv+iPeGv+/tz/8AHaP+HNv7MX/RHvDX/f25/wDjtK0QTaPONR/4Jn+Mbb9mTX/DngTxLJ8NLWTUfEOr6B4NWztdTsNLTULQQxWKs5MduEc3LqISY4jeyKuQimvpb9jH4X+I/gt+yT8NvCPi2+TU/Enhrw3Y6bqE8cKRoJYoEQxqE+UhMbAw+9s3d68w/wCHNv7MX/RHvDX/AH9uf/jtH/Dm39mL/oj3hr/v7c//AB2r5o2cfT8FZfmDbe/n+J9N7D6H8qNh9D+VfMn/AA5t/Zi/6I94a/7+3P8A8do/4c2/sxf9Ee8Nf9/bn/47U2iGp9N7D6H8q+cv2KoXX9pv9rHKsM/Eqwxkdf8AildCP9R+dUf+HNv7MX/RHvDX/f25/wDjtMh/4IxfsuW8kjx/BjwnE8zb5WQzq0rYAyxEmWOABk84AHamuVC1Pp7YfQ/lRsPofyr5k/4c2/sxf9Ee8Nf9/bn/AOO0f8Obf2Yv+iPeGv8Av7c//HaVoj1PpvYfQ/lXk/7aPwv8QfHD4J/8IRolvvtfF2q2Om6/P56wm00Yzq9+wzyxeBHhCjnMwPQGvPP+HNv7MX/RHvDX/f25/wDjtH/Dm39mL/oj3hr/AL+3P/x2j3b3DU5r4l/sWeLfEOt/EjwbZ2MT+Evif8RtC8eya39pjT+y4LP+zGurRos+YZS+loItqldtzyy+WQfsAqSeh/KvmT/hzb+zF/0R7w1/39uf/jtH/Dm39mL/AKI94a/7+3P/AMdqrrlUb6L/ACS/JIXW/wDW9/1PpvYfQ/lRsPofyr5k/wCHNv7MX/RHvDX/AH9uf/jtH/Dm39mL/oj3hr/v7c//AB2ptEep7D+1AjH9mf4i8HnwvqY6f9Oktc1/wT4Q/wDDA/wP4P8AyT/Qe3/UNt64GX/gjP8AsvzxMknwb8LyI4KsjvcMrA9QQZMEUlv/AMEZP2XbO3SKH4M+FYYYlCRxxtcIkajgKqiTAAHQDpT921han09sPofyo2H0P5V8yf8ADm39mL/oj3hr/v7c/wDx2j/hzb+zF/0R7w1/39uf/jtK0R6n02FOeh/Kvhf4Y/sbfEz4bfty+IPi5D4eg/tnXbjxDF4x8i9tU0rx3pJQnQYIYSS1vexbLaKSZ1QMqTeY0oaPHpv/AA5t/Zi/6I94a/7+3P8A8do/4c2/sxf9Ee8Nf9/bn/47Tjyxd0+jX3hd25f60NP9jX9mZPhT8V/HnjjS/Ay/CXR/H1npv2jwbBNbNEuowCfz9QaO1ZraKWVJYYj5TZkFsrvyRX0RsPofyr5k/wCHNv7MX/RHvDX/AH9uf/jtH/Dm39mL/oj3hr/v7c//AB2huLEk1qfTew+h/KjYfQ/lXzJ/w5t/Zi/6I94a/wC/tz/8do/4c2/sxf8ARHvDX/f25/8AjtK0R6k3/BQ8EePP2Yv+yzWH/pn1ivptPuD6V89/DL/glr+z78G/iHpHivw18K/Del+ItAnN1pt+glklspSjJ5ib3IDbXYZxnDH1r6ET7g+lbUmtkSzifE/7QPgLwRr0+l61438H6Rqdrt86zvtZtre4h3KGXcjuGGVIIyOQQaof8NV/C7/opPgD/wAKKz/+OV4r+zHo9nefts/tayTWlpM//CY+HxukhVz/AMitpfcivfP+Ee07/oHaf/4Cx/4VzNpaGsY3VzN/4ar+F3/RSfAH/hRWf/xyj/hqv4Xf9FJ8Af8AhRWf/wAcrS/4R7Tv+gdp/wD4Cx/4Uf8ACPad/wBA7T//AAFj/wAKXMuxXIZv/DVfwu/6KT4A/wDCis//AI5R/wANV/C7/opPgD/worP/AOOVpf8ACPad/wBA7T//AAFj/wAK+EPGX/BUKLRv28vHnwO1GTwH8NPGOjarYWvgnSvF+iSR2fj6xlSBpbqHUQyxpMzPMkUWMbo0B3szBHD35ciWpMo8seZ7H27/AMNV/C7/AKKT4A/8KKz/APjlH/DVfwu/6KT4A/8ACis//jleH33/AAUs/Z5tPiD4+8NL4isZ9T+G2n6nqmspBokkqeRphUaiIHWPFxJal1EqR5YEnAOGxwHj3/gs98AND/Zp+J3xH8Nwap4sj+GOgad4gutMj8NTWNxe22pIDp80fnxL+4lJAMvRBkkdMrmXLzW03/r7n9zK9m72+Xz0/wA196Pq/wD4ar+F3/RSfAH/AIUVn/8AHKP+Gq/hd/0UnwB/4UVn/wDHK8R0n/gor8EZ/i54R+HmpX9to/j7xdbWLRaPc6LJGbK6vbaS5trKd2jCxXE0cMzRxvhmCDoWUHL+Dn/BVb9m/wCO3iQaZoXiFIXbSNV11bnVfDVxpto9rpkpi1BhNNEqEwMCXAPCjPNU9HZra/4b/cSkmrp9vx2+/ofQX/DVfwu/6KT4A/8ACis//jlH/DVfwu/6KT4A/wDCis//AI5Xz8P+Cp/7O4+ENz42k1eS30eHUbTS4objwxcQ31/Pd2Yv7X7PbtEHlSWzPnqy8eWGJwQRV79r/wDau034ff8ABNHxl8fvhaPCXiO10rwk3i3Qbi707zrHVIAgkUMqmNwGU4PIZT1GQRUzfJFyknZb/dft21HGHM0k99vy/M9z/wCGq/hd/wBFJ8Af+FFZ/wDxyj/hqv4Xf9FJ8Af+FFZ//HK8y+F3x+0HS/2EvDPxk+JkvhfQNPm8HWfivxBfR2AhsrBZrZJ3CId74UvtUZZmOO5xXER/8FVv2dZvBPh/XYtWuLi38TeJbzwdZ2tt4Vubi9TWrWPzZtPlgjiZ4pgmGAYAMGGDzVT9yUoNarf77fnoTC04xmno9vuv+Wp9Cf8ADVfwu/6KT4A/8KKz/wDjlH/DVfwu/wCik+AP/Cis/wD45XzZrX/BX/8AZl0b4aaL4uHiE6homt+FZPG4fT/DFxdTWGix3S2b3t1EsW+FBdMIcMNxcNgYUkec/tXf8FedH8A6P+0Fpfw+8DPceJPgj8PbHxudQ17QXj026kuwZYrZ1Gxgpg2kMWUszMFB2NSel7ra/wCF7/k/mrblKKdtd7fja35r7z7Z/wCGq/hd/wBFJ8Af+FFZ/wDxyj/hqv4Xf9FJ8Af+FFZ//HK8o/Yq/a/8AftoeEL/APsOG3HinwlBp0firTJ9EksW026u7KO6TYsyBmhdXJRxkEDrXtP/AAj2nf8AQO0//wABY/8ACnNckuWSJp2nFSizN/4ar+F3/RSfAH/hRWf/AMco/wCGq/hd/wBFJ8Af+FFZ/wDxytL/AIR7Tv8AoHaf/wCAsf8AhR/wj2nf9A7T/wDwFj/wqeZdi+Qzf+Gq/hd/0UnwB/4UVn/8coH7VnwuP/NSvAHHB/4qKz4/8iVpf8I9p3/QO0//AMBY/wDCvn34UaPZn/gqH8c4TZ2hgT4f+CpFiMK7FY3OvgsFxgEgAE9SFHoKLoXIe4f8NV/C7/opPgD/AMKKz/8AjlH/AA1X8Lv+ik+AP/Cis/8A45Wl/wAI9p3/AEDtP/8AAWP/AAo/4R7Tv+gdp/8A4Cx/4Ucy7D5DN/4ar+F3/RSfAH/hRWf/AMco/wCGq/hd/wBFJ8Af+FFZ/wDxytNfD2m7hnTtPxnnFrH/AIV8UftC/tQfF34Mft8fAn4OCP4TC2+Oc/iaSO8/4Rmad9Ct9PiM1mM/aVE7uhTzThACW2jgU4vmfKl/W4ezsnK+x9if8NV/C7/opPgD/wAKKz/+OUf8NV/C7/opPgD/AMKKz/8AjleD3X/BQL4X/C74qWXwn8cN5vxis7PSjrOl+H/CF9e2iy33yRzxyJE4W1MoI3u+I8qHIJroP2C/j1pn7T37Gfh/4majqvgXXob5b+W71rRdFuNL0spb3U0bMsN4PPj2JHhy/VkYj5SKLqzl0XUnl1S6s9Y/4ar+F3/RSfAH/hRWf/xyj/hqv4Xf9FJ8Af8AhRWf/wAcr528J/8ABV/9nfxtbavcafeapLaaN4On+IUtw3hC6SKbw/FLJE2pRExfvIi8UgUAb22/d5GaU/8AwWE/Znh8Dv4iGs3r6X9hl1W3b/hD7yN9QsYbOO9uLy3V4VM0EMEqNI6ZCk7eTxRtuv62/NP7mHKu/wDWj/Jr70fS3/DVfwu/6KT4A/8ACis//jlH/DVfwu/6KT4A/wDCis//AI5XgHxw/wCCpX7PH7POrmy8R6tP5o8J2vjsyad4Uur+EaFcTLDHqBkihKiHe6hskFcjIp9p/wAFRP2er06zGmrlL7RPEOn+FpLCfw5NbXlzfX9s11ZLDHLGpkSe3R5EccMq+pAJr2/q9u3fT10Cy7/1a/5a+mp75/w1X8Lv+ik+AP8AworP/wCOUf8ADVfwu/6KT4A/8KKz/wDjlP8ACkmieM/C+m6xY6db/YtVtY7y3+0acIJRHIoZd8bqGRsHlWAIPBANX/8AhHtO/wCgdp//AICx/wCFK6WjQ1C6umfPf7cuu+Ff2j7H4Wx+Gvin8IbVvA3xE0bxlfHVPFEMYnt7GRnaGLy9/wC8fdgFsAY71g/ECz8M+J/iV+0drFt8Vvg3HZ/F/wAC2PhjR/O8TxCWzuLe21CJpLkDIERN6CNhY4Q8c8fUX/CPad/0DtP/APAWP/CvJ/2+dCsYv2D/AI3uljZI6fD7xAysluispGm3BBBAyDQnFr2bWjb/ABSj+SKV4yU1urfg7/meBfHLSPhd8Nv2KPFF5rXxesPEWs6f8Lm8K3vhu38bS3/hm5dNOW0aRNNikVyMrvLIokA3MBurx74A+NNN/aT0O5b/AIWP8AdU1SPxZ4O8Tal4xh8c3M6arHot1FIthItxaQETCGMlDGhG6VjIQxGf0I/Z30ezk/Z/8ATNZ2bzN4a0x2kaBWdmNpESxJGSc967K40izu33S2VlIemXt0J/lWvt2qjn5p/NNv8ANkKkvZqC818mkvyR8J/E7wJqPjr9p+Dxafi1+zzd6NofjXUPEGkPN4sNrcLp95oNxphtXt4gYBPHLMZGny7zKFBZAoWuR139kyx1T4HXPheP4w/AFL6X4F6P8K0nPiZfLF7Z3jzyXB+XP2dlbgfe3Dkd6+hv+CtH7UmsfsD/ALC/ij4p+EPC/g/WtU0C6sLc2+sQsIAl1dxW28LGAXZTKG2llBAPPavo+08O2M9hDKdN0/54kdiLVMZKgnt71MJ2i5JeX3Rt+UvvfcuV3OLe+6/8CT/NHyz8ModC8F/tpXvxBtPir8JvCvhjVpb+fxBo+meNVvbTxTNLHElreNaTYjsr2MRkSzwN+/XaGU5yv0r/AMNV/C7/AKKT4A/8KKz/APjlef3/AO0/8NpfjvrPwtsHgu/Hei28TXttBoxng0uS4tZbm2Fw6rhA8cTMCSF+6u4Myg/N/wCyH/wU4Hx3/wCCYsfxX8V6V4Z8N+O5fCGv+KLiW08NXd54f0mGwvbq0jnuBHvl2kwBjEH8yQLLsBCnEupeF7aRX4a/5P5Eql71l1f52PtD/hqv4Xf9FJ8Af+FFZ/8Axyj/AIar+F3/AEUnwB/4UVn/APHK+Ypv+Cr3wN+GHgrw0njfWYrrxDd/D7TPiHqdxoPgvUJtPGk3IRG1NP3LNFaCVjkSnfGpG4Zr6n0i10TxBpFpqFhb6ReWN/AlzbXEMEbR3ETqGR1OOVZSCD6GnJcraa20/Tt5P7iYpNKz31/J/qvvRV/4ar+F3/RSfAH/AIUVn/8AHKa37WHwsWRVPxM+HwZ87QfEdnlsdcfvK1P+Ee07/oHaf/4Cx/4V84/tG+HdP/4eRfsv/wDEvsP+PDxrkC3TB/0Cx9qI2k7FOFj3z/hqv4Xf9FJ8Af8AhRWf/wAco/4ar+F3/RSfAH/hRWf/AMcrS/4R7Tv+gdp//gLH/hR/wj2nf9A7T/8AwFj/AMKnmXYfIZv/AA1X8Lv+ik+AP/Cis/8A45R/w1X8Lv8AopPgD/worP8A+OV8vf8ABWX9oH4u/sbfBX/hZHwx8M/CnWfD/hq6sI9V0fW7OeXVvE0t3ex2qWVh5O1YpMyqQzBy5bAUbfm+gvjn8WvA/wCzN8Gb/wAe+PV07w34d0pLc3s0tokhgknkSKOH5V+ZjLIiDtk5JA5pppx5rdbC5Pe5Tf8A+Gq/hd/0UnwB/wCFFZ//AByj/hqv4Xf9FJ8Af+FFZ/8Axyvlf4u/8FB7fwP+2l8C/CWn6Doy/Dn4l+HfFOs61dalockGr6c2jRF/3SEjhmBGCjbwAUJDA1seKP8AgoD4I+Hf7QPjW28Sajomk+CfBnwutfiHf6TP4O1CPxHp9u9yyyXkpKeU0AjKr5Cr56OrbhgU7aKTWju/uv8A/IsXLq16fjb/AOSR9If8NV/C7/opPgD/AMKKz/8AjlH/AA1X8Lv+ik+AP/Cis/8A45Xmf7NH7ZXwj/a58QazpPgic3Gq6FYWGrXNnqXh+bTJ5LC+i820vIknjQyQSrna65GRg4OK9e/4R7Tv+gdp/wD4Cx/4UnpugUU9mZv/AA1X8Lv+ik+AP/Cis/8A45SJ+1h8LHZgPiX8PiUOGA8R2fynrg/vK0/+Ee07/oHaf/4Cx/4V89/saeHdOH7S/wC1j/xL7Dj4l2AGbZOP+KW0T2pcyHyHuX/DVfwu/wCik+AP/Cis/wD45R/w1X8Lv+ik+AP/AAorP/45Wl/wj2nf9A7T/wDwFj/wpV8PadnnTtPx3xax/wCFLmXYfIZn/DVfwu/6KT4A/wDCis//AI5R/wANV/C7/opPgD/worP/AOOV8o6H+2J4l0v/AIK+2f7P+s3Pwf1DRNa8JXfiIWNpp09lrOiyROBBEsszGO+aVCzssaIUVHbACjd7t8Z/2mfhn8AfiR4d8IeI9g8TeKbWe/0/TLHRzeXEtrBJFHLOVRSdivNGDjJwWbG1WIpNNRaW+3ybT/JkuNm0+n6pP9TuP+Gq/hd/0UnwB/4UVn/8co/4ar+F3/RSfAH/AIUVn/8AHK+Zf2Sf25j8Wf2hPjb4K8YeHdIA8CfE4+A/DR0LQ5Jp76IWX2syXQBcJsQNul+SMcZwWGcz4I/8FRfhnL8HvCereNdY0jxDrPj7xTrvh3w8vhDwNqZXUZrCaT/QxbyRNMLhIlUMWwjuGKHFF1a9uif32t+aHyWbXZtfdf8AyZ9W/wDDVfwu/wCik+AP/Cis/wD45R/w1X8Lv+ik+AP/AAorP/45XP8A7Pfxh+H/AO1T8GdB+IHgOfS9e8J+JIWnsbxbERM212jdHjdQ8ciOrIyMAVZSDXZf8I9p3/QO0/8A8BY/8KHo7NAo3V0zNb9q34WopJ+JXw/AAySfEVnx/wCRKRP2rvhbIgZfiX8P2VhkEeIrPBH/AH8rnv2k/D2nH9m/4if8S7T/APkVtU/5dk/585vauc/YK8PacP2E/gj/AMS+w/5J94f62yH/AJhlv7Uactxcutj0X/hqv4Xf9FJ8Af8AhRWf/wAco/4ar+F3/RSfAH/hRWf/AMcrS/4R7Tv+gdp//gLH/hVTXk0Pwvol1qN/aafBZWUZlmf7GjEKOwULlmJwAo5JIA5NTzLsV7Mg/wCGq/hd/wBFJ8Af+FFZ/wDxyj/hqv4Xf9FJ8Af+FFZ//HK8B/4Jm/tVan+3J4Q+K2s6/wCC9I8MN4L+JeseDLDTltVM8NtY+Sg+0Mchpy7OW24UZAHTJZ8ef29vA+h/CT45y/D5NM1zxn8HNE1q5uFuNEeTSotR022WeW0mlXaNw8yMFdylstsLbGwTkoK7XTm+Vk/1QU6fPLli+vL872/NH0D/AMNV/C7/AKKT4A/8KKz/APjlH/DVfwu/6KT4A/8ACis//jlfIHiP/gpHYWX/AATQsfitdHwl4P8AGC+EvDPiDV9Q1PwpfX/hrSp9WMBEX+jBpZCRIwCIzNHviZ8Kcn0fxP8A8FN/2f8AwX8ZNX8Carqc9lr3h3XdN8NaxLJ4Vuhp2lX+ox+ZYpPd+V5KLOOEcttzwSK2lTlGbg1qnb53t+bRmrOKnfRq/wCp7x/w1X8Lv+ik+AP/AAorP/45R/w1X8Lv+ik+AP8AworP/wCOVpv4c09GIOm6eCDgj7LH/hSf8I9p3/QO0/8A8BY/8Ky5l2NOQh0D9oz4e+K9bttN0vx54L1LUb1/Lt7S01y1mnuGwW2oiuWY4BOAOgNdyn3B9K+Sf27NFsrb4i/sxyRWVnFIvxm0/DRwKpH/ABJta7gV9bJ9wfSuij3RlNWdj4D8NftwfCv9lr9vf9qXSPH3i6Lw9qOp+KNBvbaF9PvLkywjwzpib8wxOB8wIwTnjp0z6H/w97/Zw/6Kdbf+CPVP/kauj/ZAkI/bT/a1GTgeMtCIGf8AqVdJ/wABX0hvPqazko9Rxk0tD5M/4e9/s4f9FOtv/BHqn/yNR/w97/Zw/wCinW3/AII9U/8AkavrPefU0bz6mp9wrmkfJg/4K9/s4f8ARTrb/wAEeqf/ACNXyv8AtR/FH9nD9sbwprnhP4gfHXQfEPhXVPE6+ItMuLnwJqR17whGs8UxtNOvRH8isY2XzGQsqyuMMNoH6t7z6mjefU04uMXzLf8Ap/oJybVmfjz8P7b9mX4aeF/2gvDOl/H/AET/AIRv42za7d2Mtz8Or2bWfDEusReXdxi98oPPbqxLpHhDk/MxGc8GnwF/Znf4JfFXwbc/tRm4T4mfDbw38PPtKeAdRibTl0RI1t7rGG8wyeXl4/lxu4biv3C3n1NG8+pp3jbl8kvkk0vwb+8fPL8b/NtP84r7j8nvhV8Rf2cfhT+27q3xlh+PHhzVpvFukaLb+ILDUfhze3En9paXb/Z4b2wuGiLWYdOHQBz6ODgr5D8KP2fP2WfA9tomn61+05Jr2iaZ4a8Y+F7m2h8C6lZzXlv4jlkluHEuHEbwtJ8nysG284zX7f7z6mjefU0OUXv2a+T3X9bdBRbirLyfzjsfjX4sf4IePv2SPgv8P9c/aj0jVPEfwA13T9U8J6zP8NtQezubezia3S1v7NlIuBJbkI7CRPuKQBzn3v8Aaa/bA/Zt/aJ/Yb8VfBSH4z6R4ZtvFmgPoE+o2XgnUBDZxyf6xobRIY0TvtXdgd9x5P1D/wAFC/iR8RPhp8EI774f6V4zuyt35muaj4TtNO1DWdFsI0aR5rayviIrpyyqpjUM+1nKKWCivSvgD4zs/iF8DfB+vaZ4kn8YafrWjWl9ba5NAkEmrxyQq63DRoiLGzg7igRQpOMDGKqbVSMufVN6+rW/zt+fmKN6bjy9tPk/+D/Wh+YnxR+I3wL+O37HVr8C/Fv7Tto3gSy8Df8ACIImkeAdUs7m6uI47dLbUJ3fzAxh+z7vJVVVjI2WGBilr3i34A+MfB3wNgv/ANojwpYa78GvER8TS3WjfC++sLXxBc/YvsYMkEajYzIS7yFnLMeAqgAfrtvPqaN59TUylGTbl1s36p3/AD/qyFH3Ukumi+at+R/Ov8Th4B+A2k/Dj4e+AfF/wz+KvhXwH8O7vw9qGpeL/BXiuyXxOtxrUmoGwk/sqKRpERlhPk3B8rncMkuB9IeONb+A37Ra/GvxHrvx207wHqX7Sfw20Pwr4j8P2fg/UdQh8K3lnCFY203lx+bGoZ0ClV5wd2Biv2Y3n1NG8+ppuSafNre/43v+bHd3uvL8LW/9JR+X37D3x6/Zz/Y1+K/xS8VP8f7fxPL8T49CSa3/AOEN1OyXTzpenrYoVbZIX8xEDEEDaemRX0d/w97/AGcP+inW3/gj1T/5Gr6z3n1NG8+ponJSd5E01yLljsfJn/D3v9nD/op1t/4I9U/+RqP+Hvf7OH/RTrb/AMEeqf8AyNX1nvPqaN59TUe4ac0j5M/4e9/s4f8ARTrb/wAEeqf/ACNXh3w0/wCCpHwD0/8A4KMfGLxDN8RLZNI1fwP4RsbS4/sfUT501vc64Zl2i33DaJojkgA7xjOGx+km8+pr5y+D87n/AIKo/HZd7bR8PvBOBngf6X4j/wAT+Zqko2Fzs5n/AIe9/s4f9FOtv/BHqn/yNR/w97/Zw/6Kdbf+CPVP/kavrPefU0bz6mp9wfNI+TP+Hvf7OH/RTrb/AMEeqf8AyNXz1+0N+0d+zr8ef25fgd8ah8fLTSJPgimppa6N/wAIbqlwurC/h8mbfPsUx7VAK4Q89c9K/TjefU0bz6mnFxi1JboTk2nF7M/Nnwb+1X+zl4N/bz+JXxyj+OttNcfETwnYeFv7GbwjqgTTltCxSYTiPMhYu2V2L254ry39lmy/Ys/ZZ/Z48E6Jq/xDtPih4w+FVvqLeHdcufD2tWDsZ7m4vFia0XMEgEs7LiQkMODgV+vG8+po3n1NK0eXlX9bv82/vHzO93/WiX5I/nz/AGIvjL4aX4aeIvh14+1P4TeFdK+I3wvvfBV14y0fw14t/tzwrbyFnisRa31utr5Pm3E7fZ7R1RWXdkoFz7x+09YfAL9o79lj4TfCM/tUvpPhb4a+CbvwheQL4E1GSPX5H05LK2vnTYpjeHZ5gj3OhZs4yFI+9P8Agop8aPEH7O+pfDnxNZ/EXUfCGm3/AIu0jRJ7WTw8L3Qp4bi7SO5/tK5ETvbB4n2QyCSJVmMedwY4+oC5z1P51rKUZR5vO33Xf/t7t9+5CvCSS9fvsv8A21H4qfGv4cfs4/GywuYrr9qKOwa/+CFh8FLjyvh/qUg8i2uobk6gucfvHaLb5R4Ab7xIqbxX8Pv2YfGrfF6LXvj34Z8VaT8YzoX9q6Vqvw81byrQ6TpTadBJbzRkSxTZKTiVGUqyFMMjMK/aXefU0bz6mplNSbb67/e5fm2xx91JLp/ko/kkvkfEHwF/4KUfs5fA34HeDvBTfGq98Tt4S0W00c6vquj6pJe6mYIlj8+Zvs3Lttyfr1NdZ/w97/Zw/wCinW3/AII9U/8AkavrPefU0bz6mlJxlJyluwi3FKK2Pkz/AIe9/s4f9FOtv/BHqn/yNXmX7bH/AAVZ/Z98X/sX/GDSNN+I1vdajq3gfW7K0hGjaknnTS6fOiLua3CjLMBkkDmv0A3n1NePf8FDXP8AwwB8dOT/AMk91/8A9NtxRFRuh8zseB/Aj/grT+zvo3wL8E2V18SraK5svD2n28yf2LqbbHS1jVhkWxB5B6Guq/4e9/s4f9FOtv8AwR6p/wDI1e+/s0yM37OHw+JJyfDWmknPX/RYq7befU0nyXDmZ+bH/BSD9qn9nL/goR+yPr/wmPx2tvB9r4iubKe41NPCOp6hLGLa5juVVIzHGMs0Sgkk8E8Zrpp/2uv2MNa+OWg/FLV/FmmX3xK0CyjsrfXE03XodipG8fy24QxYxI/3lY/N1OAa/QHefU0bz6mmnFKy73+drfkDbe/p+p+WXxL+Ln7MXxK/b18PfHhvjVpekeIfC6zQWs2m+EdWtr6/spLFrY6bfTKgS7tRK32gb4/MUqED7enzt+z3+zN+zl+zJ8M/FXhbwv8Atd3sem/ELwFqXgbxZDceAdTkt9YNzNdSW+orEWxBcWy3TRqFJR1ByAXY1+pn/BRGXx94M+Eet+OvDHxb1f4d6b4Q0W4uP7O0zQNP1GfXb5iBbxs95FLt3SeXGqxqpLSnJPAHtHwhsPEWj/CjwzaeLtSTV/FdtpVrHrV9HCkKXl6IlE8iogCqGk3EKowAeKEo8jXTa3k7r/O/qnuNzkpJ9d/us/8AhvS2x+E3jLWfhl4k/awb4eWXxeksfhnN+zBZfB6+8dzeB9Tlgu5Ir4CSOOIKPLuTbASDLMgJI5PFfpf8N/8Agp/+zD8Kvhx4e8LaV8TY/wCy/DOl22kWfm6LqjSeTbxLEm4/ZeW2oMn1r7M3n1NG8+pqpVOb4ut397k//bmZpWd15fgox/KKPkz/AIe9/s4f9FOtv/BHqn/yNXg3x5/4Kj/ATWv29/2eNbtfiFby6V4fsvFiX9x/ZGor9nNxZ2aQjabcM25kb7oOMc1+lm8+pr5l/aXkYf8ABS/9l3k82HjLPPX/AEKypQ5b6FuTMb/h73+zh/0U62/8Eeqf/I1H/D3v9nD/AKKdbf8Agj1T/wCRq+s959TRvPqaj3B80j8tv26P2pvh5+1Z8Q/BGseDP2wbX4V2PgZ5L21sB8LbjxAs+osrIt8xuYwglijZhFhP3Zd2B3EFbHxV+In7FPxBtvEuqJ4x8O3Xjbxnp8OleI9Y17w7rmqW/iC1BhFxFcWhVIlMywKN8Wx42IdCGFfqDvPqao+Jzct4a1D7JdGyu/ssnk3AjEnkPtO19p4bB5weDihuEYNW0/q//DbdNhxcnJd/6/rufh98Uf2U/wBkr4t/CX4U+DdR/ab1pdH+FOgeIdF04N4a1ie4jOqSmWBopyA6R2LCEQxtv3JCFc88Wf2s/Ffwun+EPxo8a/8ADQ9z8W/iX4p+Acvwnh0+DwHqNlca/cRsZYbwvhwJ5XOHXATJLZFfevwD/au8d/Gj4NfsmaFqPiCe28R/Gfw7d654j8QWdrBFOVsrGOVxDGUaKNpZ7iHPyEBEcAAkEe7/ALDXx01X9ov9mHw/4p1tYF1mSe/0y+eBdkVxNZX1xZPMq/wiQ25faOBvwOlb1b2lCT7r77pv/wAme/fyRMJNcs7dvzTS/wDJV9x+eP8AwTf/AGjvgJ8DNYsvin4y+MSzeOte+GvhjwTJpH/CJapYpoVtp1qpeKQGJzJcNOzb2+VRsAVea+tf+Hvf7OH/AEU62/8ABHqn/wAjV9Z7z6mjefU1nOcZy5mu/wCLv+bJheKsv6skvyR8mf8AD3v9nD/op1t/4I9U/wDkavD/ANlP/gqT8AvDH7QH7St/ffES2gtfEnxAs7/Tn/sfUW+0QL4c0iBnwLclcSxSLhgD8hOMEE/pHvPqa+c/2K7h5P2m/wBrAF2IHxKsMAnp/wAUpoQ/kB+QpJQK5mcx/wAPe/2cP+inW3/gj1T/AORqVP8Agr5+zergn4m2xGen9h6pz/5LV9Zbz6mjefU1PuD5pH5H+H/HHwH+Ivx+8O+OPjp+01a/F9vAFnrul+FoR4Bv9EuEtdWXyplvp4Iybgx25aKPy1iA3FzluRQ+P3hT9iz4n+GvB3h7wn8TNL+H+heCtRXWdIuLHw9rtxrehagbmKWW7sb9x5kZkjiETwyCSI5V9oZBX6/7z6mvC/27viz4q+EHh74ZXvhjWF0v+2PiT4e0HVEa0jn+3WN5eLDNDlwfLJVs71+YY4Iq4ySlBLukvv0/F3/ETvJSv2b/AA1t8lY/NXSPCH7Ovgr9unVP2gvDH7VE+heN9U8dXHiuVF8EarJaT6fc26QXOjzR5CyRuscbCbCurLkDpt8x1/xj8L/2XfHP7KWhfD/4tSeN7PwT8U/EvjLWfEMngfU0tdCh1K2cgXEKrlk86QoCrg4OcDaTX6T/ABQ/bH8X+H9d+JvjS01BoPDfws+JWheAf7BFvGyarb3Z0tLu4dyPME2/VAYtrBVFsMq29q+xSxB6n86LLki+mlvT3ZL5P3X9/VsJSblJPd3v6+8n81d/h0sfnV+wL+1x+y9+wX+yl4b+GGm/GU+IBo0l3eXep3Hh3UoGv7u7uZLmeQRrbkRp5krBVBOFA5Jya9i/4e9/s4f9FOtv/BHqn/yNX1nvPqaN59TUvlbuwTaPh/4/f8FaP2d9b+AvjmxtfiVbTXV94d1G2gj/ALF1Nd8j2sqqMm2AGSR1NYP7Fv8AwVa/Z88I/sa/CLSdS+I1va6jpXgjRLK7hOjak/kzRafAjrlbcqcMpGQSOK+xP2oJGX9mf4ikE5HhfUyDnp/oktc1/wAE+XP/AAwP8D+T/wAk/wBB7/8AUOt6r3eUXM7nlf8Aw97/AGcP+inW3/gj1T/5Grl/jN/wUT/ZK/aE+G2oeEPGHj2PVPD2qmI3VtFYa3Zu5ilWVCssMCSIQ6KQVYHivtvefU0bz6motDqiueR+Pn7NXwp/YK+B3wt8aeD/ABD8RJfiBovivx1d+NreK/sfEVqdKMqlIrZWTLy+UjOpldt0m7LgkDDfGtj+y54x+L/xU8ZW3x407wzqvxQ8F6v4Iv30fwZq0KahbXoWO3nv4Svl3VxZRKUjlCxvJuzISRz+wu8+pr5k8f8A7T/if4Sfte/GSzvdQ/tbwb4I+Eln44sNHFrHE0N0LjU1mHnAb38xbSMYY4XnA5NU3GXxdmvly6/+SqwQ5k7x3un8+b/5J37H5haT+zF+zj4U/ZT+InwZ0X9ru8svAvxK0/QV1Cyn8A6pdCy1PTDbb9RttzfIbpbVBJFyoyNp+RRVC28afCX9pj9s79p+z8bfE2fwn8LfGPjjwT4ltb0+D9TZ/Fcej2gMiWkvl4hUzoqOWVyFOVz1r9R/2Vv2hPGOo/GPwF4Z8Uawde/4WT8L0+IDObeOIaTepPaRzwQ+Wo/0dlvotgfcymBiWO819Qbz6muiU505Xlvr96kvycdOlvkZppx5Ft+jj+qevn8z5Ol/4K//ALOE0rMfiba/MSf+QHqn/wAjU3/h73+zh/0U62/8Eeqf/I1fWe8+po3n1NcvuF8zPz6+Pn7e3wj/AGmvjv8As0+G/AvjKHxBrUXxbs797ZNNvbcrBHo+rq77poUXguvGc89K/QtPuD6V8yf8FD2J8efsxf8AZZrD/wBM+sV9Np9wfSumla2hEm29T4P8Dfta2v7O/wC3r+1Lp0/w++LvjBtQ8UaFci58JeErjWLWADwxpS+XJJHwsnGdp52lT3r1D/h5zp//AEQ/9p3/AMNne1Z/ZB/5PV/a2/7HHQf/AFFtJr6QrKTXVAj5m/4ec6f/ANEP/ad/8Nne0f8ADznT/wDoh/7Tv/hs72vpmipvHsPU+Zv+HnOn/wDRD/2nf/DZ3tH/AA850/8A6If+07/4bO9r6ZoovHsGp8zf8POdP/6If+07/wCGzvaP+HnOn/8ARD/2nf8Aw2d7X0zRRePYNT5m/wCHnOn/APRD/wBp3/w2d7R/w850/wD6If8AtO/+Gzva+maKLx7BqfGXxZ/bnm+JF3pTab4J/bE8HwWXnR3sGk/DB2XVYpVClXM8MjIy4yjxlWXc3XjG/wCBv+Cgfhr4a+C9K8PaJ8A/2mNP0fRLSKxsraP4Z322CGNQqKM8nAA5PJqP4nfGfxN8Jf2z/jrdWWp6xq+n+GfgtZeKtO0Ge4MljFfx3GrAtFEB8rSi3iVjyTtFQ/sifEfxFpXx6+HHhy78Qar4js/iD8H4/GusSX1y1xt1WO4s0a4i3EiJJlvXHlphAIE2qMHNwtJaL+lzf/Iv7/Uc4tb9P15P/k1/SN//AIec6f8A9EP/AGnf/DZ3tH/DznT/APoh/wC07/4bO9r6ZoqLx7C1Pmb/AIec6f8A9EP/AGnf/DZ3tH/DznT/APoh/wC07/4bO9r6ZoovHsGp8zf8POdP/wCiH/tO/wDhs72j/h5zp/8A0Q/9p3/w2d7X0zRRePYNT5m/4ec6f/0Q/wDad/8ADZ3tH/DznT/+iH/tO/8Ahs72vpmii8ewanzN/wAPOdP/AOiH/tO/+Gzva8J+F/8AwUIsNP8A+CjXxj1z/hT/AO0VKuqeCPCNqLOP4eXjXdsYbrXiXlizuSN/MARjw5jlA+4a/Q+vnH4Pf8pVPjv/ANk+8E/+lfiKqTjZ6CKn/DznT/8Aoh/7Tv8A4bO9o/4ec6f/ANEP/ad/8Nne19M0VN49h6nzN/w850//AKIf+07/AOGzvaP+HnOn/wDRD/2nf/DZ3tfTNFF49g1Pmb/h5zp//RD/ANp3/wANne0f8POdP/6If+07/wCGzva+maKLx7BqfCvxp/af034+a4bfxF8Ov2ubjwNP9ke88JL8LGFjfS206zozzeV9o2l0TeglCsEA4BYH1E/8FOdPJ/5If+07/wCGzva8U/4KcftAeMPhN+1po8Fh4r1LSPBbaTokeoazptzN5Pwwu5tZKrqOp20fy3FrfwrJaKXysTQsXCRu0g/QVvvVV17NStpd/h/X3A9J28l+K/r+rM+Zf+HnOn/9EP8A2nf/AA2d7R/w850//oh/7Tv/AIbO9r6Zoqbx7BqfM3/DznT/APoh/wC07/4bO9o/4ec6f/0Q/wDad/8ADZ3tfTNFF49g1Pmb/h5zp/8A0Q/9p3/w2d7Xlv7cn/BRuw8VfsT/ABi0tfg1+0dYNqXgfWrQXN98OryC2tzJYTr5ksh4SNc5ZjwACe1fddePf8FDf+Uf/wAdP+ye6/8A+m24pxcbrQDxn4A/8FJ9P0b4D+CbM/BX9pW4NpoFhAZYPhvevFLtt413Kw4KnGQe4rrv+HnOn/8ARD/2nf8Aw2d7XsX7M/8Aybf8Pv8AsWdN/wDSWKu3objfYD5m/wCHnOn/APRD/wBp3/w2d7R/w850/wD6If8AtO/+Gzva+maRgSpwcHHBxnBqeaPYD43+M/7aPh7446Tomn6t8GP2qorDR9dsdee3g+Gt4Ev5LOUTwxS5BzF5yxuQMEmNecZrsD/wU508/wDND/2nf/DZ3tZHw1/Z+8XaH+1j4y07QPir8TNU8Iaj4SltfE11quq/bhYeIJriN7eXTvMUpaypamfzIoh5SCS0OzI56T9gnwB4h+H3iP4qW3/CXeLPF/wybXYF8GT+JdSk1O+j2WyLqGy6lzLLam6DeXvZsFZdp2Fa0XLy/j+Nv0TXlYHe/wCH4X/V/O5S/wCHnOn/APRD/wBp3/w2d7R/w850/wD6If8AtO/+Gzva+maKi8ewanzN/wAPOdP/AOiH/tO/+Gzva+ff2gP+ChFjrH/BQD9nfWB8IP2hrddFsvFStaT/AA+u47u8860tFBgiPMgTblyPugrnrX6N18y/tMf8pMP2XP8Arw8Zf+kVlVRcb7BqL/w850//AKIf+07/AOGzvaP+HnOn/wDRD/2nf/DZ3tfTNFTePYNT5m/4ec6f/wBEP/ad/wDDZ3tQap/wUs0/UtMuLcfBX9qGA3ETRebH8MrwtHuBG4bgRkZ7gj2r6grzv9qH9onRf2YPhLP4l1vUNO01JrqDTLKa/kMVqLqdwkRlcfcjUkszf3UbHOBSbg9GhxvfQ+PPB3xQ8HfDr4O/DHwrofws/a+tLz4PxG38M67L8NJZtQt4mge3kSUGIQyK8LlWBj6qjfeUGvSPg3+274T+A/wx0fwj4c+A/wC1BbaPokJigWT4bXzySFmLySO38UjyM7s3dnJ714/+xJ+1Bqf7R2i/B3wQ3xI1HxtpniLxt4+TxHr1nqLw3V+mm3Vw9ja+bEVaKNoriGZUQj91Ai/dyD9a/wDBPH4sa38av2RfDOu+IrptQ1ZbnUtLlvXUBr9bLUbmzjnbHG6SOBHYjglie9bSel31s/wFbTTZafi/8mch/wAPOdP/AOiH/tO/+GzvaP8Ah5zp/wD0Q/8Aad/8Nne19M0VlePYNT5m/wCHnOn/APRD/wBp3/w2d7XhX7Jv/BQiw8NftBftKXp+D37RV2Nd8f2d4sNt8O7yWWyC+GtFi8udQcxyExlwp5Mbxt0cV+h1fOP7FH/Jzn7WX/ZSrH/1FdCppx7CKn/DznT/APoh/wC07/4bO9o/4ec6f/0Q/wDad/8ADZ3tfTNFK8ew9T5m/wCHnOn/APRD/wBp3/w2d7XAftCftZ+HP2jdE8OWOqfCL9rXTE8MeI9P8UWr6d8NrhWkurKYTQq/mRuDHvUbgACRxkV9sV8g/tyftKeN9C/aUsfA/hnw9rmteF/CHgm6+Ini630bVItO1LWYEuPItrGCVyCAfLuZHVGRnKRJvRWbcKUeZaef3a3+VrjSdnb+r6W+d7HD+KfjZ4H8WfEy+16f4M/tYx2GtazYeJNW0OP4bXQsNU1SxWNbW6kBUuCogtyyqwVzbxFgdp3eu/8ADznT/wDoh/7Tv/hs72vF7j9rvWfiB4G8b/GPwzrOtix8M/EPwj4e8K6QJpIra70TUItEaRJrc8PJcJq0r72BdTFFtI2c/oC3BrSUeWOq/q0X+TXpa3Qm93/Xd/rf7z5m/wCHnOn/APRD/wBp3/w2d7R/w850/wD6If8AtO/+Gzva+maKzvHsPU+Nf2hv+Ckun638APHNkPgt+0rbG88PahAJrj4b3scUW62kXc7HhVGcknoBWB+xD/wUbsPC37Fvwg0xvg1+0dfNpvgnRbU3Nl8Orye2uDHYQrvikHDo2Mqw4IINfV/7UP8AybN8Rf8AsV9T/wDSSWua/wCCfH/Jg/wP/wCyf6B/6bbeqvHl2F1OF/4ec6f/ANEP/ad/8Nne0f8ADznT/wDoh/7Tv/hs72vpmipvHsPU+Zv+HnOn/wDRD/2nf/DZ3tebz/tNeEb/APaC8SfEO8+DX7V99eeKvC1v4Qv9Kn+Glw2nPYwyzyqAnl+ZvLXMwYlyCGAxwK+4R1r8ztT/AGvfHnw1/bg+IEd54j1G8sNJufGGp+Gb9Z57jQ/GsdjpIkXw0kOPKt73T50kldhhpRDLtZiZQgpRu9Nk3+j/AAf9OydJN7d0v1/T+ldr0T4F/tCeEfgXr9tqdv8AB/8Aa01q90rQYPCmkS6j8Nrpm0nSIX3x2kexV3fME3SPud/Kjyflr1T/AIec6f8A9EP/AGnf/DZ3tc/+x/8AEjxHpvx0+Gvh+717VvEVn8RPg9H421iS+umuBHqsdxZI08W4nykmW+kHlphALdNqjBz9c1rVXK7SXfr2k0/xT/Mzi77eX5Jr8LHzN/w850//AKIf+07/AOGzvaP+HnOn/wDRD/2nf/DZ3tfTNFZXj2K1Pgj9pH9sm0/aA+On7M+hwfDf4y+EXi+LVnefbfFfg650ixYJpGrDyxNJ8pkO7IXqQrelffyfcH0r5k/4KHf8j5+zF/2Waw/9M2sV9Np9wfSt6draEs+EfAfxr+Ivwv8A29f2prXwX8Fde+J1lc+KdCmuL6w8R6VpiWkn/CMaUPJKXc0bsdoDblBX5gM5Br1L/hrj48f9GleNP/C78N//ACXUv7IP/J6v7W3/AGOOg/8AqLaTX0hWMmkNHzV/w1x8eP8Ao0rxp/4Xfhv/AOS6P+GuPjx/0aV40/8AC78N/wDyXX0rRU8y7DPmr/hrj48f9GleNP8Awu/Df/yXR/w1x8eP+jSvGn/hd+G//kuvpWijmXYD5q/4a4+PH/RpXjT/AMLvw3/8l0f8NcfHj/o0rxp/4Xfhv/5Lr6Voo5l2A+av+GuPjx/0aV40/wDC78N//JdH/DXHx4/6NK8af+F34b/+S6+laKOZdgPjm3+IHxRtvjTqnxB/4Y98dv4o1rRofD95PJ8R9BeCaxhkkljh8g3vlAB5pTkJuPmNknNVPhD4j+JPwNvZLjw/+x146hnNlFpUD3HxF0C5NjYQszQ2UHmXp8q3QuxWNcDkdcLjvPBdt/Z3/BW74kGOSdEuvhV4fuZVknkaESDU9VTeELbVO1FB2gZCjPSuT/YU+Fetfs//ALXfxH8MeMNI8La74q17R7fxQPiBoaXVu+vW811NG1vfWs00qwXCSLuUwt5cqHhUMZFaQd0vNP8AByv+Tf37hPRu/Tl/FR/K6R1n/DXHx4/6NK8af+F34b/+S6P+GuPjx/0aV40/8Lvw3/8AJdfStFZ8y7AfNX/DXHx4/wCjSvGn/hd+G/8A5Lo/4a4+PH/RpXjT/wALvw3/APJdfStFHMuwHzV/w1x8eP8Ao0rxp/4Xfhv/AOS6P+GuPjx/0aV40/8AC78N/wDyXX0rRRzLsB81f8NcfHj/AKNK8af+F34b/wDkuj/hrj48f9GleNP/AAu/Df8A8l19K0Ucy7AfNX/DXHx4/wCjSvGn/hd+G/8A5Lrwj4XftO/Ga2/4KOfGTUIf2Y/Ftxqt34I8Iw3Wlr410BZLGKO614xTM5udjCUvIAqsWXyGLAB0z+hlfOPwe/5SqfHf/sn3gn/0r8RVakrPQRB/w1x8eP8Ao0rxp/4Xfhv/AOS6P+GuPjx/0aV40/8AC78N/wDyXX0rRUcy7DPmr/hrj48f9GleNP8Awu/Df/yXR/w1x8eP+jSvGn/hd+G//kuvpWijmXYD5q/4a4+PH/RpXjT/AMLvw3/8l0f8NcfHj/o0rxp/4Xfhv/5Lr6VoXrRzLsB8N/Fez8dfGnxjda3r/wCxp46uLrVLG30zV4oviPoMNvrtpbzNPBBeRLehJ445JJCoYdJHU5Vip9OH7Xfx3kGR+yX4zIPII8eeG+f/ACbrE/YP8A2HjX4X/tBeHNQtZdX0qX4ueJYPsN3fTbJ4/NhYQNISzCIngryu0kbSOKuf8EkDLo/7O3ivwzdeHb3wlf8Ag3x9r2k3WjNqv9p6fprG6+0JDp0+1SbJY7iMIpVShDoVXbgaJ3VvJS++3+YTXLJ/4nH7r/5Gh/w1x8eP+jSvGn/hd+G//kuj/hrj48f9GleNP/C78N//ACXX0rRWfMuwHzV/w1x8eP8Ao0rxp/4Xfhv/AOS6P+GuPjx/0aV40/8AC78N/wDyXX0rRRzLsB81f8NcfHj/AKNK8af+F34b/wDkuvLP25f2p/jZrH7E3xitNQ/Zb8X6PYXfgfWobm/l8beH5ksYmsJw8zIl0XYIpLFVBY4wATX3RXj3/BQ3/lH/APHT/snuv/8AptuKqMldaAeO/AD9q7442PwG8EwW37KnjG9todAsI4bhfHPh1FuEFtGFcBroEAjBwQDzyK67/hrj48f9GleNP/C78N//ACXXr37M/wDybf8AD7/sWdN/9JYq7ek5K+wHzV/w1x8eP+jSvGn/AIXfhv8A+S6R/wBrX48SIV/4ZL8ajcCMjx54cBH0P2uvpagHFLmXYD87PBPwK8R+Af7dGm/sj/HHHiC0vbG9S4+PUF0qreNuuXiWTVmWGaTJzLGFkAdsMAxrsP2cIviF+yjZXlv4P/ZF+LKRX0UFuw1j4w6drfkxQhhHFCb3UpfJQBj8se0HjIOBWhY/BXSPDf8AwVC8U+ErrwbqWi+Hvit8NLsf2ppHiKV4/ERgvoftsmoRYWSC6AvY44ZldiY3mXeMKq7v/BPL9mnwL8L/ANoH41+JPh/oEXh3wxbX9r4I0+3guriSK5fT0aS9uMSyONxurloCwx/x5CtYO8U/L8m191/z2Cas2vNfik/vtf7tzof+GuPjx/0aV40/8Lvw3/8AJdH/AA1x8eP+jSvGn/hd+G//AJLr6VorLmXYD5q/4a4+PH/RpXjT/wALvw3/APJdfPn7QP7Tnxlvv+CgX7O19c/sy+LLLUrCy8VCy01/GegvJqYe0tBIVdbkonlgKTvI3bhtzg1+jFfMv7TH/KTD9lz/AK8PGX/pFZVcZK+wiX/hrj48f9GleNP/AAu/Df8A8l0f8NcfHj/o0rxp/wCF34b/APkuvpWio5l2GfNX/DXHx4/6NK8af+F34b/+S6F/a5+PIPH7JXjT/wALvw3/APJdfStcr8aPgv4c/aD+Hd74T8W2kuoeHdSaNr20S6ltlulRw4R2jZW2blBKhgDjByMijmXYD5HA8d6X4LstGsP2N/Hui2+k61e+IrG6sviXoUF3p99eSzyXU0U/27enmm5uAy527ZSuAMAdv4E+P3xh+GPg3TfD2gfsdeLNL0bR7dbWztIPHXhwJBGowAM3eT6kkkkkkkk14F+yz8HtA0v4nfCy10bQ49O+Efxm8aeK/EEWjmWaWyuYLDT0tdIidZXbKyxQ3N9s+6XIbHyDH1h/wTN8W6x42/Yo8IX2tXV3fXCzalaWt1csXlubGDUbqCzkZjy262jhO45LDByc1q7KP3fkt/NbA11fn+b/AAdr/Mwv+GuPjx/0aV40/wDC78N//JdH/DXHx4/6NK8af+F34b/+S6+laKy5l2A+av8Ahrj48f8ARpXjT/wu/Df/AMl14R+yX+098ZtL/aD/AGlZ7H9mLxbqV1qPj+znv7ZPGugI2lSjw1oqCFma5CuSipLuQsoEwUncrCv0Mr5x/Yo/5Oc/ay/7KVY/+oroVUpLsIg/4a4+PH/RpXjT/wALvw3/APJdH/DXHx4/6NK8af8Ahd+G/wD5Lr6VoqeZdhnzV/w1x8eP+jSvGn/hd+G//kuuB+LfiL4mfGrXLXU9a/ZA+IKalbWM+lNdWPxJ0GylurCcqZ7OZor1TJA5RCVboVypBzn7Tr5q/Yu05bP9rD9qu0V7k2x8baa4jkuJJBGZNA0932bmOwFmJwuACTgCqi021bpf8Uv1E3ZLzdvzf6Hms8njkeNrXX1/Yu8YWstg9ncC0g+IXh6LT3mskEdpO9ut4ImkgQKsbFcqET+4m30r/hrj48H/AJtK8af+F34b/wDkuvAPgLdXg/Y//Z58MyS3T+FPEfxt1/R9fWed5hc2cWp+IJba1mdyWaJ7m3tUIYkNhUOQ2D9K/wDBOzW9T1H4ZeOtPujK+jeG/iJ4i0Xw6zsWxpkF86xRqx5KRv5sS88LEF6LV/Em+13/AOk//JL7gkuVpfL/ANK/+Rf3mT/w1x8eP+jSvGn/AIXfhv8A+S6P+GuPjx/0aV40/wDC78N//JdfStFZcy7DPjn9oj9q344X/wCz/wCOoLr9lTxjY2s3h7UI5rl/HHh11t0NtIGcqt0WIUEnABPHArn/ANh/9qf426P+xZ8ILTT/ANlvxfq9ha+CdFhtr+Lxt4fiS9iWwgCTKj3QdQ6gMAwDDOCAa+rP2of+TZviL/2K+p/+kktc1/wT4/5MH+B//ZP9A/8ATbb1fMuXYXU4n/hrj48f9GleNP8Awu/Df/yXR/w1x8eP+jSvGn/hd+G//kuvpWio5l2GfNQ/a4+PGf8Ak0rxp/4Xfhv/AOS68u0DT/HHhz4kt4ntf2MvHP2v+1LzXIbOT4jaDJp9rqN5G8V3eRWxvTGk0ySSh2A582Q4Bkcn61/aI02LWPgB44tZhIYp9Av0cRyvExH2eToyEMD7gg18oaj8DfGH7SH/AASN+COneHb/AMH3kll4J0XWNT0Txcl01h4pji0yNlt5rm3njmtx5hSTzv3gDIhZHGQRTXvO21vud/y5b+fyKSd4x73/AAt+fNYv/CHxH8Sfgdey3Ph79jnx1DObKLSoHuPiLoFybGwhZmhsoPMvT5VujOxWNcDnvgY7z/hrj48f9GleNP8Awu/Df/yXXh/7S/ha6+IH7L/wW+L9h4H8Nan8MfB2gaTqF58LdYFzFqWnrcNAPNsruKZVa6hjZUSKaJ0mCMAVaTI/QU8Gtqnu6PdNr+vUzWtn3S/r5HzV/wANcfHj/o0rxp/4Xfhv/wCS6P8Ahrj48f8ARpXjT/wu/Df/AMl19K0VjzLsUfBf7Snx3+JvxL+Of7M+neMfgX4h+Gukp8WrOdNWvvE2kalFJKukasFg8q0nkkBYFjuK7RsOTyK++0+4PpXzJ/wUO/5Hz9mL/ss1h/6ZtYr6bT7g+ldFPYlnwn8P9X+OGn/t6/tTr8LPD3wo1jSm8U6Eb2XxX4g1DTblJ/8AhGNK+WNLazuFaPZtO4spyWGMAGvVP+Em/a//AOhI/Zq/8LfW/wD5VUv7IP8Ayer+1t/2OOg/+otpNfSFYylboNHzd/wk37X/AP0JH7NX/hb63/8AKqj/AISb9r//AKEj9mr/AMLfW/8A5VV9I0VPN5DPm7/hJv2v/wDoSP2av/C31v8A+VVH/CTftf8A/Qkfs1f+Fvrf/wAqq+kaKObyA+bv+Em/a/8A+hI/Zq/8LfW//lVR/wAJN+1//wBCR+zV/wCFvrf/AMqq+kaKObyA+bv+Em/a/wD+hI/Zq/8AC31v/wCVVH/CTftf/wDQkfs1f+Fvrf8A8qq+kaB1o5vID4r0rWvjZ4v+N/iX7F4K/Yy1T4ippaaX4gjg8e6lPq8dhklILpBpZlWHLsQrjblzjqak/Z90f47fDHw7eaJ8Nfh5+yHYafp0wt7u20bx3q7/AGaRQQI5NulkqVGQFY/KBgAAYrh/ipq/wZ+Kn7U2qr8G/FPw20v4s/Dzw94r0jTrXRdTtRr3iLX76zZngeNG86WK3ePzZHkyPP2YOY2rsf2Gzb337QXwofwntPh/T/gPZ2niLyPuRXv2q1NnFcAdLlduo5DfOMyZ61rDVadv/kn93u/+TX9XNWTb/r4V+v4WPRv+Em/a/wD+hI/Zq/8AC31v/wCVVH/CTftf/wDQkfs1f+Fvrf8A8qq+kaKy5vIR83f8JN+1/wD9CR+zV/4W+t//ACqo/wCEm/a//wChI/Zq/wDC31v/AOVVfSNFHN5AfN3/AAk37X//AEJH7NX/AIW+t/8Ayqo/4Sb9r/8A6Ej9mr/wt9b/APlVX0jRRzeQHzd/wk37X/8A0JH7NX/hb63/APKqj/hJv2v/APoSP2av/C31v/5VV9I0Uc3kB83f8JN+1/8A9CR+zV/4W+t//KqvBvhb4j/akH/BSD4ytbeDv2fm8Qt4H8Ii/ik8YawtpHbi617yGikGml2diZt6sihQsW0tubb+hVfOPwe/5SqfHf8A7J94J/8ASvxFVKWj0EM/4Sb9r/8A6Ej9mr/wt9b/APlVR/wk37X/AP0JH7NX/hb63/8AKqvpGip5vIZ83f8ACTftf/8AQkfs1f8Ahb63/wDKqj/hJv2v/wDoSP2av/C31v8A+VVfSNFHN5AfN3/CTftf/wDQkfs1f+Fvrf8A8qqB4n/bAz/yJH7NX/hb63/8qq+kaF+9T5vID4buPh98X9c+GXjDTh8Mf2Nv+EV1PVJtR8TC28datFbPfxssk09y6aWNs6siszMQwKgk8V1vwg1v9pGw+H1jD4G8Efsnf8IzFvW1/sjx1q72udx34KaUQW37txzktnPOa8O1K08NXv8AwTu/a40rzprGxufjHrFnDcaIYl/sm7m1OxW3upRgxiCK4aOabeNpiSXcCCa9/wD+CTN3qz/Cj4j2vie0sx44sviDqSeJ9U0ubzNF8Q3zRWz/AG3TwOI7d4GgUxctHLHKrMzBmNx+H/t1P/0nT5X/AC87OouVtf3mvuvr87fn89j/AISb9r//AKEj9mr/AMLfW/8A5VUf8JN+1/8A9CR+zV/4W+t//KqvpGis+byEfN3/AAk37X//AEJH7NX/AIW+t/8Ayqo/4Sb9r/8A6Ej9mr/wt9b/APlVX0jRRzeQHzd/wk37X/8A0JH7NX/hb63/APKqvLP25vEf7Vsv7EvxjXWfBv7PMGjt4H1sX8tl4y1iW5jt/sE/mNEj6Yqs4TJVWZQTgFgOa+5K8e/4KG/8o/8A46f9k91//wBNtxVRlqtAPIP2fvEv7Wq/AXwQLHwV+zk9iPD9gLZp/GmtJK0f2aPYXUaWQG24yASAe5611/8Awk37X/8A0JH7NX/hb63/APKqvWv2Z/8Ak2/4ff8AYs6b/wCksVdvSctdgPm7/hJv2v8A/oSP2av/AAt9b/8AlVR/wk/7X4/5kj9mr/wt9b/+VVfSNAODS5vID4c+ENl8X/gv8QNZ8PeDfAv7GujeLJYzd6np1n8QtV/tJIifM3SR/wBmGVIsybgMBBvyBzXR/BHx3+0Lqfghv+FeeF/2RdQ8PQ31zufQviFqtzardPK01xlotLK+YZZGZ8nO5yT1rH+AWj6P4A/a+8VX1r428BfFf4ZePPD+ra7rPiK4s9M/tHwjIt1Fm1uNSt1VZ7GZJZVWO4y8X2LG5kGF6T/gnTDNY/tGftIINM8Dzadf+ItL1Oy8R+EN8ematFJpyRJbNFueNbq2jgjErxsQ/nxkhfujRfCm+362t/XYJ3Tfr+m50f8Awk37X/8A0JH7NX/hb63/APKqj/hJv2v/APoSP2av/C31v/5VV9I0VnzeQHzd/wAJN+1//wBCR+zV/wCFvrf/AMqq+e/2gvEP7UTf8FBP2dWvvCHwAj11LLxX/ZUUHi/V3tJVNpaef58h00OhC7Nm1H3EtnbgE/orXzL+0x/ykw/Zc/68PGX/AKRWVXGWuwFn/hJv2v8A/oSP2av/AAt9b/8AlVR/wk37X/8A0JH7NX/hb63/APKqvpGio5vID5u/4Sb9r/8A6Ej9mr/wt9b/APlVWZrvj39qgXNvo2o+FP2W47jXElht7Kbx/rKS3yhCZFjQ6XufCZJ25wOTX1JXzB+1/wD2Zbf8FA/2SJ7j+z49ROu+I4YZJNgnKNoF3lFJ+bBbbkDgnHtVRtJ8rQ1fdHIXmlfHjxXott8N3+Hf7IV3beGbe3Nv4fj8dat5mkxRIEhKRLpe+IKhCggD5Wx0bnofA3xG/ab1LT307w14V/ZPntNBK2D2umePdWaPTig2iEpHpWI9oGAuBjHTivn2ay8V3fw08IaV4YMn/C9Lb4j/ABAuNX8r/j+ije11va8n8QhcSaUIi3ynNrt6LXq/7C5gvfj78JX8K7DoWnfAa0tPEvkfdjvzdWn2OKfHS4XbqeVb5xukz1qqb59X5P1vFyv6aWv3Yprl/H/0pR/4P9XPR/8AhJv2v/8AoSP2av8Awt9b/wDlVR/wk37X/wD0JH7NX/hb63/8qq+kaKz5vID5u/4Sb9r/AP6Ej9mr/wALfW//AJVV4P8Ask+I/wBqRP2hf2lzpfg79n6W/fx/ZnV1uvGGsRxQ3P8AwjejBVgZdNYvH5IiYs4Q72kG3aqsf0Jr5x/Yo/5Oc/ay/wCylWP/AKiuhVSl5CGf8JN+1/8A9CR+zV/4W+t//Kqj/hJv2v8A/oSP2av/AAt9b/8AlVX0jRU83kM+bh4m/a//AOhI/Zq/8LfW/wD5VVyXgK3/AGidH8YeLb7w18O/2SIdd1a8RvEs2n+NtW+03F0sShPtRTStxkEW0Dfzt29sV9fV+d3xU8T614E8G/8ABQK5+Gt5DpHiePxBphN5pkavcaUJtE0yO6vgkfzeZFC00ufvbouuRTjK7dl0b/Ff5h282l+D/wAjs7LRvjH4d+E2teG7X4c/sZ6f4L0y8kn1Szg8capDY2N003mu8m3SgsU3nHeW4cOd33ua7bwFqf7UejeDdNtvDXgP9liHQY4F+wrp/jfWPs3lHkGMppW0g5zkdck968Pttc1nwp8QvA/w8kufDGsfBj4W/Efw5LB4h0W1FrYz2l1pGoGG3vMSSRvJBqK2Mhm3fMbq3Zxvyx+lf+CcUWoL8LPHU0n/ACL158RvElx4Y2/6o6W1/IY2i7eU0vnsmOCrAjgitbaPy/Tl/wDkvwe4nfS/X9b/APyP4lH/AISb9r//AKEj9mr/AMLfW/8A5VUf8JN+1/8A9CR+zV/4W+t//KqvpGisebyGfHn7RPiX9rRv2ffHYv8AwV+zlHYnw7qAuWt/GmtPKsX2aTeUU6WAW25wCQCe461gfsPeI/2rYv2K/g+ujeDf2eJ9IXwRoosZL3xlrEVzJB9gg8tpUTTGVXKbdwVmAOQCRzX1R+1D/wAmzfEX/sV9T/8ASSWua/4J8f8AJg/wP/7J/oH/AKbber5vd2F1ON/4Sb9r/wD6Ej9mr/wt9b/+VVH/AAk37X//AEJH7NX/AIW+t/8Ayqr6RoqObyGfKPxN8eftN6J8PtXn8Y+FP2UbDwv9maPU59X8favBYrA/yMJXk0sIEO7B3HBzivMfG/h/x/H8KvA+q6/8Pv2HbXwR4ZRIvCl7deP9Rg0q0jmQKsVtIdMERjkVVAjUlWCrwcCvqr9sH4jfC74R/BmXxL8XpfDSeFdIu4ZYU1xoRbT3pJS3jVZiI2lLNhd3Cn5sjbuHylofgj4aW/8AwSy8R+F/Bfjb4C3t1ro8TTaW+pXkGo+GdOnvpprq906yMcigxQJciHMJITAJXHyUc6UZTtt+n9fL5lxhdxjffT+vu+fyOn8VeFvjZB8ZNC8Vaz8Nf2O4fG11DHp+kXl1441ZLu6SJi0ccQOlDzPLaQlMAlC/y4zXo/8Awk37X/8A0JH7NX/hb63/APKqvk3xTd39/wDs9/Fh9c8PXHhTxF4g+Avg+H4e+H7mZ57zTLzybwCztXf9488WotabiPnz5DMBxX6c6Gt0miWYviGvRBGLgr0Mm0bsfjmt6q5G49m/zf8Alr6mSd7Pul+Sf66eh88f8JN+1/8A9CR+zV/4W+t//Kqj/hJv2v8A/oSP2av/AAt9b/8AlVX0jRWHN5FHwb+0vrPx71D44/szp8TvDnwg0nw5/wALbszHP4W8R6jqN6bn+yNW2KY7ixgQRkb8tvyCFwpycffKfcH0r5k/4KHf8j5+zF/2Waw/9M2sV9Np9wfSuim7olnzHrn7Hnxf8K/tEfEvxr8N/i/4N8Mad8TdQsdTvdL1vwBJrUlrPbabbWHyTpqVtlWS1VsGPgseTVz/AIUn+1L/ANF9+E3/AIaK4/8Al3RRUjD/AIUn+1L/ANF9+E3/AIaK4/8Al3R/wpP9qX/ovvwm/wDDRXH/AMu6KKAD/hSf7Uv/AEX34Tf+GiuP/l3R/wAKT/al/wCi+/Cb/wANFcf/AC7oooAP+FJ/tS/9F9+E3/horj/5d0f8KT/al/6L78Jv/DRXH/y7oooAP+FJ/tS/9F9+E3/horj/AOXdH/Ck/wBqX/ovvwm/8NFcf/LuiigDOsf2Zf2j9M1D7XbfGn4LW91z++i+DUqSc9fmGtZ5qfTf2eP2mNGa4Nn8cfg5aG7lNxOYfg7OnnSHq7Y1r5mPcnmiigC1/wAKT/al/wCi+/Cb/wANFcf/AC7o/wCFJ/tS/wDRffhN/wCGiuP/AJd0UUAH/Ck/2pf+i+/Cb/w0Vx/8u6P+FJ/tS/8ARffhN/4aK4/+XdFFAB/wpP8Aal/6L78Jv/DRXH/y7o/4Un+1L/0X34Tf+GiuP/l3RRQAf8KT/al/6L78Jv8Aw0Vx/wDLuj/hSf7Uv/RffhN/4aK4/wDl3RRQAf8ACk/2pf8Aovvwm/8ADRXH/wAu647w9+xH+0Z4Z+Ovin4h2/7QPw1OveL9I0zRb5H+E0xt1g0+S8kgMa/2yGDFr6bcSxBATAGOSigDsf8AhSf7Uv8A0X34Tf8Ahorj/wCXdH/Ck/2pf+i+/Cb/AMNFcf8Ay7oooAP+FJ/tS/8ARffhN/4aK4/+XdH/AApP9qX/AKL78Jv/AA0Vx/8ALuiigA/4Un+1L/0X34Tf+GiuP/l3R/wpP9qX/ovvwm/8NFcf/LuiigCpH+zp+0tDa3MCfG/4NrDebvtEY+DkwWfcMNvH9tYbI65607SP2ev2mfD2mxWdh8cvg7Y2cA2xQW/weniijGc4VRrQA5J6UUUAWf8AhSf7Uv8A0X34Tf8Ahorj/wCXdH/Ck/2pf+i+/Cb/AMNFcf8Ay7oooAP+FJ/tS/8ARffhN/4aK4/+XdH/AApP9qX/AKL78Jv/AA0Vx/8ALuiigA/4Un+1L/0X34Tf+GiuP/l3XO/F79kX9pT42fCbxR4M1j9oD4Yx6R4u0i70W+e1+E06TrBcwvDIUY60QH2ucEggHHB6UUUAX/BX7NH7TngPwbpOh2Xx++FjWei2UNhbmX4SXBkMcSKi7iNaAJwozgD6Vp/8KT/al/6L78Jv/DRXH/y7oooAP+FJ/tS/9F9+E3/horj/AOXdH/Ck/wBqX/ovvwm/8NFc/wDy7oooAytP/ZY/aJ0nTb6ztfjH8Ebaz1N3e8gi+C8qR3bP98yKNaw5buTnPerHh79m/wDaU8I6PDp+k/G34M6Xp9uMRWtp8HJoYYh1+VF1oAfgKKKALv8AwpP9qX/ovvwm/wDDRXH/AMu6P+FJ/tS/9F9+E3/horj/AOXdFFAB/wAKT/al/wCi+/Cb/wANFcf/AC7rifGv7DH7RXj341+BvHt7+0D8Nl1v4fQ6lDpiRfCeZbd1vo4o5vNU6ySxCxLtwy4Oc5oooA7b/hSf7Uv/AEX34Tf+GiuP/l3R/wAKT/al/wCi+/Cb/wANFcf/AC7oooAP+FJ/tS/9F9+E3/horj/5d1Xuf2f/ANpu9uoZ5vjp8H5ZrckxSP8AB6dmiJ/uk61kfhRRSAbD+zx+0xbatNfx/HH4OJf3CLHLcr8HZxNKq/dVn/trJA7AnijTf2eP2mNGNwbP44/By0N3KZ5zD8HZ086Q9XbGtfMx7k80UUwLX/Ck/wBqX/ovvwm/8NFcf/Luj/hSf7Uv/RffhN/4aK4/+XdFFAB/wpP9qX/ovvwm/wDDRXH/AMu6474a/sR/tGfCrxt491/TP2gfho998Rtai17VRP8ACaZo0uI7C1sFEQGsgqnk2cRIYsdxc5wcAooA7H/hSf7Uv/RffhN/4aK4/wDl3R/wpP8Aal/6L78Jv/DRXH/y7oooAP8AhSf7Uv8A0X34Tf8Ahorj/wCXdV7b9n39puznnli+OfweikuTmZ0+D06tKf8AaI1rn8aKKQFW1/Zh/aNsfD76TB8Z/gpDpUgZXso/gzKtu4b7wMY1rac9+Oav23wK/ahs7eOGH48/COKKJQkaJ8IbhVRQMAADW+ABRRTAf/wpP9qX/ovvwm/8NFcf/Luj/hSf7Uv/AEX34Tf+GiuP/l3RRQBl+OP2Zf2m/iB4K1jQb74/fCxbLW7GfT7gw/CS4WQRyxtG20nWiAcMcZB+lUvhH+yP+0p8FvhR4Y8G6R8f/hhJpPhLSbTRbJrn4SzvM0FtCkMZdhrQBbagyQACc8CiigDof+FJ/tS/9F9+E3/horj/AOXdH/Ck/wBqX/ovvwm/8NFcf/LuiigCtqv7PP7TOu2whvfjl8HbyINuCT/B2eRQemcHWiM8n86zr79kv9oPU4rFLn4vfAy4TS5TPZLL8FZHFnIerxg6z8je64NFFAGhffs8ftMane2tzc/HH4OXFxYsXtpZfg7O727EYJQnWsqSOCRVr/hSf7Uv/RffhN/4aK4/+XdFFAB/wpP9qX/ovvwm/wDDRXH/AMu6P+FJ/tS/9F9+E3/horj/AOXdFFAGRqX7GPxo+KPxQ+G+r/EX4z+Cde0L4deJ4/FUWm6L8O5dJuL24jtLq2RGuH1O4Cpi6cnEZJKjkV9TqMLRRVwEf//Z)"
      ],
      "metadata": {
        "id": "IHKvoKJ6et_A"
      }
    },
    {
      "cell_type": "markdown",
      "source": [
        "Training data yang digunakan adalah British National Corpus (BNC) sejumlah 100 juta kata dan English Gigaword sejumlah 1.7 miliar kata digunakan untuk mengujicobakan pemodelan skip-gram pada data testing yang diambil dari Gigaword Corpus (300000 kata), Eight Recent New Documents, dan Google Translation (7 artikel berita di Cina dan diterjemahkan ke dalam Bahasa Inggris).\n",
        "\n",
        "Dari 2 kali eksperimen yang membandingkan adjacent n-gram dengan k-skip-n-gram, diperoleh hasil bahwa\n",
        "\n",
        "- Banyak bigram yang terobservasi ketika menggunakan skip, dan muncul di data testing\n",
        "- Skip-gram tidak meningkatkan coverage trigram. Hal ini disebabkan karena dokumen yang digunakan bukan korpus pada domain yang sama.\n",
        "\n",
        "Dari sisi manfaat, skip-gram bisa mendemonstrasikan secara akurat untuk memodelkan context namun tidak condong pada efek dari trigram modelling.\n",
        "\n",
        "Referensi : http://derwinsuhartono.com/archives/500"
      ],
      "metadata": {
        "id": "8fSTlvLHewuE"
      }
    }
  ]
}