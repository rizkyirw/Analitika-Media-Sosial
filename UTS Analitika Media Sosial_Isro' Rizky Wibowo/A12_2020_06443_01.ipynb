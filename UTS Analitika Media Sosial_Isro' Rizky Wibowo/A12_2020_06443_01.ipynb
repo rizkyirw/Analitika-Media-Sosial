{
  "nbformat": 4,
  "nbformat_minor": 0,
  "metadata": {
    "colab": {
      "provenance": [],
      "collapsed_sections": []
    },
    "kernelspec": {
      "name": "python3",
      "display_name": "Python 3"
    },
    "language_info": {
      "name": "python"
    }
  },
  "cells": [
    {
      "cell_type": "markdown",
      "source": [
        "<img src=\"https://2.bp.blogspot.com/-066qpJs0Ttc/WiYPXGNYEYI/AAAAAAAAFu8/XbOaf7DqfDMM9truu3DkrkIGfRgP4zBzgCLcBGAs/s1600/udinus.jpg\"  width=\"200\">\n",
        "\n",
        "# Ujian Tengah Semester\n"
      ],
      "metadata": {
        "id": "gIkBte9p1zvC"
      }
    },
    {
      "cell_type": "markdown",
      "source": [
        "Nim: **`A12.2020.06443`**\n",
        "\n",
        "Nama: **`ISRO' RIZKY WIBOWO`**\n",
        "\n",
        "Kelompok: **`A12.6503`**\n",
        "\n",
        "soal 1: perbaikan kata - stop word\n",
        "\n",
        "soal 2: perbaikan kata - tidak pakai stop word\n",
        "\n",
        "soal 3: tidak menggunakan perbaikan kata - stop word\n",
        "\n",
        "soal 4: tidak menggunakan perbaikan kata - tidak pakai stop word"
      ],
      "metadata": {
        "id": "XvJ1hkAd13OI"
      }
    },
    {
      "cell_type": "markdown",
      "source": [
        "## load library"
      ],
      "metadata": {
        "id": "aAA8cz3o4Gou"
      }
    },
    {
      "cell_type": "code",
      "execution_count": null,
      "metadata": {
        "colab": {
          "base_uri": "https://localhost:8080/"
        },
        "id": "jj_oLofI1u10",
        "outputId": "5417ffbe-5f4c-4e0d-975e-b3cf6bbec7d8"
      },
      "outputs": [
        {
          "output_type": "stream",
          "name": "stdout",
          "text": [
            "Mounted at /content/drive\n"
          ]
        }
      ],
      "source": [
        "from google.colab import drive\n",
        "drive.mount('/content/drive')\n",
        "import sys\n",
        "sys.path.append('/content/drive/My Drive/File AMS2023')"
      ]
    },
    {
      "cell_type": "markdown",
      "source": [
        "## instalasi"
      ],
      "metadata": {
        "id": "u33dTJdx4IC6"
      }
    },
    {
      "cell_type": "code",
      "source": [
        "!pip install ekphrasis"
      ],
      "metadata": {
        "colab": {
          "base_uri": "https://localhost:8080/"
        },
        "id": "nFNNQu0H3xrO",
        "outputId": "9fd97dd3-a39d-41d8-d279-c3eb3c4db745"
      },
      "execution_count": null,
      "outputs": [
        {
          "output_type": "stream",
          "name": "stdout",
          "text": [
            "Looking in indexes: https://pypi.org/simple, https://us-python.pkg.dev/colab-wheels/public/simple/\n",
            "Collecting ekphrasis\n",
            "  Downloading ekphrasis-0.5.4-py3-none-any.whl (83 kB)\n",
            "\u001b[K     |████████████████████████████████| 83 kB 2.5 MB/s \n",
            "\u001b[?25hRequirement already satisfied: termcolor in /usr/local/lib/python3.7/dist-packages (from ekphrasis) (2.0.1)\n",
            "Requirement already satisfied: nltk in /usr/local/lib/python3.7/dist-packages (from ekphrasis) (3.7)\n",
            "Collecting ftfy\n",
            "  Downloading ftfy-6.1.1-py3-none-any.whl (53 kB)\n",
            "\u001b[K     |████████████████████████████████| 53 kB 1.8 MB/s \n",
            "\u001b[?25hRequirement already satisfied: tqdm in /usr/local/lib/python3.7/dist-packages (from ekphrasis) (4.64.1)\n",
            "Requirement already satisfied: ujson in /usr/local/lib/python3.7/dist-packages (from ekphrasis) (5.5.0)\n",
            "Requirement already satisfied: matplotlib in /usr/local/lib/python3.7/dist-packages (from ekphrasis) (3.2.2)\n",
            "Requirement already satisfied: numpy in /usr/local/lib/python3.7/dist-packages (from ekphrasis) (1.21.6)\n",
            "Collecting colorama\n",
            "  Downloading colorama-0.4.6-py2.py3-none-any.whl (25 kB)\n",
            "Requirement already satisfied: wcwidth>=0.2.5 in /usr/local/lib/python3.7/dist-packages (from ftfy->ekphrasis) (0.2.5)\n",
            "Requirement already satisfied: cycler>=0.10 in /usr/local/lib/python3.7/dist-packages (from matplotlib->ekphrasis) (0.11.0)\n",
            "Requirement already satisfied: python-dateutil>=2.1 in /usr/local/lib/python3.7/dist-packages (from matplotlib->ekphrasis) (2.8.2)\n",
            "Requirement already satisfied: kiwisolver>=1.0.1 in /usr/local/lib/python3.7/dist-packages (from matplotlib->ekphrasis) (1.4.4)\n",
            "Requirement already satisfied: pyparsing!=2.0.4,!=2.1.2,!=2.1.6,>=2.0.1 in /usr/local/lib/python3.7/dist-packages (from matplotlib->ekphrasis) (3.0.9)\n",
            "Requirement already satisfied: typing-extensions in /usr/local/lib/python3.7/dist-packages (from kiwisolver>=1.0.1->matplotlib->ekphrasis) (4.1.1)\n",
            "Requirement already satisfied: six>=1.5 in /usr/local/lib/python3.7/dist-packages (from python-dateutil>=2.1->matplotlib->ekphrasis) (1.15.0)\n",
            "Requirement already satisfied: regex>=2021.8.3 in /usr/local/lib/python3.7/dist-packages (from nltk->ekphrasis) (2022.6.2)\n",
            "Requirement already satisfied: joblib in /usr/local/lib/python3.7/dist-packages (from nltk->ekphrasis) (1.2.0)\n",
            "Requirement already satisfied: click in /usr/local/lib/python3.7/dist-packages (from nltk->ekphrasis) (7.1.2)\n",
            "Installing collected packages: ftfy, colorama, ekphrasis\n",
            "Successfully installed colorama-0.4.6 ekphrasis-0.5.4 ftfy-6.1.1\n"
          ]
        }
      ]
    },
    {
      "cell_type": "markdown",
      "source": [
        "## load eksprasis"
      ],
      "metadata": {
        "id": "ll88mGWy4JbT"
      }
    },
    {
      "cell_type": "code",
      "source": [
        "from ekphrasis.classes.preprocessor import TextPreProcessor\n",
        "from ekphrasis.classes.tokenizer import SocialTokenizer\n",
        "from ekphrasis.dicts.emoticons import emoticons\n",
        "\n",
        "text_processor = TextPreProcessor(\n",
        "    # terms that will be normalized\n",
        "    normalize=['email', 'percent', 'money', 'phone', 'user',\n",
        "        'time', 'date', 'number'],\n",
        "    # terms that will be annotated\n",
        "    #annotate={\"hashtag\", \"allcaps\", \"elongated\", \"repeated\",'emphasis', 'censored'},\n",
        "    annotate={\"hashtag\",\"allcaps\",\"elongated\",\"repeated\",'emphasis','censored'},\n",
        "    fix_html=True,  # fix HTML tokens\n",
        "    \n",
        "    # corpus from which the word statistics are going to be used \n",
        "    # for word segmentation \n",
        "    segmenter=\"twitter\", \n",
        "    \n",
        "    # corpus from which the word statistics are going to be used \n",
        "    # for spell correction\n",
        "    corrector=\"twitter\", \n",
        "    \n",
        "    unpack_hashtags=True,  # perform word segmentation on hashtags\n",
        "    unpack_contractions=True,  # Unpack contractions (can't -> can not)\n",
        "    spell_correct_elong=False,  # spell correction for elongated words\n",
        "    \n",
        "    # select a tokenizer. You can use SocialTokenizer, or pass your own\n",
        "    # the tokenizer, should take as input a string and return a list of tokens\n",
        "    tokenizer=SocialTokenizer(lowercase=True).tokenize,\n",
        "    \n",
        "    # list of dictionaries, for replacing tokens extracted from the text,\n",
        "    # with other expressions. You can pass more than one dictionaries.\n",
        "    dicts=[emoticons]\n",
        ")"
      ],
      "metadata": {
        "colab": {
          "base_uri": "https://localhost:8080/"
        },
        "id": "HLDsgynZ3zkh",
        "outputId": "a950a7d9-8eb9-4536-9383-9cf08b217810"
      },
      "execution_count": null,
      "outputs": [
        {
          "output_type": "stream",
          "name": "stderr",
          "text": [
            "/usr/local/lib/python3.7/dist-packages/ekphrasis/classes/tokenizer.py:225: FutureWarning: Possible nested set at position 2190\n",
            "  self.tok = re.compile(r\"({})\".format(\"|\".join(pipeline)))\n"
          ]
        },
        {
          "output_type": "stream",
          "name": "stdout",
          "text": [
            "Word statistics files not found!\n",
            "Downloading... done!\n",
            "Unpacking... done!\n",
            "Reading twitter - 1grams ...\n",
            "generating cache file for faster loading...\n",
            "reading ngrams /root/.ekphrasis/stats/twitter/counts_1grams.txt\n",
            "Reading twitter - 2grams ...\n",
            "generating cache file for faster loading...\n",
            "reading ngrams /root/.ekphrasis/stats/twitter/counts_2grams.txt\n"
          ]
        },
        {
          "output_type": "stream",
          "name": "stderr",
          "text": [
            "/usr/local/lib/python3.7/dist-packages/ekphrasis/classes/exmanager.py:14: FutureWarning: Possible nested set at position 42\n",
            "  regexes = {k.lower(): re.compile(self.expressions[k]) for k, v in\n"
          ]
        },
        {
          "output_type": "stream",
          "name": "stdout",
          "text": [
            "Reading twitter - 1grams ...\n"
          ]
        }
      ]
    },
    {
      "cell_type": "markdown",
      "source": [
        "## load library"
      ],
      "metadata": {
        "id": "58WkHeVg4LHW"
      }
    },
    {
      "cell_type": "code",
      "source": [
        "import re\n",
        "import string \n",
        "import pandas as pd\n",
        "from copy import deepcopy\n",
        "\n",
        "import matplotlib.pyplot as plt\n",
        "import seaborn as sns\n",
        "%matplotlib inline\n",
        "\n",
        "from sklearn.model_selection import train_test_split\n",
        "from sklearn.metrics import accuracy_score\n",
        "from sklearn.metrics import recall_score\n",
        "from sklearn.metrics import precision_score\n"
      ],
      "metadata": {
        "id": "DYEfe2dJ33Pz"
      },
      "execution_count": null,
      "outputs": []
    },
    {
      "cell_type": "markdown",
      "source": [
        "## load dataset"
      ],
      "metadata": {
        "id": "F6akQJTQ4MjU"
      }
    },
    {
      "cell_type": "code",
      "source": [
        "df = pd.read_csv('/content/drive/My Drive/File AMS2023/Dataset_Sentimen_Emosi.csv')"
      ],
      "metadata": {
        "id": "pqk81M1K36YI"
      },
      "execution_count": null,
      "outputs": []
    },
    {
      "cell_type": "code",
      "source": [
        "df.head()"
      ],
      "metadata": {
        "colab": {
          "base_uri": "https://localhost:8080/",
          "height": 206
        },
        "id": "mTKnho-V38Vd",
        "outputId": "741b0ae2-9e42-4370-c0dd-35aab35cda0b"
      },
      "execution_count": null,
      "outputs": [
        {
          "output_type": "execute_result",
          "data": {
            "text/plain": [
              "                                               Tweet  Sentimen  Emosi\n",
              "0  emang lemes bgt ya mulut lu, gue yg mau beli-b...      -1.0     -2\n",
              "1  Cegah mata rantai Covid-19,mari kita dirumah s...       1.0      1\n",
              "2  aku mohon yaAllah semoga wabah covid-19 menghi...       1.0     -1\n",
              "3  Pemprov Papua Naikkan Status Jadi Tanggap Daru...       1.0      1\n",
              "4            Covid belum nyampe prigen mbak hmm hoax       0.0     -2"
            ],
            "text/html": [
              "\n",
              "  <div id=\"df-3c62a9ce-1cd7-4c63-b72f-e78db0c4f6af\">\n",
              "    <div class=\"colab-df-container\">\n",
              "      <div>\n",
              "<style scoped>\n",
              "    .dataframe tbody tr th:only-of-type {\n",
              "        vertical-align: middle;\n",
              "    }\n",
              "\n",
              "    .dataframe tbody tr th {\n",
              "        vertical-align: top;\n",
              "    }\n",
              "\n",
              "    .dataframe thead th {\n",
              "        text-align: right;\n",
              "    }\n",
              "</style>\n",
              "<table border=\"1\" class=\"dataframe\">\n",
              "  <thead>\n",
              "    <tr style=\"text-align: right;\">\n",
              "      <th></th>\n",
              "      <th>Tweet</th>\n",
              "      <th>Sentimen</th>\n",
              "      <th>Emosi</th>\n",
              "    </tr>\n",
              "  </thead>\n",
              "  <tbody>\n",
              "    <tr>\n",
              "      <th>0</th>\n",
              "      <td>emang lemes bgt ya mulut lu, gue yg mau beli-b...</td>\n",
              "      <td>-1.0</td>\n",
              "      <td>-2</td>\n",
              "    </tr>\n",
              "    <tr>\n",
              "      <th>1</th>\n",
              "      <td>Cegah mata rantai Covid-19,mari kita dirumah s...</td>\n",
              "      <td>1.0</td>\n",
              "      <td>1</td>\n",
              "    </tr>\n",
              "    <tr>\n",
              "      <th>2</th>\n",
              "      <td>aku mohon yaAllah semoga wabah covid-19 menghi...</td>\n",
              "      <td>1.0</td>\n",
              "      <td>-1</td>\n",
              "    </tr>\n",
              "    <tr>\n",
              "      <th>3</th>\n",
              "      <td>Pemprov Papua Naikkan Status Jadi Tanggap Daru...</td>\n",
              "      <td>1.0</td>\n",
              "      <td>1</td>\n",
              "    </tr>\n",
              "    <tr>\n",
              "      <th>4</th>\n",
              "      <td>Covid belum nyampe prigen mbak hmm hoax</td>\n",
              "      <td>0.0</td>\n",
              "      <td>-2</td>\n",
              "    </tr>\n",
              "  </tbody>\n",
              "</table>\n",
              "</div>\n",
              "      <button class=\"colab-df-convert\" onclick=\"convertToInteractive('df-3c62a9ce-1cd7-4c63-b72f-e78db0c4f6af')\"\n",
              "              title=\"Convert this dataframe to an interactive table.\"\n",
              "              style=\"display:none;\">\n",
              "        \n",
              "  <svg xmlns=\"http://www.w3.org/2000/svg\" height=\"24px\"viewBox=\"0 0 24 24\"\n",
              "       width=\"24px\">\n",
              "    <path d=\"M0 0h24v24H0V0z\" fill=\"none\"/>\n",
              "    <path d=\"M18.56 5.44l.94 2.06.94-2.06 2.06-.94-2.06-.94-.94-2.06-.94 2.06-2.06.94zm-11 1L8.5 8.5l.94-2.06 2.06-.94-2.06-.94L8.5 2.5l-.94 2.06-2.06.94zm10 10l.94 2.06.94-2.06 2.06-.94-2.06-.94-.94-2.06-.94 2.06-2.06.94z\"/><path d=\"M17.41 7.96l-1.37-1.37c-.4-.4-.92-.59-1.43-.59-.52 0-1.04.2-1.43.59L10.3 9.45l-7.72 7.72c-.78.78-.78 2.05 0 2.83L4 21.41c.39.39.9.59 1.41.59.51 0 1.02-.2 1.41-.59l7.78-7.78 2.81-2.81c.8-.78.8-2.07 0-2.86zM5.41 20L4 18.59l7.72-7.72 1.47 1.35L5.41 20z\"/>\n",
              "  </svg>\n",
              "      </button>\n",
              "      \n",
              "  <style>\n",
              "    .colab-df-container {\n",
              "      display:flex;\n",
              "      flex-wrap:wrap;\n",
              "      gap: 12px;\n",
              "    }\n",
              "\n",
              "    .colab-df-convert {\n",
              "      background-color: #E8F0FE;\n",
              "      border: none;\n",
              "      border-radius: 50%;\n",
              "      cursor: pointer;\n",
              "      display: none;\n",
              "      fill: #1967D2;\n",
              "      height: 32px;\n",
              "      padding: 0 0 0 0;\n",
              "      width: 32px;\n",
              "    }\n",
              "\n",
              "    .colab-df-convert:hover {\n",
              "      background-color: #E2EBFA;\n",
              "      box-shadow: 0px 1px 2px rgba(60, 64, 67, 0.3), 0px 1px 3px 1px rgba(60, 64, 67, 0.15);\n",
              "      fill: #174EA6;\n",
              "    }\n",
              "\n",
              "    [theme=dark] .colab-df-convert {\n",
              "      background-color: #3B4455;\n",
              "      fill: #D2E3FC;\n",
              "    }\n",
              "\n",
              "    [theme=dark] .colab-df-convert:hover {\n",
              "      background-color: #434B5C;\n",
              "      box-shadow: 0px 1px 3px 1px rgba(0, 0, 0, 0.15);\n",
              "      filter: drop-shadow(0px 1px 2px rgba(0, 0, 0, 0.3));\n",
              "      fill: #FFFFFF;\n",
              "    }\n",
              "  </style>\n",
              "\n",
              "      <script>\n",
              "        const buttonEl =\n",
              "          document.querySelector('#df-3c62a9ce-1cd7-4c63-b72f-e78db0c4f6af button.colab-df-convert');\n",
              "        buttonEl.style.display =\n",
              "          google.colab.kernel.accessAllowed ? 'block' : 'none';\n",
              "\n",
              "        async function convertToInteractive(key) {\n",
              "          const element = document.querySelector('#df-3c62a9ce-1cd7-4c63-b72f-e78db0c4f6af');\n",
              "          const dataTable =\n",
              "            await google.colab.kernel.invokeFunction('convertToInteractive',\n",
              "                                                     [key], {});\n",
              "          if (!dataTable) return;\n",
              "\n",
              "          const docLinkHtml = 'Like what you see? Visit the ' +\n",
              "            '<a target=\"_blank\" href=https://colab.research.google.com/notebooks/data_table.ipynb>data table notebook</a>'\n",
              "            + ' to learn more about interactive tables.';\n",
              "          element.innerHTML = '';\n",
              "          dataTable['output_type'] = 'display_data';\n",
              "          await google.colab.output.renderOutput(dataTable, element);\n",
              "          const docLink = document.createElement('div');\n",
              "          docLink.innerHTML = docLinkHtml;\n",
              "          element.appendChild(docLink);\n",
              "        }\n",
              "      </script>\n",
              "    </div>\n",
              "  </div>\n",
              "  "
            ]
          },
          "metadata": {},
          "execution_count": 6
        }
      ]
    },
    {
      "cell_type": "markdown",
      "source": [
        "# Pengerjaan soal"
      ],
      "metadata": {
        "id": "smPfQF993_LT"
      }
    },
    {
      "cell_type": "code",
      "source": [
        "df = df.drop(['Sentimen'], axis=1)"
      ],
      "metadata": {
        "id": "KtKFcgHM3-oZ"
      },
      "execution_count": null,
      "outputs": []
    },
    {
      "cell_type": "markdown",
      "source": [
        "## Preprocessing"
      ],
      "metadata": {
        "id": "My1vWkw44QRv"
      }
    },
    {
      "cell_type": "markdown",
      "source": [
        "#### Setting Function Sesuai Kebutuhan"
      ],
      "metadata": {
        "id": "Csg796Ph5Bcr"
      }
    },
    {
      "cell_type": "code",
      "source": [
        "def bersih_data(text):\n",
        "    return \" \".join(text_processor.pre_process_doc(text))\n",
        "\n",
        "def non_ascii(text):\n",
        "    return text.encode('ascii', 'replace').decode('ascii')\n",
        "\n",
        "def remove_space(text):\n",
        "    return \" \".join(text.split())\n",
        "\n",
        "def remove_emoji(text):\n",
        "    return ' '.join(re.sub(\"([x#][A-Za-z0-9]+)\",\" \", text).split())\n",
        "\n",
        "def remove_single_char(text):\n",
        "    return re.sub(r\"\\b[a-zA-Z]\\b\", \"\", text)\n",
        "\n",
        "def change_stripe(text):\n",
        "    return text.replace('-',\" \")\n",
        "\n",
        "def lower(text):\n",
        "    return text.lower()\n",
        "\n",
        "def remove_punctuation(text):\n",
        "    remove = string.punctuation\n",
        "    remove = remove.replace(\"_\", \"\") # don't remove hyphens\n",
        "    pattern = r\"[{}]\".format(remove) # create the pattern\n",
        "    return re.sub(pattern, \"\", text) "
      ],
      "metadata": {
        "id": "O3bAwvTf5Dvj"
      },
      "execution_count": null,
      "outputs": []
    },
    {
      "cell_type": "markdown",
      "source": [
        "#### Running Preprocessing"
      ],
      "metadata": {
        "id": "xtcD0gMB5epB"
      }
    },
    {
      "cell_type": "code",
      "source": [
        "final_string = []\n",
        "for text in df['Tweet'].values:\n",
        "    EachReviewText = \"\"\n",
        "    proc = bersih_data(text)\n",
        "    proc = lower(proc)\n",
        "    proc = change_stripe(proc)\n",
        "    proc = non_ascii(proc)\n",
        "    proc = remove_emoji(proc)\n",
        "    proc = remove_single_char(proc)\n",
        "    proc = remove_punctuation(proc)\n",
        "    proc = remove_space(proc)\n",
        "    EachReviewText = proc\n",
        "    final_string.append(EachReviewText)"
      ],
      "metadata": {
        "id": "CzECsEXB5gkh"
      },
      "execution_count": null,
      "outputs": []
    },
    {
      "cell_type": "markdown",
      "source": [
        "Setelah dilakukan tahap preprocessing, kita load datanya ke kolom baru yang akan kita buat"
      ],
      "metadata": {
        "id": "n62aiZko5wpr"
      }
    },
    {
      "cell_type": "code",
      "source": [
        "df[\"step01\"] = final_string"
      ],
      "metadata": {
        "id": "Xgqq0PUd5-8B"
      },
      "execution_count": null,
      "outputs": []
    },
    {
      "cell_type": "code",
      "source": [
        "df.head()"
      ],
      "metadata": {
        "id": "0t0Yulz76A8M",
        "colab": {
          "base_uri": "https://localhost:8080/",
          "height": 337
        },
        "outputId": "6e94f2e8-f2e6-48ec-a24e-e5d96f2de12e"
      },
      "execution_count": null,
      "outputs": [
        {
          "output_type": "execute_result",
          "data": {
            "text/plain": [
              "                                               Tweet  Emosi  \\\n",
              "0  emang lemes bgt ya mulut lu, gue yg mau beli-b...     -2   \n",
              "1  Cegah mata rantai Covid-19,mari kita dirumah s...      1   \n",
              "2  aku mohon yaAllah semoga wabah covid-19 menghi...     -1   \n",
              "3  Pemprov Papua Naikkan Status Jadi Tanggap Daru...      1   \n",
              "4            Covid belum nyampe prigen mbak hmm hoax     -2   \n",
              "\n",
              "                                              step01  \n",
              "0  emang lemes bgt ya mulut lu gue yg mau beli be...  \n",
              "1  cegah mata rantai covid number mari kita dirum...  \n",
              "2  aku mohon yaallah semoga wabah covid number me...  \n",
              "3  pemprov papua naikkan status jadi tanggap daru...  \n",
              "4            covid belum nyampe prigen mbak hmm hoax  "
            ],
            "text/html": [
              "\n",
              "  <div id=\"df-2f21a43f-a488-425d-9eb4-d813efefef84\">\n",
              "    <div class=\"colab-df-container\">\n",
              "      <div>\n",
              "<style scoped>\n",
              "    .dataframe tbody tr th:only-of-type {\n",
              "        vertical-align: middle;\n",
              "    }\n",
              "\n",
              "    .dataframe tbody tr th {\n",
              "        vertical-align: top;\n",
              "    }\n",
              "\n",
              "    .dataframe thead th {\n",
              "        text-align: right;\n",
              "    }\n",
              "</style>\n",
              "<table border=\"1\" class=\"dataframe\">\n",
              "  <thead>\n",
              "    <tr style=\"text-align: right;\">\n",
              "      <th></th>\n",
              "      <th>Tweet</th>\n",
              "      <th>Emosi</th>\n",
              "      <th>step01</th>\n",
              "    </tr>\n",
              "  </thead>\n",
              "  <tbody>\n",
              "    <tr>\n",
              "      <th>0</th>\n",
              "      <td>emang lemes bgt ya mulut lu, gue yg mau beli-b...</td>\n",
              "      <td>-2</td>\n",
              "      <td>emang lemes bgt ya mulut lu gue yg mau beli be...</td>\n",
              "    </tr>\n",
              "    <tr>\n",
              "      <th>1</th>\n",
              "      <td>Cegah mata rantai Covid-19,mari kita dirumah s...</td>\n",
              "      <td>1</td>\n",
              "      <td>cegah mata rantai covid number mari kita dirum...</td>\n",
              "    </tr>\n",
              "    <tr>\n",
              "      <th>2</th>\n",
              "      <td>aku mohon yaAllah semoga wabah covid-19 menghi...</td>\n",
              "      <td>-1</td>\n",
              "      <td>aku mohon yaallah semoga wabah covid number me...</td>\n",
              "    </tr>\n",
              "    <tr>\n",
              "      <th>3</th>\n",
              "      <td>Pemprov Papua Naikkan Status Jadi Tanggap Daru...</td>\n",
              "      <td>1</td>\n",
              "      <td>pemprov papua naikkan status jadi tanggap daru...</td>\n",
              "    </tr>\n",
              "    <tr>\n",
              "      <th>4</th>\n",
              "      <td>Covid belum nyampe prigen mbak hmm hoax</td>\n",
              "      <td>-2</td>\n",
              "      <td>covid belum nyampe prigen mbak hmm hoax</td>\n",
              "    </tr>\n",
              "  </tbody>\n",
              "</table>\n",
              "</div>\n",
              "      <button class=\"colab-df-convert\" onclick=\"convertToInteractive('df-2f21a43f-a488-425d-9eb4-d813efefef84')\"\n",
              "              title=\"Convert this dataframe to an interactive table.\"\n",
              "              style=\"display:none;\">\n",
              "        \n",
              "  <svg xmlns=\"http://www.w3.org/2000/svg\" height=\"24px\"viewBox=\"0 0 24 24\"\n",
              "       width=\"24px\">\n",
              "    <path d=\"M0 0h24v24H0V0z\" fill=\"none\"/>\n",
              "    <path d=\"M18.56 5.44l.94 2.06.94-2.06 2.06-.94-2.06-.94-.94-2.06-.94 2.06-2.06.94zm-11 1L8.5 8.5l.94-2.06 2.06-.94-2.06-.94L8.5 2.5l-.94 2.06-2.06.94zm10 10l.94 2.06.94-2.06 2.06-.94-2.06-.94-.94-2.06-.94 2.06-2.06.94z\"/><path d=\"M17.41 7.96l-1.37-1.37c-.4-.4-.92-.59-1.43-.59-.52 0-1.04.2-1.43.59L10.3 9.45l-7.72 7.72c-.78.78-.78 2.05 0 2.83L4 21.41c.39.39.9.59 1.41.59.51 0 1.02-.2 1.41-.59l7.78-7.78 2.81-2.81c.8-.78.8-2.07 0-2.86zM5.41 20L4 18.59l7.72-7.72 1.47 1.35L5.41 20z\"/>\n",
              "  </svg>\n",
              "      </button>\n",
              "      \n",
              "  <style>\n",
              "    .colab-df-container {\n",
              "      display:flex;\n",
              "      flex-wrap:wrap;\n",
              "      gap: 12px;\n",
              "    }\n",
              "\n",
              "    .colab-df-convert {\n",
              "      background-color: #E8F0FE;\n",
              "      border: none;\n",
              "      border-radius: 50%;\n",
              "      cursor: pointer;\n",
              "      display: none;\n",
              "      fill: #1967D2;\n",
              "      height: 32px;\n",
              "      padding: 0 0 0 0;\n",
              "      width: 32px;\n",
              "    }\n",
              "\n",
              "    .colab-df-convert:hover {\n",
              "      background-color: #E2EBFA;\n",
              "      box-shadow: 0px 1px 2px rgba(60, 64, 67, 0.3), 0px 1px 3px 1px rgba(60, 64, 67, 0.15);\n",
              "      fill: #174EA6;\n",
              "    }\n",
              "\n",
              "    [theme=dark] .colab-df-convert {\n",
              "      background-color: #3B4455;\n",
              "      fill: #D2E3FC;\n",
              "    }\n",
              "\n",
              "    [theme=dark] .colab-df-convert:hover {\n",
              "      background-color: #434B5C;\n",
              "      box-shadow: 0px 1px 3px 1px rgba(0, 0, 0, 0.15);\n",
              "      filter: drop-shadow(0px 1px 2px rgba(0, 0, 0, 0.3));\n",
              "      fill: #FFFFFF;\n",
              "    }\n",
              "  </style>\n",
              "\n",
              "      <script>\n",
              "        const buttonEl =\n",
              "          document.querySelector('#df-2f21a43f-a488-425d-9eb4-d813efefef84 button.colab-df-convert');\n",
              "        buttonEl.style.display =\n",
              "          google.colab.kernel.accessAllowed ? 'block' : 'none';\n",
              "\n",
              "        async function convertToInteractive(key) {\n",
              "          const element = document.querySelector('#df-2f21a43f-a488-425d-9eb4-d813efefef84');\n",
              "          const dataTable =\n",
              "            await google.colab.kernel.invokeFunction('convertToInteractive',\n",
              "                                                     [key], {});\n",
              "          if (!dataTable) return;\n",
              "\n",
              "          const docLinkHtml = 'Like what you see? Visit the ' +\n",
              "            '<a target=\"_blank\" href=https://colab.research.google.com/notebooks/data_table.ipynb>data table notebook</a>'\n",
              "            + ' to learn more about interactive tables.';\n",
              "          element.innerHTML = '';\n",
              "          dataTable['output_type'] = 'display_data';\n",
              "          await google.colab.output.renderOutput(dataTable, element);\n",
              "          const docLink = document.createElement('div');\n",
              "          docLink.innerHTML = docLinkHtml;\n",
              "          element.appendChild(docLink);\n",
              "        }\n",
              "      </script>\n",
              "    </div>\n",
              "  </div>\n",
              "  "
            ]
          },
          "metadata": {},
          "execution_count": 11
        }
      ]
    },
    {
      "cell_type": "markdown",
      "source": [
        "Cek kolom data"
      ],
      "metadata": {
        "id": "Hlkfk7S66Cf1"
      }
    },
    {
      "cell_type": "code",
      "source": [
        "df.info()"
      ],
      "metadata": {
        "id": "Shk1c5qQ6Jz4",
        "colab": {
          "base_uri": "https://localhost:8080/"
        },
        "outputId": "76bda9ad-9eb0-41b2-b0c0-4bb5567c67a3"
      },
      "execution_count": null,
      "outputs": [
        {
          "output_type": "stream",
          "name": "stdout",
          "text": [
            "<class 'pandas.core.frame.DataFrame'>\n",
            "RangeIndex: 905 entries, 0 to 904\n",
            "Data columns (total 3 columns):\n",
            " #   Column  Non-Null Count  Dtype \n",
            "---  ------  --------------  ----- \n",
            " 0   Tweet   905 non-null    object\n",
            " 1   Emosi   905 non-null    int64 \n",
            " 2   step01  905 non-null    object\n",
            "dtypes: int64(1), object(2)\n",
            "memory usage: 21.3+ KB\n"
          ]
        }
      ]
    },
    {
      "cell_type": "markdown",
      "source": [
        "#### Drop null values"
      ],
      "metadata": {
        "id": "N72BjEP86MOZ"
      }
    },
    {
      "cell_type": "code",
      "source": [
        "df_hapus = df[~df['step01'].str.contains(\" \")]"
      ],
      "metadata": {
        "id": "vvAfJe-16ReD"
      },
      "execution_count": null,
      "outputs": []
    },
    {
      "cell_type": "code",
      "source": [
        "df_new = df[~df.isin(df_hapus)].dropna()"
      ],
      "metadata": {
        "id": "DlCOtakM6WeZ"
      },
      "execution_count": null,
      "outputs": []
    },
    {
      "cell_type": "code",
      "source": [
        "df_new.info()"
      ],
      "metadata": {
        "id": "z5wDn3SV6Wiz",
        "colab": {
          "base_uri": "https://localhost:8080/"
        },
        "outputId": "232ed222-54c1-4183-9069-33e16657fac9"
      },
      "execution_count": null,
      "outputs": [
        {
          "output_type": "stream",
          "name": "stdout",
          "text": [
            "<class 'pandas.core.frame.DataFrame'>\n",
            "Int64Index: 904 entries, 0 to 904\n",
            "Data columns (total 3 columns):\n",
            " #   Column  Non-Null Count  Dtype  \n",
            "---  ------  --------------  -----  \n",
            " 0   Tweet   904 non-null    object \n",
            " 1   Emosi   904 non-null    float64\n",
            " 2   step01  904 non-null    object \n",
            "dtypes: float64(1), object(2)\n",
            "memory usage: 28.2+ KB\n"
          ]
        }
      ]
    },
    {
      "cell_type": "markdown",
      "source": [
        "## Perbaikan Kata"
      ],
      "metadata": {
        "id": "0UyGFLiO4tGj"
      }
    },
    {
      "cell_type": "code",
      "source": [
        "# Token\n",
        "\n",
        "import nltk\n",
        "nltk.download('punkt')\n",
        "from nltk.tokenize import word_tokenize "
      ],
      "metadata": {
        "id": "jmLQ_HC6KYzu",
        "colab": {
          "base_uri": "https://localhost:8080/"
        },
        "outputId": "3f18c1f7-ce4e-404b-ca2f-0f3d2e0dd2d6"
      },
      "execution_count": null,
      "outputs": [
        {
          "output_type": "stream",
          "name": "stderr",
          "text": [
            "[nltk_data] Downloading package punkt to /root/nltk_data...\n",
            "[nltk_data]   Unzipping tokenizers/punkt.zip.\n"
          ]
        }
      ]
    },
    {
      "cell_type": "code",
      "source": [
        "def word_tokenize_wrapper(text):\n",
        "  return word_tokenize(text)"
      ],
      "metadata": {
        "id": "VXOH-kZeMxkY"
      },
      "execution_count": null,
      "outputs": []
    },
    {
      "cell_type": "code",
      "source": [
        "df_new['tokens'] = df['step01'].apply(word_tokenize_wrapper)"
      ],
      "metadata": {
        "id": "vAvFSukuNGvF"
      },
      "execution_count": null,
      "outputs": []
    },
    {
      "cell_type": "code",
      "source": [
        "df_new.head(10)"
      ],
      "metadata": {
        "id": "ckSMeVYNNIgR",
        "colab": {
          "base_uri": "https://localhost:8080/",
          "height": 650
        },
        "outputId": "bfd30714-b6db-4269-9a0a-8340e62889d5"
      },
      "execution_count": null,
      "outputs": [
        {
          "output_type": "execute_result",
          "data": {
            "text/plain": [
              "                                               Tweet  Emosi  \\\n",
              "0  emang lemes bgt ya mulut lu, gue yg mau beli-b...   -2.0   \n",
              "1  Cegah mata rantai Covid-19,mari kita dirumah s...    1.0   \n",
              "2  aku mohon yaAllah semoga wabah covid-19 menghi...   -1.0   \n",
              "3  Pemprov Papua Naikkan Status Jadi Tanggap Daru...    1.0   \n",
              "4            Covid belum nyampe prigen mbak hmm hoax   -2.0   \n",
              "5  Nyuruh orang pintar, lu aja Togog. Itu kerumun...   -2.0   \n",
              "6  Pikir2 balik byk mnde plk nk setelkn lepas covid.    1.0   \n",
              "7  Selamat pagi, hari jum'at. Jum'at keempat di k...   -1.0   \n",
              "8  Hikmah di balik musibah covid-19, smg para pej...   -2.0   \n",
              "9  Cegah covid-19 beserta jajaran Polsek Kuranji ...    1.0   \n",
              "\n",
              "                                              step01  \\\n",
              "0  emang lemes bgt ya mulut lu gue yg mau beli be...   \n",
              "1  cegah mata rantai covid number mari kita dirum...   \n",
              "2  aku mohon yaallah semoga wabah covid number me...   \n",
              "3  pemprov papua naikkan status jadi tanggap daru...   \n",
              "4            covid belum nyampe prigen mbak hmm hoax   \n",
              "5  nyuruh orang pintar lu aja togog itu kerumunan...   \n",
              "6   pikir2 balik byk mnde plk nk setelkn lepas covid   \n",
              "7  selamat pagi hari jum at jum at keempat di kal...   \n",
              "8  hikmah di balik musibah covid number smg para ...   \n",
              "9  cegah covid number beserta jajaran polsek kura...   \n",
              "\n",
              "                                              tokens  \n",
              "0  [emang, lemes, bgt, ya, mulut, lu, gue, yg, ma...  \n",
              "1  [cegah, mata, rantai, covid, number, mari, kit...  \n",
              "2  [aku, mohon, yaallah, semoga, wabah, covid, nu...  \n",
              "3  [pemprov, papua, naikkan, status, jadi, tangga...  \n",
              "4    [covid, belum, nyampe, prigen, mbak, hmm, hoax]  \n",
              "5  [nyuruh, orang, pintar, lu, aja, togog, itu, k...  \n",
              "6  [pikir2, balik, byk, mnde, plk, nk, setelkn, l...  \n",
              "7  [selamat, pagi, hari, jum, at, jum, at, keempa...  \n",
              "8  [hikmah, di, balik, musibah, covid, number, sm...  \n",
              "9  [cegah, covid, number, beserta, jajaran, polse...  "
            ],
            "text/html": [
              "\n",
              "  <div id=\"df-38912dde-99bb-40cf-b88d-c09d7cb40593\">\n",
              "    <div class=\"colab-df-container\">\n",
              "      <div>\n",
              "<style scoped>\n",
              "    .dataframe tbody tr th:only-of-type {\n",
              "        vertical-align: middle;\n",
              "    }\n",
              "\n",
              "    .dataframe tbody tr th {\n",
              "        vertical-align: top;\n",
              "    }\n",
              "\n",
              "    .dataframe thead th {\n",
              "        text-align: right;\n",
              "    }\n",
              "</style>\n",
              "<table border=\"1\" class=\"dataframe\">\n",
              "  <thead>\n",
              "    <tr style=\"text-align: right;\">\n",
              "      <th></th>\n",
              "      <th>Tweet</th>\n",
              "      <th>Emosi</th>\n",
              "      <th>step01</th>\n",
              "      <th>tokens</th>\n",
              "    </tr>\n",
              "  </thead>\n",
              "  <tbody>\n",
              "    <tr>\n",
              "      <th>0</th>\n",
              "      <td>emang lemes bgt ya mulut lu, gue yg mau beli-b...</td>\n",
              "      <td>-2.0</td>\n",
              "      <td>emang lemes bgt ya mulut lu gue yg mau beli be...</td>\n",
              "      <td>[emang, lemes, bgt, ya, mulut, lu, gue, yg, ma...</td>\n",
              "    </tr>\n",
              "    <tr>\n",
              "      <th>1</th>\n",
              "      <td>Cegah mata rantai Covid-19,mari kita dirumah s...</td>\n",
              "      <td>1.0</td>\n",
              "      <td>cegah mata rantai covid number mari kita dirum...</td>\n",
              "      <td>[cegah, mata, rantai, covid, number, mari, kit...</td>\n",
              "    </tr>\n",
              "    <tr>\n",
              "      <th>2</th>\n",
              "      <td>aku mohon yaAllah semoga wabah covid-19 menghi...</td>\n",
              "      <td>-1.0</td>\n",
              "      <td>aku mohon yaallah semoga wabah covid number me...</td>\n",
              "      <td>[aku, mohon, yaallah, semoga, wabah, covid, nu...</td>\n",
              "    </tr>\n",
              "    <tr>\n",
              "      <th>3</th>\n",
              "      <td>Pemprov Papua Naikkan Status Jadi Tanggap Daru...</td>\n",
              "      <td>1.0</td>\n",
              "      <td>pemprov papua naikkan status jadi tanggap daru...</td>\n",
              "      <td>[pemprov, papua, naikkan, status, jadi, tangga...</td>\n",
              "    </tr>\n",
              "    <tr>\n",
              "      <th>4</th>\n",
              "      <td>Covid belum nyampe prigen mbak hmm hoax</td>\n",
              "      <td>-2.0</td>\n",
              "      <td>covid belum nyampe prigen mbak hmm hoax</td>\n",
              "      <td>[covid, belum, nyampe, prigen, mbak, hmm, hoax]</td>\n",
              "    </tr>\n",
              "    <tr>\n",
              "      <th>5</th>\n",
              "      <td>Nyuruh orang pintar, lu aja Togog. Itu kerumun...</td>\n",
              "      <td>-2.0</td>\n",
              "      <td>nyuruh orang pintar lu aja togog itu kerumunan...</td>\n",
              "      <td>[nyuruh, orang, pintar, lu, aja, togog, itu, k...</td>\n",
              "    </tr>\n",
              "    <tr>\n",
              "      <th>6</th>\n",
              "      <td>Pikir2 balik byk mnde plk nk setelkn lepas covid.</td>\n",
              "      <td>1.0</td>\n",
              "      <td>pikir2 balik byk mnde plk nk setelkn lepas covid</td>\n",
              "      <td>[pikir2, balik, byk, mnde, plk, nk, setelkn, l...</td>\n",
              "    </tr>\n",
              "    <tr>\n",
              "      <th>7</th>\n",
              "      <td>Selamat pagi, hari jum'at. Jum'at keempat di k...</td>\n",
              "      <td>-1.0</td>\n",
              "      <td>selamat pagi hari jum at jum at keempat di kal...</td>\n",
              "      <td>[selamat, pagi, hari, jum, at, jum, at, keempa...</td>\n",
              "    </tr>\n",
              "    <tr>\n",
              "      <th>8</th>\n",
              "      <td>Hikmah di balik musibah covid-19, smg para pej...</td>\n",
              "      <td>-2.0</td>\n",
              "      <td>hikmah di balik musibah covid number smg para ...</td>\n",
              "      <td>[hikmah, di, balik, musibah, covid, number, sm...</td>\n",
              "    </tr>\n",
              "    <tr>\n",
              "      <th>9</th>\n",
              "      <td>Cegah covid-19 beserta jajaran Polsek Kuranji ...</td>\n",
              "      <td>1.0</td>\n",
              "      <td>cegah covid number beserta jajaran polsek kura...</td>\n",
              "      <td>[cegah, covid, number, beserta, jajaran, polse...</td>\n",
              "    </tr>\n",
              "  </tbody>\n",
              "</table>\n",
              "</div>\n",
              "      <button class=\"colab-df-convert\" onclick=\"convertToInteractive('df-38912dde-99bb-40cf-b88d-c09d7cb40593')\"\n",
              "              title=\"Convert this dataframe to an interactive table.\"\n",
              "              style=\"display:none;\">\n",
              "        \n",
              "  <svg xmlns=\"http://www.w3.org/2000/svg\" height=\"24px\"viewBox=\"0 0 24 24\"\n",
              "       width=\"24px\">\n",
              "    <path d=\"M0 0h24v24H0V0z\" fill=\"none\"/>\n",
              "    <path d=\"M18.56 5.44l.94 2.06.94-2.06 2.06-.94-2.06-.94-.94-2.06-.94 2.06-2.06.94zm-11 1L8.5 8.5l.94-2.06 2.06-.94-2.06-.94L8.5 2.5l-.94 2.06-2.06.94zm10 10l.94 2.06.94-2.06 2.06-.94-2.06-.94-.94-2.06-.94 2.06-2.06.94z\"/><path d=\"M17.41 7.96l-1.37-1.37c-.4-.4-.92-.59-1.43-.59-.52 0-1.04.2-1.43.59L10.3 9.45l-7.72 7.72c-.78.78-.78 2.05 0 2.83L4 21.41c.39.39.9.59 1.41.59.51 0 1.02-.2 1.41-.59l7.78-7.78 2.81-2.81c.8-.78.8-2.07 0-2.86zM5.41 20L4 18.59l7.72-7.72 1.47 1.35L5.41 20z\"/>\n",
              "  </svg>\n",
              "      </button>\n",
              "      \n",
              "  <style>\n",
              "    .colab-df-container {\n",
              "      display:flex;\n",
              "      flex-wrap:wrap;\n",
              "      gap: 12px;\n",
              "    }\n",
              "\n",
              "    .colab-df-convert {\n",
              "      background-color: #E8F0FE;\n",
              "      border: none;\n",
              "      border-radius: 50%;\n",
              "      cursor: pointer;\n",
              "      display: none;\n",
              "      fill: #1967D2;\n",
              "      height: 32px;\n",
              "      padding: 0 0 0 0;\n",
              "      width: 32px;\n",
              "    }\n",
              "\n",
              "    .colab-df-convert:hover {\n",
              "      background-color: #E2EBFA;\n",
              "      box-shadow: 0px 1px 2px rgba(60, 64, 67, 0.3), 0px 1px 3px 1px rgba(60, 64, 67, 0.15);\n",
              "      fill: #174EA6;\n",
              "    }\n",
              "\n",
              "    [theme=dark] .colab-df-convert {\n",
              "      background-color: #3B4455;\n",
              "      fill: #D2E3FC;\n",
              "    }\n",
              "\n",
              "    [theme=dark] .colab-df-convert:hover {\n",
              "      background-color: #434B5C;\n",
              "      box-shadow: 0px 1px 3px 1px rgba(0, 0, 0, 0.15);\n",
              "      filter: drop-shadow(0px 1px 2px rgba(0, 0, 0, 0.3));\n",
              "      fill: #FFFFFF;\n",
              "    }\n",
              "  </style>\n",
              "\n",
              "      <script>\n",
              "        const buttonEl =\n",
              "          document.querySelector('#df-38912dde-99bb-40cf-b88d-c09d7cb40593 button.colab-df-convert');\n",
              "        buttonEl.style.display =\n",
              "          google.colab.kernel.accessAllowed ? 'block' : 'none';\n",
              "\n",
              "        async function convertToInteractive(key) {\n",
              "          const element = document.querySelector('#df-38912dde-99bb-40cf-b88d-c09d7cb40593');\n",
              "          const dataTable =\n",
              "            await google.colab.kernel.invokeFunction('convertToInteractive',\n",
              "                                                     [key], {});\n",
              "          if (!dataTable) return;\n",
              "\n",
              "          const docLinkHtml = 'Like what you see? Visit the ' +\n",
              "            '<a target=\"_blank\" href=https://colab.research.google.com/notebooks/data_table.ipynb>data table notebook</a>'\n",
              "            + ' to learn more about interactive tables.';\n",
              "          element.innerHTML = '';\n",
              "          dataTable['output_type'] = 'display_data';\n",
              "          await google.colab.output.renderOutput(dataTable, element);\n",
              "          const docLink = document.createElement('div');\n",
              "          docLink.innerHTML = docLinkHtml;\n",
              "          element.appendChild(docLink);\n",
              "        }\n",
              "      </script>\n",
              "    </div>\n",
              "  </div>\n",
              "  "
            ]
          },
          "metadata": {},
          "execution_count": 19
        }
      ]
    },
    {
      "cell_type": "markdown",
      "source": [
        "### Proses Perbaikan Kata"
      ],
      "metadata": {
        "id": "sdz_1NcyNRUE"
      }
    },
    {
      "cell_type": "code",
      "source": [
        "normalized_word = pd.read_excel(\"/content/drive/My Drive/File AMS2023/kamus perbaikan kata.xlsx\")\n",
        "\n",
        "normalized_word_dict = {}\n",
        "\n",
        "for index, row in normalized_word.iterrows():\n",
        "    if row[0] not in normalized_word_dict:\n",
        "        normalized_word_dict[row[0]] = row[1] \n",
        "\n",
        "def normalized_term(document):\n",
        "    return [normalized_word_dict[term] if term in normalized_word_dict else term for term in document]\n",
        "\n",
        "df_new['tokens_perbaikan'] = df_new['tokens'].apply(normalized_term)"
      ],
      "metadata": {
        "id": "JgQAEYBGNMTA"
      },
      "execution_count": null,
      "outputs": []
    },
    {
      "cell_type": "code",
      "source": [
        "df_new.head()"
      ],
      "metadata": {
        "id": "VZIAhVBUNTwT",
        "colab": {
          "base_uri": "https://localhost:8080/",
          "height": 493
        },
        "outputId": "c81cf10a-e251-4057-92df-c99d21d0c3ac"
      },
      "execution_count": null,
      "outputs": [
        {
          "output_type": "execute_result",
          "data": {
            "text/plain": [
              "                                               Tweet  Emosi  \\\n",
              "0  emang lemes bgt ya mulut lu, gue yg mau beli-b...   -2.0   \n",
              "1  Cegah mata rantai Covid-19,mari kita dirumah s...    1.0   \n",
              "2  aku mohon yaAllah semoga wabah covid-19 menghi...   -1.0   \n",
              "3  Pemprov Papua Naikkan Status Jadi Tanggap Daru...    1.0   \n",
              "4            Covid belum nyampe prigen mbak hmm hoax   -2.0   \n",
              "\n",
              "                                              step01  \\\n",
              "0  emang lemes bgt ya mulut lu gue yg mau beli be...   \n",
              "1  cegah mata rantai covid number mari kita dirum...   \n",
              "2  aku mohon yaallah semoga wabah covid number me...   \n",
              "3  pemprov papua naikkan status jadi tanggap daru...   \n",
              "4            covid belum nyampe prigen mbak hmm hoax   \n",
              "\n",
              "                                              tokens  \\\n",
              "0  [emang, lemes, bgt, ya, mulut, lu, gue, yg, ma...   \n",
              "1  [cegah, mata, rantai, covid, number, mari, kit...   \n",
              "2  [aku, mohon, yaallah, semoga, wabah, covid, nu...   \n",
              "3  [pemprov, papua, naikkan, status, jadi, tangga...   \n",
              "4    [covid, belum, nyampe, prigen, mbak, hmm, hoax]   \n",
              "\n",
              "                                    tokens_perbaikan  \n",
              "0  [memang, lemes, banget, iya, mulut, kamu, saya...  \n",
              "1  [cegah, mata, rantai, covid, number, mari, kit...  \n",
              "2  [aku, mohon, yaallah, semoga, wabah, covid, nu...  \n",
              "3  [pemprov, papua, naikkan, status, jadi, tangga...  \n",
              "4  [covid, belum, nyampe, prigen, mbak, aduh, boh...  "
            ],
            "text/html": [
              "\n",
              "  <div id=\"df-436ef1cd-cddc-4e9e-bca0-b52ee5d7d66e\">\n",
              "    <div class=\"colab-df-container\">\n",
              "      <div>\n",
              "<style scoped>\n",
              "    .dataframe tbody tr th:only-of-type {\n",
              "        vertical-align: middle;\n",
              "    }\n",
              "\n",
              "    .dataframe tbody tr th {\n",
              "        vertical-align: top;\n",
              "    }\n",
              "\n",
              "    .dataframe thead th {\n",
              "        text-align: right;\n",
              "    }\n",
              "</style>\n",
              "<table border=\"1\" class=\"dataframe\">\n",
              "  <thead>\n",
              "    <tr style=\"text-align: right;\">\n",
              "      <th></th>\n",
              "      <th>Tweet</th>\n",
              "      <th>Emosi</th>\n",
              "      <th>step01</th>\n",
              "      <th>tokens</th>\n",
              "      <th>tokens_perbaikan</th>\n",
              "    </tr>\n",
              "  </thead>\n",
              "  <tbody>\n",
              "    <tr>\n",
              "      <th>0</th>\n",
              "      <td>emang lemes bgt ya mulut lu, gue yg mau beli-b...</td>\n",
              "      <td>-2.0</td>\n",
              "      <td>emang lemes bgt ya mulut lu gue yg mau beli be...</td>\n",
              "      <td>[emang, lemes, bgt, ya, mulut, lu, gue, yg, ma...</td>\n",
              "      <td>[memang, lemes, banget, iya, mulut, kamu, saya...</td>\n",
              "    </tr>\n",
              "    <tr>\n",
              "      <th>1</th>\n",
              "      <td>Cegah mata rantai Covid-19,mari kita dirumah s...</td>\n",
              "      <td>1.0</td>\n",
              "      <td>cegah mata rantai covid number mari kita dirum...</td>\n",
              "      <td>[cegah, mata, rantai, covid, number, mari, kit...</td>\n",
              "      <td>[cegah, mata, rantai, covid, number, mari, kit...</td>\n",
              "    </tr>\n",
              "    <tr>\n",
              "      <th>2</th>\n",
              "      <td>aku mohon yaAllah semoga wabah covid-19 menghi...</td>\n",
              "      <td>-1.0</td>\n",
              "      <td>aku mohon yaallah semoga wabah covid number me...</td>\n",
              "      <td>[aku, mohon, yaallah, semoga, wabah, covid, nu...</td>\n",
              "      <td>[aku, mohon, yaallah, semoga, wabah, covid, nu...</td>\n",
              "    </tr>\n",
              "    <tr>\n",
              "      <th>3</th>\n",
              "      <td>Pemprov Papua Naikkan Status Jadi Tanggap Daru...</td>\n",
              "      <td>1.0</td>\n",
              "      <td>pemprov papua naikkan status jadi tanggap daru...</td>\n",
              "      <td>[pemprov, papua, naikkan, status, jadi, tangga...</td>\n",
              "      <td>[pemprov, papua, naikkan, status, jadi, tangga...</td>\n",
              "    </tr>\n",
              "    <tr>\n",
              "      <th>4</th>\n",
              "      <td>Covid belum nyampe prigen mbak hmm hoax</td>\n",
              "      <td>-2.0</td>\n",
              "      <td>covid belum nyampe prigen mbak hmm hoax</td>\n",
              "      <td>[covid, belum, nyampe, prigen, mbak, hmm, hoax]</td>\n",
              "      <td>[covid, belum, nyampe, prigen, mbak, aduh, boh...</td>\n",
              "    </tr>\n",
              "  </tbody>\n",
              "</table>\n",
              "</div>\n",
              "      <button class=\"colab-df-convert\" onclick=\"convertToInteractive('df-436ef1cd-cddc-4e9e-bca0-b52ee5d7d66e')\"\n",
              "              title=\"Convert this dataframe to an interactive table.\"\n",
              "              style=\"display:none;\">\n",
              "        \n",
              "  <svg xmlns=\"http://www.w3.org/2000/svg\" height=\"24px\"viewBox=\"0 0 24 24\"\n",
              "       width=\"24px\">\n",
              "    <path d=\"M0 0h24v24H0V0z\" fill=\"none\"/>\n",
              "    <path d=\"M18.56 5.44l.94 2.06.94-2.06 2.06-.94-2.06-.94-.94-2.06-.94 2.06-2.06.94zm-11 1L8.5 8.5l.94-2.06 2.06-.94-2.06-.94L8.5 2.5l-.94 2.06-2.06.94zm10 10l.94 2.06.94-2.06 2.06-.94-2.06-.94-.94-2.06-.94 2.06-2.06.94z\"/><path d=\"M17.41 7.96l-1.37-1.37c-.4-.4-.92-.59-1.43-.59-.52 0-1.04.2-1.43.59L10.3 9.45l-7.72 7.72c-.78.78-.78 2.05 0 2.83L4 21.41c.39.39.9.59 1.41.59.51 0 1.02-.2 1.41-.59l7.78-7.78 2.81-2.81c.8-.78.8-2.07 0-2.86zM5.41 20L4 18.59l7.72-7.72 1.47 1.35L5.41 20z\"/>\n",
              "  </svg>\n",
              "      </button>\n",
              "      \n",
              "  <style>\n",
              "    .colab-df-container {\n",
              "      display:flex;\n",
              "      flex-wrap:wrap;\n",
              "      gap: 12px;\n",
              "    }\n",
              "\n",
              "    .colab-df-convert {\n",
              "      background-color: #E8F0FE;\n",
              "      border: none;\n",
              "      border-radius: 50%;\n",
              "      cursor: pointer;\n",
              "      display: none;\n",
              "      fill: #1967D2;\n",
              "      height: 32px;\n",
              "      padding: 0 0 0 0;\n",
              "      width: 32px;\n",
              "    }\n",
              "\n",
              "    .colab-df-convert:hover {\n",
              "      background-color: #E2EBFA;\n",
              "      box-shadow: 0px 1px 2px rgba(60, 64, 67, 0.3), 0px 1px 3px 1px rgba(60, 64, 67, 0.15);\n",
              "      fill: #174EA6;\n",
              "    }\n",
              "\n",
              "    [theme=dark] .colab-df-convert {\n",
              "      background-color: #3B4455;\n",
              "      fill: #D2E3FC;\n",
              "    }\n",
              "\n",
              "    [theme=dark] .colab-df-convert:hover {\n",
              "      background-color: #434B5C;\n",
              "      box-shadow: 0px 1px 3px 1px rgba(0, 0, 0, 0.15);\n",
              "      filter: drop-shadow(0px 1px 2px rgba(0, 0, 0, 0.3));\n",
              "      fill: #FFFFFF;\n",
              "    }\n",
              "  </style>\n",
              "\n",
              "      <script>\n",
              "        const buttonEl =\n",
              "          document.querySelector('#df-436ef1cd-cddc-4e9e-bca0-b52ee5d7d66e button.colab-df-convert');\n",
              "        buttonEl.style.display =\n",
              "          google.colab.kernel.accessAllowed ? 'block' : 'none';\n",
              "\n",
              "        async function convertToInteractive(key) {\n",
              "          const element = document.querySelector('#df-436ef1cd-cddc-4e9e-bca0-b52ee5d7d66e');\n",
              "          const dataTable =\n",
              "            await google.colab.kernel.invokeFunction('convertToInteractive',\n",
              "                                                     [key], {});\n",
              "          if (!dataTable) return;\n",
              "\n",
              "          const docLinkHtml = 'Like what you see? Visit the ' +\n",
              "            '<a target=\"_blank\" href=https://colab.research.google.com/notebooks/data_table.ipynb>data table notebook</a>'\n",
              "            + ' to learn more about interactive tables.';\n",
              "          element.innerHTML = '';\n",
              "          dataTable['output_type'] = 'display_data';\n",
              "          await google.colab.output.renderOutput(dataTable, element);\n",
              "          const docLink = document.createElement('div');\n",
              "          docLink.innerHTML = docLinkHtml;\n",
              "          element.appendChild(docLink);\n",
              "        }\n",
              "      </script>\n",
              "    </div>\n",
              "  </div>\n",
              "  "
            ]
          },
          "metadata": {},
          "execution_count": 21
        }
      ]
    },
    {
      "cell_type": "markdown",
      "source": [
        "### Tampilan Sebelum dan Sesudah Perbaikan Kata"
      ],
      "metadata": {
        "id": "Foith7tkNgOv"
      }
    },
    {
      "cell_type": "code",
      "source": [
        "# Sebelum\n",
        "df_new.iloc[0].tokens"
      ],
      "metadata": {
        "id": "_42tP58iNkBd",
        "colab": {
          "base_uri": "https://localhost:8080/"
        },
        "outputId": "4de3ae5d-489a-4059-c5a8-1131190662f2"
      },
      "execution_count": null,
      "outputs": [
        {
          "output_type": "execute_result",
          "data": {
            "text/plain": [
              "['emang',\n",
              " 'lemes',\n",
              " 'bgt',\n",
              " 'ya',\n",
              " 'mulut',\n",
              " 'lu',\n",
              " 'gue',\n",
              " 'yg',\n",
              " 'mau',\n",
              " 'beli',\n",
              " 'beli',\n",
              " 'obat',\n",
              " 'aja',\n",
              " 'mikirr',\n",
              " 'drmn',\n",
              " 'bisa',\n",
              " 'beli',\n",
              " 'obat',\n",
              " 'kalo',\n",
              " 'ga',\n",
              " 'kerja',\n",
              " 'devil']"
            ]
          },
          "metadata": {},
          "execution_count": 22
        }
      ]
    },
    {
      "cell_type": "code",
      "source": [
        "# Sesudah\n",
        "df_new.iloc[0].tokens_perbaikan"
      ],
      "metadata": {
        "id": "s1roolOKNld2",
        "colab": {
          "base_uri": "https://localhost:8080/"
        },
        "outputId": "93c7cd6f-42ed-4b3d-9632-b16759a684e9"
      },
      "execution_count": null,
      "outputs": [
        {
          "output_type": "execute_result",
          "data": {
            "text/plain": [
              "['memang',\n",
              " 'lemes',\n",
              " 'banget',\n",
              " 'iya',\n",
              " 'mulut',\n",
              " 'kamu',\n",
              " 'saya',\n",
              " 'yang',\n",
              " 'mau',\n",
              " 'beli',\n",
              " 'beli',\n",
              " 'obat',\n",
              " 'saja',\n",
              " 'mikirr',\n",
              " 'drmn',\n",
              " 'bisa',\n",
              " 'beli',\n",
              " 'obat',\n",
              " 'kalau',\n",
              " 'tidak',\n",
              " 'kerja',\n",
              " 'devil']"
            ]
          },
          "metadata": {},
          "execution_count": 23
        }
      ]
    },
    {
      "cell_type": "markdown",
      "source": [
        "## Stopword"
      ],
      "metadata": {
        "id": "j4FFlYAE4XS9"
      }
    },
    {
      "cell_type": "code",
      "source": [
        "from nltk.corpus import stopwords\n",
        "nltk.download(\"stopwords\")"
      ],
      "metadata": {
        "id": "eGrqIyy-Mpt-",
        "colab": {
          "base_uri": "https://localhost:8080/"
        },
        "outputId": "a9c0e332-db65-4ca0-989e-5d0370641be8"
      },
      "execution_count": null,
      "outputs": [
        {
          "output_type": "stream",
          "name": "stderr",
          "text": [
            "[nltk_data] Downloading package stopwords to /root/nltk_data...\n",
            "[nltk_data]   Unzipping corpora/stopwords.zip.\n"
          ]
        },
        {
          "output_type": "execute_result",
          "data": {
            "text/plain": [
              "True"
            ]
          },
          "metadata": {},
          "execution_count": 24
        }
      ]
    },
    {
      "cell_type": "code",
      "source": [
        "stopword = nltk.corpus.stopwords.words('indonesian')\n",
        "\n",
        "def remove_stopwords(text):\n",
        "  text = [word for word in text if word not in stopword]\n",
        "  return text\n",
        "\n",
        "df_new['Stop_removal'] = df_new['tokens_perbaikan'].apply(lambda x: remove_stopwords(x))\n",
        "df_new"
      ],
      "metadata": {
        "id": "2DTp7ahONxil",
        "colab": {
          "base_uri": "https://localhost:8080/",
          "height": 1000
        },
        "outputId": "624d5260-5331-4620-bc0d-1634a50015b8"
      },
      "execution_count": null,
      "outputs": [
        {
          "output_type": "execute_result",
          "data": {
            "text/plain": [
              "                                                 Tweet  Emosi  \\\n",
              "0    emang lemes bgt ya mulut lu, gue yg mau beli-b...   -2.0   \n",
              "1    Cegah mata rantai Covid-19,mari kita dirumah s...    1.0   \n",
              "2    aku mohon yaAllah semoga wabah covid-19 menghi...   -1.0   \n",
              "3    Pemprov Papua Naikkan Status Jadi Tanggap Daru...    1.0   \n",
              "4              Covid belum nyampe prigen mbak hmm hoax   -2.0   \n",
              "..                                                 ...    ...   \n",
              "900  Seluruh negara di dunia mengalami masa sulit k...   -2.0   \n",
              "901  Setelah covid dan skripsi disaster selesai, ma...    2.0   \n",
              "902  Malam ini!! Projek \"BENDA BOLEH BINCANG\" 9 mal...    1.0   \n",
              "903                Pontang - panting di koyak covid 19   -2.0   \n",
              "904  Masalahnya sekarang isu jangkitan covid. Alaaa...   -2.0   \n",
              "\n",
              "                                                step01  \\\n",
              "0    emang lemes bgt ya mulut lu gue yg mau beli be...   \n",
              "1    cegah mata rantai covid number mari kita dirum...   \n",
              "2    aku mohon yaallah semoga wabah covid number me...   \n",
              "3    pemprov papua naikkan status jadi tanggap daru...   \n",
              "4              covid belum nyampe prigen mbak hmm hoax   \n",
              "..                                                 ...   \n",
              "900  seluruh negara di dunia mengalami masa sulit k...   \n",
              "901  setelah covid dan skripsi disaster selesai mau...   \n",
              "902  malam ini repeated projek allcaps benda boleh ...   \n",
              "903              pontang panting di koyak covid number   \n",
              "904  masalahnya sekarang isu jangkitan covid ala el...   \n",
              "\n",
              "                                                tokens  \\\n",
              "0    [emang, lemes, bgt, ya, mulut, lu, gue, yg, ma...   \n",
              "1    [cegah, mata, rantai, covid, number, mari, kit...   \n",
              "2    [aku, mohon, yaallah, semoga, wabah, covid, nu...   \n",
              "3    [pemprov, papua, naikkan, status, jadi, tangga...   \n",
              "4      [covid, belum, nyampe, prigen, mbak, hmm, hoax]   \n",
              "..                                                 ...   \n",
              "900  [seluruh, negara, di, dunia, mengalami, masa, ...   \n",
              "901  [setelah, covid, dan, skripsi, disaster, seles...   \n",
              "902  [malam, ini, repeated, projek, allcaps, benda,...   \n",
              "903       [pontang, panting, di, koyak, covid, number]   \n",
              "904  [masalahnya, sekarang, isu, jangkitan, covid, ...   \n",
              "\n",
              "                                      tokens_perbaikan  \\\n",
              "0    [memang, lemes, banget, iya, mulut, kamu, saya...   \n",
              "1    [cegah, mata, rantai, covid, number, mari, kit...   \n",
              "2    [aku, mohon, yaallah, semoga, wabah, covid, nu...   \n",
              "3    [pemprov, papua, naikkan, status, jadi, tangga...   \n",
              "4    [covid, belum, nyampe, prigen, mbak, aduh, boh...   \n",
              "..                                                 ...   \n",
              "900  [seluruh, negara, di, dunia, mengalami, masa, ...   \n",
              "901  [setelah, covid, dan, skripsi, disaster, seles...   \n",
              "902  [malam, ini, repeated, proyek, allcaps, benda,...   \n",
              "903       [pontang, panting, di, koyak, covid, number]   \n",
              "904  [masalahnya, sekarang, isu, jangkitan, covid, ...   \n",
              "\n",
              "                                          Stop_removal  \n",
              "0    [lemes, banget, iya, mulut, beli, beli, obat, ...  \n",
              "1    [cegah, mata, rantai, covid, number, mari, dir...  \n",
              "2    [mohon, yaallah, semoga, wabah, covid, number,...  \n",
              "3    [pemprov, papua, naikkan, status, tanggap, dar...  \n",
              "4          [covid, nyampe, prigen, mbak, aduh, bohong]  \n",
              "..                                                 ...  \n",
              "900  [negara, dunia, mengalami, sulit, covid, numbe...  \n",
              "901  [covid, skripsi, disaster, selesai, banget, be...  \n",
              "902  [malam, repeated, proyek, allcaps, benda, binc...  \n",
              "903           [pontang, panting, koyak, covid, number]  \n",
              "904  [isu, jangkitan, covid, ala, elongated, bosan,...  \n",
              "\n",
              "[904 rows x 6 columns]"
            ],
            "text/html": [
              "\n",
              "  <div id=\"df-f303fb97-31be-4c74-a74b-30fe2b053260\">\n",
              "    <div class=\"colab-df-container\">\n",
              "      <div>\n",
              "<style scoped>\n",
              "    .dataframe tbody tr th:only-of-type {\n",
              "        vertical-align: middle;\n",
              "    }\n",
              "\n",
              "    .dataframe tbody tr th {\n",
              "        vertical-align: top;\n",
              "    }\n",
              "\n",
              "    .dataframe thead th {\n",
              "        text-align: right;\n",
              "    }\n",
              "</style>\n",
              "<table border=\"1\" class=\"dataframe\">\n",
              "  <thead>\n",
              "    <tr style=\"text-align: right;\">\n",
              "      <th></th>\n",
              "      <th>Tweet</th>\n",
              "      <th>Emosi</th>\n",
              "      <th>step01</th>\n",
              "      <th>tokens</th>\n",
              "      <th>tokens_perbaikan</th>\n",
              "      <th>Stop_removal</th>\n",
              "    </tr>\n",
              "  </thead>\n",
              "  <tbody>\n",
              "    <tr>\n",
              "      <th>0</th>\n",
              "      <td>emang lemes bgt ya mulut lu, gue yg mau beli-b...</td>\n",
              "      <td>-2.0</td>\n",
              "      <td>emang lemes bgt ya mulut lu gue yg mau beli be...</td>\n",
              "      <td>[emang, lemes, bgt, ya, mulut, lu, gue, yg, ma...</td>\n",
              "      <td>[memang, lemes, banget, iya, mulut, kamu, saya...</td>\n",
              "      <td>[lemes, banget, iya, mulut, beli, beli, obat, ...</td>\n",
              "    </tr>\n",
              "    <tr>\n",
              "      <th>1</th>\n",
              "      <td>Cegah mata rantai Covid-19,mari kita dirumah s...</td>\n",
              "      <td>1.0</td>\n",
              "      <td>cegah mata rantai covid number mari kita dirum...</td>\n",
              "      <td>[cegah, mata, rantai, covid, number, mari, kit...</td>\n",
              "      <td>[cegah, mata, rantai, covid, number, mari, kit...</td>\n",
              "      <td>[cegah, mata, rantai, covid, number, mari, dir...</td>\n",
              "    </tr>\n",
              "    <tr>\n",
              "      <th>2</th>\n",
              "      <td>aku mohon yaAllah semoga wabah covid-19 menghi...</td>\n",
              "      <td>-1.0</td>\n",
              "      <td>aku mohon yaallah semoga wabah covid number me...</td>\n",
              "      <td>[aku, mohon, yaallah, semoga, wabah, covid, nu...</td>\n",
              "      <td>[aku, mohon, yaallah, semoga, wabah, covid, nu...</td>\n",
              "      <td>[mohon, yaallah, semoga, wabah, covid, number,...</td>\n",
              "    </tr>\n",
              "    <tr>\n",
              "      <th>3</th>\n",
              "      <td>Pemprov Papua Naikkan Status Jadi Tanggap Daru...</td>\n",
              "      <td>1.0</td>\n",
              "      <td>pemprov papua naikkan status jadi tanggap daru...</td>\n",
              "      <td>[pemprov, papua, naikkan, status, jadi, tangga...</td>\n",
              "      <td>[pemprov, papua, naikkan, status, jadi, tangga...</td>\n",
              "      <td>[pemprov, papua, naikkan, status, tanggap, dar...</td>\n",
              "    </tr>\n",
              "    <tr>\n",
              "      <th>4</th>\n",
              "      <td>Covid belum nyampe prigen mbak hmm hoax</td>\n",
              "      <td>-2.0</td>\n",
              "      <td>covid belum nyampe prigen mbak hmm hoax</td>\n",
              "      <td>[covid, belum, nyampe, prigen, mbak, hmm, hoax]</td>\n",
              "      <td>[covid, belum, nyampe, prigen, mbak, aduh, boh...</td>\n",
              "      <td>[covid, nyampe, prigen, mbak, aduh, bohong]</td>\n",
              "    </tr>\n",
              "    <tr>\n",
              "      <th>...</th>\n",
              "      <td>...</td>\n",
              "      <td>...</td>\n",
              "      <td>...</td>\n",
              "      <td>...</td>\n",
              "      <td>...</td>\n",
              "      <td>...</td>\n",
              "    </tr>\n",
              "    <tr>\n",
              "      <th>900</th>\n",
              "      <td>Seluruh negara di dunia mengalami masa sulit k...</td>\n",
              "      <td>-2.0</td>\n",
              "      <td>seluruh negara di dunia mengalami masa sulit k...</td>\n",
              "      <td>[seluruh, negara, di, dunia, mengalami, masa, ...</td>\n",
              "      <td>[seluruh, negara, di, dunia, mengalami, masa, ...</td>\n",
              "      <td>[negara, dunia, mengalami, sulit, covid, numbe...</td>\n",
              "    </tr>\n",
              "    <tr>\n",
              "      <th>901</th>\n",
              "      <td>Setelah covid dan skripsi disaster selesai, ma...</td>\n",
              "      <td>2.0</td>\n",
              "      <td>setelah covid dan skripsi disaster selesai mau...</td>\n",
              "      <td>[setelah, covid, dan, skripsi, disaster, seles...</td>\n",
              "      <td>[setelah, covid, dan, skripsi, disaster, seles...</td>\n",
              "      <td>[covid, skripsi, disaster, selesai, banget, be...</td>\n",
              "    </tr>\n",
              "    <tr>\n",
              "      <th>902</th>\n",
              "      <td>Malam ini!! Projek \"BENDA BOLEH BINCANG\" 9 mal...</td>\n",
              "      <td>1.0</td>\n",
              "      <td>malam ini repeated projek allcaps benda boleh ...</td>\n",
              "      <td>[malam, ini, repeated, projek, allcaps, benda,...</td>\n",
              "      <td>[malam, ini, repeated, proyek, allcaps, benda,...</td>\n",
              "      <td>[malam, repeated, proyek, allcaps, benda, binc...</td>\n",
              "    </tr>\n",
              "    <tr>\n",
              "      <th>903</th>\n",
              "      <td>Pontang - panting di koyak covid 19</td>\n",
              "      <td>-2.0</td>\n",
              "      <td>pontang panting di koyak covid number</td>\n",
              "      <td>[pontang, panting, di, koyak, covid, number]</td>\n",
              "      <td>[pontang, panting, di, koyak, covid, number]</td>\n",
              "      <td>[pontang, panting, koyak, covid, number]</td>\n",
              "    </tr>\n",
              "    <tr>\n",
              "      <th>904</th>\n",
              "      <td>Masalahnya sekarang isu jangkitan covid. Alaaa...</td>\n",
              "      <td>-2.0</td>\n",
              "      <td>masalahnya sekarang isu jangkitan covid ala el...</td>\n",
              "      <td>[masalahnya, sekarang, isu, jangkitan, covid, ...</td>\n",
              "      <td>[masalahnya, sekarang, isu, jangkitan, covid, ...</td>\n",
              "      <td>[isu, jangkitan, covid, ala, elongated, bosan,...</td>\n",
              "    </tr>\n",
              "  </tbody>\n",
              "</table>\n",
              "<p>904 rows × 6 columns</p>\n",
              "</div>\n",
              "      <button class=\"colab-df-convert\" onclick=\"convertToInteractive('df-f303fb97-31be-4c74-a74b-30fe2b053260')\"\n",
              "              title=\"Convert this dataframe to an interactive table.\"\n",
              "              style=\"display:none;\">\n",
              "        \n",
              "  <svg xmlns=\"http://www.w3.org/2000/svg\" height=\"24px\"viewBox=\"0 0 24 24\"\n",
              "       width=\"24px\">\n",
              "    <path d=\"M0 0h24v24H0V0z\" fill=\"none\"/>\n",
              "    <path d=\"M18.56 5.44l.94 2.06.94-2.06 2.06-.94-2.06-.94-.94-2.06-.94 2.06-2.06.94zm-11 1L8.5 8.5l.94-2.06 2.06-.94-2.06-.94L8.5 2.5l-.94 2.06-2.06.94zm10 10l.94 2.06.94-2.06 2.06-.94-2.06-.94-.94-2.06-.94 2.06-2.06.94z\"/><path d=\"M17.41 7.96l-1.37-1.37c-.4-.4-.92-.59-1.43-.59-.52 0-1.04.2-1.43.59L10.3 9.45l-7.72 7.72c-.78.78-.78 2.05 0 2.83L4 21.41c.39.39.9.59 1.41.59.51 0 1.02-.2 1.41-.59l7.78-7.78 2.81-2.81c.8-.78.8-2.07 0-2.86zM5.41 20L4 18.59l7.72-7.72 1.47 1.35L5.41 20z\"/>\n",
              "  </svg>\n",
              "      </button>\n",
              "      \n",
              "  <style>\n",
              "    .colab-df-container {\n",
              "      display:flex;\n",
              "      flex-wrap:wrap;\n",
              "      gap: 12px;\n",
              "    }\n",
              "\n",
              "    .colab-df-convert {\n",
              "      background-color: #E8F0FE;\n",
              "      border: none;\n",
              "      border-radius: 50%;\n",
              "      cursor: pointer;\n",
              "      display: none;\n",
              "      fill: #1967D2;\n",
              "      height: 32px;\n",
              "      padding: 0 0 0 0;\n",
              "      width: 32px;\n",
              "    }\n",
              "\n",
              "    .colab-df-convert:hover {\n",
              "      background-color: #E2EBFA;\n",
              "      box-shadow: 0px 1px 2px rgba(60, 64, 67, 0.3), 0px 1px 3px 1px rgba(60, 64, 67, 0.15);\n",
              "      fill: #174EA6;\n",
              "    }\n",
              "\n",
              "    [theme=dark] .colab-df-convert {\n",
              "      background-color: #3B4455;\n",
              "      fill: #D2E3FC;\n",
              "    }\n",
              "\n",
              "    [theme=dark] .colab-df-convert:hover {\n",
              "      background-color: #434B5C;\n",
              "      box-shadow: 0px 1px 3px 1px rgba(0, 0, 0, 0.15);\n",
              "      filter: drop-shadow(0px 1px 2px rgba(0, 0, 0, 0.3));\n",
              "      fill: #FFFFFF;\n",
              "    }\n",
              "  </style>\n",
              "\n",
              "      <script>\n",
              "        const buttonEl =\n",
              "          document.querySelector('#df-f303fb97-31be-4c74-a74b-30fe2b053260 button.colab-df-convert');\n",
              "        buttonEl.style.display =\n",
              "          google.colab.kernel.accessAllowed ? 'block' : 'none';\n",
              "\n",
              "        async function convertToInteractive(key) {\n",
              "          const element = document.querySelector('#df-f303fb97-31be-4c74-a74b-30fe2b053260');\n",
              "          const dataTable =\n",
              "            await google.colab.kernel.invokeFunction('convertToInteractive',\n",
              "                                                     [key], {});\n",
              "          if (!dataTable) return;\n",
              "\n",
              "          const docLinkHtml = 'Like what you see? Visit the ' +\n",
              "            '<a target=\"_blank\" href=https://colab.research.google.com/notebooks/data_table.ipynb>data table notebook</a>'\n",
              "            + ' to learn more about interactive tables.';\n",
              "          element.innerHTML = '';\n",
              "          dataTable['output_type'] = 'display_data';\n",
              "          await google.colab.output.renderOutput(dataTable, element);\n",
              "          const docLink = document.createElement('div');\n",
              "          docLink.innerHTML = docLinkHtml;\n",
              "          element.appendChild(docLink);\n",
              "        }\n",
              "      </script>\n",
              "    </div>\n",
              "  </div>\n",
              "  "
            ]
          },
          "metadata": {},
          "execution_count": 25
        }
      ]
    },
    {
      "cell_type": "markdown",
      "source": [
        "### Tampilan Sebelum dan Sesudah Stopword Removal"
      ],
      "metadata": {
        "id": "Lt8cWj0AN7IM"
      }
    },
    {
      "cell_type": "code",
      "source": [
        "# Sebelum\n",
        "df_new.iloc[0].tokens_perbaikan"
      ],
      "metadata": {
        "id": "weQRfR2MN92V",
        "colab": {
          "base_uri": "https://localhost:8080/"
        },
        "outputId": "45fb4ff8-6f27-42bf-95d5-4d27acc67504"
      },
      "execution_count": null,
      "outputs": [
        {
          "output_type": "execute_result",
          "data": {
            "text/plain": [
              "['memang',\n",
              " 'lemes',\n",
              " 'banget',\n",
              " 'iya',\n",
              " 'mulut',\n",
              " 'kamu',\n",
              " 'saya',\n",
              " 'yang',\n",
              " 'mau',\n",
              " 'beli',\n",
              " 'beli',\n",
              " 'obat',\n",
              " 'saja',\n",
              " 'mikirr',\n",
              " 'drmn',\n",
              " 'bisa',\n",
              " 'beli',\n",
              " 'obat',\n",
              " 'kalau',\n",
              " 'tidak',\n",
              " 'kerja',\n",
              " 'devil']"
            ]
          },
          "metadata": {},
          "execution_count": 26
        }
      ]
    },
    {
      "cell_type": "code",
      "source": [
        "# Sesudah\n",
        "df_new.iloc[0].Stop_removal"
      ],
      "metadata": {
        "id": "CWygXahmOMwl",
        "colab": {
          "base_uri": "https://localhost:8080/"
        },
        "outputId": "bd6c1ffe-3bb3-4a80-ddd8-9cc553544871"
      },
      "execution_count": null,
      "outputs": [
        {
          "output_type": "execute_result",
          "data": {
            "text/plain": [
              "['lemes',\n",
              " 'banget',\n",
              " 'iya',\n",
              " 'mulut',\n",
              " 'beli',\n",
              " 'beli',\n",
              " 'obat',\n",
              " 'mikirr',\n",
              " 'drmn',\n",
              " 'beli',\n",
              " 'obat',\n",
              " 'kerja',\n",
              " 'devil']"
            ]
          },
          "metadata": {},
          "execution_count": 27
        }
      ]
    },
    {
      "cell_type": "code",
      "source": [
        "i=0\n",
        "final_string_tokens = []\n",
        "for text in df_new['Stop_removal'].values:\n",
        "    EachReviewText = \"\"\n",
        "    EachReviewText = ' '.join(text)\n",
        "    final_string_tokens.append(EachReviewText)"
      ],
      "metadata": {
        "id": "hip0fdnRORR3"
      },
      "execution_count": null,
      "outputs": []
    },
    {
      "cell_type": "code",
      "source": [
        "df_new[\"step02\"] = final_string_tokens"
      ],
      "metadata": {
        "id": "vPV1KNlzOXOv"
      },
      "execution_count": null,
      "outputs": []
    },
    {
      "cell_type": "code",
      "source": [
        "df_new.head()"
      ],
      "metadata": {
        "id": "mFpaI1jEOXox",
        "colab": {
          "base_uri": "https://localhost:8080/",
          "height": 825
        },
        "outputId": "d17ee269-b216-4153-bb65-acf00eae9096"
      },
      "execution_count": null,
      "outputs": [
        {
          "output_type": "execute_result",
          "data": {
            "text/plain": [
              "                                               Tweet  Emosi  \\\n",
              "0  emang lemes bgt ya mulut lu, gue yg mau beli-b...   -2.0   \n",
              "1  Cegah mata rantai Covid-19,mari kita dirumah s...    1.0   \n",
              "2  aku mohon yaAllah semoga wabah covid-19 menghi...   -1.0   \n",
              "3  Pemprov Papua Naikkan Status Jadi Tanggap Daru...    1.0   \n",
              "4            Covid belum nyampe prigen mbak hmm hoax   -2.0   \n",
              "\n",
              "                                              step01  \\\n",
              "0  emang lemes bgt ya mulut lu gue yg mau beli be...   \n",
              "1  cegah mata rantai covid number mari kita dirum...   \n",
              "2  aku mohon yaallah semoga wabah covid number me...   \n",
              "3  pemprov papua naikkan status jadi tanggap daru...   \n",
              "4            covid belum nyampe prigen mbak hmm hoax   \n",
              "\n",
              "                                              tokens  \\\n",
              "0  [emang, lemes, bgt, ya, mulut, lu, gue, yg, ma...   \n",
              "1  [cegah, mata, rantai, covid, number, mari, kit...   \n",
              "2  [aku, mohon, yaallah, semoga, wabah, covid, nu...   \n",
              "3  [pemprov, papua, naikkan, status, jadi, tangga...   \n",
              "4    [covid, belum, nyampe, prigen, mbak, hmm, hoax]   \n",
              "\n",
              "                                    tokens_perbaikan  \\\n",
              "0  [memang, lemes, banget, iya, mulut, kamu, saya...   \n",
              "1  [cegah, mata, rantai, covid, number, mari, kit...   \n",
              "2  [aku, mohon, yaallah, semoga, wabah, covid, nu...   \n",
              "3  [pemprov, papua, naikkan, status, jadi, tangga...   \n",
              "4  [covid, belum, nyampe, prigen, mbak, aduh, boh...   \n",
              "\n",
              "                                        Stop_removal  \\\n",
              "0  [lemes, banget, iya, mulut, beli, beli, obat, ...   \n",
              "1  [cegah, mata, rantai, covid, number, mari, dir...   \n",
              "2  [mohon, yaallah, semoga, wabah, covid, number,...   \n",
              "3  [pemprov, papua, naikkan, status, tanggap, dar...   \n",
              "4        [covid, nyampe, prigen, mbak, aduh, bohong]   \n",
              "\n",
              "                                              step02  \n",
              "0  lemes banget iya mulut beli beli obat mikirr d...  \n",
              "1  cegah mata rantai covid number mari dirumah mi...  \n",
              "2  mohon yaallah semoga wabah covid number menghi...  \n",
              "3  pemprov papua naikkan status tanggap darurat c...  \n",
              "4               covid nyampe prigen mbak aduh bohong  "
            ],
            "text/html": [
              "\n",
              "  <div id=\"df-7b46b74e-2351-447f-97e2-351cd95db58a\">\n",
              "    <div class=\"colab-df-container\">\n",
              "      <div>\n",
              "<style scoped>\n",
              "    .dataframe tbody tr th:only-of-type {\n",
              "        vertical-align: middle;\n",
              "    }\n",
              "\n",
              "    .dataframe tbody tr th {\n",
              "        vertical-align: top;\n",
              "    }\n",
              "\n",
              "    .dataframe thead th {\n",
              "        text-align: right;\n",
              "    }\n",
              "</style>\n",
              "<table border=\"1\" class=\"dataframe\">\n",
              "  <thead>\n",
              "    <tr style=\"text-align: right;\">\n",
              "      <th></th>\n",
              "      <th>Tweet</th>\n",
              "      <th>Emosi</th>\n",
              "      <th>step01</th>\n",
              "      <th>tokens</th>\n",
              "      <th>tokens_perbaikan</th>\n",
              "      <th>Stop_removal</th>\n",
              "      <th>step02</th>\n",
              "    </tr>\n",
              "  </thead>\n",
              "  <tbody>\n",
              "    <tr>\n",
              "      <th>0</th>\n",
              "      <td>emang lemes bgt ya mulut lu, gue yg mau beli-b...</td>\n",
              "      <td>-2.0</td>\n",
              "      <td>emang lemes bgt ya mulut lu gue yg mau beli be...</td>\n",
              "      <td>[emang, lemes, bgt, ya, mulut, lu, gue, yg, ma...</td>\n",
              "      <td>[memang, lemes, banget, iya, mulut, kamu, saya...</td>\n",
              "      <td>[lemes, banget, iya, mulut, beli, beli, obat, ...</td>\n",
              "      <td>lemes banget iya mulut beli beli obat mikirr d...</td>\n",
              "    </tr>\n",
              "    <tr>\n",
              "      <th>1</th>\n",
              "      <td>Cegah mata rantai Covid-19,mari kita dirumah s...</td>\n",
              "      <td>1.0</td>\n",
              "      <td>cegah mata rantai covid number mari kita dirum...</td>\n",
              "      <td>[cegah, mata, rantai, covid, number, mari, kit...</td>\n",
              "      <td>[cegah, mata, rantai, covid, number, mari, kit...</td>\n",
              "      <td>[cegah, mata, rantai, covid, number, mari, dir...</td>\n",
              "      <td>cegah mata rantai covid number mari dirumah mi...</td>\n",
              "    </tr>\n",
              "    <tr>\n",
              "      <th>2</th>\n",
              "      <td>aku mohon yaAllah semoga wabah covid-19 menghi...</td>\n",
              "      <td>-1.0</td>\n",
              "      <td>aku mohon yaallah semoga wabah covid number me...</td>\n",
              "      <td>[aku, mohon, yaallah, semoga, wabah, covid, nu...</td>\n",
              "      <td>[aku, mohon, yaallah, semoga, wabah, covid, nu...</td>\n",
              "      <td>[mohon, yaallah, semoga, wabah, covid, number,...</td>\n",
              "      <td>mohon yaallah semoga wabah covid number menghi...</td>\n",
              "    </tr>\n",
              "    <tr>\n",
              "      <th>3</th>\n",
              "      <td>Pemprov Papua Naikkan Status Jadi Tanggap Daru...</td>\n",
              "      <td>1.0</td>\n",
              "      <td>pemprov papua naikkan status jadi tanggap daru...</td>\n",
              "      <td>[pemprov, papua, naikkan, status, jadi, tangga...</td>\n",
              "      <td>[pemprov, papua, naikkan, status, jadi, tangga...</td>\n",
              "      <td>[pemprov, papua, naikkan, status, tanggap, dar...</td>\n",
              "      <td>pemprov papua naikkan status tanggap darurat c...</td>\n",
              "    </tr>\n",
              "    <tr>\n",
              "      <th>4</th>\n",
              "      <td>Covid belum nyampe prigen mbak hmm hoax</td>\n",
              "      <td>-2.0</td>\n",
              "      <td>covid belum nyampe prigen mbak hmm hoax</td>\n",
              "      <td>[covid, belum, nyampe, prigen, mbak, hmm, hoax]</td>\n",
              "      <td>[covid, belum, nyampe, prigen, mbak, aduh, boh...</td>\n",
              "      <td>[covid, nyampe, prigen, mbak, aduh, bohong]</td>\n",
              "      <td>covid nyampe prigen mbak aduh bohong</td>\n",
              "    </tr>\n",
              "  </tbody>\n",
              "</table>\n",
              "</div>\n",
              "      <button class=\"colab-df-convert\" onclick=\"convertToInteractive('df-7b46b74e-2351-447f-97e2-351cd95db58a')\"\n",
              "              title=\"Convert this dataframe to an interactive table.\"\n",
              "              style=\"display:none;\">\n",
              "        \n",
              "  <svg xmlns=\"http://www.w3.org/2000/svg\" height=\"24px\"viewBox=\"0 0 24 24\"\n",
              "       width=\"24px\">\n",
              "    <path d=\"M0 0h24v24H0V0z\" fill=\"none\"/>\n",
              "    <path d=\"M18.56 5.44l.94 2.06.94-2.06 2.06-.94-2.06-.94-.94-2.06-.94 2.06-2.06.94zm-11 1L8.5 8.5l.94-2.06 2.06-.94-2.06-.94L8.5 2.5l-.94 2.06-2.06.94zm10 10l.94 2.06.94-2.06 2.06-.94-2.06-.94-.94-2.06-.94 2.06-2.06.94z\"/><path d=\"M17.41 7.96l-1.37-1.37c-.4-.4-.92-.59-1.43-.59-.52 0-1.04.2-1.43.59L10.3 9.45l-7.72 7.72c-.78.78-.78 2.05 0 2.83L4 21.41c.39.39.9.59 1.41.59.51 0 1.02-.2 1.41-.59l7.78-7.78 2.81-2.81c.8-.78.8-2.07 0-2.86zM5.41 20L4 18.59l7.72-7.72 1.47 1.35L5.41 20z\"/>\n",
              "  </svg>\n",
              "      </button>\n",
              "      \n",
              "  <style>\n",
              "    .colab-df-container {\n",
              "      display:flex;\n",
              "      flex-wrap:wrap;\n",
              "      gap: 12px;\n",
              "    }\n",
              "\n",
              "    .colab-df-convert {\n",
              "      background-color: #E8F0FE;\n",
              "      border: none;\n",
              "      border-radius: 50%;\n",
              "      cursor: pointer;\n",
              "      display: none;\n",
              "      fill: #1967D2;\n",
              "      height: 32px;\n",
              "      padding: 0 0 0 0;\n",
              "      width: 32px;\n",
              "    }\n",
              "\n",
              "    .colab-df-convert:hover {\n",
              "      background-color: #E2EBFA;\n",
              "      box-shadow: 0px 1px 2px rgba(60, 64, 67, 0.3), 0px 1px 3px 1px rgba(60, 64, 67, 0.15);\n",
              "      fill: #174EA6;\n",
              "    }\n",
              "\n",
              "    [theme=dark] .colab-df-convert {\n",
              "      background-color: #3B4455;\n",
              "      fill: #D2E3FC;\n",
              "    }\n",
              "\n",
              "    [theme=dark] .colab-df-convert:hover {\n",
              "      background-color: #434B5C;\n",
              "      box-shadow: 0px 1px 3px 1px rgba(0, 0, 0, 0.15);\n",
              "      filter: drop-shadow(0px 1px 2px rgba(0, 0, 0, 0.3));\n",
              "      fill: #FFFFFF;\n",
              "    }\n",
              "  </style>\n",
              "\n",
              "      <script>\n",
              "        const buttonEl =\n",
              "          document.querySelector('#df-7b46b74e-2351-447f-97e2-351cd95db58a button.colab-df-convert');\n",
              "        buttonEl.style.display =\n",
              "          google.colab.kernel.accessAllowed ? 'block' : 'none';\n",
              "\n",
              "        async function convertToInteractive(key) {\n",
              "          const element = document.querySelector('#df-7b46b74e-2351-447f-97e2-351cd95db58a');\n",
              "          const dataTable =\n",
              "            await google.colab.kernel.invokeFunction('convertToInteractive',\n",
              "                                                     [key], {});\n",
              "          if (!dataTable) return;\n",
              "\n",
              "          const docLinkHtml = 'Like what you see? Visit the ' +\n",
              "            '<a target=\"_blank\" href=https://colab.research.google.com/notebooks/data_table.ipynb>data table notebook</a>'\n",
              "            + ' to learn more about interactive tables.';\n",
              "          element.innerHTML = '';\n",
              "          dataTable['output_type'] = 'display_data';\n",
              "          await google.colab.output.renderOutput(dataTable, element);\n",
              "          const docLink = document.createElement('div');\n",
              "          docLink.innerHTML = docLinkHtml;\n",
              "          element.appendChild(docLink);\n",
              "        }\n",
              "      </script>\n",
              "    </div>\n",
              "  </div>\n",
              "  "
            ]
          },
          "metadata": {},
          "execution_count": 30
        }
      ]
    },
    {
      "cell_type": "markdown",
      "source": [
        "## Stemming - Menggunakan Sastrawi"
      ],
      "metadata": {
        "id": "NwBN1GHg4egP"
      }
    },
    {
      "cell_type": "code",
      "source": [
        "!pip install sastrawi"
      ],
      "metadata": {
        "id": "gec06BDYOgaF",
        "colab": {
          "base_uri": "https://localhost:8080/"
        },
        "outputId": "792fd1fc-d52c-4edc-e6cf-22e71b113324"
      },
      "execution_count": null,
      "outputs": [
        {
          "output_type": "stream",
          "name": "stdout",
          "text": [
            "Looking in indexes: https://pypi.org/simple, https://us-python.pkg.dev/colab-wheels/public/simple/\n",
            "Collecting sastrawi\n",
            "  Downloading Sastrawi-1.0.1-py2.py3-none-any.whl (209 kB)\n",
            "\u001b[?25l\r\u001b[K     |█▋                              | 10 kB 19.4 MB/s eta 0:00:01\r\u001b[K     |███▏                            | 20 kB 25.9 MB/s eta 0:00:01\r\u001b[K     |████▊                           | 30 kB 34.0 MB/s eta 0:00:01\r\u001b[K     |██████▎                         | 40 kB 30.9 MB/s eta 0:00:01\r\u001b[K     |███████▉                        | 51 kB 21.8 MB/s eta 0:00:01\r\u001b[K     |█████████▍                      | 61 kB 24.5 MB/s eta 0:00:01\r\u001b[K     |███████████                     | 71 kB 24.8 MB/s eta 0:00:01\r\u001b[K     |████████████▌                   | 81 kB 26.6 MB/s eta 0:00:01\r\u001b[K     |██████████████                  | 92 kB 28.6 MB/s eta 0:00:01\r\u001b[K     |███████████████▋                | 102 kB 30.8 MB/s eta 0:00:01\r\u001b[K     |█████████████████▏              | 112 kB 30.8 MB/s eta 0:00:01\r\u001b[K     |██████████████████▊             | 122 kB 30.8 MB/s eta 0:00:01\r\u001b[K     |████████████████████▎           | 133 kB 30.8 MB/s eta 0:00:01\r\u001b[K     |█████████████████████▉          | 143 kB 30.8 MB/s eta 0:00:01\r\u001b[K     |███████████████████████▍        | 153 kB 30.8 MB/s eta 0:00:01\r\u001b[K     |█████████████████████████       | 163 kB 30.8 MB/s eta 0:00:01\r\u001b[K     |██████████████████████████▋     | 174 kB 30.8 MB/s eta 0:00:01\r\u001b[K     |████████████████████████████▏   | 184 kB 30.8 MB/s eta 0:00:01\r\u001b[K     |█████████████████████████████▊  | 194 kB 30.8 MB/s eta 0:00:01\r\u001b[K     |███████████████████████████████▎| 204 kB 30.8 MB/s eta 0:00:01\r\u001b[K     |████████████████████████████████| 209 kB 30.8 MB/s \n",
            "\u001b[?25hInstalling collected packages: sastrawi\n",
            "Successfully installed sastrawi-1.0.1\n"
          ]
        }
      ]
    },
    {
      "cell_type": "code",
      "source": [
        "from Sastrawi.Stemmer.StemmerFactory import StemmerFactory\n",
        "factory = StemmerFactory()\n",
        "stemmer = factory.create_stemmer()"
      ],
      "metadata": {
        "id": "8b4oxC2fOkLu"
      },
      "execution_count": null,
      "outputs": []
    },
    {
      "cell_type": "code",
      "source": [
        "final_string = []\n",
        "s = \"\"\n",
        "for sentence in df_new[\"step02\"].values:\n",
        "    filteredSentence = []\n",
        "    EachReviewText = \"\"\n",
        "    s = (stemmer.stem(sentence))\n",
        "    filteredSentence.append(s)\n",
        "    \n",
        "    EachReviewText = ' '.join(filteredSentence)\n",
        "    final_string.append(EachReviewText)"
      ],
      "metadata": {
        "id": "mI7x313xOqfd"
      },
      "execution_count": null,
      "outputs": []
    },
    {
      "cell_type": "code",
      "source": [
        "df_new[\"ProcessedText\"] = final_string"
      ],
      "metadata": {
        "id": "X9DyJORdOr6Q"
      },
      "execution_count": null,
      "outputs": []
    },
    {
      "cell_type": "code",
      "source": [
        "df_new.head(10)"
      ],
      "metadata": {
        "id": "dqQPAJCxOtl9",
        "colab": {
          "base_uri": "https://localhost:8080/",
          "height": 1000
        },
        "outputId": "f75c6358-a678-47bf-d36f-0ebb2aa2c43d"
      },
      "execution_count": null,
      "outputs": [
        {
          "output_type": "execute_result",
          "data": {
            "text/plain": [
              "                                               Tweet  Emosi  \\\n",
              "0  emang lemes bgt ya mulut lu, gue yg mau beli-b...   -2.0   \n",
              "1  Cegah mata rantai Covid-19,mari kita dirumah s...    1.0   \n",
              "2  aku mohon yaAllah semoga wabah covid-19 menghi...   -1.0   \n",
              "3  Pemprov Papua Naikkan Status Jadi Tanggap Daru...    1.0   \n",
              "4            Covid belum nyampe prigen mbak hmm hoax   -2.0   \n",
              "5  Nyuruh orang pintar, lu aja Togog. Itu kerumun...   -2.0   \n",
              "6  Pikir2 balik byk mnde plk nk setelkn lepas covid.    1.0   \n",
              "7  Selamat pagi, hari jum'at. Jum'at keempat di k...   -1.0   \n",
              "8  Hikmah di balik musibah covid-19, smg para pej...   -2.0   \n",
              "9  Cegah covid-19 beserta jajaran Polsek Kuranji ...    1.0   \n",
              "\n",
              "                                              step01  \\\n",
              "0  emang lemes bgt ya mulut lu gue yg mau beli be...   \n",
              "1  cegah mata rantai covid number mari kita dirum...   \n",
              "2  aku mohon yaallah semoga wabah covid number me...   \n",
              "3  pemprov papua naikkan status jadi tanggap daru...   \n",
              "4            covid belum nyampe prigen mbak hmm hoax   \n",
              "5  nyuruh orang pintar lu aja togog itu kerumunan...   \n",
              "6   pikir2 balik byk mnde plk nk setelkn lepas covid   \n",
              "7  selamat pagi hari jum at jum at keempat di kal...   \n",
              "8  hikmah di balik musibah covid number smg para ...   \n",
              "9  cegah covid number beserta jajaran polsek kura...   \n",
              "\n",
              "                                              tokens  \\\n",
              "0  [emang, lemes, bgt, ya, mulut, lu, gue, yg, ma...   \n",
              "1  [cegah, mata, rantai, covid, number, mari, kit...   \n",
              "2  [aku, mohon, yaallah, semoga, wabah, covid, nu...   \n",
              "3  [pemprov, papua, naikkan, status, jadi, tangga...   \n",
              "4    [covid, belum, nyampe, prigen, mbak, hmm, hoax]   \n",
              "5  [nyuruh, orang, pintar, lu, aja, togog, itu, k...   \n",
              "6  [pikir2, balik, byk, mnde, plk, nk, setelkn, l...   \n",
              "7  [selamat, pagi, hari, jum, at, jum, at, keempa...   \n",
              "8  [hikmah, di, balik, musibah, covid, number, sm...   \n",
              "9  [cegah, covid, number, beserta, jajaran, polse...   \n",
              "\n",
              "                                    tokens_perbaikan  \\\n",
              "0  [memang, lemes, banget, iya, mulut, kamu, saya...   \n",
              "1  [cegah, mata, rantai, covid, number, mari, kit...   \n",
              "2  [aku, mohon, yaallah, semoga, wabah, covid, nu...   \n",
              "3  [pemprov, papua, naikkan, status, jadi, tangga...   \n",
              "4  [covid, belum, nyampe, prigen, mbak, aduh, boh...   \n",
              "5  [nyuruh, orang, pintar, kamu, saja, togog, itu...   \n",
              "6  [pikir2, balik, banyak, mnde, plk, nk, setelkn...   \n",
              "7  [selamat, pagi, hari, jum, at, jum, at, keempa...   \n",
              "8  [hikmah, di, balik, musibah, covid, number, se...   \n",
              "9  [cegah, covid, number, beserta, jajaran, polse...   \n",
              "\n",
              "                                        Stop_removal  \\\n",
              "0  [lemes, banget, iya, mulut, beli, beli, obat, ...   \n",
              "1  [cegah, mata, rantai, covid, number, mari, dir...   \n",
              "2  [mohon, yaallah, semoga, wabah, covid, number,...   \n",
              "3  [pemprov, papua, naikkan, status, tanggap, dar...   \n",
              "4        [covid, nyampe, prigen, mbak, aduh, bohong]   \n",
              "5  [nyuruh, orang, pintar, togog, kerumunan, oran...   \n",
              "6     [pikir2, mnde, plk, nk, setelkn, lepas, covid]   \n",
              "7  [selamat, pagi, jum, at, jum, at, keempat, pan...   \n",
              "8  [hikmah, musibah, covid, number, semoga, pejab...   \n",
              "9  [cegah, covid, number, beserta, jajaran, polse...   \n",
              "\n",
              "                                              step02  \\\n",
              "0  lemes banget iya mulut beli beli obat mikirr d...   \n",
              "1  cegah mata rantai covid number mari dirumah mi...   \n",
              "2  mohon yaallah semoga wabah covid number menghi...   \n",
              "3  pemprov papua naikkan status tanggap darurat c...   \n",
              "4               covid nyampe prigen mbak aduh bohong   \n",
              "5  nyuruh orang pintar togog kerumunan orang nula...   \n",
              "6             pikir2 mnde plk nk setelkn lepas covid   \n",
              "7  selamat pagi jum at jum at keempat pandemi cov...   \n",
              "8  hikmah musibah covid number semoga pejabat pem...   \n",
              "9  cegah covid number beserta jajaran polsek kura...   \n",
              "\n",
              "                                       ProcessedText  \n",
              "0  lemes banget iya mulut beli beli obat mikirr d...  \n",
              "1  cegah mata rantai covid number mari rumah ming...  \n",
              "2  mohon yaallah moga wabah covid number hilang r...  \n",
              "3  pemprov papua naik status tanggap darurat covi...  \n",
              "4               covid nyampe prigen mbak aduh bohong  \n",
              "5  nyuruh orang pintar togog kerumun orang nulari...  \n",
              "6             pikir2 mnde plk nk setelkn lepas covid  \n",
              "7  selamat pagi jum at jum at empat pandemi covid...  \n",
              "8  hikmah musibah covid number moga jabat perinta...  \n",
              "9  cegah covid number serta jajar polsek ranji ak...  "
            ],
            "text/html": [
              "\n",
              "  <div id=\"df-ad10624b-cd64-4f55-be62-45fb07cae73d\">\n",
              "    <div class=\"colab-df-container\">\n",
              "      <div>\n",
              "<style scoped>\n",
              "    .dataframe tbody tr th:only-of-type {\n",
              "        vertical-align: middle;\n",
              "    }\n",
              "\n",
              "    .dataframe tbody tr th {\n",
              "        vertical-align: top;\n",
              "    }\n",
              "\n",
              "    .dataframe thead th {\n",
              "        text-align: right;\n",
              "    }\n",
              "</style>\n",
              "<table border=\"1\" class=\"dataframe\">\n",
              "  <thead>\n",
              "    <tr style=\"text-align: right;\">\n",
              "      <th></th>\n",
              "      <th>Tweet</th>\n",
              "      <th>Emosi</th>\n",
              "      <th>step01</th>\n",
              "      <th>tokens</th>\n",
              "      <th>tokens_perbaikan</th>\n",
              "      <th>Stop_removal</th>\n",
              "      <th>step02</th>\n",
              "      <th>ProcessedText</th>\n",
              "    </tr>\n",
              "  </thead>\n",
              "  <tbody>\n",
              "    <tr>\n",
              "      <th>0</th>\n",
              "      <td>emang lemes bgt ya mulut lu, gue yg mau beli-b...</td>\n",
              "      <td>-2.0</td>\n",
              "      <td>emang lemes bgt ya mulut lu gue yg mau beli be...</td>\n",
              "      <td>[emang, lemes, bgt, ya, mulut, lu, gue, yg, ma...</td>\n",
              "      <td>[memang, lemes, banget, iya, mulut, kamu, saya...</td>\n",
              "      <td>[lemes, banget, iya, mulut, beli, beli, obat, ...</td>\n",
              "      <td>lemes banget iya mulut beli beli obat mikirr d...</td>\n",
              "      <td>lemes banget iya mulut beli beli obat mikirr d...</td>\n",
              "    </tr>\n",
              "    <tr>\n",
              "      <th>1</th>\n",
              "      <td>Cegah mata rantai Covid-19,mari kita dirumah s...</td>\n",
              "      <td>1.0</td>\n",
              "      <td>cegah mata rantai covid number mari kita dirum...</td>\n",
              "      <td>[cegah, mata, rantai, covid, number, mari, kit...</td>\n",
              "      <td>[cegah, mata, rantai, covid, number, mari, kit...</td>\n",
              "      <td>[cegah, mata, rantai, covid, number, mari, dir...</td>\n",
              "      <td>cegah mata rantai covid number mari dirumah mi...</td>\n",
              "      <td>cegah mata rantai covid number mari rumah ming...</td>\n",
              "    </tr>\n",
              "    <tr>\n",
              "      <th>2</th>\n",
              "      <td>aku mohon yaAllah semoga wabah covid-19 menghi...</td>\n",
              "      <td>-1.0</td>\n",
              "      <td>aku mohon yaallah semoga wabah covid number me...</td>\n",
              "      <td>[aku, mohon, yaallah, semoga, wabah, covid, nu...</td>\n",
              "      <td>[aku, mohon, yaallah, semoga, wabah, covid, nu...</td>\n",
              "      <td>[mohon, yaallah, semoga, wabah, covid, number,...</td>\n",
              "      <td>mohon yaallah semoga wabah covid number menghi...</td>\n",
              "      <td>mohon yaallah moga wabah covid number hilang r...</td>\n",
              "    </tr>\n",
              "    <tr>\n",
              "      <th>3</th>\n",
              "      <td>Pemprov Papua Naikkan Status Jadi Tanggap Daru...</td>\n",
              "      <td>1.0</td>\n",
              "      <td>pemprov papua naikkan status jadi tanggap daru...</td>\n",
              "      <td>[pemprov, papua, naikkan, status, jadi, tangga...</td>\n",
              "      <td>[pemprov, papua, naikkan, status, jadi, tangga...</td>\n",
              "      <td>[pemprov, papua, naikkan, status, tanggap, dar...</td>\n",
              "      <td>pemprov papua naikkan status tanggap darurat c...</td>\n",
              "      <td>pemprov papua naik status tanggap darurat covi...</td>\n",
              "    </tr>\n",
              "    <tr>\n",
              "      <th>4</th>\n",
              "      <td>Covid belum nyampe prigen mbak hmm hoax</td>\n",
              "      <td>-2.0</td>\n",
              "      <td>covid belum nyampe prigen mbak hmm hoax</td>\n",
              "      <td>[covid, belum, nyampe, prigen, mbak, hmm, hoax]</td>\n",
              "      <td>[covid, belum, nyampe, prigen, mbak, aduh, boh...</td>\n",
              "      <td>[covid, nyampe, prigen, mbak, aduh, bohong]</td>\n",
              "      <td>covid nyampe prigen mbak aduh bohong</td>\n",
              "      <td>covid nyampe prigen mbak aduh bohong</td>\n",
              "    </tr>\n",
              "    <tr>\n",
              "      <th>5</th>\n",
              "      <td>Nyuruh orang pintar, lu aja Togog. Itu kerumun...</td>\n",
              "      <td>-2.0</td>\n",
              "      <td>nyuruh orang pintar lu aja togog itu kerumunan...</td>\n",
              "      <td>[nyuruh, orang, pintar, lu, aja, togog, itu, k...</td>\n",
              "      <td>[nyuruh, orang, pintar, kamu, saja, togog, itu...</td>\n",
              "      <td>[nyuruh, orang, pintar, togog, kerumunan, oran...</td>\n",
              "      <td>nyuruh orang pintar togog kerumunan orang nula...</td>\n",
              "      <td>nyuruh orang pintar togog kerumun orang nulari...</td>\n",
              "    </tr>\n",
              "    <tr>\n",
              "      <th>6</th>\n",
              "      <td>Pikir2 balik byk mnde plk nk setelkn lepas covid.</td>\n",
              "      <td>1.0</td>\n",
              "      <td>pikir2 balik byk mnde plk nk setelkn lepas covid</td>\n",
              "      <td>[pikir2, balik, byk, mnde, plk, nk, setelkn, l...</td>\n",
              "      <td>[pikir2, balik, banyak, mnde, plk, nk, setelkn...</td>\n",
              "      <td>[pikir2, mnde, plk, nk, setelkn, lepas, covid]</td>\n",
              "      <td>pikir2 mnde plk nk setelkn lepas covid</td>\n",
              "      <td>pikir2 mnde plk nk setelkn lepas covid</td>\n",
              "    </tr>\n",
              "    <tr>\n",
              "      <th>7</th>\n",
              "      <td>Selamat pagi, hari jum'at. Jum'at keempat di k...</td>\n",
              "      <td>-1.0</td>\n",
              "      <td>selamat pagi hari jum at jum at keempat di kal...</td>\n",
              "      <td>[selamat, pagi, hari, jum, at, jum, at, keempa...</td>\n",
              "      <td>[selamat, pagi, hari, jum, at, jum, at, keempa...</td>\n",
              "      <td>[selamat, pagi, jum, at, jum, at, keempat, pan...</td>\n",
              "      <td>selamat pagi jum at jum at keempat pandemi cov...</td>\n",
              "      <td>selamat pagi jum at jum at empat pandemi covid...</td>\n",
              "    </tr>\n",
              "    <tr>\n",
              "      <th>8</th>\n",
              "      <td>Hikmah di balik musibah covid-19, smg para pej...</td>\n",
              "      <td>-2.0</td>\n",
              "      <td>hikmah di balik musibah covid number smg para ...</td>\n",
              "      <td>[hikmah, di, balik, musibah, covid, number, sm...</td>\n",
              "      <td>[hikmah, di, balik, musibah, covid, number, se...</td>\n",
              "      <td>[hikmah, musibah, covid, number, semoga, pejab...</td>\n",
              "      <td>hikmah musibah covid number semoga pejabat pem...</td>\n",
              "      <td>hikmah musibah covid number moga jabat perinta...</td>\n",
              "    </tr>\n",
              "    <tr>\n",
              "      <th>9</th>\n",
              "      <td>Cegah covid-19 beserta jajaran Polsek Kuranji ...</td>\n",
              "      <td>1.0</td>\n",
              "      <td>cegah covid number beserta jajaran polsek kura...</td>\n",
              "      <td>[cegah, covid, number, beserta, jajaran, polse...</td>\n",
              "      <td>[cegah, covid, number, beserta, jajaran, polse...</td>\n",
              "      <td>[cegah, covid, number, beserta, jajaran, polse...</td>\n",
              "      <td>cegah covid number beserta jajaran polsek kura...</td>\n",
              "      <td>cegah covid number serta jajar polsek ranji ak...</td>\n",
              "    </tr>\n",
              "  </tbody>\n",
              "</table>\n",
              "</div>\n",
              "      <button class=\"colab-df-convert\" onclick=\"convertToInteractive('df-ad10624b-cd64-4f55-be62-45fb07cae73d')\"\n",
              "              title=\"Convert this dataframe to an interactive table.\"\n",
              "              style=\"display:none;\">\n",
              "        \n",
              "  <svg xmlns=\"http://www.w3.org/2000/svg\" height=\"24px\"viewBox=\"0 0 24 24\"\n",
              "       width=\"24px\">\n",
              "    <path d=\"M0 0h24v24H0V0z\" fill=\"none\"/>\n",
              "    <path d=\"M18.56 5.44l.94 2.06.94-2.06 2.06-.94-2.06-.94-.94-2.06-.94 2.06-2.06.94zm-11 1L8.5 8.5l.94-2.06 2.06-.94-2.06-.94L8.5 2.5l-.94 2.06-2.06.94zm10 10l.94 2.06.94-2.06 2.06-.94-2.06-.94-.94-2.06-.94 2.06-2.06.94z\"/><path d=\"M17.41 7.96l-1.37-1.37c-.4-.4-.92-.59-1.43-.59-.52 0-1.04.2-1.43.59L10.3 9.45l-7.72 7.72c-.78.78-.78 2.05 0 2.83L4 21.41c.39.39.9.59 1.41.59.51 0 1.02-.2 1.41-.59l7.78-7.78 2.81-2.81c.8-.78.8-2.07 0-2.86zM5.41 20L4 18.59l7.72-7.72 1.47 1.35L5.41 20z\"/>\n",
              "  </svg>\n",
              "      </button>\n",
              "      \n",
              "  <style>\n",
              "    .colab-df-container {\n",
              "      display:flex;\n",
              "      flex-wrap:wrap;\n",
              "      gap: 12px;\n",
              "    }\n",
              "\n",
              "    .colab-df-convert {\n",
              "      background-color: #E8F0FE;\n",
              "      border: none;\n",
              "      border-radius: 50%;\n",
              "      cursor: pointer;\n",
              "      display: none;\n",
              "      fill: #1967D2;\n",
              "      height: 32px;\n",
              "      padding: 0 0 0 0;\n",
              "      width: 32px;\n",
              "    }\n",
              "\n",
              "    .colab-df-convert:hover {\n",
              "      background-color: #E2EBFA;\n",
              "      box-shadow: 0px 1px 2px rgba(60, 64, 67, 0.3), 0px 1px 3px 1px rgba(60, 64, 67, 0.15);\n",
              "      fill: #174EA6;\n",
              "    }\n",
              "\n",
              "    [theme=dark] .colab-df-convert {\n",
              "      background-color: #3B4455;\n",
              "      fill: #D2E3FC;\n",
              "    }\n",
              "\n",
              "    [theme=dark] .colab-df-convert:hover {\n",
              "      background-color: #434B5C;\n",
              "      box-shadow: 0px 1px 3px 1px rgba(0, 0, 0, 0.15);\n",
              "      filter: drop-shadow(0px 1px 2px rgba(0, 0, 0, 0.3));\n",
              "      fill: #FFFFFF;\n",
              "    }\n",
              "  </style>\n",
              "\n",
              "      <script>\n",
              "        const buttonEl =\n",
              "          document.querySelector('#df-ad10624b-cd64-4f55-be62-45fb07cae73d button.colab-df-convert');\n",
              "        buttonEl.style.display =\n",
              "          google.colab.kernel.accessAllowed ? 'block' : 'none';\n",
              "\n",
              "        async function convertToInteractive(key) {\n",
              "          const element = document.querySelector('#df-ad10624b-cd64-4f55-be62-45fb07cae73d');\n",
              "          const dataTable =\n",
              "            await google.colab.kernel.invokeFunction('convertToInteractive',\n",
              "                                                     [key], {});\n",
              "          if (!dataTable) return;\n",
              "\n",
              "          const docLinkHtml = 'Like what you see? Visit the ' +\n",
              "            '<a target=\"_blank\" href=https://colab.research.google.com/notebooks/data_table.ipynb>data table notebook</a>'\n",
              "            + ' to learn more about interactive tables.';\n",
              "          element.innerHTML = '';\n",
              "          dataTable['output_type'] = 'display_data';\n",
              "          await google.colab.output.renderOutput(dataTable, element);\n",
              "          const docLink = document.createElement('div');\n",
              "          docLink.innerHTML = docLinkHtml;\n",
              "          element.appendChild(docLink);\n",
              "        }\n",
              "      </script>\n",
              "    </div>\n",
              "  </div>\n",
              "  "
            ]
          },
          "metadata": {},
          "execution_count": 35
        }
      ]
    },
    {
      "cell_type": "markdown",
      "source": [
        "#### Simpan Hasil Processing "
      ],
      "metadata": {
        "id": "2ZCLcOXVO684"
      }
    },
    {
      "cell_type": "code",
      "source": [
        "df_new.to_csv('/content/drive/My Drive/File AMS2023/clean_dataset_part011.csv',sep=\";\")"
      ],
      "metadata": {
        "id": "OVgDdqOMO_l_"
      },
      "execution_count": null,
      "outputs": []
    },
    {
      "cell_type": "markdown",
      "source": [
        "## Penataan Data"
      ],
      "metadata": {
        "id": "0A24yFDu4hfk"
      }
    },
    {
      "cell_type": "code",
      "source": [
        "import pandas as pd\n",
        "import numpy as np"
      ],
      "metadata": {
        "id": "e5hpQo-7Oy__"
      },
      "execution_count": null,
      "outputs": []
    },
    {
      "cell_type": "code",
      "source": [
        "dataset = pd.read_csv('/content/drive/My Drive/File AMS2023/clean_dataset_part011.csv',sep=\";\")"
      ],
      "metadata": {
        "id": "BkiZWRXQO2CV"
      },
      "execution_count": null,
      "outputs": []
    },
    {
      "cell_type": "code",
      "source": [
        "dataset.info()"
      ],
      "metadata": {
        "id": "VrC-JFTxPFbn",
        "colab": {
          "base_uri": "https://localhost:8080/"
        },
        "outputId": "89bf0faf-ccb1-404f-b99f-669e9f248bc7"
      },
      "execution_count": null,
      "outputs": [
        {
          "output_type": "stream",
          "name": "stdout",
          "text": [
            "<class 'pandas.core.frame.DataFrame'>\n",
            "RangeIndex: 904 entries, 0 to 903\n",
            "Data columns (total 9 columns):\n",
            " #   Column            Non-Null Count  Dtype  \n",
            "---  ------            --------------  -----  \n",
            " 0   Unnamed: 0        904 non-null    int64  \n",
            " 1   Tweet             904 non-null    object \n",
            " 2   Emosi             904 non-null    float64\n",
            " 3   step01            904 non-null    object \n",
            " 4   tokens            904 non-null    object \n",
            " 5   tokens_perbaikan  904 non-null    object \n",
            " 6   Stop_removal      904 non-null    object \n",
            " 7   step02            904 non-null    object \n",
            " 8   ProcessedText     904 non-null    object \n",
            "dtypes: float64(1), int64(1), object(7)\n",
            "memory usage: 63.7+ KB\n"
          ]
        }
      ]
    },
    {
      "cell_type": "code",
      "source": [
        "dataset_feature = dataset['ProcessedText'].astype(str)"
      ],
      "metadata": {
        "id": "73jKFKTYPPCp"
      },
      "execution_count": null,
      "outputs": []
    },
    {
      "cell_type": "code",
      "source": [
        "dataset_feature.head()"
      ],
      "metadata": {
        "id": "qVJXMnrLPTNV",
        "colab": {
          "base_uri": "https://localhost:8080/"
        },
        "outputId": "d2ecfb6f-a418-4acd-b8cb-6e3a06be9abb"
      },
      "execution_count": null,
      "outputs": [
        {
          "output_type": "execute_result",
          "data": {
            "text/plain": [
              "0    lemes banget iya mulut beli beli obat mikirr d...\n",
              "1    cegah mata rantai covid number mari rumah ming...\n",
              "2    mohon yaallah moga wabah covid number hilang r...\n",
              "3    pemprov papua naik status tanggap darurat covi...\n",
              "4                 covid nyampe prigen mbak aduh bohong\n",
              "Name: ProcessedText, dtype: object"
            ]
          },
          "metadata": {},
          "execution_count": 41
        }
      ]
    },
    {
      "cell_type": "code",
      "source": [
        "dataset_label = dataset['Emosi']"
      ],
      "metadata": {
        "id": "Lsrhz3F1PWKu"
      },
      "execution_count": null,
      "outputs": []
    },
    {
      "cell_type": "code",
      "source": [
        "dataset_label.head()"
      ],
      "metadata": {
        "id": "9yLAw8hVPY04",
        "colab": {
          "base_uri": "https://localhost:8080/"
        },
        "outputId": "dfc4c675-236a-4516-bfda-ccfa72fd677a"
      },
      "execution_count": null,
      "outputs": [
        {
          "output_type": "execute_result",
          "data": {
            "text/plain": [
              "0   -2.0\n",
              "1    1.0\n",
              "2   -1.0\n",
              "3    1.0\n",
              "4   -2.0\n",
              "Name: Emosi, dtype: float64"
            ]
          },
          "metadata": {},
          "execution_count": 43
        }
      ]
    },
    {
      "cell_type": "markdown",
      "source": [
        "## Ekstraksi Fitur dan Machine Learning"
      ],
      "metadata": {
        "id": "YBYFIIUq4lVI"
      }
    },
    {
      "cell_type": "code",
      "source": [
        "from sklearn.model_selection import GridSearchCV\n",
        "from sklearn.metrics import accuracy_score\n",
        "from sklearn.metrics import recall_score\n",
        "from sklearn.metrics import f1_score\n",
        "from sklearn.metrics import precision_score\n",
        "from sklearn.model_selection import train_test_split"
      ],
      "metadata": {
        "id": "kgzUpb1DPzcP"
      },
      "execution_count": null,
      "outputs": []
    },
    {
      "cell_type": "code",
      "source": [
        "train_x, test_x, train_label, test_label = train_test_split(dataset_feature, dataset_label, test_size = 0.3, random_state=42)"
      ],
      "metadata": {
        "id": "cbl8-GNzP6z5"
      },
      "execution_count": null,
      "outputs": []
    },
    {
      "cell_type": "markdown",
      "source": [
        "#### Load TF-IDF"
      ],
      "metadata": {
        "id": "DKDxxqdeQBRH"
      }
    },
    {
      "cell_type": "code",
      "source": [
        "from sklearn.feature_extraction.text import TfidfVectorizer\n",
        "Tfidf_Vectorizer = TfidfVectorizer()"
      ],
      "metadata": {
        "id": "axuA2khAQDa_"
      },
      "execution_count": null,
      "outputs": []
    },
    {
      "cell_type": "markdown",
      "source": [
        "### Naive Bayes Model"
      ],
      "metadata": {
        "id": "qwVBwKetQFoO"
      }
    },
    {
      "cell_type": "code",
      "source": [
        "from sklearn.naive_bayes import MultinomialNB"
      ],
      "metadata": {
        "id": "JGMZ0jgzP63R"
      },
      "execution_count": null,
      "outputs": []
    },
    {
      "cell_type": "code",
      "source": [
        "from sklearn.pipeline import Pipeline\n",
        "classifier_nb = Pipeline([\n",
        "    ('tfidf', TfidfVectorizer()),\n",
        "    ('model', MultinomialNB()),\n",
        "])"
      ],
      "metadata": {
        "id": "BuK03cBxP66v"
      },
      "execution_count": null,
      "outputs": []
    },
    {
      "cell_type": "code",
      "source": [
        "parameters_nb = { \n",
        "               'tfidf__ngram_range': [(1, 1), (1, 2), (1, 3), (1, 4)],\n",
        "               'model__alpha': (0.0001, 0.001, 0.1, 1, 10, 100)\n",
        "}"
      ],
      "metadata": {
        "id": "o1HNQlrZP6_F"
      },
      "execution_count": null,
      "outputs": []
    },
    {
      "cell_type": "code",
      "source": [
        "classifier_nb = GridSearchCV(classifier_nb, parameters_nb, cv = 3, n_jobs=-1)"
      ],
      "metadata": {
        "id": "t4MuFIakQPq2"
      },
      "execution_count": null,
      "outputs": []
    },
    {
      "cell_type": "code",
      "source": [
        "classifier_nb.fit(train_x, train_label.ravel())"
      ],
      "metadata": {
        "id": "zP7UzdhJQR7g",
        "colab": {
          "base_uri": "https://localhost:8080/"
        },
        "outputId": "536d89f7-cd86-41ce-e013-1900693a51cb"
      },
      "execution_count": null,
      "outputs": [
        {
          "output_type": "execute_result",
          "data": {
            "text/plain": [
              "GridSearchCV(cv=3,\n",
              "             estimator=Pipeline(steps=[('tfidf', TfidfVectorizer()),\n",
              "                                       ('model', MultinomialNB())]),\n",
              "             n_jobs=-1,\n",
              "             param_grid={'model__alpha': (0.0001, 0.001, 0.1, 1, 10, 100),\n",
              "                         'tfidf__ngram_range': [(1, 1), (1, 2), (1, 3),\n",
              "                                                (1, 4)]})"
            ]
          },
          "metadata": {},
          "execution_count": 51
        }
      ]
    },
    {
      "cell_type": "code",
      "source": [
        "y_pred_nb_train = classifier_nb.predict(train_x)\n",
        "accuracy_nb_train = accuracy_score(train_label, y_pred_nb_train)\n",
        "print(\"Accuracy Training set: \", accuracy_nb_train)\n",
        "\n",
        "y_pred_nb_test = classifier_nb.predict(test_x)\n",
        "accuracy_nb_test = accuracy_score(test_label, y_pred_nb_test)\n",
        "print(\"Accuracy Test set: \", accuracy_nb_test)"
      ],
      "metadata": {
        "id": "fBL-eXU-QUEI",
        "colab": {
          "base_uri": "https://localhost:8080/"
        },
        "outputId": "f86286c4-c92b-41b5-c597-55cedb9778c8"
      },
      "execution_count": null,
      "outputs": [
        {
          "output_type": "stream",
          "name": "stdout",
          "text": [
            "Accuracy Training set:  0.9715189873417721\n",
            "Accuracy Test set:  0.5\n"
          ]
        }
      ]
    },
    {
      "cell_type": "code",
      "source": [
        "recall_nb_train = recall_score(train_label, y_pred_nb_train, average='weighted')\n",
        "print(\"Recall Training set: \", recall_nb_train)\n",
        "\n",
        "recall_nb_test = recall_score(test_label, y_pred_nb_test, average='weighted')\n",
        "print(\"Recall Test set: \", recall_nb_test)"
      ],
      "metadata": {
        "id": "xboY2OmyQULX",
        "colab": {
          "base_uri": "https://localhost:8080/"
        },
        "outputId": "c765c9ce-257b-4f2b-adcd-18436ab9b3a6"
      },
      "execution_count": null,
      "outputs": [
        {
          "output_type": "stream",
          "name": "stdout",
          "text": [
            "Recall Training set:  0.9715189873417721\n",
            "Recall Test set:  0.5\n"
          ]
        }
      ]
    },
    {
      "cell_type": "code",
      "source": [
        "precision_nb_train = precision_score(train_label, y_pred_nb_train, average='weighted')\n",
        "print(\"Precision Training set: \", precision_nb_train)\n",
        "\n",
        "precision_nb_test = precision_score(test_label, y_pred_nb_test, average='weighted')\n",
        "print(\"Precision Test set: \", precision_nb_test)"
      ],
      "metadata": {
        "id": "bklQcXp3QPt2",
        "colab": {
          "base_uri": "https://localhost:8080/"
        },
        "outputId": "a6afc3f3-e5ef-4e1f-d947-7e8572774f86"
      },
      "execution_count": null,
      "outputs": [
        {
          "output_type": "stream",
          "name": "stdout",
          "text": [
            "Precision Training set:  0.9718338439040893\n",
            "Precision Test set:  0.5071005726128532\n"
          ]
        }
      ]
    },
    {
      "cell_type": "code",
      "source": [
        "f1_nb_train = f1_score(train_label, y_pred_nb_train, average='weighted')\n",
        "print(\"F1 Training set: \", f1_nb_train)\n",
        "\n",
        "f1_nb_test = f1_score(test_label, y_pred_nb_test, average='weighted')\n",
        "print(\"F1 Test set: \", f1_nb_test)"
      ],
      "metadata": {
        "id": "0xNAKeKBQeep",
        "colab": {
          "base_uri": "https://localhost:8080/"
        },
        "outputId": "53e84b69-f981-4f89-a103-3446ff7cc3b0"
      },
      "execution_count": null,
      "outputs": [
        {
          "output_type": "stream",
          "name": "stdout",
          "text": [
            "F1 Training set:  0.9714958597252994\n",
            "F1 Test set:  0.4815162215431114\n"
          ]
        }
      ]
    },
    {
      "cell_type": "code",
      "source": [
        "from sklearn.metrics import confusion_matrix\n",
        "sns.heatmap(confusion_matrix(test_label, y_pred_nb_test), annot=True, cmap = 'viridis', fmt='.0f')\n",
        "plt.xlabel(\"Predicted values\", fontdict = {'size':14}, labelpad = 10)\n",
        "plt.ylabel(\"Actual values\"   , fontdict = {'size':14}, labelpad = 10)\n",
        "plt.title (\"Confusion Matrix\", fontdict = {'size':18}, pad = 20)\n",
        "plt.show()"
      ],
      "metadata": {
        "id": "dIBzaf1MQkX5",
        "colab": {
          "base_uri": "https://localhost:8080/",
          "height": 323
        },
        "outputId": "34664f98-eded-4155-96b8-7b2f1b43cf14"
      },
      "execution_count": null,
      "outputs": [
        {
          "output_type": "display_data",
          "data": {
            "text/plain": [
              "<Figure size 432x288 with 2 Axes>"
            ],
            "image/png": "[encoded data removed]"
          },
          "metadata": {
            "needs_background": "light"
          }
        }
      ]
    },
    {
      "cell_type": "code",
      "source": [
        "classifier_nb.best_estimator_"
      ],
      "metadata": {
        "id": "S_R79TSqQnqH",
        "colab": {
          "base_uri": "https://localhost:8080/"
        },
        "outputId": "db5593cc-4c23-49c6-ed28-2e253dee0648"
      },
      "execution_count": null,
      "outputs": [
        {
          "output_type": "execute_result",
          "data": {
            "text/plain": [
              "Pipeline(steps=[('tfidf', TfidfVectorizer()),\n",
              "                ('model', MultinomialNB(alpha=0.1))])"
            ]
          },
          "metadata": {},
          "execution_count": 57
        }
      ]
    },
    {
      "cell_type": "code",
      "source": [
        "for param_name in sorted(parameters_nb.keys()):\n",
        "    print(\"%s: %r\" % (param_name, classifier_nb.best_params_[param_name]))"
      ],
      "metadata": {
        "id": "nOTRPYB7Qnty",
        "colab": {
          "base_uri": "https://localhost:8080/"
        },
        "outputId": "c83b887c-c928-4f9c-c220-bbdb91c91273"
      },
      "execution_count": null,
      "outputs": [
        {
          "output_type": "stream",
          "name": "stdout",
          "text": [
            "model__alpha: 0.1\n",
            "tfidf__ngram_range: (1, 1)\n"
          ]
        }
      ]
    },
    {
      "cell_type": "markdown",
      "source": [
        "## Visualisasi"
      ],
      "metadata": {
        "id": "WDVsfwAv41uw"
      }
    },
    {
      "cell_type": "code",
      "source": [
        "models = [        \n",
        "          ('Naive Bayes Multinomial', accuracy_nb_train, accuracy_nb_test),\n",
        "         ]"
      ],
      "metadata": {
        "id": "OkMT1_0U4E_l"
      },
      "execution_count": null,
      "outputs": []
    },
    {
      "cell_type": "code",
      "source": [
        "predict = pd.DataFrame(data = models, columns=['Model', 'Training Accuracy', 'Test Accuracy'])\n",
        "predict"
      ],
      "metadata": {
        "id": "hDb95-uyQsTO",
        "colab": {
          "base_uri": "https://localhost:8080/",
          "height": 81
        },
        "outputId": "370ccd8f-637e-4850-c689-82a14cc76627"
      },
      "execution_count": null,
      "outputs": [
        {
          "output_type": "execute_result",
          "data": {
            "text/plain": [
              "                     Model  Training Accuracy  Test Accuracy\n",
              "0  Naive Bayes Multinomial           0.971519            0.5"
            ],
            "text/html": [
              "\n",
              "  <div id=\"df-08eb6934-6970-4b0f-9fe6-8995a92eb425\">\n",
              "    <div class=\"colab-df-container\">\n",
              "      <div>\n",
              "<style scoped>\n",
              "    .dataframe tbody tr th:only-of-type {\n",
              "        vertical-align: middle;\n",
              "    }\n",
              "\n",
              "    .dataframe tbody tr th {\n",
              "        vertical-align: top;\n",
              "    }\n",
              "\n",
              "    .dataframe thead th {\n",
              "        text-align: right;\n",
              "    }\n",
              "</style>\n",
              "<table border=\"1\" class=\"dataframe\">\n",
              "  <thead>\n",
              "    <tr style=\"text-align: right;\">\n",
              "      <th></th>\n",
              "      <th>Model</th>\n",
              "      <th>Training Accuracy</th>\n",
              "      <th>Test Accuracy</th>\n",
              "    </tr>\n",
              "  </thead>\n",
              "  <tbody>\n",
              "    <tr>\n",
              "      <th>0</th>\n",
              "      <td>Naive Bayes Multinomial</td>\n",
              "      <td>0.971519</td>\n",
              "      <td>0.5</td>\n",
              "    </tr>\n",
              "  </tbody>\n",
              "</table>\n",
              "</div>\n",
              "      <button class=\"colab-df-convert\" onclick=\"convertToInteractive('df-08eb6934-6970-4b0f-9fe6-8995a92eb425')\"\n",
              "              title=\"Convert this dataframe to an interactive table.\"\n",
              "              style=\"display:none;\">\n",
              "        \n",
              "  <svg xmlns=\"http://www.w3.org/2000/svg\" height=\"24px\"viewBox=\"0 0 24 24\"\n",
              "       width=\"24px\">\n",
              "    <path d=\"M0 0h24v24H0V0z\" fill=\"none\"/>\n",
              "    <path d=\"M18.56 5.44l.94 2.06.94-2.06 2.06-.94-2.06-.94-.94-2.06-.94 2.06-2.06.94zm-11 1L8.5 8.5l.94-2.06 2.06-.94-2.06-.94L8.5 2.5l-.94 2.06-2.06.94zm10 10l.94 2.06.94-2.06 2.06-.94-2.06-.94-.94-2.06-.94 2.06-2.06.94z\"/><path d=\"M17.41 7.96l-1.37-1.37c-.4-.4-.92-.59-1.43-.59-.52 0-1.04.2-1.43.59L10.3 9.45l-7.72 7.72c-.78.78-.78 2.05 0 2.83L4 21.41c.39.39.9.59 1.41.59.51 0 1.02-.2 1.41-.59l7.78-7.78 2.81-2.81c.8-.78.8-2.07 0-2.86zM5.41 20L4 18.59l7.72-7.72 1.47 1.35L5.41 20z\"/>\n",
              "  </svg>\n",
              "      </button>\n",
              "      \n",
              "  <style>\n",
              "    .colab-df-container {\n",
              "      display:flex;\n",
              "      flex-wrap:wrap;\n",
              "      gap: 12px;\n",
              "    }\n",
              "\n",
              "    .colab-df-convert {\n",
              "      background-color: #E8F0FE;\n",
              "      border: none;\n",
              "      border-radius: 50%;\n",
              "      cursor: pointer;\n",
              "      display: none;\n",
              "      fill: #1967D2;\n",
              "      height: 32px;\n",
              "      padding: 0 0 0 0;\n",
              "      width: 32px;\n",
              "    }\n",
              "\n",
              "    .colab-df-convert:hover {\n",
              "      background-color: #E2EBFA;\n",
              "      box-shadow: 0px 1px 2px rgba(60, 64, 67, 0.3), 0px 1px 3px 1px rgba(60, 64, 67, 0.15);\n",
              "      fill: #174EA6;\n",
              "    }\n",
              "\n",
              "    [theme=dark] .colab-df-convert {\n",
              "      background-color: #3B4455;\n",
              "      fill: #D2E3FC;\n",
              "    }\n",
              "\n",
              "    [theme=dark] .colab-df-convert:hover {\n",
              "      background-color: #434B5C;\n",
              "      box-shadow: 0px 1px 3px 1px rgba(0, 0, 0, 0.15);\n",
              "      filter: drop-shadow(0px 1px 2px rgba(0, 0, 0, 0.3));\n",
              "      fill: #FFFFFF;\n",
              "    }\n",
              "  </style>\n",
              "\n",
              "      <script>\n",
              "        const buttonEl =\n",
              "          document.querySelector('#df-08eb6934-6970-4b0f-9fe6-8995a92eb425 button.colab-df-convert');\n",
              "        buttonEl.style.display =\n",
              "          google.colab.kernel.accessAllowed ? 'block' : 'none';\n",
              "\n",
              "        async function convertToInteractive(key) {\n",
              "          const element = document.querySelector('#df-08eb6934-6970-4b0f-9fe6-8995a92eb425');\n",
              "          const dataTable =\n",
              "            await google.colab.kernel.invokeFunction('convertToInteractive',\n",
              "                                                     [key], {});\n",
              "          if (!dataTable) return;\n",
              "\n",
              "          const docLinkHtml = 'Like what you see? Visit the ' +\n",
              "            '<a target=\"_blank\" href=https://colab.research.google.com/notebooks/data_table.ipynb>data table notebook</a>'\n",
              "            + ' to learn more about interactive tables.';\n",
              "          element.innerHTML = '';\n",
              "          dataTable['output_type'] = 'display_data';\n",
              "          await google.colab.output.renderOutput(dataTable, element);\n",
              "          const docLink = document.createElement('div');\n",
              "          docLink.innerHTML = docLinkHtml;\n",
              "          element.appendChild(docLink);\n",
              "        }\n",
              "      </script>\n",
              "    </div>\n",
              "  </div>\n",
              "  "
            ]
          },
          "metadata": {},
          "execution_count": 60
        }
      ]
    },
    {
      "cell_type": "code",
      "source": [
        "models_comparison = [                        \n",
        "                        ('Naive Bayes Multinomial', accuracy_nb_test, recall_nb_test, precision_nb_test, f1_nb_test)                      \n",
        "                    ]"
      ],
      "metadata": {
        "id": "XIi1X4E4QsVb"
      },
      "execution_count": null,
      "outputs": []
    },
    {
      "cell_type": "code",
      "source": [
        "comparison = pd.DataFrame(data = models_comparison, columns=['Model', 'Accuracy', 'Recall', 'Precision', 'F1 Weighted'])\n",
        "comparison"
      ],
      "metadata": {
        "id": "1W2qeIK1QsXa",
        "colab": {
          "base_uri": "https://localhost:8080/",
          "height": 125
        },
        "outputId": "86200ebf-820a-409a-fb1e-6f2e00c39bd6"
      },
      "execution_count": null,
      "outputs": [
        {
          "output_type": "execute_result",
          "data": {
            "text/plain": [
              "                     Model  Accuracy  Recall  Precision  F1 Weighted\n",
              "0  Naive Bayes Multinomial       0.5     0.5   0.507101     0.481516"
            ],
            "text/html": [
              "\n",
              "  <div id=\"df-acf48190-8964-429e-88c5-989a3f46e8bd\">\n",
              "    <div class=\"colab-df-container\">\n",
              "      <div>\n",
              "<style scoped>\n",
              "    .dataframe tbody tr th:only-of-type {\n",
              "        vertical-align: middle;\n",
              "    }\n",
              "\n",
              "    .dataframe tbody tr th {\n",
              "        vertical-align: top;\n",
              "    }\n",
              "\n",
              "    .dataframe thead th {\n",
              "        text-align: right;\n",
              "    }\n",
              "</style>\n",
              "<table border=\"1\" class=\"dataframe\">\n",
              "  <thead>\n",
              "    <tr style=\"text-align: right;\">\n",
              "      <th></th>\n",
              "      <th>Model</th>\n",
              "      <th>Accuracy</th>\n",
              "      <th>Recall</th>\n",
              "      <th>Precision</th>\n",
              "      <th>F1 Weighted</th>\n",
              "    </tr>\n",
              "  </thead>\n",
              "  <tbody>\n",
              "    <tr>\n",
              "      <th>0</th>\n",
              "      <td>Naive Bayes Multinomial</td>\n",
              "      <td>0.5</td>\n",
              "      <td>0.5</td>\n",
              "      <td>0.507101</td>\n",
              "      <td>0.481516</td>\n",
              "    </tr>\n",
              "  </tbody>\n",
              "</table>\n",
              "</div>\n",
              "      <button class=\"colab-df-convert\" onclick=\"convertToInteractive('df-acf48190-8964-429e-88c5-989a3f46e8bd')\"\n",
              "              title=\"Convert this dataframe to an interactive table.\"\n",
              "              style=\"display:none;\">\n",
              "        \n",
              "  <svg xmlns=\"http://www.w3.org/2000/svg\" height=\"24px\"viewBox=\"0 0 24 24\"\n",
              "       width=\"24px\">\n",
              "    <path d=\"M0 0h24v24H0V0z\" fill=\"none\"/>\n",
              "    <path d=\"M18.56 5.44l.94 2.06.94-2.06 2.06-.94-2.06-.94-.94-2.06-.94 2.06-2.06.94zm-11 1L8.5 8.5l.94-2.06 2.06-.94-2.06-.94L8.5 2.5l-.94 2.06-2.06.94zm10 10l.94 2.06.94-2.06 2.06-.94-2.06-.94-.94-2.06-.94 2.06-2.06.94z\"/><path d=\"M17.41 7.96l-1.37-1.37c-.4-.4-.92-.59-1.43-.59-.52 0-1.04.2-1.43.59L10.3 9.45l-7.72 7.72c-.78.78-.78 2.05 0 2.83L4 21.41c.39.39.9.59 1.41.59.51 0 1.02-.2 1.41-.59l7.78-7.78 2.81-2.81c.8-.78.8-2.07 0-2.86zM5.41 20L4 18.59l7.72-7.72 1.47 1.35L5.41 20z\"/>\n",
              "  </svg>\n",
              "      </button>\n",
              "      \n",
              "  <style>\n",
              "    .colab-df-container {\n",
              "      display:flex;\n",
              "      flex-wrap:wrap;\n",
              "      gap: 12px;\n",
              "    }\n",
              "\n",
              "    .colab-df-convert {\n",
              "      background-color: #E8F0FE;\n",
              "      border: none;\n",
              "      border-radius: 50%;\n",
              "      cursor: pointer;\n",
              "      display: none;\n",
              "      fill: #1967D2;\n",
              "      height: 32px;\n",
              "      padding: 0 0 0 0;\n",
              "      width: 32px;\n",
              "    }\n",
              "\n",
              "    .colab-df-convert:hover {\n",
              "      background-color: #E2EBFA;\n",
              "      box-shadow: 0px 1px 2px rgba(60, 64, 67, 0.3), 0px 1px 3px 1px rgba(60, 64, 67, 0.15);\n",
              "      fill: #174EA6;\n",
              "    }\n",
              "\n",
              "    [theme=dark] .colab-df-convert {\n",
              "      background-color: #3B4455;\n",
              "      fill: #D2E3FC;\n",
              "    }\n",
              "\n",
              "    [theme=dark] .colab-df-convert:hover {\n",
              "      background-color: #434B5C;\n",
              "      box-shadow: 0px 1px 3px 1px rgba(0, 0, 0, 0.15);\n",
              "      filter: drop-shadow(0px 1px 2px rgba(0, 0, 0, 0.3));\n",
              "      fill: #FFFFFF;\n",
              "    }\n",
              "  </style>\n",
              "\n",
              "      <script>\n",
              "        const buttonEl =\n",
              "          document.querySelector('#df-acf48190-8964-429e-88c5-989a3f46e8bd button.colab-df-convert');\n",
              "        buttonEl.style.display =\n",
              "          google.colab.kernel.accessAllowed ? 'block' : 'none';\n",
              "\n",
              "        async function convertToInteractive(key) {\n",
              "          const element = document.querySelector('#df-acf48190-8964-429e-88c5-989a3f46e8bd');\n",
              "          const dataTable =\n",
              "            await google.colab.kernel.invokeFunction('convertToInteractive',\n",
              "                                                     [key], {});\n",
              "          if (!dataTable) return;\n",
              "\n",
              "          const docLinkHtml = 'Like what you see? Visit the ' +\n",
              "            '<a target=\"_blank\" href=https://colab.research.google.com/notebooks/data_table.ipynb>data table notebook</a>'\n",
              "            + ' to learn more about interactive tables.';\n",
              "          element.innerHTML = '';\n",
              "          dataTable['output_type'] = 'display_data';\n",
              "          await google.colab.output.renderOutput(dataTable, element);\n",
              "          const docLink = document.createElement('div');\n",
              "          docLink.innerHTML = docLinkHtml;\n",
              "          element.appendChild(docLink);\n",
              "        }\n",
              "      </script>\n",
              "    </div>\n",
              "  </div>\n",
              "  "
            ]
          },
          "metadata": {},
          "execution_count": 62
        }
      ]
    },
    {
      "cell_type": "code",
      "source": [
        "import numpy as np\n",
        "\n",
        "f, axes = plt.subplots(2,1, figsize=(14,10))\n",
        "\n",
        "predict.sort_values(by=['Training Accuracy'], ascending=False, inplace=True)\n",
        "\n",
        "sns.barplot(x='Training Accuracy', y='Model', data = predict, palette='Blues_d', ax = axes[0])\n",
        "axes[0].set_xlabel('Training Accuracy', size=16)\n",
        "axes[0].set_ylabel('Model')\n",
        "axes[0].set_xlim(0,1.0)\n",
        "axes[0].set_xticks(np.arange(0, 1.1, 0.1))\n",
        "\n",
        "predict.sort_values(by=['Test Accuracy'], ascending=False, inplace=True)\n",
        "\n",
        "sns.barplot(x='Test Accuracy', y='Model', data = predict, palette='Greens_d', ax = axes[1])\n",
        "axes[1].set_xlabel('Test Accuracy', size=16)\n",
        "axes[1].set_ylabel('Model')\n",
        "axes[1].set_xlim(0,1.0)\n",
        "axes[1].set_xticks(np.arange(0, 1.1, 0.1))\n",
        "\n",
        "plt.show()"
      ],
      "metadata": {
        "id": "P1L-XZuZQsZt",
        "colab": {
          "base_uri": "https://localhost:8080/",
          "height": 342
        },
        "outputId": "6786455e-c065-4c39-cf35-26a6797132a6"
      },
      "execution_count": null,
      "outputs": [
        {
          "output_type": "display_data",
          "data": {
            "text/plain": [
              "<Figure size 1008x720 with 2 Axes>"
            ],
            "image/png": "[encoded data removed]"
          },
          "metadata": {
            "needs_background": "light"
          }
        }
      ]
    }
  ]
}