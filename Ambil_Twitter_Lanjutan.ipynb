{
  "nbformat": 4,
  "nbformat_minor": 0,
  "metadata": {
    "colab": {
      "provenance": [],
      "authorship_tag": "ABX9TyOFUP+ZlLZI5VCZ01DKfGsN",
      "include_colab_link": true
    },
    "kernelspec": {
      "name": "python3",
      "display_name": "Python 3"
    },
    "language_info": {
      "name": "python"
    }
  },
  "cells": [
    {
      "cell_type": "markdown",
      "metadata": {
        "id": "view-in-github",
        "colab_type": "text"
      },
      "source": [
        "<a href=\"https://colab.research.google.com/github/rizkyirw/Analitika-Media-Sosial/blob/main/Ambil_Twitter_Lanjutan.ipynb\" target=\"_parent\"><img src=\"https://colab.research.google.com/assets/colab-badge.svg\" alt=\"Open In Colab\"/></a>"
      ]
    },
    {
      "cell_type": "code",
      "execution_count": 1,
      "metadata": {
        "colab": {
          "base_uri": "https://localhost:8080/"
        },
        "id": "wPj7yGYw251L",
        "outputId": "5e1d5ddc-9c90-46a2-e9de-79d6e57455a3"
      },
      "outputs": [
        {
          "output_type": "stream",
          "name": "stdout",
          "text": [
            "Mounted at /content/drive\n"
          ]
        }
      ],
      "source": [
        "from google.colab import drive\n",
        "drive.mount('/content/drive')\n",
        "import sys\n",
        "sys.path.append('/content/drive/My Drive/File AMS2023')"
      ]
    },
    {
      "cell_type": "code",
      "source": [
        "import pandas as pd\n",
        "import time\n",
        "import tweepy\n",
        "import numpy as np"
      ],
      "metadata": {
        "id": "IP9IP8Yt3mHV"
      },
      "execution_count": 2,
      "outputs": []
    },
    {
      "cell_type": "code",
      "source": [
        "#ganti dari essential ke lbh tinggi \n",
        "def twitter_config():\n",
        "    \"\"\"\n",
        "    Fungsi utilitas untuk mengkonfigurasi konsumsi file API Twitter dengan␣\n",
        "    ,!kunci yang disediakan.\n",
        "    \"\"\"\n",
        "    # Otentikasi dan akses menggunakan kunci:\n",
        "    auth = tweepy.OAuthHandler(\"uo7TnXaPXc7XEKPjtYzBxAgSQ\",\n",
        "    \"fzoh5uM4DuWG51E1do0NczbBpFV8I2O2ELv3Y96zOYgfCvnWuU\")\n",
        "    auth.set_access_token(\"1297826686537314305-JgTLMS6gD58MJraG0BZ8RJIdhyX74h\",\n",
        "    \"jKPCuurX09saOGVFLb44ASn1aumQgtLtSkjbPbHAGzOZx\")\n",
        "    # Kembalikan akses ke API:\n",
        "    api = tweepy.API(auth)\n",
        "    try:\n",
        "        api.verify_credentials()\n",
        "        print(\"Authentication OK\")\n",
        "    except:\n",
        "        print(\"Error during authentication\")\n",
        "    return api"
      ],
      "metadata": {
        "id": "9QdObo9j4Nk-"
      },
      "execution_count": 3,
      "outputs": []
    },
    {
      "cell_type": "code",
      "source": [
        "# buat extractor object\n",
        "extractor = twitter_config()"
      ],
      "metadata": {
        "colab": {
          "base_uri": "https://localhost:8080/"
        },
        "id": "Ld_aI_Rr4N0s",
        "outputId": "6a262ef3-7dc3-46bc-b838-83e04c5e776e"
      },
      "execution_count": 4,
      "outputs": [
        {
          "output_type": "stream",
          "name": "stdout",
          "text": [
            "Authentication OK\n"
          ]
        }
      ]
    },
    {
      "cell_type": "markdown",
      "source": [
        "### mengambil tweet secara komplet dari username"
      ],
      "metadata": {
        "id": "rP8O-I1c4WWd"
      }
    },
    {
      "cell_type": "code",
      "source": [
        "tweets = []\n",
        "\n",
        "def username_tweets_to_csv(username,count):\n",
        "    try:      \n",
        "        # Creation of query method using parameters\n",
        "        tweets = tweepy.Cursor(extractor.user_timeline,id=username).items(count)\n",
        "\n",
        "        # Pulling information from tweets iterable object\n",
        "        tweets_list = [[tweet.created_at, tweet.id, tweet.text, tweet.source, tweet.favorite_count, tweet.retweet_count] for tweet in tweets]\n",
        "\n",
        "        # Creation of dataframe from tweets list\n",
        "        # Add or remove columns as you remove tweet information\n",
        "        tweets_df = pd.DataFrame(tweets_list,columns=['Datetime', 'Tweet Id', 'Text','Source','Likes', 'RT'])\n",
        "\n",
        "        # Converting dataframe to CSV \n",
        "        tweets_df.to_csv('/content/drive/My Drive/File AMS2023/{}-tweets.csv'.format(username), sep=',', index = False)\n",
        "\n",
        "    except BaseException as e:\n",
        "          print('failed on_status,',str(e))\n",
        "          time.sleep(3)"
      ],
      "metadata": {
        "id": "ZJRxuPy34N6r"
      },
      "execution_count": 6,
      "outputs": []
    },
    {
      "cell_type": "code",
      "source": [
        "# Input username to scrape tweets and name csv file\n",
        "# Max recent tweets pulls x amount of most recent tweets from that user\n",
        "username = 'JeromePolin'\n",
        "count = 200\n",
        "\n",
        "# Calling function to turn username's past X amount of tweets into a CSV file\n",
        "username_tweets_to_csv(username, count)"
      ],
      "metadata": {
        "id": "u6mLwGO94Q5s"
      },
      "execution_count": 7,
      "outputs": []
    },
    {
      "cell_type": "markdown",
      "source": [
        "### mengambil berdasarkan search berdasarkan query"
      ],
      "metadata": {
        "id": "eOCffgvu4rOk"
      }
    },
    {
      "cell_type": "code",
      "source": [
        "tweets = extractor.search(q=\"belajar\", lang=\"id\", rpp=200)\n",
        "print(\"Tweets terambil: {}.\\n\".format(len(tweets)))"
      ],
      "metadata": {
        "colab": {
          "base_uri": "https://localhost:8080/"
        },
        "id": "bcB8P9E74dVu",
        "outputId": "5cddccf5-99db-4532-b343-0bfbb33dfd01"
      },
      "execution_count": 10,
      "outputs": [
        {
          "output_type": "stream",
          "name": "stdout",
          "text": [
            "Tweets terambil: 13.\n",
            "\n"
          ]
        }
      ]
    },
    {
      "cell_type": "code",
      "source": [
        "dataset_search = pd.DataFrame(data=[tweet.text for tweet in tweets], columns=['Tweets'])\n",
        "\n",
        "# Kami membuat tampilan kerangka data:\n",
        "display(dataset_search.head(16))"
      ],
      "metadata": {
        "colab": {
          "base_uri": "https://localhost:8080/",
          "height": 457
        },
        "id": "zLrsYXOO4dYD",
        "outputId": "5a5b0347-3e1d-4012-a242-341dee3f1b38"
      },
      "execution_count": 11,
      "outputs": [
        {
          "output_type": "display_data",
          "data": {
            "text/plain": [
              "                                               Tweets\n",
              "0   @biru_navy Yang gratis juga bisa belajar di Di...\n",
              "1                               minat belajar menurun\n",
              "2   RT @cocachele: jadi org dewasa emg harus belaj...\n",
              "3   @Abu_Hafiiz @LikParjo @gr8diazm @maspiyuaja be...\n",
              "4   Sedang belajar dan masih terus akan belajar bu...\n",
              "5   RT @SerieA_ID: Hari Rabu berarti saatnya kita ...\n",
              "6   @TaleOfYours Soalnya dulu belajar membacanya d...\n",
              "7   RT @inibeneranuna: emang saya orang nya tidak ...\n",
              "8   RT @LekKacung: Kita harus berani belajar Sejar...\n",
              "9   RT @angga_fzn: Project Management 101\\n\\nBuat ...\n",
              "10  RT @warungsastra: Sekarang kita telah belajar ...\n",
              "11  RT @myskill_id: BELAJAR INTERVIEW KERJA BAHASA...\n",
              "12  @therampagefext\\n#THERAMPAGE\\n#ツナゲキズナ\\n#RMPG_キ..."
            ],
            "text/html": [
              "\n",
              "  <div id=\"df-5b645871-374a-4a5e-b2db-1aabb7be3d5d\">\n",
              "    <div class=\"colab-df-container\">\n",
              "      <div>\n",
              "<style scoped>\n",
              "    .dataframe tbody tr th:only-of-type {\n",
              "        vertical-align: middle;\n",
              "    }\n",
              "\n",
              "    .dataframe tbody tr th {\n",
              "        vertical-align: top;\n",
              "    }\n",
              "\n",
              "    .dataframe thead th {\n",
              "        text-align: right;\n",
              "    }\n",
              "</style>\n",
              "<table border=\"1\" class=\"dataframe\">\n",
              "  <thead>\n",
              "    <tr style=\"text-align: right;\">\n",
              "      <th></th>\n",
              "      <th>Tweets</th>\n",
              "    </tr>\n",
              "  </thead>\n",
              "  <tbody>\n",
              "    <tr>\n",
              "      <th>0</th>\n",
              "      <td>@biru_navy Yang gratis juga bisa belajar di Di...</td>\n",
              "    </tr>\n",
              "    <tr>\n",
              "      <th>1</th>\n",
              "      <td>minat belajar menurun</td>\n",
              "    </tr>\n",
              "    <tr>\n",
              "      <th>2</th>\n",
              "      <td>RT @cocachele: jadi org dewasa emg harus belaj...</td>\n",
              "    </tr>\n",
              "    <tr>\n",
              "      <th>3</th>\n",
              "      <td>@Abu_Hafiiz @LikParjo @gr8diazm @maspiyuaja be...</td>\n",
              "    </tr>\n",
              "    <tr>\n",
              "      <th>4</th>\n",
              "      <td>Sedang belajar dan masih terus akan belajar bu...</td>\n",
              "    </tr>\n",
              "    <tr>\n",
              "      <th>5</th>\n",
              "      <td>RT @SerieA_ID: Hari Rabu berarti saatnya kita ...</td>\n",
              "    </tr>\n",
              "    <tr>\n",
              "      <th>6</th>\n",
              "      <td>@TaleOfYours Soalnya dulu belajar membacanya d...</td>\n",
              "    </tr>\n",
              "    <tr>\n",
              "      <th>7</th>\n",
              "      <td>RT @inibeneranuna: emang saya orang nya tidak ...</td>\n",
              "    </tr>\n",
              "    <tr>\n",
              "      <th>8</th>\n",
              "      <td>RT @LekKacung: Kita harus berani belajar Sejar...</td>\n",
              "    </tr>\n",
              "    <tr>\n",
              "      <th>9</th>\n",
              "      <td>RT @angga_fzn: Project Management 101\\n\\nBuat ...</td>\n",
              "    </tr>\n",
              "    <tr>\n",
              "      <th>10</th>\n",
              "      <td>RT @warungsastra: Sekarang kita telah belajar ...</td>\n",
              "    </tr>\n",
              "    <tr>\n",
              "      <th>11</th>\n",
              "      <td>RT @myskill_id: BELAJAR INTERVIEW KERJA BAHASA...</td>\n",
              "    </tr>\n",
              "    <tr>\n",
              "      <th>12</th>\n",
              "      <td>@therampagefext\\n#THERAMPAGE\\n#ツナゲキズナ\\n#RMPG_キ...</td>\n",
              "    </tr>\n",
              "  </tbody>\n",
              "</table>\n",
              "</div>\n",
              "      <button class=\"colab-df-convert\" onclick=\"convertToInteractive('df-5b645871-374a-4a5e-b2db-1aabb7be3d5d')\"\n",
              "              title=\"Convert this dataframe to an interactive table.\"\n",
              "              style=\"display:none;\">\n",
              "        \n",
              "  <svg xmlns=\"http://www.w3.org/2000/svg\" height=\"24px\"viewBox=\"0 0 24 24\"\n",
              "       width=\"24px\">\n",
              "    <path d=\"M0 0h24v24H0V0z\" fill=\"none\"/>\n",
              "    <path d=\"M18.56 5.44l.94 2.06.94-2.06 2.06-.94-2.06-.94-.94-2.06-.94 2.06-2.06.94zm-11 1L8.5 8.5l.94-2.06 2.06-.94-2.06-.94L8.5 2.5l-.94 2.06-2.06.94zm10 10l.94 2.06.94-2.06 2.06-.94-2.06-.94-.94-2.06-.94 2.06-2.06.94z\"/><path d=\"M17.41 7.96l-1.37-1.37c-.4-.4-.92-.59-1.43-.59-.52 0-1.04.2-1.43.59L10.3 9.45l-7.72 7.72c-.78.78-.78 2.05 0 2.83L4 21.41c.39.39.9.59 1.41.59.51 0 1.02-.2 1.41-.59l7.78-7.78 2.81-2.81c.8-.78.8-2.07 0-2.86zM5.41 20L4 18.59l7.72-7.72 1.47 1.35L5.41 20z\"/>\n",
              "  </svg>\n",
              "      </button>\n",
              "      \n",
              "  <style>\n",
              "    .colab-df-container {\n",
              "      display:flex;\n",
              "      flex-wrap:wrap;\n",
              "      gap: 12px;\n",
              "    }\n",
              "\n",
              "    .colab-df-convert {\n",
              "      background-color: #E8F0FE;\n",
              "      border: none;\n",
              "      border-radius: 50%;\n",
              "      cursor: pointer;\n",
              "      display: none;\n",
              "      fill: #1967D2;\n",
              "      height: 32px;\n",
              "      padding: 0 0 0 0;\n",
              "      width: 32px;\n",
              "    }\n",
              "\n",
              "    .colab-df-convert:hover {\n",
              "      background-color: #E2EBFA;\n",
              "      box-shadow: 0px 1px 2px rgba(60, 64, 67, 0.3), 0px 1px 3px 1px rgba(60, 64, 67, 0.15);\n",
              "      fill: #174EA6;\n",
              "    }\n",
              "\n",
              "    [theme=dark] .colab-df-convert {\n",
              "      background-color: #3B4455;\n",
              "      fill: #D2E3FC;\n",
              "    }\n",
              "\n",
              "    [theme=dark] .colab-df-convert:hover {\n",
              "      background-color: #434B5C;\n",
              "      box-shadow: 0px 1px 3px 1px rgba(0, 0, 0, 0.15);\n",
              "      filter: drop-shadow(0px 1px 2px rgba(0, 0, 0, 0.3));\n",
              "      fill: #FFFFFF;\n",
              "    }\n",
              "  </style>\n",
              "\n",
              "      <script>\n",
              "        const buttonEl =\n",
              "          document.querySelector('#df-5b645871-374a-4a5e-b2db-1aabb7be3d5d button.colab-df-convert');\n",
              "        buttonEl.style.display =\n",
              "          google.colab.kernel.accessAllowed ? 'block' : 'none';\n",
              "\n",
              "        async function convertToInteractive(key) {\n",
              "          const element = document.querySelector('#df-5b645871-374a-4a5e-b2db-1aabb7be3d5d');\n",
              "          const dataTable =\n",
              "            await google.colab.kernel.invokeFunction('convertToInteractive',\n",
              "                                                     [key], {});\n",
              "          if (!dataTable) return;\n",
              "\n",
              "          const docLinkHtml = 'Like what you see? Visit the ' +\n",
              "            '<a target=\"_blank\" href=https://colab.research.google.com/notebooks/data_table.ipynb>data table notebook</a>'\n",
              "            + ' to learn more about interactive tables.';\n",
              "          element.innerHTML = '';\n",
              "          dataTable['output_type'] = 'display_data';\n",
              "          await google.colab.output.renderOutput(dataTable, element);\n",
              "          const docLink = document.createElement('div');\n",
              "          docLink.innerHTML = docLinkHtml;\n",
              "          element.appendChild(docLink);\n",
              "        }\n",
              "      </script>\n",
              "    </div>\n",
              "  </div>\n",
              "  "
            ]
          },
          "metadata": {}
        }
      ]
    },
    {
      "cell_type": "markdown",
      "source": [
        "### pencarian query komplet"
      ],
      "metadata": {
        "id": "ReoEisTD45f8"
      }
    },
    {
      "cell_type": "code",
      "source": [
        "tweets = []\n",
        "\n",
        "def text_query_to_csv(text_query,count):\n",
        "    try:\n",
        "        # Creation of query method using parameters\n",
        "        tweets = tweepy.Cursor(extractor.search,q=text_query).items(count)\n",
        "\n",
        "        # Pulling information from tweets iterable object\n",
        "        tweets_list = [[tweet.created_at, tweet.id, tweet.text, tweet.source, tweet.favorite_count, tweet.retweet_count] for tweet in tweets]\n",
        "\n",
        "        # Creation of dataframe from tweets list\n",
        "        # Add or remove columns as you remove tweet information\n",
        "        tweets_df = pd.DataFrame(tweets_list,columns=['Datetime', 'Tweet Id', 'Text','Source','Likes', 'RT'])\n",
        "\n",
        "        # Converting dataframe to CSV \n",
        "        tweets_df.to_csv('/content/drive/My Drive/File AMS2023/{}-tweets.csv'.format(text_query), sep=',', index = False)\n",
        "\n",
        "    except BaseException as e:\n",
        "        print('failed on_status,',str(e))\n",
        "        time.sleep(3)"
      ],
      "metadata": {
        "id": "9D3-e_eJ43WM"
      },
      "execution_count": 12,
      "outputs": []
    },
    {
      "cell_type": "code",
      "source": [
        "# Input search query to scrape tweets and name csv file\n",
        "# Max recent tweets pulls x amount of most recent tweets from that user\n",
        "text_query = 'belajar'\n",
        "count = 1000\n",
        "\n",
        "# Calling function to query X amount of relevant tweets and create a CSV file\n",
        "text_query_to_csv(text_query, count)"
      ],
      "metadata": {
        "id": "GKU03wad4950"
      },
      "execution_count": 13,
      "outputs": []
    },
    {
      "cell_type": "markdown",
      "source": [
        "### Search pakai tagar komplet"
      ],
      "metadata": {
        "id": "7H3h8tCK5MF0"
      }
    },
    {
      "cell_type": "code",
      "source": [
        "# Input search query to scrape tweets and name csv file\n",
        "# Max recent tweets pulls x amount of most recent tweets from that user\n",
        "text_query = '#Jerome'\n",
        "count = 1000\n",
        "\n",
        "# Calling function to query X amount of relevant tweets and create a CSV file\n",
        "text_query_to_csv(text_query, count)"
      ],
      "metadata": {
        "id": "Y-7FdktS5IxM"
      },
      "execution_count": 14,
      "outputs": []
    },
    {
      "cell_type": "markdown",
      "source": [
        "### Pencarian Trend"
      ],
      "metadata": {
        "id": "Fo9mhLYQ5TdM"
      }
    },
    {
      "cell_type": "code",
      "source": [
        "# woeid indonesia\n",
        "woeid = 23424846"
      ],
      "metadata": {
        "id": "8lVx0nwz5VBE"
      },
      "execution_count": 15,
      "outputs": []
    },
    {
      "cell_type": "code",
      "source": [
        "trends_result = extractor.trends_place(woeid)"
      ],
      "metadata": {
        "id": "2CRPAGAl5W88"
      },
      "execution_count": 16,
      "outputs": []
    },
    {
      "cell_type": "code",
      "source": [
        "dataset_trends = pd.DataFrame(data=[trend[\"name\"] for trend in trends_result[0][\"trends\"]], columns=['trends'])\n",
        "\n",
        "# Kami membuat tampilan kerangka data:\n",
        "display(dataset_trends.head(20))"
      ],
      "metadata": {
        "colab": {
          "base_uri": "https://localhost:8080/",
          "height": 676
        },
        "id": "_cFBG9mo5XAz",
        "outputId": "f618b7d5-e5e7-4cf8-ab99-9c28dec2e934"
      },
      "execution_count": 17,
      "outputs": [
        {
          "output_type": "display_data",
          "data": {
            "text/plain": [
              "                   trends\n",
              "0        #7YearsWith9WICE\n",
              "1        #트와이스와_원스의_소중한7년\n",
              "2                #Mainnet\n",
              "3                 #Wallet\n",
              "4                #Martian\n",
              "5   Twice 7th Anniversary\n",
              "6    THE ASTRONAUT POSTER\n",
              "7                 Ginting\n",
              "8       BOYS LIKE YOU D-1\n",
              "9               Happy 7th\n",
              "10                Minions\n",
              "11               Mountain\n",
              "12                chaewon\n",
              "13     CASE143 FOURTH WIN\n",
              "14                  Beach\n",
              "15                 winwin\n",
              "16    VOTE BTS OR LOSE IT\n",
              "17           bintang emon\n",
              "18                   Koga\n",
              "19                 Alergi"
            ],
            "text/html": [
              "\n",
              "  <div id=\"df-3f4f7caf-43c1-487f-87ef-b76450a5e1c9\">\n",
              "    <div class=\"colab-df-container\">\n",
              "      <div>\n",
              "<style scoped>\n",
              "    .dataframe tbody tr th:only-of-type {\n",
              "        vertical-align: middle;\n",
              "    }\n",
              "\n",
              "    .dataframe tbody tr th {\n",
              "        vertical-align: top;\n",
              "    }\n",
              "\n",
              "    .dataframe thead th {\n",
              "        text-align: right;\n",
              "    }\n",
              "</style>\n",
              "<table border=\"1\" class=\"dataframe\">\n",
              "  <thead>\n",
              "    <tr style=\"text-align: right;\">\n",
              "      <th></th>\n",
              "      <th>trends</th>\n",
              "    </tr>\n",
              "  </thead>\n",
              "  <tbody>\n",
              "    <tr>\n",
              "      <th>0</th>\n",
              "      <td>#7YearsWith9WICE</td>\n",
              "    </tr>\n",
              "    <tr>\n",
              "      <th>1</th>\n",
              "      <td>#트와이스와_원스의_소중한7년</td>\n",
              "    </tr>\n",
              "    <tr>\n",
              "      <th>2</th>\n",
              "      <td>#Mainnet</td>\n",
              "    </tr>\n",
              "    <tr>\n",
              "      <th>3</th>\n",
              "      <td>#Wallet</td>\n",
              "    </tr>\n",
              "    <tr>\n",
              "      <th>4</th>\n",
              "      <td>#Martian</td>\n",
              "    </tr>\n",
              "    <tr>\n",
              "      <th>5</th>\n",
              "      <td>Twice 7th Anniversary</td>\n",
              "    </tr>\n",
              "    <tr>\n",
              "      <th>6</th>\n",
              "      <td>THE ASTRONAUT POSTER</td>\n",
              "    </tr>\n",
              "    <tr>\n",
              "      <th>7</th>\n",
              "      <td>Ginting</td>\n",
              "    </tr>\n",
              "    <tr>\n",
              "      <th>8</th>\n",
              "      <td>BOYS LIKE YOU D-1</td>\n",
              "    </tr>\n",
              "    <tr>\n",
              "      <th>9</th>\n",
              "      <td>Happy 7th</td>\n",
              "    </tr>\n",
              "    <tr>\n",
              "      <th>10</th>\n",
              "      <td>Minions</td>\n",
              "    </tr>\n",
              "    <tr>\n",
              "      <th>11</th>\n",
              "      <td>Mountain</td>\n",
              "    </tr>\n",
              "    <tr>\n",
              "      <th>12</th>\n",
              "      <td>chaewon</td>\n",
              "    </tr>\n",
              "    <tr>\n",
              "      <th>13</th>\n",
              "      <td>CASE143 FOURTH WIN</td>\n",
              "    </tr>\n",
              "    <tr>\n",
              "      <th>14</th>\n",
              "      <td>Beach</td>\n",
              "    </tr>\n",
              "    <tr>\n",
              "      <th>15</th>\n",
              "      <td>winwin</td>\n",
              "    </tr>\n",
              "    <tr>\n",
              "      <th>16</th>\n",
              "      <td>VOTE BTS OR LOSE IT</td>\n",
              "    </tr>\n",
              "    <tr>\n",
              "      <th>17</th>\n",
              "      <td>bintang emon</td>\n",
              "    </tr>\n",
              "    <tr>\n",
              "      <th>18</th>\n",
              "      <td>Koga</td>\n",
              "    </tr>\n",
              "    <tr>\n",
              "      <th>19</th>\n",
              "      <td>Alergi</td>\n",
              "    </tr>\n",
              "  </tbody>\n",
              "</table>\n",
              "</div>\n",
              "      <button class=\"colab-df-convert\" onclick=\"convertToInteractive('df-3f4f7caf-43c1-487f-87ef-b76450a5e1c9')\"\n",
              "              title=\"Convert this dataframe to an interactive table.\"\n",
              "              style=\"display:none;\">\n",
              "        \n",
              "  <svg xmlns=\"http://www.w3.org/2000/svg\" height=\"24px\"viewBox=\"0 0 24 24\"\n",
              "       width=\"24px\">\n",
              "    <path d=\"M0 0h24v24H0V0z\" fill=\"none\"/>\n",
              "    <path d=\"M18.56 5.44l.94 2.06.94-2.06 2.06-.94-2.06-.94-.94-2.06-.94 2.06-2.06.94zm-11 1L8.5 8.5l.94-2.06 2.06-.94-2.06-.94L8.5 2.5l-.94 2.06-2.06.94zm10 10l.94 2.06.94-2.06 2.06-.94-2.06-.94-.94-2.06-.94 2.06-2.06.94z\"/><path d=\"M17.41 7.96l-1.37-1.37c-.4-.4-.92-.59-1.43-.59-.52 0-1.04.2-1.43.59L10.3 9.45l-7.72 7.72c-.78.78-.78 2.05 0 2.83L4 21.41c.39.39.9.59 1.41.59.51 0 1.02-.2 1.41-.59l7.78-7.78 2.81-2.81c.8-.78.8-2.07 0-2.86zM5.41 20L4 18.59l7.72-7.72 1.47 1.35L5.41 20z\"/>\n",
              "  </svg>\n",
              "      </button>\n",
              "      \n",
              "  <style>\n",
              "    .colab-df-container {\n",
              "      display:flex;\n",
              "      flex-wrap:wrap;\n",
              "      gap: 12px;\n",
              "    }\n",
              "\n",
              "    .colab-df-convert {\n",
              "      background-color: #E8F0FE;\n",
              "      border: none;\n",
              "      border-radius: 50%;\n",
              "      cursor: pointer;\n",
              "      display: none;\n",
              "      fill: #1967D2;\n",
              "      height: 32px;\n",
              "      padding: 0 0 0 0;\n",
              "      width: 32px;\n",
              "    }\n",
              "\n",
              "    .colab-df-convert:hover {\n",
              "      background-color: #E2EBFA;\n",
              "      box-shadow: 0px 1px 2px rgba(60, 64, 67, 0.3), 0px 1px 3px 1px rgba(60, 64, 67, 0.15);\n",
              "      fill: #174EA6;\n",
              "    }\n",
              "\n",
              "    [theme=dark] .colab-df-convert {\n",
              "      background-color: #3B4455;\n",
              "      fill: #D2E3FC;\n",
              "    }\n",
              "\n",
              "    [theme=dark] .colab-df-convert:hover {\n",
              "      background-color: #434B5C;\n",
              "      box-shadow: 0px 1px 3px 1px rgba(0, 0, 0, 0.15);\n",
              "      filter: drop-shadow(0px 1px 2px rgba(0, 0, 0, 0.3));\n",
              "      fill: #FFFFFF;\n",
              "    }\n",
              "  </style>\n",
              "\n",
              "      <script>\n",
              "        const buttonEl =\n",
              "          document.querySelector('#df-3f4f7caf-43c1-487f-87ef-b76450a5e1c9 button.colab-df-convert');\n",
              "        buttonEl.style.display =\n",
              "          google.colab.kernel.accessAllowed ? 'block' : 'none';\n",
              "\n",
              "        async function convertToInteractive(key) {\n",
              "          const element = document.querySelector('#df-3f4f7caf-43c1-487f-87ef-b76450a5e1c9');\n",
              "          const dataTable =\n",
              "            await google.colab.kernel.invokeFunction('convertToInteractive',\n",
              "                                                     [key], {});\n",
              "          if (!dataTable) return;\n",
              "\n",
              "          const docLinkHtml = 'Like what you see? Visit the ' +\n",
              "            '<a target=\"_blank\" href=https://colab.research.google.com/notebooks/data_table.ipynb>data table notebook</a>'\n",
              "            + ' to learn more about interactive tables.';\n",
              "          element.innerHTML = '';\n",
              "          dataTable['output_type'] = 'display_data';\n",
              "          await google.colab.output.renderOutput(dataTable, element);\n",
              "          const docLink = document.createElement('div');\n",
              "          docLink.innerHTML = docLinkHtml;\n",
              "          element.appendChild(docLink);\n",
              "        }\n",
              "      </script>\n",
              "    </div>\n",
              "  </div>\n",
              "  "
            ]
          },
          "metadata": {}
        }
      ]
    },
    {
      "cell_type": "markdown",
      "source": [
        "### ambil berdasarkan search dengan modul komplet dan berdasar lokasi indonesia"
      ],
      "metadata": {
        "id": "lt-pkVEf5dYk"
      }
    },
    {
      "cell_type": "code",
      "source": [
        "tweets = []\n",
        "\n",
        "def text_query_location_to_csv(text_query,searchCountry, count):\n",
        "    try:\n",
        "        # Creation of query method using parameters\n",
        "        \n",
        "        places = extractor.geo_search(query=searchCountry, granularity=\"country\")\n",
        "        place_id = places[0].id\n",
        "        \n",
        "        \n",
        "        tweets = tweepy.Cursor(extractor.search,q='{} place:{}'.format(text_query, place_id)).items(count)\n",
        "\n",
        "        # Pulling information from tweets iterable object\n",
        "        tweets_list = [[tweet.created_at, tweet.id, tweet.place.name, tweet.text, tweet.source, tweet.favorite_count, tweet.retweet_count] for tweet in tweets]\n",
        "\n",
        "        # Creation of dataframe from tweets list\n",
        "        # Add or remove columns as you remove tweet information\n",
        "        tweets_df = pd.DataFrame(tweets_list,columns=['Datetime', 'Tweet Id', 'Lokasi', 'Text','Source','Likes', 'RT'])\n",
        "\n",
        "        # Converting dataframe to CSV \n",
        "        tweets_df.to_csv('/content/drive/My Drive/File AMS2023/{}-{}-tweets.csv'.format(text_query,searchCountry), sep=',', index = False)\n",
        "\n",
        "    except BaseException as e:\n",
        "        print('failed on_status,',str(e))\n",
        "        time.sleep(3)"
      ],
      "metadata": {
        "id": "2Q3IvfnU5ZwM"
      },
      "execution_count": 18,
      "outputs": []
    },
    {
      "cell_type": "code",
      "source": [
        "# Input search query to scrape tweets and name csv file\n",
        "# Max recent tweets pulls x amount of most recent tweets from that user\n",
        "text_query = 'kenaikan bbm'\n",
        "count = 500\n",
        "country= 'Indonesia'\n",
        "\n",
        "# Calling function to query X amount of relevant tweets and create a CSV file\n",
        "text_query_location_to_csv(text_query, country, count)"
      ],
      "metadata": {
        "id": "zxQcEjaS5hKc"
      },
      "execution_count": 19,
      "outputs": []
    },
    {
      "cell_type": "markdown",
      "source": [
        "### ambil berdasarkan search dengan modul komplet dan berdasar lokasi Kota\n",
        "- karena orang indonesia jarang menghidupkan lokasi untuk twitter, maka luaran tidak stabil (no results)"
      ],
      "metadata": {
        "id": "8QAhSqNi5ioE"
      }
    },
    {
      "cell_type": "code",
      "source": [
        "tweets = []\n",
        "\n",
        "def text_query_city_to_csv(text_query,searchCity, count):\n",
        "    try:\n",
        "        # Creation of query method using parameters\n",
        "        \n",
        "        places = extractor.geo_search(query=searchCity, granularity=\"city\")\n",
        "        place_id = places[0].id\n",
        "        \n",
        "        \n",
        "        tweets = tweepy.Cursor(extractor.search,q='{} place:{}'.format(text_query, place_id)).items(count)\n",
        "\n",
        "        # Pulling information from tweets iterable object\n",
        "        tweets_list = [[tweet.created_at, tweet.id, tweet.place.name, tweet.text, tweet.source, tweet.favorite_count, tweet.retweet_count] for tweet in tweets]\n",
        "\n",
        "        # Creation of dataframe from tweets list\n",
        "        # Add or remove columns as you remove tweet information\n",
        "        tweets_df = pd.DataFrame(tweets_list,columns=['Datetime', 'Tweet Id', 'Lokasi', 'Text','Source','Likes', 'RT'])\n",
        "\n",
        "        # Converting dataframe to CSV \n",
        "        tweets_df.to_csv('/content/drive/My Drive/File AMS2023/{}-{}-tweets.csv'.format(text_query,searchCity), sep=',', index = False)\n",
        "\n",
        "    except BaseException as e:\n",
        "        print('failed on_status,',str(e))\n",
        "        time.sleep(3)"
      ],
      "metadata": {
        "id": "qX2WYJBx5m0M"
      },
      "execution_count": 20,
      "outputs": []
    },
    {
      "cell_type": "code",
      "source": [
        "# Input search query to scrape tweets and name csv file\n",
        "# Max recent tweets pulls x amount of most recent tweets from that user\n",
        "text_query = 'kenaikan harga barang'\n",
        "count = 500\n",
        "city= 'Jakarta'\n",
        "\n",
        "# Calling function to query X amount of relevant tweets and create a CSV file\n",
        "text_query_city_to_csv(text_query, city, count)"
      ],
      "metadata": {
        "id": "Lj4zA3K15pfE"
      },
      "execution_count": 21,
      "outputs": []
    }
  ]
}