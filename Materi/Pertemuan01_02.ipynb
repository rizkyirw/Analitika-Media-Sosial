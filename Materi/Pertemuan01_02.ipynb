{
  "nbformat": 4,
  "nbformat_minor": 0,
  "metadata": {
    "colab": {
      "provenance": [],
      "collapsed_sections": []
    },
    "kernelspec": {
      "name": "python3",
      "display_name": "Python 3"
    },
    "language_info": {
      "name": "python"
    }
  },
  "cells": [
    {
      "cell_type": "markdown",
      "source": [
        "<img src=\"https://2.bp.blogspot.com/-066qpJs0Ttc/WiYPXGNYEYI/AAAAAAAAFu8/XbOaf7DqfDMM9truu3DkrkIGfRgP4zBzgCLcBGAs/s1600/udinus.jpg\"  width=\"200\">\n",
        "\n",
        "# AMS - 01\n",
        "\n",
        "oleh: Dr. Eng. Farrikh Alzami M.Kom; Abu Salam, M.Kom\n",
        "\n",
        "disini kita akan menggunakan spacy untuk membahas Natural language Processing\n"
      ],
      "metadata": {
        "id": "hYg7ksNdedRJ"
      }
    },
    {
      "cell_type": "markdown",
      "source": [
        "Tutorial ini memberikan pengantar singkat untuk bekerja dengan bahasa alami (terkadang disebut \"analitik teks\") di Python, menggunakan spaCy dan pustaka terkait. Tim ilmu data di industri harus bekerja dengan banyak teks, salah satu dari empat kategori data teratas yang digunakan dalam pembelajaran mesin. Biasanya itu adalah teks buatan manusia, meskipun tidak selalu.\n",
        "\n",
        "Pikirkan tentang ini: bagaimana \"sistem operasi\" untuk bisnis bekerja? Biasanya ada kontrak (kontrak penjualan, perjanjian kerja, kemitraan), ada invoice, ada polis asuransi, ada peraturan dan undang-undang lainnya, dan sebagainya. Semua itu direpresentasikan sebagai teks.\n",
        "\n",
        "Anda mungkin menemukan beberapa akronim: pemrosesan bahasa alami (NLP), pemahaman bahasa alami (NLU), generasi bahasa alami (NLG) — yang secara kasar berbicara masing-masing \"baca teks\", \"pahami makna\", \"tulis teks\". Tugas-tugas ini semakin tumpang tindih dan menjadi sulit untuk mengkategorikan fitur yang diberikan.\n",
        "\n",
        "Kerangka kerja spaCy — bersama dengan berbagai macam plug-in dan integrasi lainnya yang terus berkembang — menyediakan fitur untuk berbagai tugas bahasa alami. Ini menjadi salah satu perpustakaan bahasa alami yang paling banyak digunakan di Python untuk kasus penggunaan industri, dan memiliki komunitas yang cukup besar — ​​dan dengan itu, banyak dukungan untuk komersialisasi kemajuan penelitian karena area ini terus berkembang pesat."
      ],
      "metadata": {
        "id": "6Vxvvke1jk-D"
      }
    },
    {
      "cell_type": "code",
      "execution_count": 167,
      "metadata": {
        "id": "11_WEu8HNmDG"
      },
      "outputs": [],
      "source": [
        "# import spacy\n",
        "import spacy"
      ]
    },
    {
      "cell_type": "code",
      "source": [
        "# load spacy dengan ukuran small\n",
        "nlp = spacy.load(\"en_core_web_sm\")"
      ],
      "metadata": {
        "id": "KwFFx6tLNyVy"
      },
      "execution_count": 168,
      "outputs": []
    },
    {
      "cell_type": "markdown",
      "source": [
        "Variabel `nlp` itu sekarang menjadi gerbang Anda ke semua hal _spaCy_ dan dimuat dengan model kecil `en_core_web_sm` untuk bahasa Inggris.\n",
        "Selanjutnya, mari kita jalankan \"dokumen\" kecil melalui pengurai bahasa alami:"
      ],
      "metadata": {
        "id": "PFSSNM59kBdQ"
      }
    },
    {
      "cell_type": "code",
      "source": [
        "text = \"The rain in Spain falls mainly on the plain.\"\n",
        "doc = nlp(text)\n",
        "\n",
        "for token in doc:\n",
        "    print(token.text, token.lemma_, token.pos_, token.is_stop)"
      ],
      "metadata": {
        "colab": {
          "base_uri": "https://localhost:8080/"
        },
        "id": "dRbmf0sdN6rV",
        "outputId": "a2d128b1-c31d-4028-9ead-227830b01ce1"
      },
      "execution_count": 169,
      "outputs": [
        {
          "output_type": "stream",
          "name": "stdout",
          "text": [
            "The the DET True\n",
            "rain rain NOUN False\n",
            "in in ADP True\n",
            "Spain Spain PROPN False\n",
            "falls fall VERB False\n",
            "mainly mainly ADV False\n",
            "on on ADP True\n",
            "the the DET True\n",
            "plain plain NOUN False\n",
            ". . PUNCT False\n"
          ]
        }
      ]
    },
    {
      "cell_type": "code",
      "source": [
        "text2 = \"the beginning of time are unknown for every living beings which making useful in lived until now. Are we Sure?\"\n",
        "doc2 = nlp(text2)\n",
        "\n",
        "for token2 in doc2:\n",
        "    print(token2.text, token2.lemma_, token2.pos_, token2.is_stop)"
      ],
      "metadata": {
        "colab": {
          "base_uri": "https://localhost:8080/"
        },
        "id": "EkkY-WB48h2J",
        "outputId": "3e4ace86-3746-4302-de4d-851290d8ac91"
      },
      "execution_count": 170,
      "outputs": [
        {
          "output_type": "stream",
          "name": "stdout",
          "text": [
            "the the DET True\n",
            "beginning beginning NOUN False\n",
            "of of ADP True\n",
            "time time NOUN False\n",
            "are be AUX True\n",
            "unknown unknown ADJ False\n",
            "for for SCONJ True\n",
            "every every DET True\n",
            "living live VERB False\n",
            "beings being NOUN False\n",
            "which which PRON True\n",
            "making make VERB False\n",
            "useful useful ADJ False\n",
            "in in ADP True\n",
            "lived live VERB False\n",
            "until until ADP True\n",
            "now now ADV True\n",
            ". . PUNCT False\n",
            "Are be AUX True\n",
            "we we PRON True\n",
            "Sure sure ADJ False\n",
            "? ? PUNCT False\n"
          ]
        }
      ]
    },
    {
      "cell_type": "markdown",
      "source": [
        "Pertama, kita membuat [doc](https://spacy.io/api/doc) dari teks, yang merupakan wadah untuk dokumen dan semua anotasinya. Kemudian kami mengulangi dokumen untuk melihat apa yang telah diurai _spaCy_.\n",
        "\n",
        "Bagus, tapi banyak info dan agak sulit dibaca. Mari format ulang parse _spaCy_ dari kalimat tersebut sebagai kerangka data [pandas](https://pandas.pydata.org/):"
      ],
      "metadata": {
        "id": "MhY2AfHzkMh1"
      }
    },
    {
      "cell_type": "code",
      "source": [
        "import pandas as pd\n",
        "\n",
        "cols = (\"text\", \"lemma\", \"POS\", \"explain\", \"stopword\")\n",
        "rows = []\n",
        "\n",
        "for t in doc:\n",
        "    row = [t.text, t.lemma_, t.pos_, spacy.explain(t.pos_), t.is_stop]\n",
        "    rows.append(row)\n",
        "\n",
        "df = pd.DataFrame(rows, columns=cols)\n",
        "    \n",
        "df"
      ],
      "metadata": {
        "colab": {
          "base_uri": "https://localhost:8080/",
          "height": 363
        },
        "id": "KEMTiZpjbY7t",
        "outputId": "b3019b31-1d5b-46f7-8a94-6a796317e8c3"
      },
      "execution_count": 171,
      "outputs": [
        {
          "output_type": "execute_result",
          "data": {
            "text/plain": [
              "     text   lemma    POS      explain  stopword\n",
              "0     The     the    DET   determiner      True\n",
              "1    rain    rain   NOUN         noun     False\n",
              "2      in      in    ADP   adposition      True\n",
              "3   Spain   Spain  PROPN  proper noun     False\n",
              "4   falls    fall   VERB         verb     False\n",
              "5  mainly  mainly    ADV       adverb     False\n",
              "6      on      on    ADP   adposition      True\n",
              "7     the     the    DET   determiner      True\n",
              "8   plain   plain   NOUN         noun     False\n",
              "9       .       .  PUNCT  punctuation     False"
            ],
            "text/html": [
              "\n",
              "  <div id=\"df-01c037d5-44b5-44e5-b3d1-42a00536efb6\">\n",
              "    <div class=\"colab-df-container\">\n",
              "      <div>\n",
              "<style scoped>\n",
              "    .dataframe tbody tr th:only-of-type {\n",
              "        vertical-align: middle;\n",
              "    }\n",
              "\n",
              "    .dataframe tbody tr th {\n",
              "        vertical-align: top;\n",
              "    }\n",
              "\n",
              "    .dataframe thead th {\n",
              "        text-align: right;\n",
              "    }\n",
              "</style>\n",
              "<table border=\"1\" class=\"dataframe\">\n",
              "  <thead>\n",
              "    <tr style=\"text-align: right;\">\n",
              "      <th></th>\n",
              "      <th>text</th>\n",
              "      <th>lemma</th>\n",
              "      <th>POS</th>\n",
              "      <th>explain</th>\n",
              "      <th>stopword</th>\n",
              "    </tr>\n",
              "  </thead>\n",
              "  <tbody>\n",
              "    <tr>\n",
              "      <th>0</th>\n",
              "      <td>The</td>\n",
              "      <td>the</td>\n",
              "      <td>DET</td>\n",
              "      <td>determiner</td>\n",
              "      <td>True</td>\n",
              "    </tr>\n",
              "    <tr>\n",
              "      <th>1</th>\n",
              "      <td>rain</td>\n",
              "      <td>rain</td>\n",
              "      <td>NOUN</td>\n",
              "      <td>noun</td>\n",
              "      <td>False</td>\n",
              "    </tr>\n",
              "    <tr>\n",
              "      <th>2</th>\n",
              "      <td>in</td>\n",
              "      <td>in</td>\n",
              "      <td>ADP</td>\n",
              "      <td>adposition</td>\n",
              "      <td>True</td>\n",
              "    </tr>\n",
              "    <tr>\n",
              "      <th>3</th>\n",
              "      <td>Spain</td>\n",
              "      <td>Spain</td>\n",
              "      <td>PROPN</td>\n",
              "      <td>proper noun</td>\n",
              "      <td>False</td>\n",
              "    </tr>\n",
              "    <tr>\n",
              "      <th>4</th>\n",
              "      <td>falls</td>\n",
              "      <td>fall</td>\n",
              "      <td>VERB</td>\n",
              "      <td>verb</td>\n",
              "      <td>False</td>\n",
              "    </tr>\n",
              "    <tr>\n",
              "      <th>5</th>\n",
              "      <td>mainly</td>\n",
              "      <td>mainly</td>\n",
              "      <td>ADV</td>\n",
              "      <td>adverb</td>\n",
              "      <td>False</td>\n",
              "    </tr>\n",
              "    <tr>\n",
              "      <th>6</th>\n",
              "      <td>on</td>\n",
              "      <td>on</td>\n",
              "      <td>ADP</td>\n",
              "      <td>adposition</td>\n",
              "      <td>True</td>\n",
              "    </tr>\n",
              "    <tr>\n",
              "      <th>7</th>\n",
              "      <td>the</td>\n",
              "      <td>the</td>\n",
              "      <td>DET</td>\n",
              "      <td>determiner</td>\n",
              "      <td>True</td>\n",
              "    </tr>\n",
              "    <tr>\n",
              "      <th>8</th>\n",
              "      <td>plain</td>\n",
              "      <td>plain</td>\n",
              "      <td>NOUN</td>\n",
              "      <td>noun</td>\n",
              "      <td>False</td>\n",
              "    </tr>\n",
              "    <tr>\n",
              "      <th>9</th>\n",
              "      <td>.</td>\n",
              "      <td>.</td>\n",
              "      <td>PUNCT</td>\n",
              "      <td>punctuation</td>\n",
              "      <td>False</td>\n",
              "    </tr>\n",
              "  </tbody>\n",
              "</table>\n",
              "</div>\n",
              "      <button class=\"colab-df-convert\" onclick=\"convertToInteractive('df-01c037d5-44b5-44e5-b3d1-42a00536efb6')\"\n",
              "              title=\"Convert this dataframe to an interactive table.\"\n",
              "              style=\"display:none;\">\n",
              "        \n",
              "  <svg xmlns=\"http://www.w3.org/2000/svg\" height=\"24px\"viewBox=\"0 0 24 24\"\n",
              "       width=\"24px\">\n",
              "    <path d=\"M0 0h24v24H0V0z\" fill=\"none\"/>\n",
              "    <path d=\"M18.56 5.44l.94 2.06.94-2.06 2.06-.94-2.06-.94-.94-2.06-.94 2.06-2.06.94zm-11 1L8.5 8.5l.94-2.06 2.06-.94-2.06-.94L8.5 2.5l-.94 2.06-2.06.94zm10 10l.94 2.06.94-2.06 2.06-.94-2.06-.94-.94-2.06-.94 2.06-2.06.94z\"/><path d=\"M17.41 7.96l-1.37-1.37c-.4-.4-.92-.59-1.43-.59-.52 0-1.04.2-1.43.59L10.3 9.45l-7.72 7.72c-.78.78-.78 2.05 0 2.83L4 21.41c.39.39.9.59 1.41.59.51 0 1.02-.2 1.41-.59l7.78-7.78 2.81-2.81c.8-.78.8-2.07 0-2.86zM5.41 20L4 18.59l7.72-7.72 1.47 1.35L5.41 20z\"/>\n",
              "  </svg>\n",
              "      </button>\n",
              "      \n",
              "  <style>\n",
              "    .colab-df-container {\n",
              "      display:flex;\n",
              "      flex-wrap:wrap;\n",
              "      gap: 12px;\n",
              "    }\n",
              "\n",
              "    .colab-df-convert {\n",
              "      background-color: #E8F0FE;\n",
              "      border: none;\n",
              "      border-radius: 50%;\n",
              "      cursor: pointer;\n",
              "      display: none;\n",
              "      fill: #1967D2;\n",
              "      height: 32px;\n",
              "      padding: 0 0 0 0;\n",
              "      width: 32px;\n",
              "    }\n",
              "\n",
              "    .colab-df-convert:hover {\n",
              "      background-color: #E2EBFA;\n",
              "      box-shadow: 0px 1px 2px rgba(60, 64, 67, 0.3), 0px 1px 3px 1px rgba(60, 64, 67, 0.15);\n",
              "      fill: #174EA6;\n",
              "    }\n",
              "\n",
              "    [theme=dark] .colab-df-convert {\n",
              "      background-color: #3B4455;\n",
              "      fill: #D2E3FC;\n",
              "    }\n",
              "\n",
              "    [theme=dark] .colab-df-convert:hover {\n",
              "      background-color: #434B5C;\n",
              "      box-shadow: 0px 1px 3px 1px rgba(0, 0, 0, 0.15);\n",
              "      filter: drop-shadow(0px 1px 2px rgba(0, 0, 0, 0.3));\n",
              "      fill: #FFFFFF;\n",
              "    }\n",
              "  </style>\n",
              "\n",
              "      <script>\n",
              "        const buttonEl =\n",
              "          document.querySelector('#df-01c037d5-44b5-44e5-b3d1-42a00536efb6 button.colab-df-convert');\n",
              "        buttonEl.style.display =\n",
              "          google.colab.kernel.accessAllowed ? 'block' : 'none';\n",
              "\n",
              "        async function convertToInteractive(key) {\n",
              "          const element = document.querySelector('#df-01c037d5-44b5-44e5-b3d1-42a00536efb6');\n",
              "          const dataTable =\n",
              "            await google.colab.kernel.invokeFunction('convertToInteractive',\n",
              "                                                     [key], {});\n",
              "          if (!dataTable) return;\n",
              "\n",
              "          const docLinkHtml = 'Like what you see? Visit the ' +\n",
              "            '<a target=\"_blank\" href=https://colab.research.google.com/notebooks/data_table.ipynb>data table notebook</a>'\n",
              "            + ' to learn more about interactive tables.';\n",
              "          element.innerHTML = '';\n",
              "          dataTable['output_type'] = 'display_data';\n",
              "          await google.colab.output.renderOutput(dataTable, element);\n",
              "          const docLink = document.createElement('div');\n",
              "          docLink.innerHTML = docLinkHtml;\n",
              "          element.appendChild(docLink);\n",
              "        }\n",
              "      </script>\n",
              "    </div>\n",
              "  </div>\n",
              "  "
            ]
          },
          "metadata": {},
          "execution_count": 171
        }
      ]
    },
    {
      "cell_type": "code",
      "source": [
        "cols2 = (\"text\", \"lemma\", \"POS\", \"explain\", \"stopword\")\n",
        "rows2 = []\n",
        "\n",
        "for t in doc2:\n",
        "    row2 = [t.text, t.lemma_, t.pos_, spacy.explain(t.pos_), t.is_stop]\n",
        "    rows2.append(row2)\n",
        "\n",
        "df2 = pd.DataFrame(rows2, columns=cols2)\n",
        "    \n",
        "df2"
      ],
      "metadata": {
        "colab": {
          "base_uri": "https://localhost:8080/",
          "height": 739
        },
        "id": "FZ_3dlXc9UfI",
        "outputId": "497142f9-a590-4cbf-fbbc-13cf5fb2dfea"
      },
      "execution_count": 172,
      "outputs": [
        {
          "output_type": "execute_result",
          "data": {
            "text/plain": [
              "         text      lemma    POS                    explain  stopword\n",
              "0         the        the    DET                 determiner      True\n",
              "1   beginning  beginning   NOUN                       noun     False\n",
              "2          of         of    ADP                 adposition      True\n",
              "3        time       time   NOUN                       noun     False\n",
              "4         are         be    AUX                  auxiliary      True\n",
              "5     unknown    unknown    ADJ                  adjective     False\n",
              "6         for        for  SCONJ  subordinating conjunction      True\n",
              "7       every      every    DET                 determiner      True\n",
              "8      living       live   VERB                       verb     False\n",
              "9      beings      being   NOUN                       noun     False\n",
              "10      which      which   PRON                    pronoun      True\n",
              "11     making       make   VERB                       verb     False\n",
              "12     useful     useful    ADJ                  adjective     False\n",
              "13         in         in    ADP                 adposition      True\n",
              "14      lived       live   VERB                       verb     False\n",
              "15      until      until    ADP                 adposition      True\n",
              "16        now        now    ADV                     adverb      True\n",
              "17          .          .  PUNCT                punctuation     False\n",
              "18        Are         be    AUX                  auxiliary      True\n",
              "19         we         we   PRON                    pronoun      True\n",
              "20       Sure       sure    ADJ                  adjective     False\n",
              "21          ?          ?  PUNCT                punctuation     False"
            ],
            "text/html": [
              "\n",
              "  <div id=\"df-6d27b5b1-3ad1-489b-9880-4489f5496caa\">\n",
              "    <div class=\"colab-df-container\">\n",
              "      <div>\n",
              "<style scoped>\n",
              "    .dataframe tbody tr th:only-of-type {\n",
              "        vertical-align: middle;\n",
              "    }\n",
              "\n",
              "    .dataframe tbody tr th {\n",
              "        vertical-align: top;\n",
              "    }\n",
              "\n",
              "    .dataframe thead th {\n",
              "        text-align: right;\n",
              "    }\n",
              "</style>\n",
              "<table border=\"1\" class=\"dataframe\">\n",
              "  <thead>\n",
              "    <tr style=\"text-align: right;\">\n",
              "      <th></th>\n",
              "      <th>text</th>\n",
              "      <th>lemma</th>\n",
              "      <th>POS</th>\n",
              "      <th>explain</th>\n",
              "      <th>stopword</th>\n",
              "    </tr>\n",
              "  </thead>\n",
              "  <tbody>\n",
              "    <tr>\n",
              "      <th>0</th>\n",
              "      <td>the</td>\n",
              "      <td>the</td>\n",
              "      <td>DET</td>\n",
              "      <td>determiner</td>\n",
              "      <td>True</td>\n",
              "    </tr>\n",
              "    <tr>\n",
              "      <th>1</th>\n",
              "      <td>beginning</td>\n",
              "      <td>beginning</td>\n",
              "      <td>NOUN</td>\n",
              "      <td>noun</td>\n",
              "      <td>False</td>\n",
              "    </tr>\n",
              "    <tr>\n",
              "      <th>2</th>\n",
              "      <td>of</td>\n",
              "      <td>of</td>\n",
              "      <td>ADP</td>\n",
              "      <td>adposition</td>\n",
              "      <td>True</td>\n",
              "    </tr>\n",
              "    <tr>\n",
              "      <th>3</th>\n",
              "      <td>time</td>\n",
              "      <td>time</td>\n",
              "      <td>NOUN</td>\n",
              "      <td>noun</td>\n",
              "      <td>False</td>\n",
              "    </tr>\n",
              "    <tr>\n",
              "      <th>4</th>\n",
              "      <td>are</td>\n",
              "      <td>be</td>\n",
              "      <td>AUX</td>\n",
              "      <td>auxiliary</td>\n",
              "      <td>True</td>\n",
              "    </tr>\n",
              "    <tr>\n",
              "      <th>5</th>\n",
              "      <td>unknown</td>\n",
              "      <td>unknown</td>\n",
              "      <td>ADJ</td>\n",
              "      <td>adjective</td>\n",
              "      <td>False</td>\n",
              "    </tr>\n",
              "    <tr>\n",
              "      <th>6</th>\n",
              "      <td>for</td>\n",
              "      <td>for</td>\n",
              "      <td>SCONJ</td>\n",
              "      <td>subordinating conjunction</td>\n",
              "      <td>True</td>\n",
              "    </tr>\n",
              "    <tr>\n",
              "      <th>7</th>\n",
              "      <td>every</td>\n",
              "      <td>every</td>\n",
              "      <td>DET</td>\n",
              "      <td>determiner</td>\n",
              "      <td>True</td>\n",
              "    </tr>\n",
              "    <tr>\n",
              "      <th>8</th>\n",
              "      <td>living</td>\n",
              "      <td>live</td>\n",
              "      <td>VERB</td>\n",
              "      <td>verb</td>\n",
              "      <td>False</td>\n",
              "    </tr>\n",
              "    <tr>\n",
              "      <th>9</th>\n",
              "      <td>beings</td>\n",
              "      <td>being</td>\n",
              "      <td>NOUN</td>\n",
              "      <td>noun</td>\n",
              "      <td>False</td>\n",
              "    </tr>\n",
              "    <tr>\n",
              "      <th>10</th>\n",
              "      <td>which</td>\n",
              "      <td>which</td>\n",
              "      <td>PRON</td>\n",
              "      <td>pronoun</td>\n",
              "      <td>True</td>\n",
              "    </tr>\n",
              "    <tr>\n",
              "      <th>11</th>\n",
              "      <td>making</td>\n",
              "      <td>make</td>\n",
              "      <td>VERB</td>\n",
              "      <td>verb</td>\n",
              "      <td>False</td>\n",
              "    </tr>\n",
              "    <tr>\n",
              "      <th>12</th>\n",
              "      <td>useful</td>\n",
              "      <td>useful</td>\n",
              "      <td>ADJ</td>\n",
              "      <td>adjective</td>\n",
              "      <td>False</td>\n",
              "    </tr>\n",
              "    <tr>\n",
              "      <th>13</th>\n",
              "      <td>in</td>\n",
              "      <td>in</td>\n",
              "      <td>ADP</td>\n",
              "      <td>adposition</td>\n",
              "      <td>True</td>\n",
              "    </tr>\n",
              "    <tr>\n",
              "      <th>14</th>\n",
              "      <td>lived</td>\n",
              "      <td>live</td>\n",
              "      <td>VERB</td>\n",
              "      <td>verb</td>\n",
              "      <td>False</td>\n",
              "    </tr>\n",
              "    <tr>\n",
              "      <th>15</th>\n",
              "      <td>until</td>\n",
              "      <td>until</td>\n",
              "      <td>ADP</td>\n",
              "      <td>adposition</td>\n",
              "      <td>True</td>\n",
              "    </tr>\n",
              "    <tr>\n",
              "      <th>16</th>\n",
              "      <td>now</td>\n",
              "      <td>now</td>\n",
              "      <td>ADV</td>\n",
              "      <td>adverb</td>\n",
              "      <td>True</td>\n",
              "    </tr>\n",
              "    <tr>\n",
              "      <th>17</th>\n",
              "      <td>.</td>\n",
              "      <td>.</td>\n",
              "      <td>PUNCT</td>\n",
              "      <td>punctuation</td>\n",
              "      <td>False</td>\n",
              "    </tr>\n",
              "    <tr>\n",
              "      <th>18</th>\n",
              "      <td>Are</td>\n",
              "      <td>be</td>\n",
              "      <td>AUX</td>\n",
              "      <td>auxiliary</td>\n",
              "      <td>True</td>\n",
              "    </tr>\n",
              "    <tr>\n",
              "      <th>19</th>\n",
              "      <td>we</td>\n",
              "      <td>we</td>\n",
              "      <td>PRON</td>\n",
              "      <td>pronoun</td>\n",
              "      <td>True</td>\n",
              "    </tr>\n",
              "    <tr>\n",
              "      <th>20</th>\n",
              "      <td>Sure</td>\n",
              "      <td>sure</td>\n",
              "      <td>ADJ</td>\n",
              "      <td>adjective</td>\n",
              "      <td>False</td>\n",
              "    </tr>\n",
              "    <tr>\n",
              "      <th>21</th>\n",
              "      <td>?</td>\n",
              "      <td>?</td>\n",
              "      <td>PUNCT</td>\n",
              "      <td>punctuation</td>\n",
              "      <td>False</td>\n",
              "    </tr>\n",
              "  </tbody>\n",
              "</table>\n",
              "</div>\n",
              "      <button class=\"colab-df-convert\" onclick=\"convertToInteractive('df-6d27b5b1-3ad1-489b-9880-4489f5496caa')\"\n",
              "              title=\"Convert this dataframe to an interactive table.\"\n",
              "              style=\"display:none;\">\n",
              "        \n",
              "  <svg xmlns=\"http://www.w3.org/2000/svg\" height=\"24px\"viewBox=\"0 0 24 24\"\n",
              "       width=\"24px\">\n",
              "    <path d=\"M0 0h24v24H0V0z\" fill=\"none\"/>\n",
              "    <path d=\"M18.56 5.44l.94 2.06.94-2.06 2.06-.94-2.06-.94-.94-2.06-.94 2.06-2.06.94zm-11 1L8.5 8.5l.94-2.06 2.06-.94-2.06-.94L8.5 2.5l-.94 2.06-2.06.94zm10 10l.94 2.06.94-2.06 2.06-.94-2.06-.94-.94-2.06-.94 2.06-2.06.94z\"/><path d=\"M17.41 7.96l-1.37-1.37c-.4-.4-.92-.59-1.43-.59-.52 0-1.04.2-1.43.59L10.3 9.45l-7.72 7.72c-.78.78-.78 2.05 0 2.83L4 21.41c.39.39.9.59 1.41.59.51 0 1.02-.2 1.41-.59l7.78-7.78 2.81-2.81c.8-.78.8-2.07 0-2.86zM5.41 20L4 18.59l7.72-7.72 1.47 1.35L5.41 20z\"/>\n",
              "  </svg>\n",
              "      </button>\n",
              "      \n",
              "  <style>\n",
              "    .colab-df-container {\n",
              "      display:flex;\n",
              "      flex-wrap:wrap;\n",
              "      gap: 12px;\n",
              "    }\n",
              "\n",
              "    .colab-df-convert {\n",
              "      background-color: #E8F0FE;\n",
              "      border: none;\n",
              "      border-radius: 50%;\n",
              "      cursor: pointer;\n",
              "      display: none;\n",
              "      fill: #1967D2;\n",
              "      height: 32px;\n",
              "      padding: 0 0 0 0;\n",
              "      width: 32px;\n",
              "    }\n",
              "\n",
              "    .colab-df-convert:hover {\n",
              "      background-color: #E2EBFA;\n",
              "      box-shadow: 0px 1px 2px rgba(60, 64, 67, 0.3), 0px 1px 3px 1px rgba(60, 64, 67, 0.15);\n",
              "      fill: #174EA6;\n",
              "    }\n",
              "\n",
              "    [theme=dark] .colab-df-convert {\n",
              "      background-color: #3B4455;\n",
              "      fill: #D2E3FC;\n",
              "    }\n",
              "\n",
              "    [theme=dark] .colab-df-convert:hover {\n",
              "      background-color: #434B5C;\n",
              "      box-shadow: 0px 1px 3px 1px rgba(0, 0, 0, 0.15);\n",
              "      filter: drop-shadow(0px 1px 2px rgba(0, 0, 0, 0.3));\n",
              "      fill: #FFFFFF;\n",
              "    }\n",
              "  </style>\n",
              "\n",
              "      <script>\n",
              "        const buttonEl =\n",
              "          document.querySelector('#df-6d27b5b1-3ad1-489b-9880-4489f5496caa button.colab-df-convert');\n",
              "        buttonEl.style.display =\n",
              "          google.colab.kernel.accessAllowed ? 'block' : 'none';\n",
              "\n",
              "        async function convertToInteractive(key) {\n",
              "          const element = document.querySelector('#df-6d27b5b1-3ad1-489b-9880-4489f5496caa');\n",
              "          const dataTable =\n",
              "            await google.colab.kernel.invokeFunction('convertToInteractive',\n",
              "                                                     [key], {});\n",
              "          if (!dataTable) return;\n",
              "\n",
              "          const docLinkHtml = 'Like what you see? Visit the ' +\n",
              "            '<a target=\"_blank\" href=https://colab.research.google.com/notebooks/data_table.ipynb>data table notebook</a>'\n",
              "            + ' to learn more about interactive tables.';\n",
              "          element.innerHTML = '';\n",
              "          dataTable['output_type'] = 'display_data';\n",
              "          await google.colab.output.renderOutput(dataTable, element);\n",
              "          const docLink = document.createElement('div');\n",
              "          docLink.innerHTML = docLinkHtml;\n",
              "          element.appendChild(docLink);\n",
              "        }\n",
              "      </script>\n",
              "    </div>\n",
              "  </div>\n",
              "  "
            ]
          },
          "metadata": {},
          "execution_count": 172
        }
      ]
    },
    {
      "cell_type": "markdown",
      "source": [
        "Jauh lebih mudah dibaca!\n",
        "Dalam kasus sederhana ini, seluruh dokumen hanyalah satu kalimat pendek.\n",
        "Untuk setiap kata dalam kalimat itu _spaCy_ telah membuat [token](https://spacy.io/api/token), dan kami mengakses bidang di setiap token untuk menunjukkan:\n",
        "\n",
        "  - teks mentah\n",
        "  - [lemma](https://en.wikipedia.org/wiki/Lemma_(morphology)) – bentuk akar kata\n",
        "  - [bagian dari pidato Part of Speech POS](https://en.wikipedia.org/wiki/Part_of_speech)\n",
        "  - tanda apakah kata tersebut _stopword_ – yaitu, kata umum yang dapat disaring"
      ],
      "metadata": {
        "id": "efxQd3GdkZR1"
      }
    },
    {
      "cell_type": "markdown",
      "source": [
        "sekarang kita gunakan displacy untuk visualisasi parse tree untuk kalimat diatas"
      ],
      "metadata": {
        "id": "7rny6928kgwc"
      }
    },
    {
      "cell_type": "code",
      "source": [
        "from spacy import displacy\n",
        "\n",
        "displacy.render(doc, style=\"dep\", jupyter=True)"
      ],
      "metadata": {
        "colab": {
          "base_uri": "https://localhost:8080/",
          "height": 353
        },
        "id": "fD4fHulmbhpX",
        "outputId": "e5645136-6b52-4a3f-f4ba-a2b44be10336"
      },
      "execution_count": 173,
      "outputs": [
        {
          "output_type": "display_data",
          "data": {
            "text/plain": [
              "<IPython.core.display.HTML object>"
            ],
            "text/html": [
              "<span class=\"tex2jax_ignore\"><svg xmlns=\"http://www.w3.org/2000/svg\" xmlns:xlink=\"http://www.w3.org/1999/xlink\" xml:lang=\"en\" id=\"0b3a4e4ffcf344b8b605f07aa770c2a8-0\" class=\"displacy\" width=\"1625\" height=\"312.0\" direction=\"ltr\" style=\"max-width: none; height: 312.0px; color: #000000; background: #ffffff; font-family: Arial; direction: ltr\">\n",
              "<text class=\"displacy-token\" fill=\"currentColor\" text-anchor=\"middle\" y=\"222.0\">\n",
              "    <tspan class=\"displacy-word\" fill=\"currentColor\" x=\"50\">The</tspan>\n",
              "    <tspan class=\"displacy-tag\" dy=\"2em\" fill=\"currentColor\" x=\"50\">DET</tspan>\n",
              "</text>\n",
              "\n",
              "<text class=\"displacy-token\" fill=\"currentColor\" text-anchor=\"middle\" y=\"222.0\">\n",
              "    <tspan class=\"displacy-word\" fill=\"currentColor\" x=\"225\">rain</tspan>\n",
              "    <tspan class=\"displacy-tag\" dy=\"2em\" fill=\"currentColor\" x=\"225\">NOUN</tspan>\n",
              "</text>\n",
              "\n",
              "<text class=\"displacy-token\" fill=\"currentColor\" text-anchor=\"middle\" y=\"222.0\">\n",
              "    <tspan class=\"displacy-word\" fill=\"currentColor\" x=\"400\">in</tspan>\n",
              "    <tspan class=\"displacy-tag\" dy=\"2em\" fill=\"currentColor\" x=\"400\">ADP</tspan>\n",
              "</text>\n",
              "\n",
              "<text class=\"displacy-token\" fill=\"currentColor\" text-anchor=\"middle\" y=\"222.0\">\n",
              "    <tspan class=\"displacy-word\" fill=\"currentColor\" x=\"575\">Spain</tspan>\n",
              "    <tspan class=\"displacy-tag\" dy=\"2em\" fill=\"currentColor\" x=\"575\">PROPN</tspan>\n",
              "</text>\n",
              "\n",
              "<text class=\"displacy-token\" fill=\"currentColor\" text-anchor=\"middle\" y=\"222.0\">\n",
              "    <tspan class=\"displacy-word\" fill=\"currentColor\" x=\"750\">falls</tspan>\n",
              "    <tspan class=\"displacy-tag\" dy=\"2em\" fill=\"currentColor\" x=\"750\">VERB</tspan>\n",
              "</text>\n",
              "\n",
              "<text class=\"displacy-token\" fill=\"currentColor\" text-anchor=\"middle\" y=\"222.0\">\n",
              "    <tspan class=\"displacy-word\" fill=\"currentColor\" x=\"925\">mainly</tspan>\n",
              "    <tspan class=\"displacy-tag\" dy=\"2em\" fill=\"currentColor\" x=\"925\">ADV</tspan>\n",
              "</text>\n",
              "\n",
              "<text class=\"displacy-token\" fill=\"currentColor\" text-anchor=\"middle\" y=\"222.0\">\n",
              "    <tspan class=\"displacy-word\" fill=\"currentColor\" x=\"1100\">on</tspan>\n",
              "    <tspan class=\"displacy-tag\" dy=\"2em\" fill=\"currentColor\" x=\"1100\">ADP</tspan>\n",
              "</text>\n",
              "\n",
              "<text class=\"displacy-token\" fill=\"currentColor\" text-anchor=\"middle\" y=\"222.0\">\n",
              "    <tspan class=\"displacy-word\" fill=\"currentColor\" x=\"1275\">the</tspan>\n",
              "    <tspan class=\"displacy-tag\" dy=\"2em\" fill=\"currentColor\" x=\"1275\">DET</tspan>\n",
              "</text>\n",
              "\n",
              "<text class=\"displacy-token\" fill=\"currentColor\" text-anchor=\"middle\" y=\"222.0\">\n",
              "    <tspan class=\"displacy-word\" fill=\"currentColor\" x=\"1450\">plain.</tspan>\n",
              "    <tspan class=\"displacy-tag\" dy=\"2em\" fill=\"currentColor\" x=\"1450\">NOUN</tspan>\n",
              "</text>\n",
              "\n",
              "<g class=\"displacy-arrow\">\n",
              "    <path class=\"displacy-arc\" id=\"arrow-0b3a4e4ffcf344b8b605f07aa770c2a8-0-0\" stroke-width=\"2px\" d=\"M70,177.0 C70,89.5 220.0,89.5 220.0,177.0\" fill=\"none\" stroke=\"currentColor\"/>\n",
              "    <text dy=\"1.25em\" style=\"font-size: 0.8em; letter-spacing: 1px\">\n",
              "        <textPath xlink:href=\"#arrow-0b3a4e4ffcf344b8b605f07aa770c2a8-0-0\" class=\"displacy-label\" startOffset=\"50%\" side=\"left\" fill=\"currentColor\" text-anchor=\"middle\">det</textPath>\n",
              "    </text>\n",
              "    <path class=\"displacy-arrowhead\" d=\"M70,179.0 L62,167.0 78,167.0\" fill=\"currentColor\"/>\n",
              "</g>\n",
              "\n",
              "<g class=\"displacy-arrow\">\n",
              "    <path class=\"displacy-arc\" id=\"arrow-0b3a4e4ffcf344b8b605f07aa770c2a8-0-1\" stroke-width=\"2px\" d=\"M245,177.0 C245,2.0 750.0,2.0 750.0,177.0\" fill=\"none\" stroke=\"currentColor\"/>\n",
              "    <text dy=\"1.25em\" style=\"font-size: 0.8em; letter-spacing: 1px\">\n",
              "        <textPath xlink:href=\"#arrow-0b3a4e4ffcf344b8b605f07aa770c2a8-0-1\" class=\"displacy-label\" startOffset=\"50%\" side=\"left\" fill=\"currentColor\" text-anchor=\"middle\">nsubj</textPath>\n",
              "    </text>\n",
              "    <path class=\"displacy-arrowhead\" d=\"M245,179.0 L237,167.0 253,167.0\" fill=\"currentColor\"/>\n",
              "</g>\n",
              "\n",
              "<g class=\"displacy-arrow\">\n",
              "    <path class=\"displacy-arc\" id=\"arrow-0b3a4e4ffcf344b8b605f07aa770c2a8-0-2\" stroke-width=\"2px\" d=\"M245,177.0 C245,89.5 395.0,89.5 395.0,177.0\" fill=\"none\" stroke=\"currentColor\"/>\n",
              "    <text dy=\"1.25em\" style=\"font-size: 0.8em; letter-spacing: 1px\">\n",
              "        <textPath xlink:href=\"#arrow-0b3a4e4ffcf344b8b605f07aa770c2a8-0-2\" class=\"displacy-label\" startOffset=\"50%\" side=\"left\" fill=\"currentColor\" text-anchor=\"middle\">prep</textPath>\n",
              "    </text>\n",
              "    <path class=\"displacy-arrowhead\" d=\"M395.0,179.0 L403.0,167.0 387.0,167.0\" fill=\"currentColor\"/>\n",
              "</g>\n",
              "\n",
              "<g class=\"displacy-arrow\">\n",
              "    <path class=\"displacy-arc\" id=\"arrow-0b3a4e4ffcf344b8b605f07aa770c2a8-0-3\" stroke-width=\"2px\" d=\"M420,177.0 C420,89.5 570.0,89.5 570.0,177.0\" fill=\"none\" stroke=\"currentColor\"/>\n",
              "    <text dy=\"1.25em\" style=\"font-size: 0.8em; letter-spacing: 1px\">\n",
              "        <textPath xlink:href=\"#arrow-0b3a4e4ffcf344b8b605f07aa770c2a8-0-3\" class=\"displacy-label\" startOffset=\"50%\" side=\"left\" fill=\"currentColor\" text-anchor=\"middle\">pobj</textPath>\n",
              "    </text>\n",
              "    <path class=\"displacy-arrowhead\" d=\"M570.0,179.0 L578.0,167.0 562.0,167.0\" fill=\"currentColor\"/>\n",
              "</g>\n",
              "\n",
              "<g class=\"displacy-arrow\">\n",
              "    <path class=\"displacy-arc\" id=\"arrow-0b3a4e4ffcf344b8b605f07aa770c2a8-0-4\" stroke-width=\"2px\" d=\"M770,177.0 C770,89.5 920.0,89.5 920.0,177.0\" fill=\"none\" stroke=\"currentColor\"/>\n",
              "    <text dy=\"1.25em\" style=\"font-size: 0.8em; letter-spacing: 1px\">\n",
              "        <textPath xlink:href=\"#arrow-0b3a4e4ffcf344b8b605f07aa770c2a8-0-4\" class=\"displacy-label\" startOffset=\"50%\" side=\"left\" fill=\"currentColor\" text-anchor=\"middle\">advmod</textPath>\n",
              "    </text>\n",
              "    <path class=\"displacy-arrowhead\" d=\"M920.0,179.0 L928.0,167.0 912.0,167.0\" fill=\"currentColor\"/>\n",
              "</g>\n",
              "\n",
              "<g class=\"displacy-arrow\">\n",
              "    <path class=\"displacy-arc\" id=\"arrow-0b3a4e4ffcf344b8b605f07aa770c2a8-0-5\" stroke-width=\"2px\" d=\"M770,177.0 C770,2.0 1100.0,2.0 1100.0,177.0\" fill=\"none\" stroke=\"currentColor\"/>\n",
              "    <text dy=\"1.25em\" style=\"font-size: 0.8em; letter-spacing: 1px\">\n",
              "        <textPath xlink:href=\"#arrow-0b3a4e4ffcf344b8b605f07aa770c2a8-0-5\" class=\"displacy-label\" startOffset=\"50%\" side=\"left\" fill=\"currentColor\" text-anchor=\"middle\">prep</textPath>\n",
              "    </text>\n",
              "    <path class=\"displacy-arrowhead\" d=\"M1100.0,179.0 L1108.0,167.0 1092.0,167.0\" fill=\"currentColor\"/>\n",
              "</g>\n",
              "\n",
              "<g class=\"displacy-arrow\">\n",
              "    <path class=\"displacy-arc\" id=\"arrow-0b3a4e4ffcf344b8b605f07aa770c2a8-0-6\" stroke-width=\"2px\" d=\"M1295,177.0 C1295,89.5 1445.0,89.5 1445.0,177.0\" fill=\"none\" stroke=\"currentColor\"/>\n",
              "    <text dy=\"1.25em\" style=\"font-size: 0.8em; letter-spacing: 1px\">\n",
              "        <textPath xlink:href=\"#arrow-0b3a4e4ffcf344b8b605f07aa770c2a8-0-6\" class=\"displacy-label\" startOffset=\"50%\" side=\"left\" fill=\"currentColor\" text-anchor=\"middle\">det</textPath>\n",
              "    </text>\n",
              "    <path class=\"displacy-arrowhead\" d=\"M1295,179.0 L1287,167.0 1303,167.0\" fill=\"currentColor\"/>\n",
              "</g>\n",
              "\n",
              "<g class=\"displacy-arrow\">\n",
              "    <path class=\"displacy-arc\" id=\"arrow-0b3a4e4ffcf344b8b605f07aa770c2a8-0-7\" stroke-width=\"2px\" d=\"M1120,177.0 C1120,2.0 1450.0,2.0 1450.0,177.0\" fill=\"none\" stroke=\"currentColor\"/>\n",
              "    <text dy=\"1.25em\" style=\"font-size: 0.8em; letter-spacing: 1px\">\n",
              "        <textPath xlink:href=\"#arrow-0b3a4e4ffcf344b8b605f07aa770c2a8-0-7\" class=\"displacy-label\" startOffset=\"50%\" side=\"left\" fill=\"currentColor\" text-anchor=\"middle\">pobj</textPath>\n",
              "    </text>\n",
              "    <path class=\"displacy-arrowhead\" d=\"M1450.0,179.0 L1458.0,167.0 1442.0,167.0\" fill=\"currentColor\"/>\n",
              "</g>\n",
              "</svg></span>"
            ]
          },
          "metadata": {}
        }
      ]
    },
    {
      "cell_type": "code",
      "source": [
        "displacy.render(doc2, style=\"dep\", jupyter=True)"
      ],
      "metadata": {
        "colab": {
          "base_uri": "https://localhost:8080/",
          "height": 615
        },
        "id": "cSuM7Rf9-OCt",
        "outputId": "724b0f50-ed52-4a14-b535-d130cf9afae0"
      },
      "execution_count": 174,
      "outputs": [
        {
          "output_type": "display_data",
          "data": {
            "text/plain": [
              "<IPython.core.display.HTML object>"
            ],
            "text/html": [
              "<span class=\"tex2jax_ignore\"><svg xmlns=\"http://www.w3.org/2000/svg\" xmlns:xlink=\"http://www.w3.org/1999/xlink\" xml:lang=\"en\" id=\"ff13fb0b2ead4969a62cf755a3ae9cfc-0\" class=\"displacy\" width=\"3550\" height=\"574.5\" direction=\"ltr\" style=\"max-width: none; height: 574.5px; color: #000000; background: #ffffff; font-family: Arial; direction: ltr\">\n",
              "<text class=\"displacy-token\" fill=\"currentColor\" text-anchor=\"middle\" y=\"484.5\">\n",
              "    <tspan class=\"displacy-word\" fill=\"currentColor\" x=\"50\">the</tspan>\n",
              "    <tspan class=\"displacy-tag\" dy=\"2em\" fill=\"currentColor\" x=\"50\">DET</tspan>\n",
              "</text>\n",
              "\n",
              "<text class=\"displacy-token\" fill=\"currentColor\" text-anchor=\"middle\" y=\"484.5\">\n",
              "    <tspan class=\"displacy-word\" fill=\"currentColor\" x=\"225\">beginning</tspan>\n",
              "    <tspan class=\"displacy-tag\" dy=\"2em\" fill=\"currentColor\" x=\"225\">NOUN</tspan>\n",
              "</text>\n",
              "\n",
              "<text class=\"displacy-token\" fill=\"currentColor\" text-anchor=\"middle\" y=\"484.5\">\n",
              "    <tspan class=\"displacy-word\" fill=\"currentColor\" x=\"400\">of</tspan>\n",
              "    <tspan class=\"displacy-tag\" dy=\"2em\" fill=\"currentColor\" x=\"400\">ADP</tspan>\n",
              "</text>\n",
              "\n",
              "<text class=\"displacy-token\" fill=\"currentColor\" text-anchor=\"middle\" y=\"484.5\">\n",
              "    <tspan class=\"displacy-word\" fill=\"currentColor\" x=\"575\">time</tspan>\n",
              "    <tspan class=\"displacy-tag\" dy=\"2em\" fill=\"currentColor\" x=\"575\">NOUN</tspan>\n",
              "</text>\n",
              "\n",
              "<text class=\"displacy-token\" fill=\"currentColor\" text-anchor=\"middle\" y=\"484.5\">\n",
              "    <tspan class=\"displacy-word\" fill=\"currentColor\" x=\"750\">are</tspan>\n",
              "    <tspan class=\"displacy-tag\" dy=\"2em\" fill=\"currentColor\" x=\"750\">AUX</tspan>\n",
              "</text>\n",
              "\n",
              "<text class=\"displacy-token\" fill=\"currentColor\" text-anchor=\"middle\" y=\"484.5\">\n",
              "    <tspan class=\"displacy-word\" fill=\"currentColor\" x=\"925\">unknown</tspan>\n",
              "    <tspan class=\"displacy-tag\" dy=\"2em\" fill=\"currentColor\" x=\"925\">ADJ</tspan>\n",
              "</text>\n",
              "\n",
              "<text class=\"displacy-token\" fill=\"currentColor\" text-anchor=\"middle\" y=\"484.5\">\n",
              "    <tspan class=\"displacy-word\" fill=\"currentColor\" x=\"1100\">for</tspan>\n",
              "    <tspan class=\"displacy-tag\" dy=\"2em\" fill=\"currentColor\" x=\"1100\">SCONJ</tspan>\n",
              "</text>\n",
              "\n",
              "<text class=\"displacy-token\" fill=\"currentColor\" text-anchor=\"middle\" y=\"484.5\">\n",
              "    <tspan class=\"displacy-word\" fill=\"currentColor\" x=\"1275\">every</tspan>\n",
              "    <tspan class=\"displacy-tag\" dy=\"2em\" fill=\"currentColor\" x=\"1275\">DET</tspan>\n",
              "</text>\n",
              "\n",
              "<text class=\"displacy-token\" fill=\"currentColor\" text-anchor=\"middle\" y=\"484.5\">\n",
              "    <tspan class=\"displacy-word\" fill=\"currentColor\" x=\"1450\">living</tspan>\n",
              "    <tspan class=\"displacy-tag\" dy=\"2em\" fill=\"currentColor\" x=\"1450\">VERB</tspan>\n",
              "</text>\n",
              "\n",
              "<text class=\"displacy-token\" fill=\"currentColor\" text-anchor=\"middle\" y=\"484.5\">\n",
              "    <tspan class=\"displacy-word\" fill=\"currentColor\" x=\"1625\">beings</tspan>\n",
              "    <tspan class=\"displacy-tag\" dy=\"2em\" fill=\"currentColor\" x=\"1625\">NOUN</tspan>\n",
              "</text>\n",
              "\n",
              "<text class=\"displacy-token\" fill=\"currentColor\" text-anchor=\"middle\" y=\"484.5\">\n",
              "    <tspan class=\"displacy-word\" fill=\"currentColor\" x=\"1800\">which</tspan>\n",
              "    <tspan class=\"displacy-tag\" dy=\"2em\" fill=\"currentColor\" x=\"1800\">PRON</tspan>\n",
              "</text>\n",
              "\n",
              "<text class=\"displacy-token\" fill=\"currentColor\" text-anchor=\"middle\" y=\"484.5\">\n",
              "    <tspan class=\"displacy-word\" fill=\"currentColor\" x=\"1975\">making</tspan>\n",
              "    <tspan class=\"displacy-tag\" dy=\"2em\" fill=\"currentColor\" x=\"1975\">VERB</tspan>\n",
              "</text>\n",
              "\n",
              "<text class=\"displacy-token\" fill=\"currentColor\" text-anchor=\"middle\" y=\"484.5\">\n",
              "    <tspan class=\"displacy-word\" fill=\"currentColor\" x=\"2150\">useful</tspan>\n",
              "    <tspan class=\"displacy-tag\" dy=\"2em\" fill=\"currentColor\" x=\"2150\">ADJ</tspan>\n",
              "</text>\n",
              "\n",
              "<text class=\"displacy-token\" fill=\"currentColor\" text-anchor=\"middle\" y=\"484.5\">\n",
              "    <tspan class=\"displacy-word\" fill=\"currentColor\" x=\"2325\">in</tspan>\n",
              "    <tspan class=\"displacy-tag\" dy=\"2em\" fill=\"currentColor\" x=\"2325\">ADP</tspan>\n",
              "</text>\n",
              "\n",
              "<text class=\"displacy-token\" fill=\"currentColor\" text-anchor=\"middle\" y=\"484.5\">\n",
              "    <tspan class=\"displacy-word\" fill=\"currentColor\" x=\"2500\">lived</tspan>\n",
              "    <tspan class=\"displacy-tag\" dy=\"2em\" fill=\"currentColor\" x=\"2500\">VERB</tspan>\n",
              "</text>\n",
              "\n",
              "<text class=\"displacy-token\" fill=\"currentColor\" text-anchor=\"middle\" y=\"484.5\">\n",
              "    <tspan class=\"displacy-word\" fill=\"currentColor\" x=\"2675\">until</tspan>\n",
              "    <tspan class=\"displacy-tag\" dy=\"2em\" fill=\"currentColor\" x=\"2675\">ADP</tspan>\n",
              "</text>\n",
              "\n",
              "<text class=\"displacy-token\" fill=\"currentColor\" text-anchor=\"middle\" y=\"484.5\">\n",
              "    <tspan class=\"displacy-word\" fill=\"currentColor\" x=\"2850\">now.</tspan>\n",
              "    <tspan class=\"displacy-tag\" dy=\"2em\" fill=\"currentColor\" x=\"2850\">ADV</tspan>\n",
              "</text>\n",
              "\n",
              "<text class=\"displacy-token\" fill=\"currentColor\" text-anchor=\"middle\" y=\"484.5\">\n",
              "    <tspan class=\"displacy-word\" fill=\"currentColor\" x=\"3025\">Are</tspan>\n",
              "    <tspan class=\"displacy-tag\" dy=\"2em\" fill=\"currentColor\" x=\"3025\">AUX</tspan>\n",
              "</text>\n",
              "\n",
              "<text class=\"displacy-token\" fill=\"currentColor\" text-anchor=\"middle\" y=\"484.5\">\n",
              "    <tspan class=\"displacy-word\" fill=\"currentColor\" x=\"3200\">we</tspan>\n",
              "    <tspan class=\"displacy-tag\" dy=\"2em\" fill=\"currentColor\" x=\"3200\">PRON</tspan>\n",
              "</text>\n",
              "\n",
              "<text class=\"displacy-token\" fill=\"currentColor\" text-anchor=\"middle\" y=\"484.5\">\n",
              "    <tspan class=\"displacy-word\" fill=\"currentColor\" x=\"3375\">Sure?</tspan>\n",
              "    <tspan class=\"displacy-tag\" dy=\"2em\" fill=\"currentColor\" x=\"3375\">ADJ</tspan>\n",
              "</text>\n",
              "\n",
              "<g class=\"displacy-arrow\">\n",
              "    <path class=\"displacy-arc\" id=\"arrow-ff13fb0b2ead4969a62cf755a3ae9cfc-0-0\" stroke-width=\"2px\" d=\"M70,439.5 C70,352.0 205.0,352.0 205.0,439.5\" fill=\"none\" stroke=\"currentColor\"/>\n",
              "    <text dy=\"1.25em\" style=\"font-size: 0.8em; letter-spacing: 1px\">\n",
              "        <textPath xlink:href=\"#arrow-ff13fb0b2ead4969a62cf755a3ae9cfc-0-0\" class=\"displacy-label\" startOffset=\"50%\" side=\"left\" fill=\"currentColor\" text-anchor=\"middle\">det</textPath>\n",
              "    </text>\n",
              "    <path class=\"displacy-arrowhead\" d=\"M70,441.5 L62,429.5 78,429.5\" fill=\"currentColor\"/>\n",
              "</g>\n",
              "\n",
              "<g class=\"displacy-arrow\">\n",
              "    <path class=\"displacy-arc\" id=\"arrow-ff13fb0b2ead4969a62cf755a3ae9cfc-0-1\" stroke-width=\"2px\" d=\"M245,439.5 C245,264.5 735.0,264.5 735.0,439.5\" fill=\"none\" stroke=\"currentColor\"/>\n",
              "    <text dy=\"1.25em\" style=\"font-size: 0.8em; letter-spacing: 1px\">\n",
              "        <textPath xlink:href=\"#arrow-ff13fb0b2ead4969a62cf755a3ae9cfc-0-1\" class=\"displacy-label\" startOffset=\"50%\" side=\"left\" fill=\"currentColor\" text-anchor=\"middle\">nsubj</textPath>\n",
              "    </text>\n",
              "    <path class=\"displacy-arrowhead\" d=\"M245,441.5 L237,429.5 253,429.5\" fill=\"currentColor\"/>\n",
              "</g>\n",
              "\n",
              "<g class=\"displacy-arrow\">\n",
              "    <path class=\"displacy-arc\" id=\"arrow-ff13fb0b2ead4969a62cf755a3ae9cfc-0-2\" stroke-width=\"2px\" d=\"M245,439.5 C245,352.0 380.0,352.0 380.0,439.5\" fill=\"none\" stroke=\"currentColor\"/>\n",
              "    <text dy=\"1.25em\" style=\"font-size: 0.8em; letter-spacing: 1px\">\n",
              "        <textPath xlink:href=\"#arrow-ff13fb0b2ead4969a62cf755a3ae9cfc-0-2\" class=\"displacy-label\" startOffset=\"50%\" side=\"left\" fill=\"currentColor\" text-anchor=\"middle\">prep</textPath>\n",
              "    </text>\n",
              "    <path class=\"displacy-arrowhead\" d=\"M380.0,441.5 L388.0,429.5 372.0,429.5\" fill=\"currentColor\"/>\n",
              "</g>\n",
              "\n",
              "<g class=\"displacy-arrow\">\n",
              "    <path class=\"displacy-arc\" id=\"arrow-ff13fb0b2ead4969a62cf755a3ae9cfc-0-3\" stroke-width=\"2px\" d=\"M420,439.5 C420,352.0 555.0,352.0 555.0,439.5\" fill=\"none\" stroke=\"currentColor\"/>\n",
              "    <text dy=\"1.25em\" style=\"font-size: 0.8em; letter-spacing: 1px\">\n",
              "        <textPath xlink:href=\"#arrow-ff13fb0b2ead4969a62cf755a3ae9cfc-0-3\" class=\"displacy-label\" startOffset=\"50%\" side=\"left\" fill=\"currentColor\" text-anchor=\"middle\">pobj</textPath>\n",
              "    </text>\n",
              "    <path class=\"displacy-arrowhead\" d=\"M555.0,441.5 L563.0,429.5 547.0,429.5\" fill=\"currentColor\"/>\n",
              "</g>\n",
              "\n",
              "<g class=\"displacy-arrow\">\n",
              "    <path class=\"displacy-arc\" id=\"arrow-ff13fb0b2ead4969a62cf755a3ae9cfc-0-4\" stroke-width=\"2px\" d=\"M770,439.5 C770,352.0 905.0,352.0 905.0,439.5\" fill=\"none\" stroke=\"currentColor\"/>\n",
              "    <text dy=\"1.25em\" style=\"font-size: 0.8em; letter-spacing: 1px\">\n",
              "        <textPath xlink:href=\"#arrow-ff13fb0b2ead4969a62cf755a3ae9cfc-0-4\" class=\"displacy-label\" startOffset=\"50%\" side=\"left\" fill=\"currentColor\" text-anchor=\"middle\">acomp</textPath>\n",
              "    </text>\n",
              "    <path class=\"displacy-arrowhead\" d=\"M905.0,441.5 L913.0,429.5 897.0,429.5\" fill=\"currentColor\"/>\n",
              "</g>\n",
              "\n",
              "<g class=\"displacy-arrow\">\n",
              "    <path class=\"displacy-arc\" id=\"arrow-ff13fb0b2ead4969a62cf755a3ae9cfc-0-5\" stroke-width=\"2px\" d=\"M1120,439.5 C1120,89.5 2495.0,89.5 2495.0,439.5\" fill=\"none\" stroke=\"currentColor\"/>\n",
              "    <text dy=\"1.25em\" style=\"font-size: 0.8em; letter-spacing: 1px\">\n",
              "        <textPath xlink:href=\"#arrow-ff13fb0b2ead4969a62cf755a3ae9cfc-0-5\" class=\"displacy-label\" startOffset=\"50%\" side=\"left\" fill=\"currentColor\" text-anchor=\"middle\">mark</textPath>\n",
              "    </text>\n",
              "    <path class=\"displacy-arrowhead\" d=\"M1120,441.5 L1112,429.5 1128,429.5\" fill=\"currentColor\"/>\n",
              "</g>\n",
              "\n",
              "<g class=\"displacy-arrow\">\n",
              "    <path class=\"displacy-arc\" id=\"arrow-ff13fb0b2ead4969a62cf755a3ae9cfc-0-6\" stroke-width=\"2px\" d=\"M1295,439.5 C1295,264.5 1610.0,264.5 1610.0,439.5\" fill=\"none\" stroke=\"currentColor\"/>\n",
              "    <text dy=\"1.25em\" style=\"font-size: 0.8em; letter-spacing: 1px\">\n",
              "        <textPath xlink:href=\"#arrow-ff13fb0b2ead4969a62cf755a3ae9cfc-0-6\" class=\"displacy-label\" startOffset=\"50%\" side=\"left\" fill=\"currentColor\" text-anchor=\"middle\">det</textPath>\n",
              "    </text>\n",
              "    <path class=\"displacy-arrowhead\" d=\"M1295,441.5 L1287,429.5 1303,429.5\" fill=\"currentColor\"/>\n",
              "</g>\n",
              "\n",
              "<g class=\"displacy-arrow\">\n",
              "    <path class=\"displacy-arc\" id=\"arrow-ff13fb0b2ead4969a62cf755a3ae9cfc-0-7\" stroke-width=\"2px\" d=\"M1470,439.5 C1470,352.0 1605.0,352.0 1605.0,439.5\" fill=\"none\" stroke=\"currentColor\"/>\n",
              "    <text dy=\"1.25em\" style=\"font-size: 0.8em; letter-spacing: 1px\">\n",
              "        <textPath xlink:href=\"#arrow-ff13fb0b2ead4969a62cf755a3ae9cfc-0-7\" class=\"displacy-label\" startOffset=\"50%\" side=\"left\" fill=\"currentColor\" text-anchor=\"middle\">amod</textPath>\n",
              "    </text>\n",
              "    <path class=\"displacy-arrowhead\" d=\"M1470,441.5 L1462,429.5 1478,429.5\" fill=\"currentColor\"/>\n",
              "</g>\n",
              "\n",
              "<g class=\"displacy-arrow\">\n",
              "    <path class=\"displacy-arc\" id=\"arrow-ff13fb0b2ead4969a62cf755a3ae9cfc-0-8\" stroke-width=\"2px\" d=\"M1645,439.5 C1645,177.0 2490.0,177.0 2490.0,439.5\" fill=\"none\" stroke=\"currentColor\"/>\n",
              "    <text dy=\"1.25em\" style=\"font-size: 0.8em; letter-spacing: 1px\">\n",
              "        <textPath xlink:href=\"#arrow-ff13fb0b2ead4969a62cf755a3ae9cfc-0-8\" class=\"displacy-label\" startOffset=\"50%\" side=\"left\" fill=\"currentColor\" text-anchor=\"middle\">nsubj</textPath>\n",
              "    </text>\n",
              "    <path class=\"displacy-arrowhead\" d=\"M1645,441.5 L1637,429.5 1653,429.5\" fill=\"currentColor\"/>\n",
              "</g>\n",
              "\n",
              "<g class=\"displacy-arrow\">\n",
              "    <path class=\"displacy-arc\" id=\"arrow-ff13fb0b2ead4969a62cf755a3ae9cfc-0-9\" stroke-width=\"2px\" d=\"M1820,439.5 C1820,352.0 1955.0,352.0 1955.0,439.5\" fill=\"none\" stroke=\"currentColor\"/>\n",
              "    <text dy=\"1.25em\" style=\"font-size: 0.8em; letter-spacing: 1px\">\n",
              "        <textPath xlink:href=\"#arrow-ff13fb0b2ead4969a62cf755a3ae9cfc-0-9\" class=\"displacy-label\" startOffset=\"50%\" side=\"left\" fill=\"currentColor\" text-anchor=\"middle\">nsubj</textPath>\n",
              "    </text>\n",
              "    <path class=\"displacy-arrowhead\" d=\"M1820,441.5 L1812,429.5 1828,429.5\" fill=\"currentColor\"/>\n",
              "</g>\n",
              "\n",
              "<g class=\"displacy-arrow\">\n",
              "    <path class=\"displacy-arc\" id=\"arrow-ff13fb0b2ead4969a62cf755a3ae9cfc-0-10\" stroke-width=\"2px\" d=\"M1645,439.5 C1645,264.5 1960.0,264.5 1960.0,439.5\" fill=\"none\" stroke=\"currentColor\"/>\n",
              "    <text dy=\"1.25em\" style=\"font-size: 0.8em; letter-spacing: 1px\">\n",
              "        <textPath xlink:href=\"#arrow-ff13fb0b2ead4969a62cf755a3ae9cfc-0-10\" class=\"displacy-label\" startOffset=\"50%\" side=\"left\" fill=\"currentColor\" text-anchor=\"middle\">relcl</textPath>\n",
              "    </text>\n",
              "    <path class=\"displacy-arrowhead\" d=\"M1960.0,441.5 L1968.0,429.5 1952.0,429.5\" fill=\"currentColor\"/>\n",
              "</g>\n",
              "\n",
              "<g class=\"displacy-arrow\">\n",
              "    <path class=\"displacy-arc\" id=\"arrow-ff13fb0b2ead4969a62cf755a3ae9cfc-0-11\" stroke-width=\"2px\" d=\"M1995,439.5 C1995,352.0 2130.0,352.0 2130.0,439.5\" fill=\"none\" stroke=\"currentColor\"/>\n",
              "    <text dy=\"1.25em\" style=\"font-size: 0.8em; letter-spacing: 1px\">\n",
              "        <textPath xlink:href=\"#arrow-ff13fb0b2ead4969a62cf755a3ae9cfc-0-11\" class=\"displacy-label\" startOffset=\"50%\" side=\"left\" fill=\"currentColor\" text-anchor=\"middle\">acomp</textPath>\n",
              "    </text>\n",
              "    <path class=\"displacy-arrowhead\" d=\"M2130.0,441.5 L2138.0,429.5 2122.0,429.5\" fill=\"currentColor\"/>\n",
              "</g>\n",
              "\n",
              "<g class=\"displacy-arrow\">\n",
              "    <path class=\"displacy-arc\" id=\"arrow-ff13fb0b2ead4969a62cf755a3ae9cfc-0-12\" stroke-width=\"2px\" d=\"M2170,439.5 C2170,352.0 2305.0,352.0 2305.0,439.5\" fill=\"none\" stroke=\"currentColor\"/>\n",
              "    <text dy=\"1.25em\" style=\"font-size: 0.8em; letter-spacing: 1px\">\n",
              "        <textPath xlink:href=\"#arrow-ff13fb0b2ead4969a62cf755a3ae9cfc-0-12\" class=\"displacy-label\" startOffset=\"50%\" side=\"left\" fill=\"currentColor\" text-anchor=\"middle\">prep</textPath>\n",
              "    </text>\n",
              "    <path class=\"displacy-arrowhead\" d=\"M2305.0,441.5 L2313.0,429.5 2297.0,429.5\" fill=\"currentColor\"/>\n",
              "</g>\n",
              "\n",
              "<g class=\"displacy-arrow\">\n",
              "    <path class=\"displacy-arc\" id=\"arrow-ff13fb0b2ead4969a62cf755a3ae9cfc-0-13\" stroke-width=\"2px\" d=\"M770,439.5 C770,2.0 2500.0,2.0 2500.0,439.5\" fill=\"none\" stroke=\"currentColor\"/>\n",
              "    <text dy=\"1.25em\" style=\"font-size: 0.8em; letter-spacing: 1px\">\n",
              "        <textPath xlink:href=\"#arrow-ff13fb0b2ead4969a62cf755a3ae9cfc-0-13\" class=\"displacy-label\" startOffset=\"50%\" side=\"left\" fill=\"currentColor\" text-anchor=\"middle\">advcl</textPath>\n",
              "    </text>\n",
              "    <path class=\"displacy-arrowhead\" d=\"M2500.0,441.5 L2508.0,429.5 2492.0,429.5\" fill=\"currentColor\"/>\n",
              "</g>\n",
              "\n",
              "<g class=\"displacy-arrow\">\n",
              "    <path class=\"displacy-arc\" id=\"arrow-ff13fb0b2ead4969a62cf755a3ae9cfc-0-14\" stroke-width=\"2px\" d=\"M2520,439.5 C2520,352.0 2655.0,352.0 2655.0,439.5\" fill=\"none\" stroke=\"currentColor\"/>\n",
              "    <text dy=\"1.25em\" style=\"font-size: 0.8em; letter-spacing: 1px\">\n",
              "        <textPath xlink:href=\"#arrow-ff13fb0b2ead4969a62cf755a3ae9cfc-0-14\" class=\"displacy-label\" startOffset=\"50%\" side=\"left\" fill=\"currentColor\" text-anchor=\"middle\">prep</textPath>\n",
              "    </text>\n",
              "    <path class=\"displacy-arrowhead\" d=\"M2655.0,441.5 L2663.0,429.5 2647.0,429.5\" fill=\"currentColor\"/>\n",
              "</g>\n",
              "\n",
              "<g class=\"displacy-arrow\">\n",
              "    <path class=\"displacy-arc\" id=\"arrow-ff13fb0b2ead4969a62cf755a3ae9cfc-0-15\" stroke-width=\"2px\" d=\"M2695,439.5 C2695,352.0 2830.0,352.0 2830.0,439.5\" fill=\"none\" stroke=\"currentColor\"/>\n",
              "    <text dy=\"1.25em\" style=\"font-size: 0.8em; letter-spacing: 1px\">\n",
              "        <textPath xlink:href=\"#arrow-ff13fb0b2ead4969a62cf755a3ae9cfc-0-15\" class=\"displacy-label\" startOffset=\"50%\" side=\"left\" fill=\"currentColor\" text-anchor=\"middle\">pcomp</textPath>\n",
              "    </text>\n",
              "    <path class=\"displacy-arrowhead\" d=\"M2830.0,441.5 L2838.0,429.5 2822.0,429.5\" fill=\"currentColor\"/>\n",
              "</g>\n",
              "\n",
              "<g class=\"displacy-arrow\">\n",
              "    <path class=\"displacy-arc\" id=\"arrow-ff13fb0b2ead4969a62cf755a3ae9cfc-0-16\" stroke-width=\"2px\" d=\"M3045,439.5 C3045,352.0 3180.0,352.0 3180.0,439.5\" fill=\"none\" stroke=\"currentColor\"/>\n",
              "    <text dy=\"1.25em\" style=\"font-size: 0.8em; letter-spacing: 1px\">\n",
              "        <textPath xlink:href=\"#arrow-ff13fb0b2ead4969a62cf755a3ae9cfc-0-16\" class=\"displacy-label\" startOffset=\"50%\" side=\"left\" fill=\"currentColor\" text-anchor=\"middle\">nsubj</textPath>\n",
              "    </text>\n",
              "    <path class=\"displacy-arrowhead\" d=\"M3180.0,441.5 L3188.0,429.5 3172.0,429.5\" fill=\"currentColor\"/>\n",
              "</g>\n",
              "\n",
              "<g class=\"displacy-arrow\">\n",
              "    <path class=\"displacy-arc\" id=\"arrow-ff13fb0b2ead4969a62cf755a3ae9cfc-0-17\" stroke-width=\"2px\" d=\"M3045,439.5 C3045,264.5 3360.0,264.5 3360.0,439.5\" fill=\"none\" stroke=\"currentColor\"/>\n",
              "    <text dy=\"1.25em\" style=\"font-size: 0.8em; letter-spacing: 1px\">\n",
              "        <textPath xlink:href=\"#arrow-ff13fb0b2ead4969a62cf755a3ae9cfc-0-17\" class=\"displacy-label\" startOffset=\"50%\" side=\"left\" fill=\"currentColor\" text-anchor=\"middle\">acomp</textPath>\n",
              "    </text>\n",
              "    <path class=\"displacy-arrowhead\" d=\"M3360.0,441.5 L3368.0,429.5 3352.0,429.5\" fill=\"currentColor\"/>\n",
              "</g>\n",
              "</svg></span>"
            ]
          },
          "metadata": {}
        }
      ]
    },
    {
      "cell_type": "markdown",
      "source": [
        "Apakah itu membawa kembali kenangan sekolah menengah atas? Terus terang, bagi kita yang lebih dari latar belakang linguistik komputasi, diagram itu memicu kegembiraan.\n",
        "\n",
        "Tapi mari kita backup sejenak. Bagaimana Anda menangani banyak kalimat?\n",
        "\n",
        "Ada fitur untuk _sentence boundary detection_ (SBD) – juga dikenal sebagai _sentence segmentation_ – berdasarkan [sentencizer] bawaan/default (https://spacy.io/api/sentencezer):"
      ],
      "metadata": {
        "id": "0FCSyWV0ksvl"
      }
    },
    {
      "cell_type": "code",
      "source": [
        "text3 = \"We were all out at the zoo one day, I was doing some acting, walking on the railing of the gorilla exhibit. I fell in. Everyone screamed and Tommy jumped in after me, forgetting that he had blueberries in his front pocket. The gorillas just went wild.\"\n",
        "\n",
        "doc3 = nlp(text3)\n",
        "\n",
        "for sent in doc3.sents:\n",
        "    print(\">\", sent)"
      ],
      "metadata": {
        "colab": {
          "base_uri": "https://localhost:8080/"
        },
        "id": "enhHYkOKbnhN",
        "outputId": "1622f125-2167-48a1-d4a6-533a68bd1b4e"
      },
      "execution_count": 175,
      "outputs": [
        {
          "output_type": "stream",
          "name": "stdout",
          "text": [
            "> We were all out at the zoo one day, I was doing some acting, walking on the railing of the gorilla exhibit.\n",
            "> I fell in.\n",
            "> Everyone screamed and Tommy jumped in after me, forgetting that he had blueberries in his front pocket.\n",
            "> The gorillas just went wild.\n"
          ]
        }
      ]
    },
    {
      "cell_type": "markdown",
      "source": [
        "Ketika _spaCy_ membuat dokumen, ia menggunakan prinsip _non-destruktif tokenization_ yang berarti bahwa token, kalimat, dll., hanya diindeks ke dalam array yang panjang. Dengan kata lain, mereka tidak mengukir aliran teks menjadi potongan-potongan kecil. Jadi setiap kalimat adalah [span](https://spacy.io/api/span) dengan indeks _start_ dan _end_ ke dalam larik dokumen:"
      ],
      "metadata": {
        "id": "G0fFNUy1k1e0"
      }
    },
    {
      "cell_type": "code",
      "source": [
        "for sent in doc3.sents:\n",
        "    print(\">\", sent.start, sent.end)"
      ],
      "metadata": {
        "id": "qC6Xx72dbpsg",
        "colab": {
          "base_uri": "https://localhost:8080/"
        },
        "outputId": "8539e876-5520-4b72-d8c3-9f89e70d68fc"
      },
      "execution_count": 176,
      "outputs": [
        {
          "output_type": "stream",
          "name": "stdout",
          "text": [
            "> 0 25\n",
            "> 25 29\n",
            "> 29 48\n",
            "> 48 54\n"
          ]
        }
      ]
    },
    {
      "cell_type": "markdown",
      "source": [
        "Kita dapat mengindeks ke dalam larik dokumen untuk mengeluarkan token untuk satu kalimat:"
      ],
      "metadata": {
        "id": "cmVPvcXEk9I-"
      }
    },
    {
      "cell_type": "code",
      "source": [
        "doc3[0:25]"
      ],
      "metadata": {
        "colab": {
          "base_uri": "https://localhost:8080/"
        },
        "id": "cj9acVPr_gAT",
        "outputId": "0d01940e-4afc-4b7f-aea7-e935fa3f5c00"
      },
      "execution_count": 177,
      "outputs": [
        {
          "output_type": "execute_result",
          "data": {
            "text/plain": [
              "We were all out at the zoo one day, I was doing some acting, walking on the railing of the gorilla exhibit."
            ]
          },
          "metadata": {},
          "execution_count": 177
        }
      ]
    },
    {
      "cell_type": "code",
      "source": [
        "doc3[0:24]"
      ],
      "metadata": {
        "colab": {
          "base_uri": "https://localhost:8080/"
        },
        "id": "VWcVkbDMk311",
        "outputId": "2e8e1077-fad0-4653-e5ab-34dca9c6943e"
      },
      "execution_count": 178,
      "outputs": [
        {
          "output_type": "execute_result",
          "data": {
            "text/plain": [
              "We were all out at the zoo one day, I was doing some acting, walking on the railing of the gorilla exhibit"
            ]
          },
          "metadata": {},
          "execution_count": 178
        }
      ]
    },
    {
      "cell_type": "code",
      "source": [
        "doc3[48:54]"
      ],
      "metadata": {
        "colab": {
          "base_uri": "https://localhost:8080/"
        },
        "id": "_TV3XfKF_sq9",
        "outputId": "93e69942-7947-47ee-b636-99c6b546107b"
      },
      "execution_count": 179,
      "outputs": [
        {
          "output_type": "execute_result",
          "data": {
            "text/plain": [
              "The gorillas just went wild."
            ]
          },
          "metadata": {},
          "execution_count": 179
        }
      ]
    },
    {
      "cell_type": "markdown",
      "source": [
        "Atau cukup indeks ke token tertentu, seperti kata kerja `pergi` dalam kalimat terakhir:"
      ],
      "metadata": {
        "id": "3cdoDmCQlEmn"
      }
    },
    {
      "cell_type": "code",
      "source": [
        "token = doc3[51]\n",
        "print(token.text, token.lemma_, token.pos_)"
      ],
      "metadata": {
        "colab": {
          "base_uri": "https://localhost:8080/"
        },
        "id": "ue7VCiMqk-z6",
        "outputId": "71dc9c46-e0da-4f36-c66e-8038f1f49b8a"
      },
      "execution_count": 180,
      "outputs": [
        {
          "output_type": "stream",
          "name": "stdout",
          "text": [
            "went go VERB\n"
          ]
        }
      ]
    },
    {
      "cell_type": "markdown",
      "source": [
        "Pada titik ini kita dapat mengurai dokumen, membagi dokumen itu menjadi kalimat, lalu melihat anotasi tentang token di setiap kalimat. Itu awal yang baik."
      ],
      "metadata": {
        "id": "TS0p3iV4lKPa"
      }
    },
    {
      "cell_type": "markdown",
      "source": [
        "## Memperoleh Teks\n",
        "\n",
        "Sekarang kita dapat mengurai teks, dari mana kita mendapatkan teks?\n",
        "Salah satu sumber cepat adalah untuk memanfaatkan jalinan.\n",
        "Tentu saja ketika kita mengunduh halaman web, kita akan mendapatkan HTML, dan kemudian perlu mengekstrak teks darinya.\n",
        "[beautifulSoup](https://www.crummy.com/software/BeautifulSoup/bs4/doc/) adalah paket populer untuk itu.\n",
        "\n",
        "Pertama, sedikit pembenahan:"
      ],
      "metadata": {
        "id": "GczCGSH1w9vD"
      }
    },
    {
      "cell_type": "code",
      "source": [
        "import sys\n",
        "import warnings\n",
        "\n",
        "warnings.filterwarnings(\"ignore\")"
      ],
      "metadata": {
        "id": "IdMilabslGc2"
      },
      "execution_count": 181,
      "outputs": []
    },
    {
      "cell_type": "markdown",
      "source": [
        "### Character Encoding"
      ],
      "metadata": {
        "id": "xGLC9BBwxGuO"
      }
    },
    {
      "cell_type": "markdown",
      "source": [
        "Berikut ini menunjukkan contoh cara menggunakan [codec](https://docs.python.org/3/library/codecs.html) dan [normalize unicode](https://docs.python.org/3/library/unicodedata.html#unicodedata.normalize). \n",
        "\n",
        "NB: contoh teks berasal dari artikel \"[Metal umlat](https://en.wikipedia.org/wiki/Metal_umlaut)\"."
      ],
      "metadata": {
        "id": "6fPNHaoJxOCh"
      }
    },
    {
      "cell_type": "code",
      "source": [
        "x = \"Rinôçérôse screams ﬂow not unlike an encyclopædia, \\\n",
        "'TECHNICIÄNS ÖF SPÅCE SHIP EÅRTH THIS IS YÖÜR CÄPTÅIN SPEÄKING YÖÜR ØÅPTÅIN IS DEA̋D' to Spın̈al Tap.\"\n",
        "\n",
        "type(x)"
      ],
      "metadata": {
        "colab": {
          "base_uri": "https://localhost:8080/"
        },
        "id": "1dspJlBNxEPR",
        "outputId": "9a88814a-b95d-4697-b571-54e3bdc49a9b"
      },
      "execution_count": 182,
      "outputs": [
        {
          "output_type": "execute_result",
          "data": {
            "text/plain": [
              "str"
            ]
          },
          "metadata": {},
          "execution_count": 182
        }
      ]
    },
    {
      "cell_type": "markdown",
      "source": [
        "bentuknya string"
      ],
      "metadata": {
        "id": "YBtvwh6XxaDu"
      }
    },
    {
      "cell_type": "code",
      "source": [
        "repr(x)"
      ],
      "metadata": {
        "colab": {
          "base_uri": "https://localhost:8080/",
          "height": 36
        },
        "id": "Vv6wB534xWlJ",
        "outputId": "9adb1abc-ca64-4d12-807e-a73d48c490d9"
      },
      "execution_count": 183,
      "outputs": [
        {
          "output_type": "execute_result",
          "data": {
            "text/plain": [
              "'\"Rinôçérôse screams ﬂow not unlike an encyclopædia, \\'TECHNICIÄNS ÖF SPÅCE SHIP EÅRTH THIS IS YÖÜR CÄPTÅIN SPEÄKING YÖÜR ØÅPTÅIN IS DEA̋D\\' to Spın̈al Tap.\"'"
            ],
            "application/vnd.google.colaboratory.intrinsic+json": {
              "type": "string"
            }
          },
          "metadata": {},
          "execution_count": 183
        }
      ]
    },
    {
      "cell_type": "markdown",
      "source": [
        "Terjemahannya ke [ASCII](http://www.asciitable.com/) tidak dapat digunakan oleh parser:"
      ],
      "metadata": {
        "id": "ALA_KjMexfqm"
      }
    },
    {
      "cell_type": "code",
      "source": [
        "ascii(x)"
      ],
      "metadata": {
        "colab": {
          "base_uri": "https://localhost:8080/",
          "height": 54
        },
        "id": "1Lwe7iI5xYnC",
        "outputId": "dae33a03-2a70-477d-8e65-8b9a19e5ef81"
      },
      "execution_count": 184,
      "outputs": [
        {
          "output_type": "execute_result",
          "data": {
            "text/plain": [
              "'\"Rin\\\\xf4\\\\xe7\\\\xe9r\\\\xf4se screams \\\\ufb02ow not unlike an encyclop\\\\xe6dia, \\'TECHNICI\\\\xc4NS \\\\xd6F SP\\\\xc5CE SHIP E\\\\xc5RTH THIS IS Y\\\\xd6\\\\xdcR C\\\\xc4PT\\\\xc5IN SPE\\\\xc4KING Y\\\\xd6\\\\xdcR \\\\xd8\\\\xc5PT\\\\xc5IN IS DEA\\\\u030bD\\' to Sp\\\\u0131n\\\\u0308al Tap.\"'"
            ],
            "application/vnd.google.colaboratory.intrinsic+json": {
              "type": "string"
            }
          },
          "metadata": {},
          "execution_count": 184
        }
      ]
    },
    {
      "cell_type": "markdown",
      "source": [
        "encoding menjadi UTF-8 juga ndak bisa"
      ],
      "metadata": {
        "id": "uS_jeIKmxj1c"
      }
    },
    {
      "cell_type": "code",
      "source": [
        "x.encode('utf8')"
      ],
      "metadata": {
        "colab": {
          "base_uri": "https://localhost:8080/"
        },
        "id": "ppdBwsNNxhsz",
        "outputId": "7a6292b6-5ee9-406d-e94b-24f76d87cacc"
      },
      "execution_count": 185,
      "outputs": [
        {
          "output_type": "execute_result",
          "data": {
            "text/plain": [
              "b\"Rin\\xc3\\xb4\\xc3\\xa7\\xc3\\xa9r\\xc3\\xb4se screams \\xef\\xac\\x82ow not unlike an encyclop\\xc3\\xa6dia, 'TECHNICI\\xc3\\x84NS \\xc3\\x96F SP\\xc3\\x85CE SHIP E\\xc3\\x85RTH THIS IS Y\\xc3\\x96\\xc3\\x9cR C\\xc3\\x84PT\\xc3\\x85IN SPE\\xc3\\x84KING Y\\xc3\\x96\\xc3\\x9cR \\xc3\\x98\\xc3\\x85PT\\xc3\\x85IN IS DEA\\xcc\\x8bD' to Sp\\xc4\\xb1n\\xcc\\x88al Tap.\""
            ]
          },
          "metadata": {},
          "execution_count": 185
        }
      ]
    },
    {
      "cell_type": "markdown",
      "source": [
        "mengabaikan karakter yang susah dibaca, merupakan *hal yang konyol*"
      ],
      "metadata": {
        "id": "UhZcZ4eLxq5c"
      }
    },
    {
      "cell_type": "code",
      "source": [
        "x.encode('ascii', 'ignore')"
      ],
      "metadata": {
        "colab": {
          "base_uri": "https://localhost:8080/"
        },
        "id": "_JJw6s4YxnTi",
        "outputId": "e5a51f59-f609-4871-ed3f-6eda40b67ee7"
      },
      "execution_count": 186,
      "outputs": [
        {
          "output_type": "execute_result",
          "data": {
            "text/plain": [
              "b\"Rinrse screams ow not unlike an encyclopdia, 'TECHNICINS F SPCE SHIP ERTH THIS IS YR CPTIN SPEKING YR PTIN IS DEAD' to Spnal Tap.\""
            ]
          },
          "metadata": {},
          "execution_count": 186
        }
      ]
    },
    {
      "cell_type": "markdown",
      "source": [
        "caranya, kita bisa normalisasi, baru encode"
      ],
      "metadata": {
        "id": "M2eD1lprxxZO"
      }
    },
    {
      "cell_type": "code",
      "source": [
        "import unicodedata\n",
        "\n",
        "unicodedata.normalize('NFKD', x).encode('ascii','ignore')"
      ],
      "metadata": {
        "colab": {
          "base_uri": "https://localhost:8080/"
        },
        "id": "6U2QQLW2xvIw",
        "outputId": "ae01070d-389e-4687-e4c9-e6844f5fecce"
      },
      "execution_count": 187,
      "outputs": [
        {
          "output_type": "execute_result",
          "data": {
            "text/plain": [
              "b\"Rinocerose screams flow not unlike an encyclopdia, 'TECHNICIANS OF SPACE SHIP EARTH THIS IS YOUR CAPTAIN SPEAKING YOUR APTAIN IS DEAD' to Spnal Tap.\""
            ]
          },
          "metadata": {},
          "execution_count": 187
        }
      ]
    },
    {
      "cell_type": "markdown",
      "source": [
        "Bahkan sebelum normalisasi dan encode ini, Anda mungkin perlu mengonversi beberapa karakter secara eksplisit **sebelum** penguraian. Sebagai contoh:"
      ],
      "metadata": {
        "id": "wLPv8wMbx_Fy"
      }
    },
    {
      "cell_type": "code",
      "source": [
        "x = \"The sky “above” the port … was the color of ‘cable television’ – tuned to the Weather Channel®\"\n",
        "\n",
        "ascii(x)"
      ],
      "metadata": {
        "colab": {
          "base_uri": "https://localhost:8080/",
          "height": 36
        },
        "id": "ZEwv2weZx4nE",
        "outputId": "3f98270b-b913-4190-8ab0-6c95dca5b92b"
      },
      "execution_count": 188,
      "outputs": [
        {
          "output_type": "execute_result",
          "data": {
            "text/plain": [
              "\"'The sky \\\\u201cabove\\\\u201d the port \\\\u2026 was the color of \\\\u2018cable television\\\\u2019 \\\\u2013 tuned to the Weather Channel\\\\xae'\""
            ],
            "application/vnd.google.colaboratory.intrinsic+json": {
              "type": "string"
            }
          },
          "metadata": {},
          "execution_count": 188
        }
      ]
    },
    {
      "cell_type": "markdown",
      "source": [
        "hasilnya menjadi seperti ini"
      ],
      "metadata": {
        "id": "U1B8oXkbyC1e"
      }
    },
    {
      "cell_type": "code",
      "source": [
        "unicodedata.normalize('NFKD', x).encode('ascii', 'ignore')"
      ],
      "metadata": {
        "colab": {
          "base_uri": "https://localhost:8080/"
        },
        "id": "POIUntw6yA4L",
        "outputId": "0296f269-b0b7-4e69-fb43-221b3e23447c"
      },
      "execution_count": 189,
      "outputs": [
        {
          "output_type": "execute_result",
          "data": {
            "text/plain": [
              "b'The sky above the port ... was the color of cable television  tuned to the Weather Channel'"
            ]
          },
          "metadata": {},
          "execution_count": 189
        }
      ]
    },
    {
      "cell_type": "markdown",
      "source": [
        "...yang masih menghapus karakter yang mungkin penting untuk menguraikan kalimat.\n",
        "\n",
        "Jadi pendekatan yang lebih maju bisa berupa:"
      ],
      "metadata": {
        "id": "rD7WAbBlyHjF"
      }
    },
    {
      "cell_type": "code",
      "source": [
        "x = x.replace('“', '\"').replace('”', '\"')\n",
        "x = x.replace(\"‘\", \"'\").replace(\"’\", \"'\")\n",
        "x = x.replace('…', '...').replace('–', '-')\n",
        "\n",
        "x = unicodedata.normalize('NFKD', x).encode('ascii', 'ignore').decode('utf-8')\n",
        "print(x)"
      ],
      "metadata": {
        "colab": {
          "base_uri": "https://localhost:8080/"
        },
        "id": "84jJ5fEoyEMF",
        "outputId": "dddca91b-ed7c-4497-b69c-68f8621453f2"
      },
      "execution_count": 190,
      "outputs": [
        {
          "output_type": "stream",
          "name": "stdout",
          "text": [
            "The sky \"above\" the port ... was the color of 'cable television' - tuned to the Weather Channel\n"
          ]
        }
      ]
    },
    {
      "cell_type": "markdown",
      "source": [
        "### Parsing HTML"
      ],
      "metadata": {
        "id": "bnLAF3rDyMeO"
      }
    },
    {
      "cell_type": "markdown",
      "source": [
        "Dalam fungsi berikut `get_text()` kita akan mengurai HTML untuk menemukan semua tag `<p/>`, lalu mengekstrak teksnya:"
      ],
      "metadata": {
        "id": "EyZkoM9GyQ6X"
      }
    },
    {
      "cell_type": "code",
      "source": [
        "from bs4 import BeautifulSoup\n",
        "import requests\n",
        "import traceback\n",
        "\n",
        "def get_text (url):\n",
        "    buf = []\n",
        "    \n",
        "    try:\n",
        "        soup = BeautifulSoup(requests.get(url).text, \"html.parser\")\n",
        "        \n",
        "        for p in soup.find_all(\"p\"):\n",
        "            buf.append(p.get_text())\n",
        "\n",
        "        return \"\\n\".join(buf)\n",
        "    except:\n",
        "        print(traceback.format_exc())\n",
        "        sys.exit(-1)"
      ],
      "metadata": {
        "id": "7y9Ac_3KyKSn"
      },
      "execution_count": 191,
      "outputs": []
    },
    {
      "cell_type": "markdown",
      "source": [
        "Sekarang mari kita ambil beberapa teks dari sumber online.\n",
        "Kami dapat membandingkan lisensi sumber terbuka yang dihosting di situs [Open Source Initiative](https://opensource.org/licenses/):"
      ],
      "metadata": {
        "id": "z2lYQeJSyWOR"
      }
    },
    {
      "cell_type": "code",
      "source": [
        "lic = {}\n",
        "lic[\"mit\"] = nlp(get_text(\"https://opensource.org/licenses/MIT\"))\n",
        "lic[\"asl\"] = nlp(get_text(\"https://opensource.org/licenses/Apache-2.0\"))\n",
        "lic[\"bsd\"] = nlp(get_text(\"https://opensource.org/licenses/BSD-3-Clause\"))\n",
        "\n",
        "for sent in lic[\"bsd\"].sents:\n",
        "    print(\">\", sent)"
      ],
      "metadata": {
        "colab": {
          "base_uri": "https://localhost:8080/"
        },
        "id": "6-lULoknyScU",
        "outputId": "1e1b6f67-7b46-4795-b395-9b5632f5eff2"
      },
      "execution_count": 192,
      "outputs": [
        {
          "output_type": "stream",
          "name": "stdout",
          "text": [
            "> SPDX short identifier: BSD-3-Clause\n",
            " \n",
            "\n",
            "Note: This license has also been called the \"New BSD License\" or \"Modified BSD License\".\n",
            "> See also the 2-clause BSD License.\n",
            "\n",
            "> Copyright <YEAR> <COPYRIGHT HOLDER>\n",
            "Redistribution and use in source and binary forms, with or without modification, are permitted provided that the following conditions are met:\n",
            "\n",
            "> 1. Redistributions of source code must retain the above copyright notice, this list of conditions and the following disclaimer.\n",
            "\n",
            "> 2. Redistributions in binary form must reproduce the above copyright notice, this list of conditions and the following disclaimer in the documentation and/or other materials provided with the distribution.\n",
            "\n",
            "> 3.\n",
            "> Neither the name of the copyright holder nor the names of its contributors may be used to endorse or promote products derived from this software without specific prior written permission.\n",
            "\n",
            "> THIS SOFTWARE IS PROVIDED BY THE COPYRIGHT HOLDERS AND CONTRIBUTORS \"AS IS\" AND ANY EXPRESS OR IMPLIED WARRANTIES, INCLUDING, BUT NOT LIMITED TO, THE IMPLIED WARRANTIES OF MERCHANTABILITY AND FITNESS FOR A PARTICULAR PURPOSE ARE DISCLAIMED.\n",
            "> IN NO EVENT SHALL THE COPYRIGHT HOLDER OR\n",
            "> CONTRIBUTORS BE LIABLE FOR ANY DIRECT, INDIRECT, INCIDENTAL, SPECIAL, EXEMPLARY, OR CONSEQUENTIAL DAMAGES (INCLUDING, BUT NOT LIMITED TO, PROCUREMENT OF SUBSTITUTE GOODS OR SERVICES; LOSS OF USE, DATA, OR PROFITS; OR BUSINESS INTERRUPTION)\n",
            "> HOWEVER CAUSED AND ON ANY THEORY OF LIABILITY, WHETHER IN CONTRACT, STRICT LIABILITY, OR TORT (INCLUDING NEGLIGENCE OR OTHERWISE)\n",
            "> ARISING IN ANY WAY OUT OF THE USE OF THIS SOFTWARE, EVEN IF ADVISED OF THE POSSIBILITY OF SUCH DAMAGE.\n",
            "\n",
            "> For over 20 years the Open Source Initiative (OSI) has worked to raise awareness and adoption of open source software, and build bridges between open source communities of practice.\n",
            "> As a global non-profit, the OSI champions software freedom in society through education, collaboration, and infrastructure, stewarding the Open Source Definition (OSD), and preventing abuse of the ideals and ethos inherent to the open source movement.\n",
            "\n",
            "> Open source software is made by many people and distributed under an OSD-compliant license which grants all the rights to use, study, change, and share the software in modified and unmodified form.\n",
            "> Software freedom is essential to enabling community development of open source software.\n",
            "  \n",
            "\n",
            "> Sign-up for our newsletter!\n",
            "\n",
            "> The content on this website, of which Opensource.org is the author, is licensed under a Creative Commons Attribution 4.0 International License.\n",
            "\n",
            "> Opensource.org is not the author of any of the licenses reproduced on this site.\n",
            "> Questions about the copyright in a license should be directed to the license steward.\n",
            "\n",
            "> Hosting for Opensource.org is generously provided by DigitalOcean.\n",
            "> Please see Terms of Service.\n",
            "> For questions regarding the OSI website and contents please contact us.\n",
            " \n"
          ]
        }
      ]
    },
    {
      "cell_type": "markdown",
      "source": [
        "Salah satu kasus penggunaan umum untuk pekerjaan bahasa alami adalah membandingkan teks. Misalnya, dengan lisensi open source tersebut, kita dapat mengunduh teksnya, mengurai, lalu membandingkan metrik [kesamaan/similarity](https://spacy.io/api/doc#similarity) di antara mereka:"
      ],
      "metadata": {
        "id": "t4EUDZDayfqP"
      }
    },
    {
      "cell_type": "code",
      "source": [
        "pairs = [\n",
        "    [\"mit\", \"asl\"],\n",
        "    [\"asl\", \"bsd\"],\n",
        "    [\"bsd\", \"mit\"]\n",
        "]\n",
        "\n",
        "for a, b in pairs:\n",
        "    print(a, b, lic[a].similarity(lic[b]))"
      ],
      "metadata": {
        "colab": {
          "base_uri": "https://localhost:8080/"
        },
        "id": "2xq7giXVybjc",
        "outputId": "19cd66d7-8a8b-4a32-9391-1e86f2d06305"
      },
      "execution_count": 193,
      "outputs": [
        {
          "output_type": "stream",
          "name": "stdout",
          "text": [
            "mit asl 0.9085436503462764\n",
            "asl bsd 0.8981709726047463\n",
            "bsd mit 0.9801954262145988\n"
          ]
        }
      ]
    },
    {
      "cell_type": "markdown",
      "source": [
        "Itu menarik, karena lisensi [BSD](https://opensource.org/licenses/BSD-3-Clause) dan [MIT](https://opensource.org/licenses/MIT) tampaknya paling mirip dokumen.\n",
        "Sebenarnya mereka berhubungan erat.\n",
        "\n",
        "Memang, ada beberapa teks tambahan yang disertakan dalam setiap dokumen karena penafian OSI di footer – tetapi ini memberikan perkiraan yang masuk akal untuk membandingkan lisensi."
      ],
      "metadata": {
        "id": "A3aiXuWjyzSj"
      }
    },
    {
      "cell_type": "markdown",
      "source": [
        "## Pemahaman Bahasa Alami\n",
        "\n",
        "Sekarang mari selami beberapa fitur _spaCy_ untuk NLU.\n",
        "Mengingat bahwa kami memiliki penguraian dokumen, dari sudut pandang tata bahasa murni, kami dapat menarik [potongan kata benda](https://spacy.io/usage/linguistic-features#noun-chunks), yaitu, masing-masing frasa kata benda :"
      ],
      "metadata": {
        "id": "sSgkYOiGzELG"
      }
    },
    {
      "cell_type": "code",
      "source": [
        "text = \"Steve Jobs and Steve Wozniak incorporated Apple Computer on January 3, 1977, in Cupertino, California. They sell Iphone and Macbook with high price\"\n",
        "doc = nlp(text)\n",
        "\n",
        "for chunk in doc.noun_chunks:\n",
        "    print(chunk.text)"
      ],
      "metadata": {
        "colab": {
          "base_uri": "https://localhost:8080/"
        },
        "id": "8XYRE5a-ykcp",
        "outputId": "b9c07361-bd6a-4301-9520-0145d5f5b3ab"
      },
      "execution_count": 194,
      "outputs": [
        {
          "output_type": "stream",
          "name": "stdout",
          "text": [
            "Steve Jobs\n",
            "Steve Wozniak\n",
            "Apple Computer\n",
            "January\n",
            "Cupertino\n",
            "California\n",
            "They\n",
            "Iphone\n",
            "Macbook\n",
            "high price\n"
          ]
        }
      ]
    },
    {
      "cell_type": "markdown",
      "source": [
        "Tidak buruk. Frase kata benda dalam sebuah kalimat umumnya memberikan lebih banyak konten informasi – sebagai filter sederhana yang digunakan untuk mereduksi dokumen panjang menjadi representasi yang lebih \"disuling\".\n",
        "\n",
        "Kita dapat mengambil pendekatan ini lebih jauh dan mengidentifikasi [entitas bernama/named entity](https://spacy.io/usage/linguistic-features#named-entities) dalam teks, yaitu, kata benda yang tepat:"
      ],
      "metadata": {
        "id": "UQ7hHf14zNd6"
      }
    },
    {
      "cell_type": "code",
      "source": [
        "for ent in doc.ents:\n",
        "    print(ent.text, ent.label_)"
      ],
      "metadata": {
        "colab": {
          "base_uri": "https://localhost:8080/"
        },
        "id": "80mZ8XUBzI2K",
        "outputId": "5b930d1d-6d9e-4bb0-ae2c-e462c2681ee1"
      },
      "execution_count": 195,
      "outputs": [
        {
          "output_type": "stream",
          "name": "stdout",
          "text": [
            "Steve Jobs PERSON\n",
            "Steve Wozniak PERSON\n",
            "Apple Computer ORG\n",
            "January 3, 1977 DATE\n",
            "Cupertino GPE\n",
            "California GPE\n",
            "Iphone ORG\n",
            "Macbook GPE\n"
          ]
        }
      ]
    },
    {
      "cell_type": "markdown",
      "source": [
        "Pustaka _displaCy_ menyediakan cara terbaik untuk memvisualisasikan entitas bernama:"
      ],
      "metadata": {
        "id": "NhN9F1WuzWQM"
      }
    },
    {
      "cell_type": "code",
      "source": [
        "displacy.render(doc, style=\"ent\", jupyter=True)"
      ],
      "metadata": {
        "colab": {
          "base_uri": "https://localhost:8080/",
          "height": 87
        },
        "id": "HtSMkOj0zR0H",
        "outputId": "bea11aa6-7b91-46f5-9c5b-53881f21291b"
      },
      "execution_count": 196,
      "outputs": [
        {
          "output_type": "display_data",
          "data": {
            "text/plain": [
              "<IPython.core.display.HTML object>"
            ],
            "text/html": [
              "<span class=\"tex2jax_ignore\"><div class=\"entities\" style=\"line-height: 2.5; direction: ltr\">\n",
              "<mark class=\"entity\" style=\"background: #aa9cfc; padding: 0.45em 0.6em; margin: 0 0.25em; line-height: 1; border-radius: 0.35em;\">\n",
              "    Steve Jobs\n",
              "    <span style=\"font-size: 0.8em; font-weight: bold; line-height: 1; border-radius: 0.35em; vertical-align: middle; margin-left: 0.5rem\">PERSON</span>\n",
              "</mark>\n",
              " and \n",
              "<mark class=\"entity\" style=\"background: #aa9cfc; padding: 0.45em 0.6em; margin: 0 0.25em; line-height: 1; border-radius: 0.35em;\">\n",
              "    Steve Wozniak\n",
              "    <span style=\"font-size: 0.8em; font-weight: bold; line-height: 1; border-radius: 0.35em; vertical-align: middle; margin-left: 0.5rem\">PERSON</span>\n",
              "</mark>\n",
              " incorporated \n",
              "<mark class=\"entity\" style=\"background: #7aecec; padding: 0.45em 0.6em; margin: 0 0.25em; line-height: 1; border-radius: 0.35em;\">\n",
              "    Apple Computer\n",
              "    <span style=\"font-size: 0.8em; font-weight: bold; line-height: 1; border-radius: 0.35em; vertical-align: middle; margin-left: 0.5rem\">ORG</span>\n",
              "</mark>\n",
              " on \n",
              "<mark class=\"entity\" style=\"background: #bfe1d9; padding: 0.45em 0.6em; margin: 0 0.25em; line-height: 1; border-radius: 0.35em;\">\n",
              "    January 3, 1977\n",
              "    <span style=\"font-size: 0.8em; font-weight: bold; line-height: 1; border-radius: 0.35em; vertical-align: middle; margin-left: 0.5rem\">DATE</span>\n",
              "</mark>\n",
              ", in \n",
              "<mark class=\"entity\" style=\"background: #feca74; padding: 0.45em 0.6em; margin: 0 0.25em; line-height: 1; border-radius: 0.35em;\">\n",
              "    Cupertino\n",
              "    <span style=\"font-size: 0.8em; font-weight: bold; line-height: 1; border-radius: 0.35em; vertical-align: middle; margin-left: 0.5rem\">GPE</span>\n",
              "</mark>\n",
              ", \n",
              "<mark class=\"entity\" style=\"background: #feca74; padding: 0.45em 0.6em; margin: 0 0.25em; line-height: 1; border-radius: 0.35em;\">\n",
              "    California\n",
              "    <span style=\"font-size: 0.8em; font-weight: bold; line-height: 1; border-radius: 0.35em; vertical-align: middle; margin-left: 0.5rem\">GPE</span>\n",
              "</mark>\n",
              ". They sell \n",
              "<mark class=\"entity\" style=\"background: #7aecec; padding: 0.45em 0.6em; margin: 0 0.25em; line-height: 1; border-radius: 0.35em;\">\n",
              "    Iphone\n",
              "    <span style=\"font-size: 0.8em; font-weight: bold; line-height: 1; border-radius: 0.35em; vertical-align: middle; margin-left: 0.5rem\">ORG</span>\n",
              "</mark>\n",
              " and \n",
              "<mark class=\"entity\" style=\"background: #feca74; padding: 0.45em 0.6em; margin: 0 0.25em; line-height: 1; border-radius: 0.35em;\">\n",
              "    Macbook\n",
              "    <span style=\"font-size: 0.8em; font-weight: bold; line-height: 1; border-radius: 0.35em; vertical-align: middle; margin-left: 0.5rem\">GPE</span>\n",
              "</mark>\n",
              " with high price</div></span>"
            ]
          },
          "metadata": {}
        }
      ]
    },
    {
      "cell_type": "markdown",
      "source": [
        "sekarang dicoba dengan kata lain"
      ],
      "metadata": {
        "id": "IaS78Fn2CZfB"
      }
    },
    {
      "cell_type": "code",
      "source": [
        "text2 = \"Farrikh and Aboe are the lecturer from Universitas Dian Nuswantoro. Both of them always used gasoline bike from Honda\"\n",
        "\n",
        "doc2 = nlp(text2)\n",
        "\n",
        "for chunk2 in doc2.noun_chunks:\n",
        "    print(chunk2.text)"
      ],
      "metadata": {
        "colab": {
          "base_uri": "https://localhost:8080/"
        },
        "id": "41Ylj1PICcob",
        "outputId": "6470c608-b3a1-4389-faa8-859f3aa84700"
      },
      "execution_count": 197,
      "outputs": [
        {
          "output_type": "stream",
          "name": "stdout",
          "text": [
            "Farrikh\n",
            "Aboe\n",
            "the lecturer\n",
            "Universitas Dian Nuswantoro\n",
            "Both\n",
            "them\n",
            "gasoline bike\n",
            "Honda\n"
          ]
        }
      ]
    },
    {
      "cell_type": "code",
      "source": [
        "displacy.render(doc2, style=\"ent\", jupyter=True)"
      ],
      "metadata": {
        "colab": {
          "base_uri": "https://localhost:8080/",
          "height": 52
        },
        "id": "uXOxvB-mC_cP",
        "outputId": "3d5cc2e2-40b0-41d7-b42b-ef829fc183bc"
      },
      "execution_count": 198,
      "outputs": [
        {
          "output_type": "display_data",
          "data": {
            "text/plain": [
              "<IPython.core.display.HTML object>"
            ],
            "text/html": [
              "<span class=\"tex2jax_ignore\"><div class=\"entities\" style=\"line-height: 2.5; direction: ltr\">\n",
              "<mark class=\"entity\" style=\"background: #7aecec; padding: 0.45em 0.6em; margin: 0 0.25em; line-height: 1; border-radius: 0.35em;\">\n",
              "    Farrikh\n",
              "    <span style=\"font-size: 0.8em; font-weight: bold; line-height: 1; border-radius: 0.35em; vertical-align: middle; margin-left: 0.5rem\">ORG</span>\n",
              "</mark>\n",
              " and \n",
              "<mark class=\"entity\" style=\"background: #aa9cfc; padding: 0.45em 0.6em; margin: 0 0.25em; line-height: 1; border-radius: 0.35em;\">\n",
              "    Aboe\n",
              "    <span style=\"font-size: 0.8em; font-weight: bold; line-height: 1; border-radius: 0.35em; vertical-align: middle; margin-left: 0.5rem\">PERSON</span>\n",
              "</mark>\n",
              " are the lecturer from \n",
              "<mark class=\"entity\" style=\"background: #7aecec; padding: 0.45em 0.6em; margin: 0 0.25em; line-height: 1; border-radius: 0.35em;\">\n",
              "    Universitas Dian Nuswantoro\n",
              "    <span style=\"font-size: 0.8em; font-weight: bold; line-height: 1; border-radius: 0.35em; vertical-align: middle; margin-left: 0.5rem\">ORG</span>\n",
              "</mark>\n",
              ". Both of them always used gasoline bike from \n",
              "<mark class=\"entity\" style=\"background: #7aecec; padding: 0.45em 0.6em; margin: 0 0.25em; line-height: 1; border-radius: 0.35em;\">\n",
              "    Honda\n",
              "    <span style=\"font-size: 0.8em; font-weight: bold; line-height: 1; border-radius: 0.35em; vertical-align: middle; margin-left: 0.5rem\">ORG</span>\n",
              "</mark>\n",
              "</div></span>"
            ]
          },
          "metadata": {}
        }
      ]
    },
    {
      "cell_type": "markdown",
      "source": [
        "Dalam istilah yang lebih umum, seseorang juga dapat menghubungkan _lemmas_ ke sumber daya yang menjelaskan artinya.\n",
        "Sebagai contoh, di bagian awal kita menguraikan kalimat `The gorillas just went wild` dan mampu menunjukkan bahwa lemma untuk kata `went` adalah kata kerja `go`. Pada titik ini kita dapat menggunakan proyek terhormat yang disebut [WordNet](https://wordnet.princeton.edu/) yang menyediakan database leksikal untuk bahasa Inggris – dengan kata lain, ini adalah tesaurus yang dapat dihitung.\n",
        "\n",
        "Ada integrasi _spaCy_ untuk WordNet yang disebut\n",
        "[spacy-wordnet](https://github.com/recognai/spacy-wordnet) oleh [Daniel Vila Suero](https://twitter.com/dvilasuero), seorang ahli dalam bahasa alami dan pekerjaan grafik pengetahuan (Knowledge Graph).\n",
        "\n",
        "Kemudian kami akan memuat data WordNet melalui NLTK (hal-hal ini terjadi):"
      ],
      "metadata": {
        "id": "8WGOCipqze9A"
      }
    },
    {
      "cell_type": "code",
      "source": [
        "import nltk\n",
        "\n",
        "nltk.download(\"wordnet\")"
      ],
      "metadata": {
        "colab": {
          "base_uri": "https://localhost:8080/"
        },
        "id": "RhZ0D7_MzYbQ",
        "outputId": "115a694e-c239-4dca-91f4-a169835656d8"
      },
      "execution_count": 199,
      "outputs": [
        {
          "output_type": "stream",
          "name": "stderr",
          "text": [
            "[nltk_data] Downloading package wordnet to /root/nltk_data...\n",
            "[nltk_data]   Package wordnet is already up-to-date!\n"
          ]
        },
        {
          "output_type": "execute_result",
          "data": {
            "text/plain": [
              "True"
            ]
          },
          "metadata": {},
          "execution_count": 199
        }
      ]
    },
    {
      "cell_type": "markdown",
      "source": [
        "Perhatikan bahwa _spaCy_ berjalan sebagai \"pipa/pipeline\" dan memungkinkan sarana untuk menyesuaikan bagian pipa yang digunakan.\n",
        "Itu sangat bagus untuk mendukung integrasi alur kerja yang sangat menarik dalam pekerjaan ilmu data.\n",
        "Di sini kita akan menambahkan `WordnetAnnotator` dari proyek _spacy-wordnet_:"
      ],
      "metadata": {
        "id": "g9mPs7HAzyPR"
      }
    },
    {
      "cell_type": "code",
      "source": [
        "!pip install spacy-wordnet"
      ],
      "metadata": {
        "colab": {
          "base_uri": "https://localhost:8080/"
        },
        "id": "EKwhRalozt1P",
        "outputId": "2d31b24c-5a6f-4222-8c91-bb8e37d63cba"
      },
      "execution_count": 200,
      "outputs": [
        {
          "output_type": "stream",
          "name": "stdout",
          "text": [
            "Looking in indexes: https://pypi.org/simple, https://us-python.pkg.dev/colab-wheels/public/simple/\n",
            "Requirement already satisfied: spacy-wordnet in /usr/local/lib/python3.7/dist-packages (0.1.0)\n",
            "Requirement already satisfied: nltk<3.6,>=3.3 in /usr/local/lib/python3.7/dist-packages (from spacy-wordnet) (3.5)\n",
            "Requirement already satisfied: spacy>=2 in /usr/local/lib/python3.7/dist-packages (from spacy-wordnet) (3.4.1)\n",
            "Requirement already satisfied: click in /usr/local/lib/python3.7/dist-packages (from nltk<3.6,>=3.3->spacy-wordnet) (7.1.2)\n",
            "Requirement already satisfied: regex in /usr/local/lib/python3.7/dist-packages (from nltk<3.6,>=3.3->spacy-wordnet) (2022.6.2)\n",
            "Requirement already satisfied: tqdm in /usr/local/lib/python3.7/dist-packages (from nltk<3.6,>=3.3->spacy-wordnet) (4.64.1)\n",
            "Requirement already satisfied: joblib in /usr/local/lib/python3.7/dist-packages (from nltk<3.6,>=3.3->spacy-wordnet) (1.1.0)\n",
            "Requirement already satisfied: cymem<2.1.0,>=2.0.2 in /usr/local/lib/python3.7/dist-packages (from spacy>=2->spacy-wordnet) (2.0.6)\n",
            "Requirement already satisfied: requests<3.0.0,>=2.13.0 in /usr/local/lib/python3.7/dist-packages (from spacy>=2->spacy-wordnet) (2.23.0)\n",
            "Requirement already satisfied: spacy-legacy<3.1.0,>=3.0.9 in /usr/local/lib/python3.7/dist-packages (from spacy>=2->spacy-wordnet) (3.0.10)\n",
            "Requirement already satisfied: wasabi<1.1.0,>=0.9.1 in /usr/local/lib/python3.7/dist-packages (from spacy>=2->spacy-wordnet) (0.10.1)\n",
            "Requirement already satisfied: thinc<8.2.0,>=8.1.0 in /usr/local/lib/python3.7/dist-packages (from spacy>=2->spacy-wordnet) (8.1.0)\n",
            "Requirement already satisfied: pydantic!=1.8,!=1.8.1,<1.10.0,>=1.7.4 in /usr/local/lib/python3.7/dist-packages (from spacy>=2->spacy-wordnet) (1.9.2)\n",
            "Requirement already satisfied: jinja2 in /usr/local/lib/python3.7/dist-packages (from spacy>=2->spacy-wordnet) (2.11.3)\n",
            "Requirement already satisfied: spacy-loggers<2.0.0,>=1.0.0 in /usr/local/lib/python3.7/dist-packages (from spacy>=2->spacy-wordnet) (1.0.3)\n",
            "Requirement already satisfied: pathy>=0.3.5 in /usr/local/lib/python3.7/dist-packages (from spacy>=2->spacy-wordnet) (0.6.2)\n",
            "Requirement already satisfied: preshed<3.1.0,>=3.0.2 in /usr/local/lib/python3.7/dist-packages (from spacy>=2->spacy-wordnet) (3.0.7)\n",
            "Requirement already satisfied: typing-extensions<4.2.0,>=3.7.4 in /usr/local/lib/python3.7/dist-packages (from spacy>=2->spacy-wordnet) (4.1.1)\n",
            "Requirement already satisfied: packaging>=20.0 in /usr/local/lib/python3.7/dist-packages (from spacy>=2->spacy-wordnet) (21.3)\n",
            "Requirement already satisfied: numpy>=1.15.0 in /usr/local/lib/python3.7/dist-packages (from spacy>=2->spacy-wordnet) (1.21.6)\n",
            "Requirement already satisfied: catalogue<2.1.0,>=2.0.6 in /usr/local/lib/python3.7/dist-packages (from spacy>=2->spacy-wordnet) (2.0.8)\n",
            "Requirement already satisfied: srsly<3.0.0,>=2.4.3 in /usr/local/lib/python3.7/dist-packages (from spacy>=2->spacy-wordnet) (2.4.4)\n",
            "Requirement already satisfied: typer<0.5.0,>=0.3.0 in /usr/local/lib/python3.7/dist-packages (from spacy>=2->spacy-wordnet) (0.4.2)\n",
            "Requirement already satisfied: setuptools in /usr/local/lib/python3.7/dist-packages (from spacy>=2->spacy-wordnet) (57.4.0)\n",
            "Requirement already satisfied: murmurhash<1.1.0,>=0.28.0 in /usr/local/lib/python3.7/dist-packages (from spacy>=2->spacy-wordnet) (1.0.8)\n",
            "Requirement already satisfied: langcodes<4.0.0,>=3.2.0 in /usr/local/lib/python3.7/dist-packages (from spacy>=2->spacy-wordnet) (3.3.0)\n",
            "Requirement already satisfied: zipp>=0.5 in /usr/local/lib/python3.7/dist-packages (from catalogue<2.1.0,>=2.0.6->spacy>=2->spacy-wordnet) (3.8.1)\n",
            "Requirement already satisfied: pyparsing!=3.0.5,>=2.0.2 in /usr/local/lib/python3.7/dist-packages (from packaging>=20.0->spacy>=2->spacy-wordnet) (3.0.9)\n",
            "Requirement already satisfied: smart-open<6.0.0,>=5.2.1 in /usr/local/lib/python3.7/dist-packages (from pathy>=0.3.5->spacy>=2->spacy-wordnet) (5.2.1)\n",
            "Requirement already satisfied: chardet<4,>=3.0.2 in /usr/local/lib/python3.7/dist-packages (from requests<3.0.0,>=2.13.0->spacy>=2->spacy-wordnet) (3.0.4)\n",
            "Requirement already satisfied: idna<3,>=2.5 in /usr/local/lib/python3.7/dist-packages (from requests<3.0.0,>=2.13.0->spacy>=2->spacy-wordnet) (2.10)\n",
            "Requirement already satisfied: urllib3!=1.25.0,!=1.25.1,<1.26,>=1.21.1 in /usr/local/lib/python3.7/dist-packages (from requests<3.0.0,>=2.13.0->spacy>=2->spacy-wordnet) (1.24.3)\n",
            "Requirement already satisfied: certifi>=2017.4.17 in /usr/local/lib/python3.7/dist-packages (from requests<3.0.0,>=2.13.0->spacy>=2->spacy-wordnet) (2022.6.15)\n",
            "Requirement already satisfied: blis<0.8.0,>=0.7.8 in /usr/local/lib/python3.7/dist-packages (from thinc<8.2.0,>=8.1.0->spacy>=2->spacy-wordnet) (0.7.8)\n",
            "Requirement already satisfied: MarkupSafe>=0.23 in /usr/local/lib/python3.7/dist-packages (from jinja2->spacy>=2->spacy-wordnet) (2.0.1)\n"
          ]
        }
      ]
    },
    {
      "cell_type": "code",
      "source": [
        "from spacy_wordnet.wordnet_annotator import WordnetAnnotator\n",
        "\n",
        "print(\"before\", nlp.pipe_names)\n",
        "\n",
        "if \"WordnetAnnotator\" not in nlp.pipe_names:\n",
        "  nlp.add_pipe(\"spacy_wordnet\", after='tagger')\n",
        "    \n",
        "print(\"after\", nlp.pipe_names)"
      ],
      "metadata": {
        "colab": {
          "base_uri": "https://localhost:8080/"
        },
        "id": "ux51WdCMz0wi",
        "outputId": "9984b538-f4f0-464d-a6d4-37c1135571dd"
      },
      "execution_count": 201,
      "outputs": [
        {
          "output_type": "stream",
          "name": "stdout",
          "text": [
            "before ['tok2vec', 'tagger', 'parser', 'attribute_ruler', 'lemmatizer', 'ner']\n",
            "after ['tok2vec', 'tagger', 'spacy_wordnet', 'parser', 'attribute_ruler', 'lemmatizer', 'ner']\n"
          ]
        }
      ]
    },
    {
      "cell_type": "markdown",
      "source": [
        "Dalam bahasa Inggris, beberapa kata terkenal karena memiliki banyak kemungkinan arti. Misalnya, klik melalui hasil online di [WordNet](http://wordnetweb.princeton.edu/perl/webwn?s=star&sub=Search+WordNet&o2=&o0=1&o8=1&o1=1&o7=&o5=&o9=&o6=&o3=&o4=&h=) cari untuk menemukan arti yang terkait dengan kata `withdraw`.\n",
        "\n",
        "Sekarang mari kita gunakan _spaCy_ untuk melakukan pencarian itu secara otomatis:"
      ],
      "metadata": {
        "id": "GCmboiboz_1s"
      }
    },
    {
      "cell_type": "code",
      "source": [
        "token = nlp(\"withdraw\")[0]\n",
        "token._.wordnet.synsets()"
      ],
      "metadata": {
        "colab": {
          "base_uri": "https://localhost:8080/"
        },
        "id": "B94OW4Xoz12o",
        "outputId": "a2be7cb4-cbcd-4b37-8f4c-0b7ee3a807d2"
      },
      "execution_count": 206,
      "outputs": [
        {
          "output_type": "execute_result",
          "data": {
            "text/plain": [
              "[Synset('withdraw.v.01'),\n",
              " Synset('retire.v.02'),\n",
              " Synset('disengage.v.01'),\n",
              " Synset('recall.v.07'),\n",
              " Synset('swallow.v.05'),\n",
              " Synset('seclude.v.01'),\n",
              " Synset('adjourn.v.02'),\n",
              " Synset('bow_out.v.02'),\n",
              " Synset('withdraw.v.09'),\n",
              " Synset('retire.v.08'),\n",
              " Synset('retreat.v.04'),\n",
              " Synset('remove.v.01')]"
            ]
          },
          "metadata": {},
          "execution_count": 206
        }
      ]
    },
    {
      "cell_type": "code",
      "source": [
        "token._.wordnet.lemmas()"
      ],
      "metadata": {
        "colab": {
          "base_uri": "https://localhost:8080/"
        },
        "id": "s5DfYkSU05vi",
        "outputId": "2061d82a-6636-4572-80fd-7528147248a3"
      },
      "execution_count": 207,
      "outputs": [
        {
          "output_type": "execute_result",
          "data": {
            "text/plain": [
              "[Lemma('withdraw.v.01.withdraw'),\n",
              " Lemma('withdraw.v.01.retreat'),\n",
              " Lemma('withdraw.v.01.pull_away'),\n",
              " Lemma('withdraw.v.01.draw_back'),\n",
              " Lemma('withdraw.v.01.recede'),\n",
              " Lemma('withdraw.v.01.pull_back'),\n",
              " Lemma('withdraw.v.01.retire'),\n",
              " Lemma('withdraw.v.01.move_back'),\n",
              " Lemma('retire.v.02.retire'),\n",
              " Lemma('retire.v.02.withdraw'),\n",
              " Lemma('disengage.v.01.disengage'),\n",
              " Lemma('disengage.v.01.withdraw'),\n",
              " Lemma('recall.v.07.recall'),\n",
              " Lemma('recall.v.07.call_in'),\n",
              " Lemma('recall.v.07.call_back'),\n",
              " Lemma('recall.v.07.withdraw'),\n",
              " Lemma('swallow.v.05.swallow'),\n",
              " Lemma('swallow.v.05.take_back'),\n",
              " Lemma('swallow.v.05.unsay'),\n",
              " Lemma('swallow.v.05.withdraw'),\n",
              " Lemma('seclude.v.01.seclude'),\n",
              " Lemma('seclude.v.01.sequester'),\n",
              " Lemma('seclude.v.01.sequestrate'),\n",
              " Lemma('seclude.v.01.withdraw'),\n",
              " Lemma('adjourn.v.02.adjourn'),\n",
              " Lemma('adjourn.v.02.withdraw'),\n",
              " Lemma('adjourn.v.02.retire'),\n",
              " Lemma('bow_out.v.02.bow_out'),\n",
              " Lemma('bow_out.v.02.withdraw'),\n",
              " Lemma('withdraw.v.09.withdraw'),\n",
              " Lemma('withdraw.v.09.draw'),\n",
              " Lemma('withdraw.v.09.take_out'),\n",
              " Lemma('withdraw.v.09.draw_off'),\n",
              " Lemma('retire.v.08.retire'),\n",
              " Lemma('retire.v.08.withdraw'),\n",
              " Lemma('retreat.v.04.retreat'),\n",
              " Lemma('retreat.v.04.pull_back'),\n",
              " Lemma('retreat.v.04.back_out'),\n",
              " Lemma('retreat.v.04.back_away'),\n",
              " Lemma('retreat.v.04.crawfish'),\n",
              " Lemma('retreat.v.04.crawfish_out'),\n",
              " Lemma('retreat.v.04.pull_in_one's_horns'),\n",
              " Lemma('retreat.v.04.withdraw'),\n",
              " Lemma('remove.v.01.remove'),\n",
              " Lemma('remove.v.01.take'),\n",
              " Lemma('remove.v.01.take_away'),\n",
              " Lemma('remove.v.01.withdraw')]"
            ]
          },
          "metadata": {},
          "execution_count": 207
        }
      ]
    },
    {
      "cell_type": "code",
      "source": [
        "token._.wordnet.wordnet_domains()"
      ],
      "metadata": {
        "colab": {
          "base_uri": "https://localhost:8080/"
        },
        "id": "FgGVlLj708vd",
        "outputId": "e4002816-f6c4-4194-e48a-1844659acabe"
      },
      "execution_count": 208,
      "outputs": [
        {
          "output_type": "execute_result",
          "data": {
            "text/plain": [
              "['astronomy',\n",
              " 'school',\n",
              " 'telegraphy',\n",
              " 'industry',\n",
              " 'psychology',\n",
              " 'ethnology',\n",
              " 'ethnology',\n",
              " 'administration',\n",
              " 'school',\n",
              " 'finance',\n",
              " 'economy',\n",
              " 'exchange',\n",
              " 'banking',\n",
              " 'commerce',\n",
              " 'medicine',\n",
              " 'ethnology',\n",
              " 'university',\n",
              " 'school',\n",
              " 'buildings',\n",
              " 'factotum',\n",
              " 'agriculture',\n",
              " 'mechanics',\n",
              " 'gastronomy',\n",
              " 'meteorology',\n",
              " 'physics',\n",
              " 'basketball',\n",
              " 'anatomy',\n",
              " 'skiing',\n",
              " 'nautical',\n",
              " 'engineering',\n",
              " 'racing',\n",
              " 'home',\n",
              " 'drawing',\n",
              " 'dentistry',\n",
              " 'ethnology',\n",
              " 'mathematics',\n",
              " 'furniture',\n",
              " 'animal_husbandry',\n",
              " 'industry',\n",
              " 'economy',\n",
              " 'body_care',\n",
              " 'chemistry',\n",
              " 'medicine',\n",
              " 'surgery',\n",
              " 'vehicles',\n",
              " 'transport',\n",
              " 'atomic_physic',\n",
              " 'archaeology',\n",
              " 'hydraulics',\n",
              " 'oceanography',\n",
              " 'golf',\n",
              " 'sculpture',\n",
              " 'earth',\n",
              " 'applied_science',\n",
              " 'artisanship']"
            ]
          },
          "metadata": {},
          "execution_count": 208
        }
      ]
    },
    {
      "cell_type": "markdown",
      "source": [
        "Sekali lagi, jika Anda bekerja dengan grafik pengetahuan, tautan \"pengertian kata/word sense\" dari WordNet dapat digunakan bersama dengan algoritme grafik untuk membantu mengidentifikasi arti kata tertentu. Itu juga dapat digunakan untuk mengembangkan ringkasan untuk bagian teks yang lebih besar melalui teknik yang disebut _summarization_. Ini di luar cakupan tutorial ini, tetapi aplikasi yang menarik saat ini untuk bahasa alami di industri."
      ],
      "metadata": {
        "id": "6Sz7e45_1CmZ"
      }
    },
    {
      "cell_type": "markdown",
      "source": [
        "Pergi ke arah lain, jika Anda tahu _a priori_ bahwa dokumen adalah tentang domain atau rangkaian topik tertentu, maka Anda dapat membatasi makna yang dikembalikan dari _WordNet_. Dalam contoh berikut, kami ingin mempertimbangkan hasil NLU yang ada dalam Keuangan dan Perbankan:"
      ],
      "metadata": {
        "id": "uU741uI31KFY"
      }
    },
    {
      "cell_type": "code",
      "source": [
        "domains = [\"finance\", \"banking\"]\n",
        "sentence = nlp(\"I want to withdraw 5,000 euros from river bank\")\n",
        "\n",
        "enriched_sent = []\n",
        "\n",
        "for token in sentence:\n",
        "    # get synsets within the desired domains\n",
        "    synsets = token._.wordnet.wordnet_synsets_for_domain(domains)\n",
        "    \n",
        "    if synsets:\n",
        "        lemmas_for_synset = []\n",
        "        \n",
        "        for s in synsets:\n",
        "            # get synset variants and add to the enriched sentence\n",
        "            lemmas_for_synset.extend(s.lemma_names())\n",
        "            enriched_sent.append(\"({})\".format(\"|\".join(set(lemmas_for_synset))))\n",
        "    else:\n",
        "        enriched_sent.append(token.text)\n",
        "\n",
        "print(\" \".join(enriched_sent))"
      ],
      "metadata": {
        "colab": {
          "base_uri": "https://localhost:8080/"
        },
        "id": "lDly-5pA090A",
        "outputId": "3f3b6a9a-f328-4a57-b249-f34b78ce4115"
      },
      "execution_count": 214,
      "outputs": [
        {
          "output_type": "stream",
          "name": "stdout",
          "text": [
            "I (need|want|require) to (draw|withdraw|take_out|draw_off) 5,000 euros from (river) (banking_concern|depository_financial_institution|bank|banking_company) (banking_concern|depository_financial_institution|bank|banking_company) (bank|banking_company|banking_concern|bank_building|depository_financial_institution)\n"
          ]
        }
      ]
    },
    {
      "cell_type": "code",
      "source": [
        "domains = [\"earth\", \"agriculture\"]\n",
        "sentence = nlp(\"I want to withdraw 5,000 euros from river bank\")\n",
        "\n",
        "enriched_sent = []\n",
        "\n",
        "for token in sentence:\n",
        "    # get synsets within the desired domains\n",
        "    synsets = token._.wordnet.wordnet_synsets_for_domain(domains)\n",
        "    \n",
        "    if synsets:\n",
        "        lemmas_for_synset = []\n",
        "        \n",
        "        for s in synsets:\n",
        "            # get synset variants and add to the enriched sentence\n",
        "            lemmas_for_synset.extend(s.lemma_names())\n",
        "            enriched_sent.append(\"({})\".format(\"|\".join(set(lemmas_for_synset))))\n",
        "    else:\n",
        "        enriched_sent.append(token.text)\n",
        "\n",
        "print(\" \".join(enriched_sent))"
      ],
      "metadata": {
        "colab": {
          "base_uri": "https://localhost:8080/"
        },
        "id": "PnP_wRA_Ec2H",
        "outputId": "d14ff5fa-ca36-4ac5-f197-ebad3fe6c09a"
      },
      "execution_count": 213,
      "outputs": [
        {
          "output_type": "stream",
          "name": "stdout",
          "text": [
            "I (need|want|require) to (withdraw|remove|take_away|take) 5,000 euros from (river) bank\n"
          ]
        }
      ]
    },
    {
      "cell_type": "markdown",
      "source": [
        "materi di sesi 03 akan membahas scatter text"
      ],
      "metadata": {
        "id": "jEQ9krqY2XUL"
      }
    },
    {
      "cell_type": "code",
      "source": [],
      "metadata": {
        "id": "FCtTOi0Y1W2X"
      },
      "execution_count": 205,
      "outputs": []
    }
  ]
}