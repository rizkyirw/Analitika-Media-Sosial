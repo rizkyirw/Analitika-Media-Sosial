{
  "nbformat": 4,
  "nbformat_minor": 0,
  "metadata": {
    "colab": {
      "provenance": [],
      "collapsed_sections": [],
      "authorship_tag": "ABX9TyPqaUJm1syezVeWrh+X68Sx",
      "include_colab_link": true
    },
    "kernelspec": {
      "name": "python3",
      "display_name": "Python 3"
    },
    "language_info": {
      "name": "python"
    }
  },
  "cells": [
    {
      "cell_type": "markdown",
      "metadata": {
        "id": "view-in-github",
        "colab_type": "text"
      },
      "source": [
        "<a href=\"https://colab.research.google.com/github/rizkyirw/Analitika-Media-Sosial/blob/Materi/Ambil_Tweet.ipynb\" target=\"_parent\"><img src=\"https://colab.research.google.com/assets/colab-badge.svg\" alt=\"Open In Colab\"/></a>"
      ]
    },
    {
      "cell_type": "code",
      "source": [
        "from google.colab import drive\n",
        "drive.mount('/content/drive')\n",
        "import sys\n",
        "sys.path.append('/content/drive/My Drive/File AMS2023')"
      ],
      "metadata": {
        "id": "VmF-ztrgB1yI",
        "colab": {
          "base_uri": "https://localhost:8080/"
        },
        "outputId": "db719d26-9a86-44e0-fe75-7d79502119b3"
      },
      "execution_count": 25,
      "outputs": [
        {
          "output_type": "stream",
          "name": "stdout",
          "text": [
            "Mounted at /content/drive\n"
          ]
        }
      ]
    },
    {
      "cell_type": "code",
      "execution_count": 2,
      "metadata": {
        "id": "Y1FO-sosBzrp"
      },
      "outputs": [],
      "source": [
        "import pandas as pd\n",
        "import time\n",
        "import tweepy\n",
        "import numpy as np"
      ]
    },
    {
      "cell_type": "code",
      "source": [
        "#ganti dari essential ke lbh tinggi \n",
        "def twitter_config():\n",
        "    \"\"\"\n",
        "    Fungsi utilitas untuk mengkonfigurasi konsumsi file API Twitter dengan␣\n",
        "    ,!kunci yang disediakan.\n",
        "    \"\"\"\n",
        "    # Otentikasi dan akses menggunakan kunci:\n",
        "    auth = tweepy.OAuthHandler(\"uo7TnXaPXc7XEKPjtYzBxAgSQ\",\n",
        "    \"fzoh5uM4DuWG51E1do0NczbBpFV8I2O2ELv3Y96zOYgfCvnWuU\")\n",
        "    auth.set_access_token(\"1297826686537314305-JgTLMS6gD58MJraG0BZ8RJIdhyX74h\",\n",
        "    \"jKPCuurX09saOGVFLb44ASn1aumQgtLtSkjbPbHAGzOZx\")\n",
        "    # Kembalikan akses ke API:\n",
        "    api = tweepy.API(auth)\n",
        "    try:\n",
        "        api.verify_credentials()\n",
        "        print(\"Authentication OK\")\n",
        "    except:\n",
        "        print(\"Error during authentication\")\n",
        "    return api"
      ],
      "metadata": {
        "id": "qt-2W3rkGwev"
      },
      "execution_count": 3,
      "outputs": []
    },
    {
      "cell_type": "code",
      "source": [
        "# buat extractor object\n",
        "extractor = twitter_config()"
      ],
      "metadata": {
        "id": "yXDgIe0_Z3y0",
        "colab": {
          "base_uri": "https://localhost:8080/"
        },
        "outputId": "94ca3e1c-b444-4868-a6e9-f267e558c059"
      },
      "execution_count": 4,
      "outputs": [
        {
          "output_type": "stream",
          "name": "stdout",
          "text": [
            "Authentication OK\n"
          ]
        }
      ]
    },
    {
      "cell_type": "markdown",
      "source": [
        "### Ambil Tweets dari Username\n",
        "\n",
        "@tirta_cipeng , @JeromePolin, @yurayunita"
      ],
      "metadata": {
        "id": "91GYdaJuZ56B"
      }
    },
    {
      "cell_type": "code",
      "source": [
        "tweets = extractor.user_timeline(screen_name=\"@tirta_cipeng\", count=1000)\n",
        "print(\"Tweets terambil: {}.\\n\".format(len(tweets)))\n",
        "\n",
        "\n",
        "print(\"5 tweet teratas:\\n\")\n",
        "for tweet in tweets[:5]:\n",
        "    print(tweet.text)\n",
        "    print()"
      ],
      "metadata": {
        "id": "_2T-QbAjZ4TM",
        "colab": {
          "base_uri": "https://localhost:8080/"
        },
        "outputId": "73a399a9-8212-4358-d27b-d9bd2724f9eb"
      },
      "execution_count": 27,
      "outputs": [
        {
          "output_type": "stream",
          "name": "stdout",
          "text": [
            "Tweets terambil: 199.\n",
            "\n",
            "5 tweet teratas:\n",
            "\n",
            "Sama halnya orng squats, ketika beban berat , biasanya dia akan cheating compound akan dibantu oleh pantat dan pung… https://t.co/we54IyjMsA\n",
            "\n",
            "Jadi kalo latihan, yg cocok pada mu ya bisa ga cocok di saya, karena anatomi otot orng beda beda\n",
            "\n",
            "Jadi latihan d se… https://t.co/eDdswPxuHt\n",
            "\n",
            "Coba titit  lo aja yg d iket. https://t.co/Z55DbLi6JG\n",
            "\n",
            "So idealnya trigger tambah plats adalah\n",
            "\n",
            "2x pull up normal dengan form lurus\n",
            "2x pake plats\n",
            "\n",
            "Berikut yg no beban den… https://t.co/3IltWYb94h\n",
            "\n",
            "Banyak yg kritik form. Form pullup memang harus lurus,\n",
            "Jika tanpa beban, pasti lurus\n",
            "\n",
            "Pada penggunaan plats, ga har… https://t.co/jMgEoywDqF\n",
            "\n"
          ]
        }
      ]
    },
    {
      "cell_type": "code",
      "source": [
        "tweets = extractor.user_timeline(screen_name=\"@JeromePolin\", count=1000)\n",
        "print(\"Tweets terambil: {}.\\n\".format(len(tweets)))\n",
        "\n",
        "\n",
        "print(\"5 tweet teratas:\\n\")\n",
        "for tweet in tweets[:5]:\n",
        "    print(tweet.text)\n",
        "    print()"
      ],
      "metadata": {
        "colab": {
          "base_uri": "https://localhost:8080/"
        },
        "id": "-wbn66m28kiU",
        "outputId": "73ec7c20-b5ad-4180-d0cb-a0f7e14fc33f"
      },
      "execution_count": 42,
      "outputs": [
        {
          "output_type": "stream",
          "name": "stdout",
          "text": [
            "Tweets terambil: 198.\n",
            "\n",
            "5 tweet teratas:\n",
            "\n",
            "Berat bgt ga sih perjuangin kampus impian kalo ga ada support system?🥲\n",
            "\n",
            "Join group Telegram @zeniuseducation biar k… https://t.co/v15QLuJMWZ\n",
            "\n",
            "KOREA TRIP EPISODE 2: MUKBANG MAKANAN MINIMARKET KOREA! https://t.co/Kem3smFlTQ https://t.co/zZPSGstQ4G\n",
            "\n",
            "AAAA MASUK TRENDING 5 DI YOUTUBE SEKARANG!! 😆😆 Thank God and Thank you guyss! https://t.co/Mujw6D1Jny Episode 2 har… https://t.co/mNkyhXw4gP\n",
            "\n",
            "Setelah 4 bulan aku di Indonesia dan Wasedaboys lainnya di Jepang, akhirnya kita bisa reunian dan trip bareng di Ko… https://t.co/bhuiOIJF3x\n",
            "\n",
            "YANG SEMANGAT DONG WOY\n",
            "\n"
          ]
        }
      ]
    },
    {
      "cell_type": "code",
      "source": [
        "tweets = extractor.user_timeline(screen_name=\"@yurayunita\", count=1000)\n",
        "print(\"Tweets terambil: {}.\\n\".format(len(tweets)))\n",
        "\n",
        "\n",
        "print(\"5 tweet teratas:\\n\")\n",
        "for tweet in tweets[:5]:\n",
        "    print(tweet.text)\n",
        "    print()"
      ],
      "metadata": {
        "colab": {
          "base_uri": "https://localhost:8080/"
        },
        "id": "SO6WyxMc8nks",
        "outputId": "41eeccd6-ec85-4870-ab05-b6003050581e"
      },
      "execution_count": 11,
      "outputs": [
        {
          "output_type": "stream",
          "name": "stdout",
          "text": [
            "Tweets terambil: 200.\n",
            "\n",
            "5 tweet teratas:\n",
            "\n",
            "Semarang, kita bertemu jam 19.00 malam ini di Live Project ya! 🥰\n",
            "\n",
            "@assabylaaa Peluuukk 🥰🥰🥰\n",
            "\n",
            "@anisatulw1 Terima kasih juga karena udah nungguin sampe malem banget 🥺\n",
            "\n",
            "Maaf untuk saat ini aku belum bisa bikin kamu bahagia. Percayalah aku udah lakukan yang terbaik semampuku :)\n",
            "\n",
            "@luanaravabla 🫢🫢🫢\n",
            "\n"
          ]
        }
      ]
    },
    {
      "cell_type": "markdown",
      "source": [
        "### Memasukan ke Dataframe Pandas"
      ],
      "metadata": {
        "id": "FSSfEhZhaCGO"
      }
    },
    {
      "cell_type": "code",
      "source": [
        "# Kita dapat membuat kerangka data sebagai berikut:\n",
        "dataset = pd.DataFrame(data=[tweet.text for tweet in tweets], columns=['Tweets'])\n",
        "\n",
        "# Kita membuat tampilan kerangka data:\n",
        "display(dataset.head(10))"
      ],
      "metadata": {
        "id": "Bpfjbvv-aAgc",
        "colab": {
          "base_uri": "https://localhost:8080/",
          "height": 363
        },
        "outputId": "da27e705-e307-40bf-d834-bae90951cda7"
      },
      "execution_count": 43,
      "outputs": [
        {
          "output_type": "display_data",
          "data": {
            "text/plain": [
              "                                              Tweets\n",
              "0  Berat bgt ga sih perjuangin kampus impian kalo...\n",
              "1  KOREA TRIP EPISODE 2: MUKBANG MAKANAN MINIMARK...\n",
              "2  AAAA MASUK TRENDING 5 DI YOUTUBE SEKARANG!! 😆😆...\n",
              "3  Setelah 4 bulan aku di Indonesia dan Wasedaboy...\n",
              "4                             YANG SEMANGAT DONG WOY\n",
              "5  RT @tokomenantea: MENANTEA DISKON 40% KHUSUS B...\n",
              "6                      males https://t.co/sf6b1Mj9Wx\n",
              "7  Coba share Unstoppable Story kalian dlm bentuk...\n",
              "8  Tiba2 flashback jaman awal2 ke Jepang, banyak ...\n",
              "9  Yang taun depan UTBK, jgn galau ya karna soaln..."
            ],
            "text/html": [
              "\n",
              "  <div id=\"df-91f0fb95-6dcf-4192-bdc3-938924e5c3e2\">\n",
              "    <div class=\"colab-df-container\">\n",
              "      <div>\n",
              "<style scoped>\n",
              "    .dataframe tbody tr th:only-of-type {\n",
              "        vertical-align: middle;\n",
              "    }\n",
              "\n",
              "    .dataframe tbody tr th {\n",
              "        vertical-align: top;\n",
              "    }\n",
              "\n",
              "    .dataframe thead th {\n",
              "        text-align: right;\n",
              "    }\n",
              "</style>\n",
              "<table border=\"1\" class=\"dataframe\">\n",
              "  <thead>\n",
              "    <tr style=\"text-align: right;\">\n",
              "      <th></th>\n",
              "      <th>Tweets</th>\n",
              "    </tr>\n",
              "  </thead>\n",
              "  <tbody>\n",
              "    <tr>\n",
              "      <th>0</th>\n",
              "      <td>Berat bgt ga sih perjuangin kampus impian kalo...</td>\n",
              "    </tr>\n",
              "    <tr>\n",
              "      <th>1</th>\n",
              "      <td>KOREA TRIP EPISODE 2: MUKBANG MAKANAN MINIMARK...</td>\n",
              "    </tr>\n",
              "    <tr>\n",
              "      <th>2</th>\n",
              "      <td>AAAA MASUK TRENDING 5 DI YOUTUBE SEKARANG!! 😆😆...</td>\n",
              "    </tr>\n",
              "    <tr>\n",
              "      <th>3</th>\n",
              "      <td>Setelah 4 bulan aku di Indonesia dan Wasedaboy...</td>\n",
              "    </tr>\n",
              "    <tr>\n",
              "      <th>4</th>\n",
              "      <td>YANG SEMANGAT DONG WOY</td>\n",
              "    </tr>\n",
              "    <tr>\n",
              "      <th>5</th>\n",
              "      <td>RT @tokomenantea: MENANTEA DISKON 40% KHUSUS B...</td>\n",
              "    </tr>\n",
              "    <tr>\n",
              "      <th>6</th>\n",
              "      <td>males https://t.co/sf6b1Mj9Wx</td>\n",
              "    </tr>\n",
              "    <tr>\n",
              "      <th>7</th>\n",
              "      <td>Coba share Unstoppable Story kalian dlm bentuk...</td>\n",
              "    </tr>\n",
              "    <tr>\n",
              "      <th>8</th>\n",
              "      <td>Tiba2 flashback jaman awal2 ke Jepang, banyak ...</td>\n",
              "    </tr>\n",
              "    <tr>\n",
              "      <th>9</th>\n",
              "      <td>Yang taun depan UTBK, jgn galau ya karna soaln...</td>\n",
              "    </tr>\n",
              "  </tbody>\n",
              "</table>\n",
              "</div>\n",
              "      <button class=\"colab-df-convert\" onclick=\"convertToInteractive('df-91f0fb95-6dcf-4192-bdc3-938924e5c3e2')\"\n",
              "              title=\"Convert this dataframe to an interactive table.\"\n",
              "              style=\"display:none;\">\n",
              "        \n",
              "  <svg xmlns=\"http://www.w3.org/2000/svg\" height=\"24px\"viewBox=\"0 0 24 24\"\n",
              "       width=\"24px\">\n",
              "    <path d=\"M0 0h24v24H0V0z\" fill=\"none\"/>\n",
              "    <path d=\"M18.56 5.44l.94 2.06.94-2.06 2.06-.94-2.06-.94-.94-2.06-.94 2.06-2.06.94zm-11 1L8.5 8.5l.94-2.06 2.06-.94-2.06-.94L8.5 2.5l-.94 2.06-2.06.94zm10 10l.94 2.06.94-2.06 2.06-.94-2.06-.94-.94-2.06-.94 2.06-2.06.94z\"/><path d=\"M17.41 7.96l-1.37-1.37c-.4-.4-.92-.59-1.43-.59-.52 0-1.04.2-1.43.59L10.3 9.45l-7.72 7.72c-.78.78-.78 2.05 0 2.83L4 21.41c.39.39.9.59 1.41.59.51 0 1.02-.2 1.41-.59l7.78-7.78 2.81-2.81c.8-.78.8-2.07 0-2.86zM5.41 20L4 18.59l7.72-7.72 1.47 1.35L5.41 20z\"/>\n",
              "  </svg>\n",
              "      </button>\n",
              "      \n",
              "  <style>\n",
              "    .colab-df-container {\n",
              "      display:flex;\n",
              "      flex-wrap:wrap;\n",
              "      gap: 12px;\n",
              "    }\n",
              "\n",
              "    .colab-df-convert {\n",
              "      background-color: #E8F0FE;\n",
              "      border: none;\n",
              "      border-radius: 50%;\n",
              "      cursor: pointer;\n",
              "      display: none;\n",
              "      fill: #1967D2;\n",
              "      height: 32px;\n",
              "      padding: 0 0 0 0;\n",
              "      width: 32px;\n",
              "    }\n",
              "\n",
              "    .colab-df-convert:hover {\n",
              "      background-color: #E2EBFA;\n",
              "      box-shadow: 0px 1px 2px rgba(60, 64, 67, 0.3), 0px 1px 3px 1px rgba(60, 64, 67, 0.15);\n",
              "      fill: #174EA6;\n",
              "    }\n",
              "\n",
              "    [theme=dark] .colab-df-convert {\n",
              "      background-color: #3B4455;\n",
              "      fill: #D2E3FC;\n",
              "    }\n",
              "\n",
              "    [theme=dark] .colab-df-convert:hover {\n",
              "      background-color: #434B5C;\n",
              "      box-shadow: 0px 1px 3px 1px rgba(0, 0, 0, 0.15);\n",
              "      filter: drop-shadow(0px 1px 2px rgba(0, 0, 0, 0.3));\n",
              "      fill: #FFFFFF;\n",
              "    }\n",
              "  </style>\n",
              "\n",
              "      <script>\n",
              "        const buttonEl =\n",
              "          document.querySelector('#df-91f0fb95-6dcf-4192-bdc3-938924e5c3e2 button.colab-df-convert');\n",
              "        buttonEl.style.display =\n",
              "          google.colab.kernel.accessAllowed ? 'block' : 'none';\n",
              "\n",
              "        async function convertToInteractive(key) {\n",
              "          const element = document.querySelector('#df-91f0fb95-6dcf-4192-bdc3-938924e5c3e2');\n",
              "          const dataTable =\n",
              "            await google.colab.kernel.invokeFunction('convertToInteractive',\n",
              "                                                     [key], {});\n",
              "          if (!dataTable) return;\n",
              "\n",
              "          const docLinkHtml = 'Like what you see? Visit the ' +\n",
              "            '<a target=\"_blank\" href=https://colab.research.google.com/notebooks/data_table.ipynb>data table notebook</a>'\n",
              "            + ' to learn more about interactive tables.';\n",
              "          element.innerHTML = '';\n",
              "          dataTable['output_type'] = 'display_data';\n",
              "          await google.colab.output.renderOutput(dataTable, element);\n",
              "          const docLink = document.createElement('div');\n",
              "          docLink.innerHTML = docLinkHtml;\n",
              "          element.appendChild(docLink);\n",
              "        }\n",
              "      </script>\n",
              "    </div>\n",
              "  </div>\n",
              "  "
            ]
          },
          "metadata": {}
        }
      ]
    },
    {
      "cell_type": "markdown",
      "source": [
        "### Cek internal Tweets\n",
        "\n",
        "Sesuatu yang menarik adalah jumlah metode internal yang dimiliki struktur tweet di Tweepy:"
      ],
      "metadata": {
        "id": "Re3AtPyCaHlC"
      }
    },
    {
      "cell_type": "code",
      "source": [
        "print(dir(tweets[0]))"
      ],
      "metadata": {
        "id": "cfQ16omZaKDC",
        "colab": {
          "base_uri": "https://localhost:8080/"
        },
        "outputId": "4cc95f7a-08f7-42b4-bed3-d73ba9253f44"
      },
      "execution_count": 44,
      "outputs": [
        {
          "output_type": "stream",
          "name": "stdout",
          "text": [
            "['__class__', '__delattr__', '__dict__', '__dir__', '__doc__', '__eq__', '__format__', '__ge__', '__getattribute__', '__getstate__', '__gt__', '__hash__', '__init__', '__init_subclass__', '__le__', '__lt__', '__module__', '__ne__', '__new__', '__reduce__', '__reduce_ex__', '__repr__', '__setattr__', '__sizeof__', '__str__', '__subclasshook__', '__weakref__', '_api', '_json', 'author', 'contributors', 'coordinates', 'created_at', 'destroy', 'entities', 'favorite', 'favorite_count', 'favorited', 'geo', 'id', 'id_str', 'in_reply_to_screen_name', 'in_reply_to_status_id', 'in_reply_to_status_id_str', 'in_reply_to_user_id', 'in_reply_to_user_id_str', 'is_quote_status', 'lang', 'parse', 'parse_list', 'place', 'possibly_sensitive', 'retweet', 'retweet_count', 'retweeted', 'retweets', 'source', 'source_url', 'text', 'truncated', 'user']\n"
          ]
        }
      ]
    },
    {
      "cell_type": "markdown",
      "source": [
        "Dari sini menarik bahwa, jika kita ingin mendapatkan data seperti tanggal pembuatan tweet atau perangkat yang membuatnya, kita dapat mengakses informasi ini dengan metode yang muncul di daftar ini. Contohnya adalah sebagai berikut:"
      ],
      "metadata": {
        "id": "qz9od5UuaMOE"
      }
    },
    {
      "cell_type": "code",
      "source": [
        "print(tweets[0].id)\n",
        "print(tweets[0].created_at)\n",
        "print(tweets[0].source)\n",
        "print(tweets[0].favorite_count)\n",
        "print(tweets[0].retweet_count)\n",
        "print(tweets[0].geo)\n",
        "print(tweets[0].coordinates)\n",
        "print(tweets[0].entities)"
      ],
      "metadata": {
        "id": "XTTuXXJMaygU",
        "colab": {
          "base_uri": "https://localhost:8080/"
        },
        "outputId": "d949f7ed-fd1d-4076-a75f-3b267b658f9d"
      },
      "execution_count": 45,
      "outputs": [
        {
          "output_type": "stream",
          "name": "stdout",
          "text": [
            "1582334973939691520\n",
            "2022-10-18 11:37:10\n",
            "Twitter for Android\n",
            "135\n",
            "4\n",
            "None\n",
            "None\n",
            "{'hashtags': [], 'symbols': [], 'user_mentions': [{'screen_name': 'zeniuseducation', 'name': '#GantiCaraBelajar', 'id': 85751142, 'id_str': '85751142', 'indices': [92, 108]}], 'urls': [{'url': 'https://t.co/v15QLuJMWZ', 'expanded_url': 'https://twitter.com/i/web/status/1582334973939691520', 'display_url': 'twitter.com/i/web/status/1…', 'indices': [117, 140]}]}\n"
          ]
        }
      ]
    },
    {
      "cell_type": "markdown",
      "source": [
        "### Tambahkan informasi relevan\n",
        "\n",
        "Kita menambahkan informasi yang relevan"
      ],
      "metadata": {
        "id": "qx6D1L6Aaz6S"
      }
    },
    {
      "cell_type": "code",
      "source": [
        "dataset['len'] = np.array([len(tweet.text) for tweet in tweets])\n",
        "dataset['ID']  = np.array([tweet.id for tweet in tweets])\n",
        "dataset['Created'] = np.array([tweet.created_at for tweet in tweets])\n",
        "dataset['Source'] = np.array([tweet.source for tweet in tweets])\n",
        "dataset['Likes']  = np.array([tweet.favorite_count for tweet in tweets])\n",
        "dataset['RTs']    = np.array([tweet.retweet_count for tweet in tweets])"
      ],
      "metadata": {
        "id": "ia2E0Ulda2HK"
      },
      "execution_count": 46,
      "outputs": []
    },
    {
      "cell_type": "code",
      "source": [
        "dataset.head()"
      ],
      "metadata": {
        "id": "Y4SbSVTVa-Er",
        "colab": {
          "base_uri": "https://localhost:8080/",
          "height": 206
        },
        "outputId": "4ab38a14-3648-4694-fba3-12ca29052e00"
      },
      "execution_count": 47,
      "outputs": [
        {
          "output_type": "execute_result",
          "data": {
            "text/plain": [
              "                                              Tweets  len  \\\n",
              "0  Berat bgt ga sih perjuangin kampus impian kalo...  140   \n",
              "1  KOREA TRIP EPISODE 2: MUKBANG MAKANAN MINIMARK...  103   \n",
              "2  AAAA MASUK TRENDING 5 DI YOUTUBE SEKARANG!! 😆😆...  140   \n",
              "3  Setelah 4 bulan aku di Indonesia dan Wasedaboy...  140   \n",
              "4                             YANG SEMANGAT DONG WOY   22   \n",
              "\n",
              "                    ID             Created               Source  Likes   RTs  \n",
              "0  1582334973939691520 2022-10-18 11:37:10  Twitter for Android    135     4  \n",
              "1  1581965518033997824 2022-10-17 11:09:05      Twitter Web App    371    19  \n",
              "2  1581601174179893250 2022-10-16 11:01:19      Twitter Web App    548    23  \n",
              "3  1581213289190604800 2022-10-15 09:20:00      Twitter Web App   1028    35  \n",
              "4  1580868695777124352 2022-10-14 10:30:42      Twitter Web App  12200  2123  "
            ],
            "text/html": [
              "\n",
              "  <div id=\"df-e04da597-2074-4175-9962-0179c07c0170\">\n",
              "    <div class=\"colab-df-container\">\n",
              "      <div>\n",
              "<style scoped>\n",
              "    .dataframe tbody tr th:only-of-type {\n",
              "        vertical-align: middle;\n",
              "    }\n",
              "\n",
              "    .dataframe tbody tr th {\n",
              "        vertical-align: top;\n",
              "    }\n",
              "\n",
              "    .dataframe thead th {\n",
              "        text-align: right;\n",
              "    }\n",
              "</style>\n",
              "<table border=\"1\" class=\"dataframe\">\n",
              "  <thead>\n",
              "    <tr style=\"text-align: right;\">\n",
              "      <th></th>\n",
              "      <th>Tweets</th>\n",
              "      <th>len</th>\n",
              "      <th>ID</th>\n",
              "      <th>Created</th>\n",
              "      <th>Source</th>\n",
              "      <th>Likes</th>\n",
              "      <th>RTs</th>\n",
              "    </tr>\n",
              "  </thead>\n",
              "  <tbody>\n",
              "    <tr>\n",
              "      <th>0</th>\n",
              "      <td>Berat bgt ga sih perjuangin kampus impian kalo...</td>\n",
              "      <td>140</td>\n",
              "      <td>1582334973939691520</td>\n",
              "      <td>2022-10-18 11:37:10</td>\n",
              "      <td>Twitter for Android</td>\n",
              "      <td>135</td>\n",
              "      <td>4</td>\n",
              "    </tr>\n",
              "    <tr>\n",
              "      <th>1</th>\n",
              "      <td>KOREA TRIP EPISODE 2: MUKBANG MAKANAN MINIMARK...</td>\n",
              "      <td>103</td>\n",
              "      <td>1581965518033997824</td>\n",
              "      <td>2022-10-17 11:09:05</td>\n",
              "      <td>Twitter Web App</td>\n",
              "      <td>371</td>\n",
              "      <td>19</td>\n",
              "    </tr>\n",
              "    <tr>\n",
              "      <th>2</th>\n",
              "      <td>AAAA MASUK TRENDING 5 DI YOUTUBE SEKARANG!! 😆😆...</td>\n",
              "      <td>140</td>\n",
              "      <td>1581601174179893250</td>\n",
              "      <td>2022-10-16 11:01:19</td>\n",
              "      <td>Twitter Web App</td>\n",
              "      <td>548</td>\n",
              "      <td>23</td>\n",
              "    </tr>\n",
              "    <tr>\n",
              "      <th>3</th>\n",
              "      <td>Setelah 4 bulan aku di Indonesia dan Wasedaboy...</td>\n",
              "      <td>140</td>\n",
              "      <td>1581213289190604800</td>\n",
              "      <td>2022-10-15 09:20:00</td>\n",
              "      <td>Twitter Web App</td>\n",
              "      <td>1028</td>\n",
              "      <td>35</td>\n",
              "    </tr>\n",
              "    <tr>\n",
              "      <th>4</th>\n",
              "      <td>YANG SEMANGAT DONG WOY</td>\n",
              "      <td>22</td>\n",
              "      <td>1580868695777124352</td>\n",
              "      <td>2022-10-14 10:30:42</td>\n",
              "      <td>Twitter Web App</td>\n",
              "      <td>12200</td>\n",
              "      <td>2123</td>\n",
              "    </tr>\n",
              "  </tbody>\n",
              "</table>\n",
              "</div>\n",
              "      <button class=\"colab-df-convert\" onclick=\"convertToInteractive('df-e04da597-2074-4175-9962-0179c07c0170')\"\n",
              "              title=\"Convert this dataframe to an interactive table.\"\n",
              "              style=\"display:none;\">\n",
              "        \n",
              "  <svg xmlns=\"http://www.w3.org/2000/svg\" height=\"24px\"viewBox=\"0 0 24 24\"\n",
              "       width=\"24px\">\n",
              "    <path d=\"M0 0h24v24H0V0z\" fill=\"none\"/>\n",
              "    <path d=\"M18.56 5.44l.94 2.06.94-2.06 2.06-.94-2.06-.94-.94-2.06-.94 2.06-2.06.94zm-11 1L8.5 8.5l.94-2.06 2.06-.94-2.06-.94L8.5 2.5l-.94 2.06-2.06.94zm10 10l.94 2.06.94-2.06 2.06-.94-2.06-.94-.94-2.06-.94 2.06-2.06.94z\"/><path d=\"M17.41 7.96l-1.37-1.37c-.4-.4-.92-.59-1.43-.59-.52 0-1.04.2-1.43.59L10.3 9.45l-7.72 7.72c-.78.78-.78 2.05 0 2.83L4 21.41c.39.39.9.59 1.41.59.51 0 1.02-.2 1.41-.59l7.78-7.78 2.81-2.81c.8-.78.8-2.07 0-2.86zM5.41 20L4 18.59l7.72-7.72 1.47 1.35L5.41 20z\"/>\n",
              "  </svg>\n",
              "      </button>\n",
              "      \n",
              "  <style>\n",
              "    .colab-df-container {\n",
              "      display:flex;\n",
              "      flex-wrap:wrap;\n",
              "      gap: 12px;\n",
              "    }\n",
              "\n",
              "    .colab-df-convert {\n",
              "      background-color: #E8F0FE;\n",
              "      border: none;\n",
              "      border-radius: 50%;\n",
              "      cursor: pointer;\n",
              "      display: none;\n",
              "      fill: #1967D2;\n",
              "      height: 32px;\n",
              "      padding: 0 0 0 0;\n",
              "      width: 32px;\n",
              "    }\n",
              "\n",
              "    .colab-df-convert:hover {\n",
              "      background-color: #E2EBFA;\n",
              "      box-shadow: 0px 1px 2px rgba(60, 64, 67, 0.3), 0px 1px 3px 1px rgba(60, 64, 67, 0.15);\n",
              "      fill: #174EA6;\n",
              "    }\n",
              "\n",
              "    [theme=dark] .colab-df-convert {\n",
              "      background-color: #3B4455;\n",
              "      fill: #D2E3FC;\n",
              "    }\n",
              "\n",
              "    [theme=dark] .colab-df-convert:hover {\n",
              "      background-color: #434B5C;\n",
              "      box-shadow: 0px 1px 3px 1px rgba(0, 0, 0, 0.15);\n",
              "      filter: drop-shadow(0px 1px 2px rgba(0, 0, 0, 0.3));\n",
              "      fill: #FFFFFF;\n",
              "    }\n",
              "  </style>\n",
              "\n",
              "      <script>\n",
              "        const buttonEl =\n",
              "          document.querySelector('#df-e04da597-2074-4175-9962-0179c07c0170 button.colab-df-convert');\n",
              "        buttonEl.style.display =\n",
              "          google.colab.kernel.accessAllowed ? 'block' : 'none';\n",
              "\n",
              "        async function convertToInteractive(key) {\n",
              "          const element = document.querySelector('#df-e04da597-2074-4175-9962-0179c07c0170');\n",
              "          const dataTable =\n",
              "            await google.colab.kernel.invokeFunction('convertToInteractive',\n",
              "                                                     [key], {});\n",
              "          if (!dataTable) return;\n",
              "\n",
              "          const docLinkHtml = 'Like what you see? Visit the ' +\n",
              "            '<a target=\"_blank\" href=https://colab.research.google.com/notebooks/data_table.ipynb>data table notebook</a>'\n",
              "            + ' to learn more about interactive tables.';\n",
              "          element.innerHTML = '';\n",
              "          dataTable['output_type'] = 'display_data';\n",
              "          await google.colab.output.renderOutput(dataTable, element);\n",
              "          const docLink = document.createElement('div');\n",
              "          docLink.innerHTML = docLinkHtml;\n",
              "          element.appendChild(docLink);\n",
              "        }\n",
              "      </script>\n",
              "    </div>\n",
              "  </div>\n",
              "  "
            ]
          },
          "metadata": {},
          "execution_count": 47
        }
      ]
    },
    {
      "cell_type": "markdown",
      "source": [
        "## Visualisasi dan statistik dasar\n",
        "\n",
        "### Rata-rata dan popularitas\n",
        "Pertama, kita tertarik untuk mengetahui statistik dasar tentang informasi yang kita ekstrak, seperti rata-rata panjang setiap tweet, yang merupakan tweet dengan paling favorit, mana yang paling banyak di-retweet tweet, dll."
      ],
      "metadata": {
        "id": "7aXUoKXdbAJc"
      }
    },
    {
      "cell_type": "code",
      "source": [
        "# extract rata-rata:\n",
        "media = np.mean(dataset['len'])\n",
        "\n",
        "print(\"Jumlah rata-rata karakter di tweet: {}\".format(media))"
      ],
      "metadata": {
        "id": "MSA76UIhbJNr",
        "colab": {
          "base_uri": "https://localhost:8080/"
        },
        "outputId": "b4605a56-15ad-459e-9bbd-938b49d96beb"
      },
      "execution_count": 48,
      "outputs": [
        {
          "output_type": "stream",
          "name": "stdout",
          "text": [
            "Jumlah rata-rata karakter di tweet: 78.0909090909091\n"
          ]
        }
      ]
    },
    {
      "cell_type": "code",
      "source": [
        "# Kita mengekstrak tweet dengan FAV paling banyak dan dengan RT terbanyak:\n",
        "\n",
        "fav_max = np.max(dataset['Likes'])\n",
        "rt_max  = np.max(dataset['RTs'])\n",
        "\n",
        "fav = dataset[dataset.Likes == fav_max].index[0]\n",
        "rt  = dataset[dataset.RTs == rt_max].index[0]\n",
        "\n",
        "# Max FAVs:\n",
        "print(\"Tweet yang paling banyak disukai adalah: \\n{}\".format(dataset['Tweets'][fav]))\n",
        "print(\"Jumlah suka: {}\".format(fav_max))\n",
        "print(\"{} Characters.\\n\".format(dataset['len'][fav]))\n"
      ],
      "metadata": {
        "id": "q-yCOafLb236",
        "colab": {
          "base_uri": "https://localhost:8080/"
        },
        "outputId": "7d4c35fa-09ac-41c8-d3d8-4ddae251d9f9"
      },
      "execution_count": 49,
      "outputs": [
        {
          "output_type": "stream",
          "name": "stdout",
          "text": [
            "Tweet yang paling banyak disukai adalah: \n",
            "Selamat hari ulang tahun ke-77 Republik Indonesia!! Merdeka!! https://t.co/Vs0OjcXQhC\n",
            "Jumlah suka: 95306\n",
            "85 Characters.\n",
            "\n"
          ]
        }
      ]
    },
    {
      "cell_type": "code",
      "source": [
        "# Max RTs:\n",
        "print(\"Tweet dengan retweet terbanyak adalah: \\n{}\".format(dataset['Tweets'][rt]))\n",
        "print(\"Jumlah retweet: {}\".format(rt_max))\n",
        "print(\"{} Characters.\\n\".format(dataset['len'][rt]))"
      ],
      "metadata": {
        "id": "d9XgPOHDcCJm",
        "colab": {
          "base_uri": "https://localhost:8080/"
        },
        "outputId": "7111379a-ee10-48b7-9ecf-5406d7c13f7b"
      },
      "execution_count": 50,
      "outputs": [
        {
          "output_type": "stream",
          "name": "stdout",
          "text": [
            "Tweet dengan retweet terbanyak adalah: \n",
            "RT @NASAWebb: 👀 Sneak a peek at the deepest &amp; sharpest infrared image of the early universe ever taken — all in a day’s work for the Webb t…\n",
            "Jumlah retweet: 96351\n",
            "144 Characters.\n",
            "\n"
          ]
        }
      ]
    },
    {
      "cell_type": "markdown",
      "source": [
        "### Time Series\n",
        "Karena kita memiliki seluruh vektor tanggal pembuatan, kita dapat membuat deret waktu sehubungan dengan panjang tweet, favorit, dan retweet."
      ],
      "metadata": {
        "id": "V1if_5AWcDYL"
      }
    },
    {
      "cell_type": "code",
      "source": [
        "tlen = pd.Series(data=dataset['len'].values, index=dataset['Created'])\n",
        "tfav = pd.Series(data=dataset['Likes'].values, index=dataset['Created'])\n",
        "tret = pd.Series(data=dataset['RTs'].values, index=dataset['Created'])"
      ],
      "metadata": {
        "id": "5RuSAM78cEq8"
      },
      "execution_count": 51,
      "outputs": []
    },
    {
      "cell_type": "code",
      "source": [
        "tlen.plot(figsize=(16,4), color='r');"
      ],
      "metadata": {
        "id": "iT_fzpkIcI8W",
        "colab": {
          "base_uri": "https://localhost:8080/",
          "height": 277
        },
        "outputId": "c63ec21f-9624-4050-efa8-0d8d0ee1e4ea"
      },
      "execution_count": 52,
      "outputs": [
        {
          "output_type": "display_data",
          "data": {
            "text/plain": [
              "<Figure size 1152x288 with 1 Axes>"
            ],
            "image/png": "[encoded data removed]"
          },
          "metadata": {
            "needs_background": "light"
          }
        }
      ]
    },
    {
      "cell_type": "code",
      "source": [
        "tfav.plot(figsize=(16,4), label=\"Likes\", legend=True)\n",
        "tret.plot(figsize=(16,4), label=\"Retweets\", legend=True);"
      ],
      "metadata": {
        "id": "yl0kwqrHcKn1",
        "colab": {
          "base_uri": "https://localhost:8080/",
          "height": 279
        },
        "outputId": "5312a5b4-e285-47db-fb58-6816a1acffc1"
      },
      "execution_count": 53,
      "outputs": [
        {
          "output_type": "display_data",
          "data": {
            "text/plain": [
              "<Figure size 1152x288 with 1 Axes>"
            ],
            "image/png": "[encoded data removed]"
          },
          "metadata": {
            "needs_background": "light"
          }
        }
      ]
    },
    {
      "cell_type": "markdown",
      "source": [
        "### Pie Chart\n",
        "Kita membersihkan sumber pembuatan tweet untuk membuat diagram lingkaran:"
      ],
      "metadata": {
        "id": "k1EPeu-EcRA0"
      }
    },
    {
      "cell_type": "code",
      "source": [
        "sources = []\n",
        "for source in dataset['Source']:\n",
        "    if source not in sources:\n",
        "        sources.append(source)\n",
        "\n",
        "# pembuatan:\n",
        "print(\"Sumber pembuatan konten:\")\n",
        "for source in sources:\n",
        "    print(\"* {}\".format(source))"
      ],
      "metadata": {
        "id": "VWJKRWfxcNAR",
        "colab": {
          "base_uri": "https://localhost:8080/"
        },
        "outputId": "28ce6408-6410-4be0-9b12-98ef9e819e5f"
      },
      "execution_count": 54,
      "outputs": [
        {
          "output_type": "stream",
          "name": "stdout",
          "text": [
            "Sumber pembuatan konten:\n",
            "* Twitter for Android\n",
            "* Twitter Web App\n",
            "* Twitter for iPhone\n"
          ]
        }
      ]
    },
    {
      "cell_type": "markdown",
      "source": [
        "### Kita menghitung perangkat dan membuat diagram lingkaran:"
      ],
      "metadata": {
        "id": "Q7cxxQFycZwa"
      }
    },
    {
      "cell_type": "code",
      "source": [
        "percent = np.zeros(len(sources))\n",
        "\n",
        "for source in dataset['Source']:\n",
        "    for index in range(len(sources)):\n",
        "        if source == sources[index]:\n",
        "            percent[index] += 1\n",
        "            pass\n",
        "\n",
        "percent /= 100\n",
        "\n",
        "# Pie chart:\n",
        "pie_chart = pd.Series(percent, index=sources, name='Sources')\n",
        "pie_chart.plot.pie(fontsize=11, autopct='%.2f', figsize=(6, 6));"
      ],
      "metadata": {
        "id": "QeJ48qt2cb_I",
        "colab": {
          "base_uri": "https://localhost:8080/",
          "height": 357
        },
        "outputId": "d2626a58-9610-4559-eac1-dbf53753c7df"
      },
      "execution_count": 55,
      "outputs": [
        {
          "output_type": "display_data",
          "data": {
            "text/plain": [
              "<Figure size 432x432 with 1 Axes>"
            ],
            "image/png": "[encoded data removed]"
          },
          "metadata": {}
        }
      ]
    },
    {
      "cell_type": "markdown",
      "source": [
        "### Save to csv"
      ],
      "metadata": {
        "id": "y_3se2PDchWb"
      }
    },
    {
      "cell_type": "code",
      "source": [
        "dataset.to_csv('/content/drive/My Drive/File AMS2023/dataset_user_JeromePolin.csv',sep=';')"
      ],
      "metadata": {
        "id": "OLqgmH14cjWM"
      },
      "execution_count": 56,
      "outputs": []
    }
  ]
}